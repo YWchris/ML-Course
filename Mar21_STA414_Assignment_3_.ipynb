{
  "nbformat": 4,
  "nbformat_minor": 0,
  "metadata": {
    "colab": {
      "provenance": [],
      "collapsed_sections": [
        "-bf1iLXTkXd5"
      ]
    },
    "kernelspec": {
      "name": "python3",
      "display_name": "Python 3"
    },
    "language_info": {
      "name": "python"
    },
    "gpuClass": "standard"
  },
  "cells": [
    {
      "cell_type": "markdown",
      "source": [
        "STA414 Assignment3"
      ],
      "metadata": {
        "id": "--5YbIqFT5Zg"
      }
    },
    {
      "cell_type": "markdown",
      "source": [
        "# Probabilistic ML: Assignment 3\n",
        "- **Deadline**: 2023-03-27 (March 27th 2023)\n",
        "- **Submission**: You need to submit your solutions through Crowdmark, including all your derivations, plots, and your code. You can produce the files however you like (e.g. $\\LaTeX$, Microsoft Word, etc), as long as it is readable. Points will be deducted if we have a hard time reading your solutions or understanding the structure of your code.\n",
        "- **Collaboration policy**: After attempting the problems on an individual basis, you may discuss and work together on the assignment with up to two classmates. However, **you must write your own code and write up your own solutions individually and explicitly name any collaborators** at the top of the homework."
      ],
      "metadata": {
        "id": "248_qtulv8jx"
      }
    },
    {
      "cell_type": "markdown",
      "source": [
        "Collaborate with Hanqi Zhang"
      ],
      "metadata": {
        "id": "TCTVRyz3SH1F"
      }
    },
    {
      "cell_type": "markdown",
      "metadata": {
        "id": "t1RKToQQcX2Q"
      },
      "source": [
        "# 1. [50pts] Stochastic Variational Inference in the TrueSkill Model\n",
        "\n",
        "## Background\n",
        "\n",
        "We'll continue working with [TrueSkill](http://papers.nips.cc/paper/3079-trueskilltm-a-bayesian-skill-rating-system.pdf) model, a player ranking system for competitive games originally developed for Halo 2. Recall the model:\n",
        "\n",
        "\n",
        "## Model definition\n",
        "\n",
        "We assume that each player has a true, but unknown skill $z_i \\in \\mathbb{R}$.\n",
        "We use $N$ to denote the number of players.\n",
        "\n",
        "### The prior:\n",
        "The prior over each player's skill is a standard normal distribution, and all player's skills are *a priori* independent.\n",
        "\n",
        "### The likelihood:\n",
        "For each observed game, the probability that player $i$ beats player $j$, given the player's skills $z_A$ and $z_B$, is:\n",
        "$$p(A \\,\\, \\text{beat} \\,\\, B | z_A, z_B) = \\sigma(z_i - z_j)$$\n",
        "where\n",
        "$$\\sigma(y) = \\frac{1}{1 + \\exp(-y)}$$\n",
        "We chose this function simply because it's close to zero or one when the player's skills are very different, and equals one-half when the player skills are the same.  This likelihood function is the only thing that gives meaning to the latent skill variables $z_1 \\dots z_N$.\n",
        "\n",
        "There can be more than one game played between a pair of players. The outcome of each game is independent given the players' skills.\n",
        "We use $M$ to denote the number of games.\n"
      ]
    },
    {
      "cell_type": "code",
      "execution_count": 1,
      "metadata": {
        "id": "n6euHm_h4Voi",
        "colab": {
          "base_uri": "https://localhost:8080/",
          "height": 0
        },
        "outputId": "3278be86-2ee7-45e4-abdc-678f43efec81"
      },
      "outputs": [
        {
          "output_type": "stream",
          "name": "stdout",
          "text": [
            "Looking in indexes: https://pypi.org/simple, https://us-python.pkg.dev/colab-wheels/public/simple/\n",
            "Collecting wget\n",
            "  Downloading wget-3.2.zip (10 kB)\n",
            "  Preparing metadata (setup.py) ... \u001b[?25l\u001b[?25hdone\n",
            "Building wheels for collected packages: wget\n",
            "  Building wheel for wget (setup.py) ... \u001b[?25l\u001b[?25hdone\n",
            "  Created wheel for wget: filename=wget-3.2-py3-none-any.whl size=9676 sha256=c0bca97b75a600104f2a996c72a48aa1f41006ef7ffbfb986aef3942756e651c\n",
            "  Stored in directory: /root/.cache/pip/wheels/04/5f/3e/46cc37c5d698415694d83f607f833f83f0149e49b3af9d0f38\n",
            "Successfully built wget\n",
            "Installing collected packages: wget\n",
            "Successfully installed wget-3.2\n"
          ]
        }
      ],
      "source": [
        "!pip install wget\n",
        "import os\n",
        "import os.path\n",
        "\n",
        "import matplotlib.pyplot as plt\n",
        "import wget\n",
        "\n",
        "import pandas as pd\n",
        "\n",
        "\n",
        "import numpy as np\n",
        "from scipy.stats import norm\n",
        "import scipy.io\n",
        "import scipy.stats\n",
        "import torch \n",
        "import random\n",
        "from torch import nn\n",
        "from torch.distributions.normal import Normal\n",
        "\n",
        "from functools import partial\n",
        "from tqdm import trange, tqdm_notebook\n",
        "\n",
        "import matplotlib.pyplot as plt\n",
        "\n",
        "# Helper function\n",
        "def diag_gaussian_log_density(x, mu, std):\n",
        "    # axis=-1 means sum over the last dimension.\n",
        "    m = Normal(mu, std)\n",
        "    return torch.sum(m.log_prob(x), axis=-1)"
      ]
    },
    {
      "cell_type": "markdown",
      "metadata": {
        "id": "-bf1iLXTkXd5"
      },
      "source": [
        "## Implementing the TrueSkill Model\n",
        "\n"
      ]
    },
    {
      "cell_type": "markdown",
      "metadata": {
        "id": "A62Y2IWg39ix"
      },
      "source": [
        "This part was mostly done in Assignment 2. We will recall some useful functions.\n",
        "\n",
        "**a)** The function $\\texttt{log_joint_prior}$ computes the log of the prior, jointly evaluated over all player's skills."
      ]
    },
    {
      "cell_type": "code",
      "execution_count": 2,
      "metadata": {
        "id": "PDmHDiac4Rpr"
      },
      "outputs": [],
      "source": [
        "def log_joint_prior(zs_array):\n",
        "    return diag_gaussian_log_density(zs_array, torch.tensor([0.0]), torch.tensor([1.0]))"
      ]
    },
    {
      "cell_type": "markdown",
      "metadata": {
        "id": "AAbAgxMl4X2q"
      },
      "source": [
        "**b)** The function `logp_a_beats_b` that, given a pair of skills $z_a$ and $z_b$, evaluates the log-likelihood that player with skill $z_a$ beat player with skill $z_b$ under the model detailed above.\n",
        "\n",
        "To ensure numerical stability, we use the function `np.log1p` that computes $\\log(1 + x)$ in a numerically stable way.  Or even better, use `np.logaddexp`."
      ]
    },
    {
      "cell_type": "code",
      "execution_count": 3,
      "metadata": {
        "id": "V7nUXkYl_f4T"
      },
      "outputs": [],
      "source": [
        "def logp_a_beats_b(z_a, z_b):\n",
        "    return -torch.logaddexp(torch.tensor([0.0]), z_b - z_a)\n",
        "\n",
        "def log_prior_over_2_players(z1, z2):\n",
        "    m = Normal(torch.tensor([0.0]), torch.tensor([[1.0]]))\n",
        "    return m.log_prob(z1) + m.log_prob(z2)\n",
        "\n",
        "def prior_over_2_players(z1, z2):\n",
        "    return torch.exp(log_prior_over_2_players(z1, z2))\n",
        "\n",
        "def log_posterior_A_beat_B(z1, z2):\n",
        "    return log_prior_over_2_players(z1, z2) + logp_a_beats_b(z1, z2)\n",
        "\n",
        "def posterior_A_beat_B(z1, z2):\n",
        "    return torch.exp(log_posterior_A_beat_B(z1, z2))\n",
        "\n",
        "def log_posterior_A_beat_B_10_times(z1, z2):\n",
        "    return log_prior_over_2_players(z1, z2) + 10.0 * logp_a_beats_b(z1, z2)\n",
        "\n",
        "def posterior_A_beat_B_10_times(z1, z2):\n",
        "    return torch.exp(log_posterior_A_beat_B_10_times(z1, z2))\n",
        "\n",
        "def log_posterior_beat_each_other_10_times(z1, z2):\n",
        "    return log_prior_over_2_players(z1, z2) \\\n",
        "        + 10.* logp_a_beats_b(z1, z2) \\\n",
        "        + 10.* logp_a_beats_b(z2, z1)\n",
        "\n",
        "def posterior_beat_each_other_10_times(z1, z2):\n",
        "    return torch.exp(log_posterior_beat_each_other_10_times(z1, z2))"
      ]
    },
    {
      "cell_type": "markdown",
      "source": [
        "The following functions will be used for plotting.  Note that `plot_2d_fun` can now take an optional second function, so you can compare two functions."
      ],
      "metadata": {
        "id": "hA77ZVR5SgGs"
      }
    },
    {
      "cell_type": "code",
      "execution_count": 4,
      "metadata": {
        "id": "at7JEyWs_QRK"
      },
      "outputs": [],
      "source": [
        "# Plotting helper functions for free\n",
        "def plot_isocontours(ax, func, xlimits=[-4, 4], ylimits=[-4, 4], steps=101, cmap=\"summer\"):\n",
        "    x = torch.linspace(*xlimits, steps=steps)\n",
        "    y = torch.linspace(*ylimits, steps=steps)\n",
        "    X, Y = torch.meshgrid(x, y)\n",
        "    Z = func(X, Y)\n",
        "    plt.contour(X, Y, Z, cmap=cmap)\n",
        "    ax.set_yticks([])\n",
        "    ax.set_xticks([])\n",
        "\n",
        "def plot_2d_fun(f, x_axis_label=\"\", y_axis_label=\"\", f2=None, scatter_pts=None):\n",
        "    # This is the function your code should call.\n",
        "    # f() should take two arguments.\n",
        "    fig = plt.figure(figsize=(8,8), facecolor='white')\n",
        "    ax = fig.add_subplot(111, frameon=False)\n",
        "    ax.set_xlabel(x_axis_label)\n",
        "    ax.set_ylabel(y_axis_label)\n",
        "    plot_isocontours(ax, f)\n",
        "    if f2 is not None:\n",
        "      plot_isocontours(ax, f2, cmap='winter')\n",
        "    \n",
        "    if scatter_pts is not None:\n",
        "      plt.scatter(scatter_pts[:,0], scatter_pts[:, 1])\n",
        "    plt.plot([4, -4], [4, -4], 'b--')   # Line of equal skill\n",
        "    plt.show(block=True)\n",
        "    plt.draw()"
      ]
    },
    {
      "cell_type": "markdown",
      "metadata": {
        "id": "nm-SM6Fc4yz8"
      },
      "source": [
        "## **1.1 [20pts]** Stochastic Variational Inference on Two Players and Toy Data\n",
        "\n",
        "One nice thing about a Bayesian approach is that it separates the model specification from the approximate inference strategy.\n",
        "The original Trueskill paper from 2007 used message passing.\n",
        "\n",
        "In this question we will  approximate posterior distributions with gradient-based stochastic variational inference.\n",
        "\n",
        "The parameters are $\\phi = (\\mu,\\log(\\sigma))$. Notice that instead of $\\sigma$ (which is constrained to be positive), we work with $\\log(\\sigma)$, removing the constraint. This way, we can do unconstrained gradient-based optimization.\n",
        "\n"
      ]
    },
    {
      "cell_type": "markdown",
      "metadata": {
        "id": "K-ri8HRQ461m"
      },
      "source": [
        "**a) [9pts]** Implement the missing lines in the below code, to complete the evidence lower bound function and the reparameterized sampler for the approximate posterior.\n",
        "\n",
        "Hint 1: You must use the reparametrization trick in your sampler if you want your gradients to be unbiased.\n",
        "\n",
        "Hint 2: If you're worried you got these wrong, you can check that the sampler matches the log pdf by plotting a histogram of samples against a plot of the pdf."
      ]
    },
    {
      "cell_type": "code",
      "execution_count": 34,
      "metadata": {
        "id": "kZlCOViq5Ahf"
      },
      "outputs": [],
      "source": [
        "def diag_gaussian_samples(mean, log_std, num_samples):\n",
        "    # mean and log_std are (D) dimensional vectors\n",
        "    # Return a (num_samples, D) matrix, where each sample is\n",
        "    # from a diagonal multivariate Gaussian.\n",
        "\n",
        "    # TODO.  You might want to use torch.randn(). Remember\n",
        "    # you must use the reparameterization trick.  Also remember that\n",
        "    # we are parameterizing the _log_ of the standard deviation.\n",
        "    std = torch.exp(log_std)\n",
        "    samples = mean + std * torch.randn(num_samples, mean.shape[0])\n",
        "\n",
        "    return samples\n",
        "\n",
        "\n",
        "def diag_gaussian_logpdf(x, mean, log_std):\n",
        "    # Evaluate the density of a batch of points on a \n",
        "    # diagonal multivariate Gaussian. x is a (num_samples, D) matrix.\n",
        "    # Return a tensor of shape (num_samples)\n",
        "    std = torch.exp(log_std)\n",
        "    m = Normal(mean, std)\n",
        "    return torch.sum(m.log_prob(x), axis = -1)\n",
        "    #return diag_gaussian_log_density(x, mean, std)\n",
        "\n",
        "def batch_elbo(logprob, mean, log_std, num_samples):\n",
        "    # TODO: Use simple Monte Carlo to estimate ELBO\n",
        "    # on a batch of size num_samples\n",
        "    z = diag_gaussian_samples(mean, log_std, num_samples)\n",
        "    log_pxz = logprob(z)\n",
        "    log_qz = diag_gaussian_logpdf(z, mean, log_std)\n",
        "\n",
        "    elbo = torch.mean(log_pxz - log_qz)\n",
        "    return elbo"
      ]
    },
    {
      "cell_type": "markdown",
      "metadata": {
        "id": "lfAD3ffb5CD9"
      },
      "source": [
        "\n",
        "**b) [4pts]** Write a loss function called $\\texttt{objective}$  that takes variational distribution parameters, and returns an unbiased estimate of the negative elbo using $\\texttt{num_samples_per_iter}$ samples, to approximate the joint posterior over skills conditioned on observing player A winning 10 games.\n",
        "\n",
        "Note: We want a _negative_ ELBO estimate, because the convention in optimization is to minimize functions, and we want to maximize the ELBO."
      ]
    },
    {
      "cell_type": "code",
      "source": [
        "# Hyperparameters\n",
        "num_players = 2\n",
        "n_iters = 800\n",
        "stepsize = 0.0001\n",
        "num_samples_per_iter = 50\n",
        "\n",
        "def log_posterior_A_beat_B_10_times_1_arg(z1z2):\n",
        "  return log_posterior_A_beat_B_10_times(z1z2[:,0], z1z2[:,1]).flatten()\n",
        "\n",
        "def objective(params):  # The loss function to be minimized.\n",
        "  # TODO.  Hint:  This can be done in one line.\n",
        "  mean, logstd = params\n",
        "  elbo = batch_elbo(log_posterior_A_beat_B_10_times_1_arg, mean, logstd, num_samples_per_iter)\n",
        "  return -elbo"
      ],
      "metadata": {
        "id": "j-Qt2vqvKgAN"
      },
      "execution_count": 39,
      "outputs": []
    },
    {
      "cell_type": "markdown",
      "source": [
        "**c) [1pts]** Initialize a set of variational parameters and optimize them to approximate the joint where we observe player A winning 10 games. Report the final loss. Also plot the optimized variational approximation contours and the target distribution on the same axes.\n",
        "\n",
        "Hint:  Almost initialization should be fine.  How many variational parameters do you need?"
      ],
      "metadata": {
        "id": "ixGDUDjwKnWd"
      }
    },
    {
      "cell_type": "code",
      "execution_count": 40,
      "metadata": {
        "id": "biW5JiZq5EXc",
        "colab": {
          "base_uri": "https://localhost:8080/",
          "height": 1105
        },
        "outputId": "85e4cabe-a248-4514-bb36-46c30824dba3"
      },
      "outputs": [
        {
          "output_type": "stream",
          "name": "stdout",
          "text": [
            "Optimizing variational parameters...\n"
          ]
        },
        {
          "output_type": "stream",
          "name": "stderr",
          "text": [
            "  6%|▌         | 47/800 [00:00<00:01, 464.22it/s]"
          ]
        },
        {
          "output_type": "stream",
          "name": "stdout",
          "text": [
            "Iteration 0 lower bound 7.88945198059082\n",
            "Iteration 25 lower bound 8.716872215270996\n",
            "Iteration 50 lower bound 7.018339157104492\n",
            "Iteration 75 lower bound 6.543864727020264\n"
          ]
        },
        {
          "output_type": "stream",
          "name": "stderr",
          "text": [
            " 26%|██▌       | 209/800 [00:00<00:01, 532.13it/s]"
          ]
        },
        {
          "output_type": "stream",
          "name": "stdout",
          "text": [
            "Iteration 100 lower bound 6.007762908935547\n",
            "Iteration 125 lower bound 5.185119152069092\n",
            "Iteration 150 lower bound 4.7218918800354\n",
            "Iteration 175 lower bound 4.410516262054443\n",
            "Iteration 200 lower bound 3.6267731189727783\n"
          ]
        },
        {
          "output_type": "stream",
          "name": "stderr",
          "text": [
            " 40%|████      | 322/800 [00:00<00:00, 548.65it/s]"
          ]
        },
        {
          "output_type": "stream",
          "name": "stdout",
          "text": [
            "Iteration 225 lower bound 3.531498432159424\n",
            "Iteration 250 lower bound 3.3167474269866943\n",
            "Iteration 275 lower bound 3.266021728515625\n",
            "Iteration 300 lower bound 3.2720248699188232\n",
            "Iteration 325 lower bound 3.3036422729492188\n"
          ]
        },
        {
          "output_type": "stream",
          "name": "stderr",
          "text": [
            " 55%|█████▌    | 442/800 [00:00<00:00, 573.08it/s]"
          ]
        },
        {
          "output_type": "stream",
          "name": "stdout",
          "text": [
            "Iteration 350 lower bound 3.41973876953125\n",
            "Iteration 375 lower bound 2.9612348079681396\n",
            "Iteration 400 lower bound 3.4938158988952637\n",
            "Iteration 425 lower bound 2.70413875579834\n",
            "Iteration 450 lower bound 3.1002800464630127\n"
          ]
        },
        {
          "output_type": "stream",
          "name": "stderr",
          "text": [
            "\r 62%|██████▎   | 500/800 [00:00<00:00, 490.84it/s]"
          ]
        },
        {
          "output_type": "stream",
          "name": "stdout",
          "text": [
            "Iteration 475 lower bound 3.2167792320251465\n",
            "Iteration 500 lower bound 2.9917211532592773\n",
            "Iteration 525 lower bound 3.031970262527466\n"
          ]
        },
        {
          "output_type": "stream",
          "name": "stderr",
          "text": [
            " 75%|███████▍  | 599/800 [00:01<00:00, 428.02it/s]"
          ]
        },
        {
          "output_type": "stream",
          "name": "stdout",
          "text": [
            "Iteration 550 lower bound 2.9417507648468018\n",
            "Iteration 575 lower bound 3.064554214477539\n",
            "Iteration 600 lower bound 3.0430426597595215\n",
            "Iteration 625 lower bound 3.1487221717834473\n"
          ]
        },
        {
          "output_type": "stream",
          "name": "stderr",
          "text": [
            " 91%|█████████ | 729/800 [00:01<00:00, 399.27it/s]"
          ]
        },
        {
          "output_type": "stream",
          "name": "stdout",
          "text": [
            "Iteration 650 lower bound 2.9763705730438232\n",
            "Iteration 675 lower bound 2.949784517288208\n",
            "Iteration 700 lower bound 2.9422600269317627\n",
            "Iteration 725 lower bound 2.9301891326904297\n"
          ]
        },
        {
          "output_type": "stream",
          "name": "stderr",
          "text": [
            "100%|██████████| 800/800 [00:01<00:00, 457.97it/s]\n"
          ]
        },
        {
          "output_type": "stream",
          "name": "stdout",
          "text": [
            "Iteration 750 lower bound 3.0161657333374023\n",
            "Iteration 775 lower bound 2.9985668659210205\n"
          ]
        },
        {
          "output_type": "display_data",
          "data": {
            "text/plain": [
              "<Figure size 576x576 with 1 Axes>"
            ],
            "image/png": "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\n"
          },
          "metadata": {}
        },
        {
          "output_type": "display_data",
          "data": {
            "text/plain": [
              "<Figure size 432x288 with 0 Axes>"
            ]
          },
          "metadata": {}
        }
      ],
      "source": [
        "from pickle import TRUE\n",
        "def callback(params, t):\n",
        "  if t % 25 == 0:\n",
        "    print(\"Iteration {} lower bound {}\".format(t, objective(params)))\n",
        "\n",
        "# Set up optimizer.\n",
        "D = 2\n",
        "\n",
        "init_mean = torch.zeros(D, requires_grad=True)\n",
        "init_log_std = torch.zeros(D, requires_grad=True)\n",
        "\n",
        "params = (init_mean, init_log_std)\n",
        "optimizer = torch.optim.SGD(params, lr=stepsize, momentum=0.9)\n",
        "\n",
        "def update():\n",
        "    optimizer.zero_grad()\n",
        "    loss = objective(params)\n",
        "    loss.backward()\n",
        "    optimizer.step()\n",
        "\n",
        "# Main loop.\n",
        "print(\"Optimizing variational parameters...\")\n",
        "for t in trange(0, n_iters):\n",
        "    update()\n",
        "    callback(params, t)\n",
        "\n",
        "\n",
        "def approx_posterior_2d(z1, z2):\n",
        "    # The approximate posterior\n",
        "    mean, logstd = params[0].detach(), params[1].detach()\n",
        "    return torch.exp(diag_gaussian_logpdf(torch.stack([z1, z2], dim=2), mean, logstd))\n",
        "\n",
        "plot_2d_fun(posterior_A_beat_B_10_times, \"Player A Skill\", \"Player B Skill\",\n",
        "            f2=approx_posterior_2d)"
      ]
    },
    {
      "cell_type": "markdown",
      "source": [
        "The final loss is around 2.99."
      ],
      "metadata": {
        "id": "mSpP_9AmdsmI"
      }
    },
    {
      "cell_type": "markdown",
      "metadata": {
        "id": "sCmqGbeK5iAf"
      },
      "source": [
        "**d) [3pts]** Write a loss function called $\\texttt{objective}$  that takes variational distribution parameters , and returns a negative elbo estimate using simple Monte carlo with $\\texttt{num_samples_per_iter}$ samples, to approximate the joint where we observe player A winning 10 games and player B winning 10 games.\n",
        "\n",
        "Hint:  You can find analogous functions in the code above.\n"
      ]
    },
    {
      "cell_type": "code",
      "source": [
        "# Hyperparameters\n",
        "n_iters = 100\n",
        "stepsize = 0.0001\n",
        "num_samples_per_iter = 50\n",
        "\n",
        "def log_posterior_beat_each_other_10_times_1_arg(z1z2):\n",
        "    # z1z2 is a tensor with shape (num_samples x 2)\n",
        "    # Return a tensor with shape (num_samples)\n",
        "    return log_posterior_beat_each_other_10_times(z1z2[:,0], z1z2[:,1]).flatten()\n",
        "\n",
        "def objective(params):\n",
        "    mean, log_std = params\n",
        "    return -batch_elbo(log_posterior_beat_each_other_10_times_1_arg, mean, log_std,\n",
        "                      num_samples_per_iter)"
      ],
      "metadata": {
        "id": "5Zz6DkOacXDC"
      },
      "execution_count": 41,
      "outputs": []
    },
    {
      "cell_type": "markdown",
      "source": [
        "**e) [3pts]** Run the code below to optimize, and report the final loss. Also plot the optimized variational approximation contours and the target distribution on the same axes.\n",
        "\n",
        "---\n",
        "\n",
        "Write one or two sentences describing the joint settings of skills that are plausible under the true posterior, but which are not plausible under the approximate posterior.\n",
        "\n",
        "--- \n",
        "\n",
        "Finally, answer with one or two sentences:  Would changing the variational approximate posterior from a fully-factorized (diagonal covariance) Gaussian to a non-factorized (fully parameterized covariance) Gaussian make a better approximation in this instance?"
      ],
      "metadata": {
        "id": "_V42MMIscvMs"
      }
    },
    {
      "cell_type": "code",
      "execution_count": 42,
      "metadata": {
        "id": "ksjggALU5gWx",
        "colab": {
          "base_uri": "https://localhost:8080/",
          "height": 605
        },
        "outputId": "40a6e404-3f08-4690-8180-365c638fdd31"
      },
      "outputs": [
        {
          "output_type": "stream",
          "name": "stdout",
          "text": [
            "Optimizing variational parameters...\n"
          ]
        },
        {
          "output_type": "stream",
          "name": "stderr",
          "text": [
            " 47%|████▋     | 47/100 [00:00<00:00, 464.22it/s]"
          ]
        },
        {
          "output_type": "stream",
          "name": "stdout",
          "text": [
            "Iteration 0 lower bound 19.22562026977539\n",
            "Iteration 25 lower bound 16.441072463989258\n",
            "Iteration 50 lower bound 16.837745666503906\n",
            "Iteration 75 lower bound 17.832984924316406\n"
          ]
        },
        {
          "output_type": "stream",
          "name": "stderr",
          "text": [
            "100%|██████████| 100/100 [00:00<00:00, 464.76it/s]\n"
          ]
        },
        {
          "output_type": "display_data",
          "data": {
            "text/plain": [
              "<Figure size 576x576 with 1 Axes>"
            ],
            "image/png": "iVBORw0KGgoAAAANSUhEUgAAAdoAAAHPCAYAAAD0/xuHAAAAOXRFWHRTb2Z0d2FyZQBNYXRwbG90bGliIHZlcnNpb24zLjcuMSwgaHR0cHM6Ly9tYXRwbG90bGliLm9yZy/bCgiHAAAACXBIWXMAAAsTAAALEwEAmpwYAADFAUlEQVR4nOzdd3hTZfvA8W9m0703HbTMlrL3lL0RGYqCiAqIqLi3P9err68TFNmK4gJl7733Hi1ltXTvPdLsnN8fgdbaAoWyhOdzXV4qOTl5TnLInWfdt0ySJAlBEARBEG4J+Z1ugCAIgiDcy0SgFQRBEIRbSARaQRAEQbiFRKAVBEEQhFtIBFpBEARBuIVEoBUEQRCEW0gEWkEQBEG4QTEx4OcH9etf+RgRaAVBEAThBpw8Cd27g1wOq1df+TgRaAVBEAThOh05YguyGg3s3AmNGl35WBFoBUEQBOE6zZsHrq6wa9fVh40BZCIFoyAIgiDUjNVqGyo2myE31zY/ey2iRysIgiAINbB9O7RpA5mZoFTWLMiCCLSCIAiCcE2bNsGAAaDXX/9zRaAVBEEQhKtYtw6GDIGGDWHHjpr3ZC8TgVYQBEEQrmDTJhg6FJo0gW3bwNv7+s8hAq0gCIIgXEHz5vDoo7BlC3h43Ng5xKpjQRAEQfiHbdugc2dQq2t/LtGjFQRBEIS/+ekn6NULvvji5pxP9GgFQRAE4ZK5c+GZZ6BPH1i+HBwcan9O0aMVBEEQBOD7721BduBAWLny5gRZED1aQRAEQSA725ZKsUcP+PPPmzM3e5kItIIgCIIAxMbagq1KdXPPKwKtIAiCcF+SJPj4Y3B0hNdeu3WvI+ZoBUEQhPuOJMG778KHH9p6sreyy6m8dacWBEEQhLuPJMHrr8PXX8PEiTBrFshkt+71RI9WEARBuK+8/LItyD7/PMyebSt7dyuJOVpBEAThvjJ3Lpw/D19+eWt7speJQCsIgiDc8ywW21xsVNTtf20xdCwIgiDc08xmGDsW2rWDpKTb//piMZQgCIJwzzKZYPRoWLwYPvsMQkJufxtEoBUEQRDuSQYDPPKILZ3i11/DK6/cmXaIQCsIgiDck+bOtQXZ6dNtK4zvFLEYShAEQbgnWSywYwf07Hln2yEWQwmCIAj3jNJSGDcOUlJAobjzQRZEoBUEQRDuEcXF0K8f/PorHDlyp1tTQczRCoIgCP96hYW2IHv0KCxaBA89dKdbVEEEWkEQBOFfLT8feveG6GhYsgQefPBOt6gyEWgFQRCEfz21GlasgAED7nRLqhKrjgVBEIR/pexscHEBjQas1ltfHOBG3aXNEgRBEIQrS0uDLl1sK4zh7g2yIIaOBUEQhH+Z5GTo0cPWo/3xxzvdmmsTgVYQBEH417h40RZkCwth82ZboYC7nZijFQRBEP4VrFZo2dLWo928GVq1utMtqhkRaAVBEIR/jaNHQamEZs3udEtqTgRaQRAE4a4WEwMbN8Krr97pltwYEWgFQRCEu9aJE9CrF9jZ2RJSeHjc6RZdv7t4QbQgCIJwPztyxLbwycEBdu78dwZZEIFWEARBuAvt32+rvOPmBrt2Qb16d7pFN04EWkEQBOGuExcHfn62nmxo6J1uTe2IOVpBEAThrlFUBK6utv82GGxzs/92okcrCIIg3BU2brT1XnfutP3/vRBkQQRaQRAE4S6wZg0MGWILtJGRd7o1N5cItIIgCMIdtXw5DBsGTZvC1q3g5XWnW3RziTlaQRAE4Y45cgTat4c2bWDDhor52XuJCLSCIAjCHWO1wtSpMHEiODvf6dbcGiLQCoIgCLfdwoW2nmzdune6JbeemKMVBEEQbqs5c+Cxx+C//73TLbk9RI9WEARBuG2mT4cpU2DQIFi8GDSaO92iW0/0aAVBEITb4quvbEH2oYdg6dL7I8iC6NEKgiAIt4HRCJ07Q1gY/PorqFR3ukW3jwi0giAIwi0jSWAygVoNxcW2SjxK5Z1u1e0lho4FQRCEW0KS4J13YOBAW95iF5f7L8iCCLSCIAjCLSBJ8Oqr8L//2Urc3U9Dxf8kAq0gCIJwU1mt8MILtkQUU6bAzJkgv4+jzX186YIgCMKt8PbbMGMGvP46TJsGMtmdbtGddR+OlguCIAi30pgx4OYGb70lgiyIVceCIAjCTWA2w5Il8MgjIrj+kxg6FgRBEGrFaIRRo+DRR2Hv3jvdmruPGDoWBEEQbpjBACNHwurV8M03tqQUQmUi0AqCIAg3RKezFWzfsMG2+Gny5DvdoruTCLSCIAjCDdm3D7ZsgXnzYPz4O92au5dYDCUIgiBcF0mqWPCUmAihoXeyNXc/sRhKEARBqLGiIujRwzYnCyLI1oQItIIgCEKNFBRA796wZ49tpbFQM2KOVhAEQbim3Fzo0wdOn7bVkh0y5E636N9DzNEKgiAIV1VcbNu2c/48LF8O/fvf6Rb9u4ihY0EQBOGqnJ1tvdk1a0SQvRGiRysIgiBUKzXVtle2fv073ZJ/NzFHKwiCIFSRlGRbXazRwKlToFDc6Rb9e4lAKwiCIFRy8SJ0726bm924UQTZ2hKBVhAEQSh34YItyOp0sHUrtGx5p1v07ycCrSAIglDunXdse2S3b4emTe90a+4NYjGUIAiCUK64GDIyoGHDO92Se4fY3iMIgnCfO37cVoVHqwUXFxFkbzYxdCwIgnAfO3QI+va1BdjcXHB0vNMtuveIHq0gCMJ9at8+6NUL3N1h1y4ICbnTLbo3iUArCIJwH9q925btyc9PBNlbTQRaQRCE+5C3N7RtCzt3Qp06d7o19zax6lgQBOE+EhsLjRtXFG4Xbj3RoxUEQbhPrF4NLVrAd9/d6ZbcX0SgFQRBuA8sW2bbwtOsGYwde6dbc38RgVYQBOEet2gRPPywbU5282bbKmPh9hFztIIgCPew9HQIC4N27Wz1ZJ2d73SL7j8i0AqCINzjtm2zBVqRjOLOEIFWEAThHjR7Nnh5wYgRd7olgpijFQRBuMd8+y08+ywsXAiiK3XniUArCIJwD/niC3jpJRg+3BZoxX7ZO08EWkEQhHvEf/4Db74Jo0bZVhqr1Xe6RQKIQCsIgnBPkCRbLdmxY+G330AparPdNcRiKEEQhH8xSYLMTPD3t/23JIFcdKHuKuLjEARB+JeSJHj5ZVtaxYwM23ysCLJ3H/GRCIIg/AtZrTB5sm2F8aOP2srdCXcnEWgFQRD+ZSwWmDDBtlf2zTfhm2/E6uK7mQi0giAI/zJTp8L8+fD++/DZZyLI3u3EYihBEIR/Ga0Wli4VVXj+LUSPVhAE4V/AaIT/+z/bFh5HRxFk/01EoBUEQbjLGQy2nMWffAIbNtzp1gjXS2xpFgRBuIvpdLaC7Rs2wMyZtrqywr+LCLSCIAh3Ka0WHnzQVubuhx/g6afvdIuEGyECrSAIwl0qNxcuXIAFC+Dxx+90a4QbJVYdC4Ig3GW0WrC3t2V50uls/y38e4nFUIIgCHeRggLo3h1eecX2/yLI/vuJQCsIgnCXyM2FHj3g5Eno2fNOt0a4WcQcrSAIwl0gOxt69bLNya5cCf363ekWCTeLmKMVBEG4wywWaN0azp2D1atFb/ZeIwKtIAjCXWD1anB1ha5d73RLhJtNBFpBEIQ7JDERjhyxZX0S7l0i0AqCINwB8fG2hU9lZRAXZ+vNCvcmsRhKEAThNjt3zhZkDQbYvFkE2XudCLSCIAi3UWysLchKEmzfDlFRd7pFwq0mAq0gCMJttHq1LePT1q3QuPGdbo1wO4g5WkEQhNvAbAal0taTzc0Fb+873SLhdhGZoQRBEG6xQ4dsvdeYGJDJRJC934hAKwiCcAvt3WvL+GS1grPznW6NcCeIQCsIgnCL7NgBffuCvz/s2gUhIXe6RcKdIOZoBUEQboHDh6FbN6hb17bwyc/vTrdIuFNEj1YQBOEWiIqCp5+29WpFkL2/iR6tIAjCTbRlC7RqBe7ud7olwt1C9GgFQRBukiVLoH9/ePvtO90S4W4ierSCIAg3wR9/wNix0L49rFsHLi53ukXC3UL0aAVBEGppwQJ4/HHo0gU2bBBBVqhM9GgFQRBqQa+HyEgID4cVK8DB4U63SLjbiEArCIJwgyTJlukpJcWW7UmjudMtEu5GYuhYEAThBkydChMn2jI+BQWJICtcmQi0giAI1+l//4NXXoHCQrBY7nRrhLudCLSCIAg1JEnw8ce27TuPPQYLF4JKdadbJdztRKAVBEGooY8/hg8+gCeegF9+sZW9E4RrEYuhBEEQamjzZli1Cr791la8XRBqQgRaQRCEq5Ak2L8fOna80y0R/q3EbzJBEIQrsFph8mTo3NlWvF0QboSYYRAEQaiGxWLbvjN/Prz1FrRpc6dbJPxbiUArCHchi0UiNdNKUpqVpHQrialWUjOt5BVayS+SyC+UyC+S0OokTCYJkxlMZltwsFODnVqGxs72b1dnGd4eMrw95Hi5y/DzklM3SE5YkJywIAW+XjJkMtmdvuSbRpIk8nWl5JQVI5fJUMjlKGRylHI5Po5uqBXX/tozm+HJJ+G332yLnz74wJaYQhBuhJijFYQ7TFsmceiUmZNnLJw6Z+bUOQunL1jQGyof5+NpC5burjI8XGW4u8hwcpShUoJKKUOlAoUcjCbQGyQMRtDpJQpLJHILJHLyreQW2IL03znYQ0Q9BS0ilDRvrKBFhIJmjZQ42N/9kaXYUMaR9HiOpMdxIT+DlKJcUotz0ZoM1R5vr1TT0j+MtoH1aRvYgBZ+dbFTVt2fs3IlDB0Kn3wC7757iy9CuOeJQCsIt1lxicSuwyZ2HTaz67CJo6ctmM22x7w9ZDRrpKBpIyWNwuSEBioICZQTHCBHY3dzAp/eIJGUZuViioX4ZCvxyRaiz1s4HmspD8JKJbRtqqRHeyXd26vo0EKJvebOB16L1cqB1HNsuniCQ2lxnMtNQ0JCJVcQ5u5LHRcvgly9CHLxxMfRDQCrZMVstWKymDmbl8bB1POcvfQ8Z7U9L7YbxNhm3VEpFJVea98+sQBKuDlEoBWEW0ySJGLjLGzcbWL9ThM7D5sxmWyJDto2VdK1jZIurZW0jFTi63Xn1idKkkRKhpXjsRYOnDCz/YCJIzGW8uHo7u1VDOquon9XFWHBimuf8CbRmYzsSznL9sRoNsafILesGHulmlYB4bQJqE/bwHo096uLRqmu8TmL9FoOp8fx66kd7EqKJdzdjy+7j+ert4J45RVb4XZBuFlEoBWEW0CSJI5EW1i01sji9UZSMqwANA6XM6i7mv7dVLRvfnf0Eq+muERi9xETW/ebWL3NRFyS7ToahskZ3F3N6CFqmjVW3PQ53ss91+VnD7Ih7hhakwEHlR1dQyIZ0qAN3es2ua7AeiWSJLEtIZp3Nv5J7PTHKT3TiB9/hKeeugkXIQiXiEArCDfR+QQLC5YbWLTGyMUUKyoV9OuiYnAPFX27qAgOuH09wVvhQqKFdTtMrNtpZPtBW888sr6CMQ+qeWywutbXl1acz+/RO1lx9iAZpQU4qzUMqN+agfVb0TawfrXzqbWl1UKf/kb27VESOGYRG77qTBOf4Jv+OsL9SwRaQaglq1Viwy4T0381sGGXCYUCenZQMmqgHUN7q3B3vTe3q+cVWFm83shvq4zsPWqbZB7QTcXLT2ro2VF5Xb3c2JwU5h7dxJrzRwDoFhLJQ43b0yus6U3puV5JaSkMGAB798LU2aUskn+Ci509qx99r8qcrSDcKBFoBeEGacsk5i8x8N0veuKSrPj7yJg0SsPEUXb4ed+bwfVKElJsPflZfxjIzpOIaqjgpSc0PDpYfcXhcUmS2J96jllHNrAn+QyOKjtGNenMk817EejicVvabTTCI4/Ao4/Cww/DpvgTPLNmFm91HsYzrfreljYI9z4RaAXhOuUVWPn+NwPTf9WTVyDRoYWSKWPtGNZHjVp9d8+53mp6g8TC1Uam/qwn+pwFH08Zrz6l4dnHNDg72d4bs9XC+gvHmHdsE9HZyXg7uPBk856MbtoVFzuH29LO/HzbnmNv74ri7Zc9tXI6xzIucnTi1yhEQmPhJhCBVhBqKCPbypc/6Jj7pwFtGQzpqeLNiRo6thR10v5JkiS2HzDz+Vwdm/aY8XCT8fzjKnxaHWXhuY2kleRR182X8S17Mbxxh1sy93olOTnQu7etUPu+fVWLA6w8e4iXNv7I6kffFXO1wk0hMkMJwjXo9BJTf9Lz39k69AZ4bLCaNydqiKwv/vpciUwmo0cHFT06qDhwwsiLX2Xy8XQnZOr6NOmu5/vn/ejfMAq57Pb2GLOyoGdPiI+3JaWorsPaIaghAPtSzopAK9wU4ptCEK5AkiQWrzfyxhc6ktKsPNRbxRdvOlAvRCySqakDqef57MwSstsk0blFc6STQ9m7sQ0vnZVjfdvMoB6q25b+MT3dFmSTk2HtWujRo/rjfBxdqefhz/6Uc0xs1ee2tE24t4lAKwjVOH3BzKT3y9hzxEyzRgp+/s2ZB9qJIeKaOpubxpf7lrMtIRp/J3e+7vMkQxu1RS6Ts3G3kZc+KWPIpFL6dlEx7V0HGoXf+h8v48dDaips2ABdulz92PZ1GrD8zAGskvW297qFe48ItILwN3qDxKczdXw+T4+Lk4x5nzrw5HA7FIr7e5FTTaUW5zH1wCqWnzmIk1rD6x2H8lSLnpW26PTtoubUGhXf/2bgo+k6mg0u4oMX7Hljggal8ta9z3PmQEYGtG177WP9ndzRmgyYrVbUChFohdoRgVYQLtlx0MTE97RcSLTy+FA1X7/lgLen+JKtiRKDjm8PrubXUzsBGN+yF5Pb9MdN41jt8SqVjJef1PDYYDXPf6Tl3W90LN1o5Kf/OdK00c37WoqLg9mz4fPPISjI9k9NXF5tbLFaQcwUCLUkAq1w39PpJV7/vIwZvxkIC5Kz6SdnencWw8Q1tSn+BB/sWEhWaREjIzryYvtBBDjXbB+sr5ecxdOdWbLeyOQPtbQeVsy7z9rzziQNKlXterdnz9rmZA0GeO45qFu35s9VXBouNlsttWqDIIAItMJ9LvaChVEvlxJ9zsJL4+z49BWHu7Y8nMkskVNkIbvQQnaRhawCMyU6CaNZwmiSMJgkzFYJe7Uce7UMB40Me7UcT2c5AZ5KAjyVeDrLkctvzvWlFufy6a4lbIg/TkPPQGYNnERzv+uIZn8zor+aB9opmfKfMj78TseyrcW88Go8Zeok4gvSKNKXIiEhSRISEgqZggaeIXQKbka7wKp5j2NioFcv2x7ZHTuuL8gCKOS2bqxFst7Q9QjC34lAK9y3fl5q4LmPtDjay1j/oxP9ut66VH/XQ2ewcjTOwKkEI+dSjZxLM3Eu1UhStpna7npXKSHQU0njIDURwWoig23/blpXjb1dzYbJDWYTMw+vZ/bRjchlMl7vOJQJLfvccMpCo8VEdFYch9NPY989lgiVB6fXDuPZ54Jp9tBR2rezEOrmj0wmQ44cZKA3GzmUFsPmiwfQKO1oX6cJoyL70NArlJMnbUFWpYJt26BRo+tvk9aoB8BOIUY2hNoTgVa47+gNEs++r+XnZUYeaKfkj2+c8Pe5c3OxBSUWtpzQsTdWx/4zeo5fNGC6VJ/WUSOjQaCa9o00jO2pwt9dia+7Ah9XBT5uClwd5aiVMtRKGXYqGXI5GEwSZQYJnUFCq7eSV2IhPc9CRoGZ9DwLSdkmYpONbD+lQ2+0RW61ElrX19CliYYukfZ0itDg5lQ1cB5Oi+Ptrb8SX5DJgw3b8manYfg7u1/3NZssZg6mxbApfj+H0k5jsJhQyZU08QnnncfD0Qwv5oOPfTj6x2j6uGh470X7KgulLFYLJ7MusDPxKDuTjnEgNZr/9niekqKGeHrC6tVQv/71fx4AyUU5eDu4YK+6O358Cf9uIjOUcF/JzLHy0OQSDpyw8P7zGt5/3v6OrCiOSzey+mAZqw5q2R2jw2IFjVpGm/p2dIzQ0KGRhpb17KjjdX3J+a+HxSKRkGUiJtHI/rN6dp/Wc/i8HrMFFHJ4oKk9wzo6MbSDI05OJr7Yu4zfo3cR6OzJpz1H0y0k8rpf81xeEhvj9rE14TDFBi3uGhe6hbSkbZ0mNPdtgL3KrvxYnV7ipU/KmPungR4dlCyZ7nTFAg35umKeXzyHPHkSn3SfTAvfCJS16EY8suQrrFYrix9+48ZPIgiXiEAr3DdOxJoZMqmUvEIrv3zhxPB+t7e3klNk4fftJfy8pZiTF40ANAlRM7idI4PaOtCmgQbVLdzeUhNleisHz+nZdKyMZfu0nE8zAeDkkYWdbzTP9PXmnQcG4qjW1PicVsnKwbTTLIrewKnsOFRyJZ2Cm9E3vANtAiLK50OvZMEyAxPf0xJaR86auc7UD616/J49MHCgRMvxK1E138xH3SfRoU7U9V3833T48U06BjXi6z5P3vA5BOEyEWiF+8KGXUZGvFCKm7OMVXOcaRl5e2ZNzBaJlfu1LNhazPojZZgt0KaBHWO6OzOkvSOhvnfvHGCBrpRXV65j+T4t5txISgs9sFPJGNbRkaf6uNCjmf1VF1YVG7Ssv7CXVed2kl6ai4+jOyMjetE3vAPOdtVv+7mSPUdMDJ1cigxYM9eZds0rPr/t22HQINvWnZXry/jm9FRSi7NZMvKLSj3kmio26Gg2+yVe6TCEF9oOvO7nC8I/iTla4Z7320oD497UEtVAwdp5zgT43vr52FKdlR83FjN1RSFJ2Wb8PRS8PNSNsT2daRJ6/V/+t5MkSay9cIQPd/xJoV7LWw/3Zkq75pxNlpi/qZjft5ewcGcpdf2UvDHcnXG9ndGoK97TIn0pi2O3sPzsdspMepr61OOpFg/SNaQlKsWNfeV0bq3iwGIX+j5ZQvfHi/nrWycG9VCzaRM8+CCEh8PWreDr68Cz9iN5eePX7E89RY+6ba77tQ6nXQCgtX+9G2qrIPyT6NEK97S5i/RMer+M7u2VrJjpXF6q7VbJLjTz7coiZq0toqDUSqcIDa8Nc2NwO8d/RXapIr2Wt7f+xvq4YzT1CeGzXo8T4V05y4PeaGXFfi3TVhRy8JwBP3cFrzzkxqiectZf3MryszswmI10DWnJmKb9qedRwywRNZCVa2XghBJOnLHw9WuOvPm8HY0awebNtpJ3YBuqfmTJ2zTwDOHTHpOv+zU+3b2EX05u59Skabe1qpBw7xKBVrhnTftJz8v/LWNANxVLvne6YgHym6FUZ+Wb5YV8ubQArV5iWEdHXh3mRofG9rfsNW+2I+lxvLjhR7K1hbza4UHGt+yN8irzp5IkseOUjk/+zGfbCT1KtZ7gRocY3RuebNmPuu4Bt6SdJaUSQyaVsPOQmaf7OvP5Ryo8/pEfY9bhJSw7u43lj3yFk/r6atwOXvgpjioNi0a8ehNbLdzPxNCxcE/6cp6ON77QMbyvij++cbplBdktFomfNhfzf7/mk1lgYVhHR/47zpOGdf4920KMFjPTD61l1uENBLp4sHjkGzVKPGGVJIxOJ/FptZqWXiqKL/Yj7lRXfs1SEqV2IbSzdEtWTG/cIOP98c58pizhhw0ldOjqyFMjKw/HdwiK4q/YzZzOvki7Ok1qfO5CvZbT2Sm82E7MzQo3jwi0wj3n+1/1vPGFjkcGqvntK8dblqj+4Fk9E77LJjrRSIfGGpa+60fHiH9PDxbgYkEWz6+by5ncVIY1bs+H3UbhbHfta9ifGs2cI0tJKsqgvkcQc0cNp1VAY7aeKOOVebk8/FkmnSM1fPuMFy3r1XyF8rX8/juMHQv9+8tYtdSZoc+WMuE9LU6O8PCAimDrrnEBoNRYdl3nX3fhKBISPeo2vWltFgQRaIV7ysLVBl74uIwhPVX8+uWtCbI6g5X3f8vnm+WFBHgoWfyOH8M7Od62uqo3y+pzh3l766+oFUrmDZ5Mr7Bm13xOZmku0w/9xb6UkwS5+PJht4l0CWlRXkquZ3MHjn0XxPzNxby7IJ+2L6Xy1kh33n/MA7VKRm5ZLkmFKaQUp5JWnE5KcSqlRi1KuQKlXIVSrkCj1NA2sDVdQzrjpK5YnfzTT/D00/DAA7BoEWjsZCyb4US/p0oY/aotw9fA7raRBAnbjNj1fibLzx6knoe/KPgu3FQi0Ar3jE27TTzxppaubZT8+a1TrZPSV2fPaR1PTc3mQrqJZ/q78MXTXrg43J6sUpIkUaizkFJgJKXQSEqBkUKdGb3Jis4koTdbMVkkHNVynOwUONvZ/u3noiLM0466nnY42ikwmE38Z9df/B69i9b+4XzXf8I1szsZLSb+Or2Z306tQyaT80yrYQxv3LPaVcQKhYwJ/VwZ2dmJl+bm8OmfBfy2O52ePbdidTgDgAwZ3o7eBLkE4mrngkWyYLZaMFvN5OvyWRy7jJXnVtMpqAO9wnqw+g9/Jk2C3r1hxQpwuDTt6mAvY/VcJ3qOLWHklFK2/eJC+xbK8lSV11NLNrO0gCPpcbza4cF/3Y8m4e4mAq1wTzgSbWbY8yU0DlewcrYTGrub+0VpMku8syCPr5cVEuqrZMt/A+jZ/PoW2VzX61msxKTrOJ5axvE0LcdSyohOL6PEUH2SezulDI1KjlIuo8xoRWeq/jhPRzlWWR5mhZH+jYbyf1264ut49es4mXmer/f/RkpxFl1DWvJcm5H4OF69Ok9maRY7EnfjHnGIHgov9u/qy4LfBzB2QGfefsSDYNdA7JRX3uaUUpTK5ovb2J28j20Juzi99G0GDgxhyRIZmn+MRLs6y1n3gzMdHy5m4MQS9v/lgtLtUo/2qq2sbFtCNAB9wptfx7ME4drEqmPhXy8j20rrYUWolDL2/+Vy0/MWZ+SbeeSzTHaf1jNpgAtfPu2Fk/3N78XG5+jZeLaIjWeK2HahmNJLQdVRLadFHQea13GgrocdQe52BLmpCXJX4+moRK2QVUkcYbFKlBoslOitpBcbuZhrYO3ZONaejcNodMVi8kF/KZ+yq72CbuHODGrixoAINwLdbMOvhfoS5hxZyob4/fg5efJy+8doG3jlhUUmi4ljmSfYmbibM7nnkMvkNPdtSquAFgTaR/LGPC1/7S6lbysHFr7hi7vztYsQZBaUsCl5NVvjdvNy+xdpHnjlCgHxSRbajyzGy13G7BmZfLh3Kl/2fpHWARHXfB2wpV3M1haxbezHokcr3FSiRyv8qxkMEsOeK6GwWGL/X843PcjuOa1j5H8zKS6z8vvrvjzW3fmmnj8+R88vh3P542gecTkGAOp62jGmtRfd6jnTMsiBel6a6y5tp5DLcLVX4moPHk4SS84vZU/uPno2rce3/frj4+DOmSwdh5O0HEwqZePZIlbFFALQoo4DjQOKyTKtA0UejzXpx+PNBlYpRXeZzqRjW8JONl3cQrGhBG8HL4Y3Hkrn4I64aVzLj1v0lhM9m9vz/Kwc2ryUysr3/YgMuXKv9rPP4LffnNm2YyRHM46zLXnTVQNteIiCxdOd6PVECa99oMaxt4z6HjWba00oyOJQ2gVe7zhUBFnhphOBVvhXe+E/ZRw4YWHJdCeaNrp5t7MkSXy3sojXfsylrq+KzZ8G3LSMTqUGC38dy2fBoVx2xZcgk0HPBi5M6epLv8Zu1PO2u2lf9mdyUnlh/Tzb6uK2A3ix3aDyvbFRAQ5EBTjwVAdvJEnidIaOP09kMP/gRY4fcgEG0yVcg7s8CHk1XxWlxlI2X9zGlovbKTOVEeUTSZ/wXkR4N6p2blQmkzGxvytNQtQM/zST9q+ksuAVX4Z1cqp0nCTBxx/Dhx/C6NHg6a6iV93uLDu7kpTiNIJcAq94vQ+0UzH1HQem/AcaOfXHdZzTFY/9uyWx+5DLZAxv3KFGxwvC9RBDx8K/1rw/9Ux8r4x3ntXw6Ss3b77UYpGYMjuXmWuLGNrBkZ9f8cHV8cZqrf5dTomJ73Zl8f2uLAp1Fhr4aBjX1osxbTwJcr/5aRlXnzvMG1sW4Ky2Z2rfp+gU3Piqx29LOMzUA39gtlp4uOHDJGSF8tPBXFILjfg4K3musy9Tuvlir7aw7sJGNsVvQW8x0NK/OYMbDCDULaTGbUvLNTP80wwOnjPwwWPufDDaA5lMhiTBu+/aerPjxsEPP4BCAaVGLa9teptWAS2Y0PLqif4lSaLRmP2cP9SIVbOdGNzz6nuazVYLnee/Q6RPED8Oeb7G1yAINSUCrfCvFHPeTOuHiunWVsm6H5xvWnpDo0lizJdZLN5TyuvD3fjfk57XPWz7T2mFRr7alsHcfTnoTFYeaurOq9396FDX6ZYMU5osFv63ZynzT2yltX84MwdOwtvR5YrH55UV8e3BhexOPk6kdxhvd36KQBdbPkOLVWLjmSJm7clmzelCHNUSkcGxhAcco3NIFEMaDqTOVXqYV2MwSUyans3PW0p4bpAr303yYupUGa+9BhMnwqxZIP9bx/jXk3+wM2k3swd9f9WMVUaLiQG/vs7531+iJN+V6DWu1PG/8pTChrhjPLt2DrMHTqJvvRY3dC2CcDVi6Fj41zEaJca+rsXFScavXzndtCCrN1oZ+d9M1hwq46vxnrw67PoLmv9dmdHC/zZn8MXWDMxWiTGtvXirtz+NfG9dUouMkgJeWD+PoxnxPNGsO+90GYH6Kon89yaf5It9C9CZDExs+RAPR/auVLZOIZfRP8IVd9fzeHpuZ8eZUA7FRXImpQmNnQLwsve/4bbaqWTMf9kHb1cFXy4txGiW+GCUN3q9jHfegX/+BvFy9MIiWTFZTFcNtCcyz2GR6fj6PzrGTXThqbdL2TDfudofTJIkMePwekLdfGq0j1gQboQItMK/zsff6zgea2HFLCd8PG/O4iet3sqDH2ew9YSOWc95M2mg67WfdAWSJLH8VAEvL0smucDIo608+HRQEHU9b23VngOp53lu3RwMZhPT+09gUIPWVzzWaDEx+8hSlp/dTn2PYN7r+jTBrn5VjksrTufXU39wLu8CIV5BrJ4YidlYl483pvP+ujR+OZzLrIdD6dWw8vtVpM8nqeg8+bocTFYjJosRs9WEJFkJ94ikkVdzlHIVMpmMz8Z5ErNHw7x1mRjNEj++5VNtT18lt31dma3ma7wP0dgpVAxpHc43b1uZ9H4Z3/9qYMoTVTNU7Uo6TUx2Mp/3GotCfnv2Qwv3HxFohX+VA8fNfDZHz7hhah7sdXPyCesMVgZ/mMHOGB0LXvVhbM8rD7Ney4VsPc8tTmTzuWKiAuzZMaYR3erf+Plq6s+YPby3/XdCXH2YM+hZwj2qBs3Lkosy+c+uH4jLT2FE455MaPUQakXlKjUGs4FV59ayMX4zGqWGcc3G0CWkU/kip+Xj67PlXBHP/pVI7xnneKSlK093zqXUfJ6kwgsUGfLKz6WQKVEp1KjkaiySmRNZ+7FXOtLUtz3NfDrz9pQA1i9wYuTzfizYkonJLLHgVV+U/xipUNYg0EqSxMHUGFr6N8JOqWbiKInV20y8+WUZvTqqiKivqHTs94fWEeDkztBG7Wr+ZgvCdRKBVvjX0BsknnizlDp+cr597/oKh1+JxSLxyP8y2RGt45dXfRnT48a270iSxI/7c5iyNBm1UsZ3w4N5tnPVYHGzma0WPt21lPknd9KuTiQfPjAaT0cnrJKE/B+9QkmS2Bi/n28PLkKtUPJpj8l0DKo6XHos4wR/RP9Jni6fzsEdGRkxDBe7qu9LzwbOrJmk4YP1qSw5ZmFFtJURbYp5MCqEDkG9CHGtj49jAHLZ34OblYsFZzmeuYcDybt449kQorcE8NFH8H//50TLxZ68/XMedioZP75UuWeruHSeqwXapKIM0ktzeTiyD2Bb6fzDfx2JGljE46+XcnCJS3lazgOp5zmSEc9HD4y66vC6INSWuLuEf43/zdFxPsHKpp+ccXG+OQHslXm5rD5YxozJ3jccZEv0Fp75M4GFR/Pp2cCFXx4PI8D15lbvSS3VsT+jkAuFZcQVaYkvKuN8oZbsMj1WnEE+iOR0WPzHgfLnuKiVuKqVBDlrqO9qT1bxWdIKYmntG87nPcbi7Vh5DrpQX8Tv0Ys4kn6MOi6BvN3qNRp41q/SFoNZx5GMXRxJ30WhPpdmYRq6NujA/N0N+H1fB9yVPnz1YDB2quq2+MgJ94gg2DmCP943Eb1FRc8Jy3j+9c7IZD689bA7ZQYr/1lYQINANW89XNHGPF0+MmTVBv3LNsbvRy6T0zm4efmf+XnLmfmRIw9PKWXm7xVDyNMPrcXX0Y2HIzvV+HMQhBshAq3wr3A+wcJns/U8NlhN7843pxj396sL+W5VEa885MbkQTc2J3s8RcvDP8dxMdfAJwPr8FZvfxS1XKUMkFaqZ1NyLrvS89mZlk9Csa78MT8HOwIdlViNKbhSQp+wJrT2D8FBqUAll1NiMlNkMFNkNFFgMHMmv4BF53MwWF2BDkQnws4lJ+kV5EWvIE+6B3oQm3OYP08vxWgxMqLxQ/StV7UWrdZYzIG0bRxO24HBoiPUtQHdQ4fQ2KsFKoWaCW2svLUqlW+2Z3IoSctfT9YjxKP6eenz52HzRhX//VyHuf1mjqRb6RM+AoCPxnhwId3E2z/n0SBQVb7PNqUoFV8nnyumbjRbLWyMO0CHOlF4OlT+PEf0U9G3i4r3ppYxop+aTGsC+1PP8V6XkVdMxCEIN4sItMJdT5IkJn+oxV4j4+u3b85+2bWHtLw4J5ch7R354inPGzrHX8fyGPvbRbwclWx/oRFd69VuLrbQYGJpXCa/n09nR2o+EuCpUdE1wIMpzULoEuBBQzdHTmXFMWnNbIKVKn546Dma+YVWez5JklhxbgcZmUsY7OPEc23HoVT5ciynmK0peSw8n87c0ynIkPC1y6WLbwT/6zqQsH8UbNcaS9iVvJZjGXswW8009mpB5+C+BDhXfl2VQs7XDwXTsa4TT/2RQMsvYvh9bDj9ItzKj7FYbPtiIyPhwgXw87Nn8enmnMjcR/fQIagUamQyGT+97ENilokxX2Wxy1tJ6wYakotTCHcPu+L7dyA1mgJ9MQPrd67ymEwm4/sPHGgyoIhXPivDscd63DWOPBrVpaYfjyDcMBFohbvewtVGtu4zM+NDB/y8a78y9EyykUc/z6RZXTv+eMP3urcHSZLE51syeHt1Kp3DnFj2dH28nW+8l70vo4BvjiewJjEHg8VKfTcHPmhbj2HhfkR6OlWaa10Su4+3t/5KmLsfPw55njou1f9IMJiNTD3wBxvj99O+ThRvdRqHq8bWM+wc4MGUZqHsTz3C14fWkKD1INPYgMXJEhv+jOHh+nlMjAyipY8jh9K2sytpLUaLkWZ+HegU1AcvhysvtAIY3tyDpgEOjJh/gYFzzjPz4VCe6eRDWRkMHQoDB8KLL4LfpdO0DuhGbO4xYnOO0szPlplJo5az4v/8afdyKkM+zmDHF57kluXxQGjXK77u2gt78LR3pW1gZLWP1wtR8M4kez74ToevQs+7j/TEQXVrV4ILAoiEFcJdzmCQaNCnCG8PGQeXuNR6z6zeaKXdy6lk5Fs4Nj2IOl7X91tTkiTeXp3K51syeLSVBz89FlbtXGRN7EzL4+ND8WxLzcNTo2JMwwBGNwygtY9rle0tVsnKF3uXM+foJjoFNWLmwEm4XKFAe1pxDh/unENcfgrjmg3i8WYDK6VE1Bq1/Ba9iAOphwh1C+GZVk/j6+jDnvQCfjqTyl9xmWhNFhq55tHV+xTd6gTRO2wE3o7Xt2dWa7DwyM9xrD1dxP/6hbDhS1927oT5821Zny6TJInP975ME582DGowutI5YhINdHg1lfp1TEQ9MI03O79EhHfVfMeJhek8tfJjxjTtz1MtHrxim/QGKz7dkjHJykjfGoy7Q81SNApCbYgerXBX+3GJgeR0K/M+uTnZn975OY9TCUbWfuR/3UHWapV4cVkS3+/KZlInH2aMDLmhrFG70/J598B5dqcX4Odgx9edG/FMkyAcVdW3x2A28fLG+ayPO8aYqG683+0RVIrqEzbsSznJf3f/hFwm47Oez9O+TlSlx2NzzjLv2E+UGIp5sOEgBjUYUD4X2yXQg3CXEpq7rGV1kpL9uY2YW9SdHKsvUf5OeF/nQm9HOwXLx9dnxKwE3hrvgCxL4tdfZYyuHEttqRexopJXHRVoEmrHzMnejP06GzvPLjR8sOriLIDfTq3HTqlmeOOeV23TrtRT2LXcT8nmR9iyU83I/td3TYJwI0SgFe5aOr3EJzN1dGmtpHfn2t+qm46VMXVFEc8PdmVAm+uLGpIk8dziJGbvzebVHn58+WDQdadPzNMZeX3vWX46k0agox3fdW3M+Mgg7JVXznJUpNcycc0sDqVd4J0uI5jQsvcV2/fLyTX8fHINDTyD+eiBZ/Bz8ip/3CpZWX1+HSvPrsHPyZcX202ulJtYb9axPXElh9N24Kh25ptuIwl2bcG3JxP5+ngiKy5mMT4yiC86NcTNTkWJIYdsbRwlxhxKDDmUGHPQmgpx1wQS6BxJgEskLmofZJKcrN/CkGWD1CeOJG9HIKBK200WIypF9YuSHumm4eNV5zh0qC1Hzpto16jy+5WtzWd74hGGN+5RPjxeHYPZxCe7FtO8nZrUi3I++LaMYX1UNy2zmCBciQi0wl1r5u96MrIlFn5jX+ucwDlFFp74OovIEPV1L36SJIm3VqUye282b/by57PBda6rPZIk8evZdF7dc4ZCo5m3WoXxf23q4aC6eqGC9JJ8xq34jsTCbL7rN57BDdtUe5zBbOTzvQvYnniEvuEdeKXD6EoJKIoNxcw5Op/YnDN0rNOex5s9ikZZkSUpNuco6+P+pNRYTJuAbvSoOxSN0jYs/X7b+jzfNIRPD8cz7WQiKy+mMKHRReo7nwJAhgwHlQfOdl74OdYnV5fEofQ/IR2c1J6Eu3dgzJiBvP6GjJVaOe+uSUUpl/FGr4phaItkRkJCJa8+0J7OOUObThspy2/A6C+zOD49CGeHiqHwFWd3ABLDGve46vs579hmUopz+fWhl0j3tueRF7UsWmNk9INinla4tUSgFe5K2jKJz+bo6dNZSbd2td/O88KsHPJLLGz8JAB7u+ubU52xO5svtmbwbGef6w6y+XojYzefYm1iDh383JjTvQlRXtferxubk8LTq75Ha9SzYOiLdAhqWO1xOdoC3ts+kwt5KUxsNYxRkX0qtS825yxzj/5ImUnHuOaP0zW4U/njWmMJ6+IWEptzFH+nYEZFTibQJbTS+a2SlWJ9ND39NuMsK2D++RZ8ejyMB0PDmN4tigAnPxTyyl8jJYZcYhLOczA6hdIGaxgw2ocw93YMtYZhtkq8uSqFUA81D7e0/eDRmcoAUCuqpkgE2J96EA8nBb+/EUDPtzN466c8ZjxnK3pQaixj9fnddAlugZ/TlX9AZWuLmHVkA33Dm9M5uDHWOhJNG+n5z0wdjw5W17pwhCBcjQi0wl3pp6UG8gok/u+52ifg33K8jD93lfLxGA+a1r2+3su288W8tCyJwU3c+H5EyHUF2TP5pQxZc5TkEh3fdm3M801DqmRrqs6B1PNMXD0DR7WGP0e8TmPvOtUeF5Mdz/vbZ2OwGPlP92fpFFyR5UmSJNbFbWRp7Ar8nfx4tcOLBLlWnCc25xhrL/yBwayjR92hdArqUymDk8Vq5mLBQWJyNlJsyMJF7cOIBj14oVVzpp4o4r9H4jlTeJE1g92p71b5a0Rb4MWEEV5kZ0t8tTaa5KIThLm3QyGX8fPoMJLyjTz5RwKNfO1pGuhASnEcAAHOVcvsFegKOJpxnD7hPXkg0pHJA12ZubaI8f1caBFux1+nN1NqLGNM0wFXfU+/3rcSk8XMW52HAyCXy3j7GQ2Pvqxl1VYTQ3uLvbTCrSNWHQt3HbNZokHvIny9ZOz7y6VWw8ZGk0TT55IxWyBmVhAadc17sxdz9bT56jR+Lmr2vxyBi33Na9JuSMrhkQ0n0CjkLB/Yko7+NasEtCn+BC+sn0ewqzcLhk4hwNmjyjGFJiM/nd/PnNhdKOxcaVWnKSjUlFhMGKxWXBQKsgrjKSpNp4GrP2Mb9qSjhz9uKjVlplLWXVjI6Zwj+DsFM7TROHwcK8rcWSULcfl7OZm1jjJTAR6aIKJ8+xPs2qLSyuWdaXmMWHccK7B8QEu6BtramZYGPXtCaiqsWQPq8F9JLDzCI5Ffl/d8M4qMtP7qNHZKOUdei2R/+l+czDzAm52mVqocBLD8zCpWn1/H570+wdvRi8JSCw0mJFMvQMXqj50Zs+L/aF+nCR90m3jF9/R0djKDF/6Xp1v24t0uI8r//GbeZ4JwNaJHK9x1lm82kZBq5eu3a1+vddqKQs6lmlj7kf91BVmtwcLQHy4gASsn1K9xkJUkiW9PJvLqnrNEeTqzcmArQlxq1iv/6/Re3t76K1E+Ifz04Au429sW9mQadKzMSmV9TjrHi/NJ1tuGWnEKQymTkZmfg7NShbNCiRwr+0vz0EpyTMpQjmvhz2N7AAi31+BuycCffJ4KHcTgugMqBbb0klgOpy+mUJ+Ot0M4HeuMIcA5strPoFugJwce7sDAVUfpteIQ83tG0dUhkB49IDsbNmyAzp0huagpF/L3kK2Nw9/Zti3H31XN0qfq0+27Mzy6II5Brc4T4lqvSpA1WUzsSNpFU98meDvaFna5OSn4/ElPnpqWzUt/nMVoZ+TJ5kOu+nl8unsJbhoHXmhbuderVMp49WkNz39Uxp4jZrq0uTkZxwThn0SgFe46X/2go36onCE9a/fFl5Fv5uOF+Qxp73jdq4xfXJpMTIaO9ZMaUM+7+rnDf5IkiVf2nGXaiUQeCvPll95NcVLX7K/Y7CMb+XzvMroERzBr4DPokTEz6TwLMxLZW5CDBNS1d8TDokVRmkgnzwD+024EIQ7O5YHwVFYMs4/8QFe5nEmtJ1DfqwG5RgOnSgpYmnSA3flpnLO6ckRyZ+35Enrm7WBcnTAecFEQm72StJIYnNRePBDyDMGuLa75Iyfc1ZH9IzswbN0xHt98ii6HHMnNdWPzZmh3qRiOv1Mj5DIlqSUx5YEWoH1dJ2aMDGHCokR0UgCfDa46bHw4/SjFhhJ6hnWv9OdP9HJmxto8/lrvzbsvdKq2vN9lm+JPsD/1HB89MAoXu6pZxZ4cbseH3+n48ge9CLTCLXPFbwFnZ+dq/6JJkoRMJqO4uPiWNky4P8WcN3PolIVp7zrUetvFl0sK0Bslvh5/fauMN50p4scDObzVy5++jd1q/LxPj8Qz7UQiLzYL4ZsujWs0HytJEl/sXc7soxsZ3KANbz/wKJ8knGF60nm0FjMRTq58WK8pfT29WXx4EUczzzA5qh9Pt3iwfChXkiQ2xG9m8ellBLnW4YW2k/BysPUAnWQGMtMWUUd7nk/rtGFg/ZHE640sykji17SLjD65DweZmZ5OBt4Me4j2fj1RVLOf9UrcNSo2PtiGp7ZG87vlAK8Pi6Rdu6Dyx5VyNQqZEqvVVOW54zv6sCz6DBtON0XXu3IyDKtkZc359QQ6BxDp3bjSY3K5jKZt93P0QltM6VdeaVygK+X/tv9BI686PNqk+oxSDvYynhllx2dz9KRlWgn0EzVphZvvioG2pKTkdrZDEAD4dYURpRIeHVy7xSnZhWZmry9mdHdn6gXU/FylBgsT/0ygoY+GD/oHXvsJl8yNSeb/DlxgbKPAGgdZq2Tlg+2L+C16J8OadMWuTgQNdq9BazHziH8Ib4ZF0MzZnQJ9MW9umU5CQRqvdXy8Ui5fk8XEzyd/Y1/KAdoEtOLpFk+UJ92Pz49l6ZkfMFvNPNhwHM182yOTyYhUOTBZlkUz8zEOlxo5YmrCmmJ/9sSW8Lb+As+HNMC+hmXjzp6FSZPk/PpbU8xWiS8vxND8nILHGtr2yurNJZiselzsfKu9/s6Nt7A/oS+vLivmyOtWVApboDuQeoiM0kyea/NMpblhgENpMSSYd9K0QSSzV8t5c5gVJ/uqAfKjnX9SoC/l56FTrpjgA2DccDs+naXnt5UG3nym9ovvBOGfrvi3KT8//6pP9PCoukhDEGrDYpH4bZWBfl1U+HjWrmfx9bJCDCaJdx6p2SKky95bk0pygZHdLzZGU8PUisviMnl2x2kGhHjzQ48mNQqyZquFNzb/wrKzB2gR1YMfLDJKLsbysH8I/xfehEhnNwBSi7N4Y/N3FOiL+W/P52gb2KT8HIX6IqYfmsXFggSGNhrMkAYDbVmWJIm9KRvZlrACLwd/HomchKeDLdAZLWUcSV/Chfy9OKu9eanxOPydG3OyuIC3z5/gjXPH+S7pHJ/Ub8bjAcFozekUG+IpMSShUjjhpArCSR2Eg8qX06cV9OwJMhmUFMtY0DuKrDID47acwtdBTc8gL0qM2QA42/lUeQ/i82MxSdl8PEjDlL90fLElk3f7BmCxWlh5bi3BrkG09G9e6TkWq5XZR5YS4OzNxxPC6fp6JrPWFvH6iMqf85aLJ1l57hAvtRtEhHcQV1MvREHn1kp+XmbgjYkasShKuOmuGGhbtWpV/pf2n2QyGRcvXrylDRPuP9v2m0nPkpj2bu0SCOQWWZixpohRXZ1oWKfmvdkDCaV8tyuLyZ196BRWs9q0u9LyeWzTSdr6uvFX/+blPbKrMZhNvLjhB9YmncEhogcrDGZ6efoxtXErmlwKsADnchN5a+v3SJLEN31eobF33fLHUorTmLp/OlqTlufaPEPrgJaXzq1j5bkFnMk9TqR3K4Y0HFu+PzWrNI7dyT9SZiqkiXcfmvkNRnkpSUQzF3fWte7Ottx0Xju7l3HR+5mVsJ63As7grjShkjtjtuqQsBVdjzsdymuPv4SDRsO2bTIaNgRQsHxgS7osPcCwdcfZPbwdDvIcAFzsvKu8D8cyd+OgcmZy++bsuZDIxxvSGN7cnRz9MbK12UxpO7lKb3ZD/D4SCtP5oNtEuoQ60aelPV8sKWDyIFccNbZj9WYjH+38kwaeAUxuc/VtP5eNG2bH+He0HDxhoX0LsXRFuLmueEclJCTcznYIAn+uM+LsCIN71G5RyrwNRWj119eblSRbHuMAFxWfDb56D+iyrDIDI9Yfp66LPWsGtbpiruK/05uNPLNmFhtzMtCGt6dQgjmRbZkQVK9ST+pIeiz/t302bhonvuj1IkGuFUOvp7PPMOPwbOwUdrzT+XVC3IIByC3LZFHMTPJ1OfQOG0GHOr2QyWRYJQsns9YSnbUOR7Un/eu9gbdj3Urtslj1ZJTuwV6/ma/rFLKuuBHT0314PqkLfzVvQwf3ukhY0ZkyOXAkj1dHN8TOQcvSdedo2LB5+Xnc7FSsH9Kadn/tZ/i648zsnIJSboeT2qvS6+WVZXEu9yQdgnqjkCv5bngIm84W8cryRBqGrqSuWyjN/ZpWek6RvpR5R5cT6R1GtxDbD4v/e9SDLq+n8fv2Eib2t9Wg/Xr/KlKL81g4/JWrDhn/3cP91Tz3oZZFaw0i0Ao33RXvqLNnz9KoUSOOHTtW7eMtW7a8ZY0S7j9ms8TKLUYGPqBGY3fjQ3cWi8TcDcV0b2pPZEjNe8Yrows5lKTlx0fr4qy59pezJElM2BZDsdHMjmFt8bS/ds+5zGRgwqoZrNeWUVgnikhHF5a27EoDx8p1bHcmHuWT3T8S7OrPF72mVCpivjtpLwtO/oafkx8vd3gBT3vbFE58fiyLY+eikCsZ2+wlQt1smaSKDTnsSf6RnLIEwt070C5wFKq/ZWCyWPWkFm8ltWQrZqsWV7sGNPQcywMhETwaUsBDx3bS8/AhfmgiY3RgXRzVgTRrEEjXLhJj3vwUr6AmQPNK7a/jZM+ivs15YPlBPjpi4LP2zSslwwDYnbwehVxJhzq9APB1UfF6T3/eXZOKzEHNd4NGVRnCnXlkMaXGMl7pMKb8sU4RGprWVTN3fTET+7tyJD2OH49tYUxUN9rXqT6bVnWcnWT07KBi9TYTU9+VxPCxcFNdMdB+8803zJ07l1dffbXKYzKZjG3btt3Shgn3l52HzOQWSIzsX7tFUBuOlpGYZeaLp7yuffAlVqvE/61NpYGPhrFta/a8n8+ksTohm286NyLC49rDzKVGPU+unM4Wo5lC77o87BfM/KgOOCor/xVcf2EvX+3/lcZeYfyv1/M4qW1bUiRJYsXZ1aw6v5YI78Y81+YZHFS2hTuH03awPu5PvB39ebTJc7hpbKusk4qOszf5Z0BG1+Dx1HWvyJUsSVYyS/eRWLQSo6UYT/umBLn2w9UuvPyYlq4eHO7Yn5HHdzPm1D72HDHzbf/6eHnBqlUyjmU4UGpMrvZ6uwR6MKWpE9NOBnC2yIu/l1fP1+VwKusgbQO746Su+BExuo2aTzbpiE/tQbhH5R73kfRYNsUfYExUf8LcKxapyWQyJvZz4flZuew9U8p7BxcQ6OLBW52HXfMz+afBPVSs22niTJyViPo1T04iCNdyxUA7d+5cALZu3YpcXnmeRK/X39pWCfedJRuMONhDv661GzaetbYIP3cFQzvUfN/sX8fzicnQ8ccT4ShrsKUoqVjHi7ti6RbowYvNQ695fLFBx7iV37HNIqfII5iJQfWYFdm2yqKpJbFbmXH4L1oHRPDxA5Owv1SU3GK1sODk7+xO3kvn4I480WwMSrkCq2RhQ9xfHE7fQQOPKIY1Ho+dUoNVsnA8YwUxOZvwtA/lgdCJOKltwVeSJAr0p7lYsBStKR0Xu3AivCdVCrB/52OnYUvbngz68QyzX6jL8Udz2D/fC5lMhrM6mCztQSTJikxWdW56YJ1YVl50472Dah6qZ8TrUq/f1ptV0Cmob6XjN1xcSbNQPQfOt2Hb+WJ6NLD19PVmI1P3/06Qiy+PNxtY5XVGd3fm9fl5TPklmny/bBYOfwVHdc32Pv/doO5qnv2gjFXbjETUF6uPhZvnmis3xo8fX+n/tVotAwdWvdkF4UZJksTyzbZhYwf7Gx+yS801s+5IGRP6uaBS1uw8kiTxyaZ0Iv3teaRFzVbSP7fzNBLwU8+oa64wLjaUMXb5NLabZRS5BfBKaCNm/yPISpLEgpNrmHH4L7qGtOTTHpPLg6zJYmLG4TnsTt7LkAYDear5WJRyBQaznj+iv+dw+g461OnNI00mY6fUoDMVs/nit8TkbKKBZ1f613utPMiaLKXE5s4lOns6VslMhNczNPd9/YpB9rJtm+XsmhKBe5CRg713MTXxLAAOan8skh6DpbDKc3SmYjJLo/lPWygwmHhjr+05uWWZnMraT0v/zjjbVfRmL+TFcSD1EC90DSDQVcWnm9LLH/vx2ArSS3N5pcOYSlWJLnNzUtC9pZnjMa482rjndQ0Z/10dfzmtoxSs2Gy8oecLwpVcc9Y/MDCQyZMnM3PmTAoKChg4cCATJky4HW0T7hOnL1jIypXoX8ve7LK9pUgSjOlesxXDALvjSzidoWP+Y3VrVMFlR2oeaxNz+LxjQ+q6Vs009HfFBh1jl3/LfoORQp96PBfcgK8ataw0/ydJEvOOLWdhzEb6hXfgtY6Pl6ciLDPp+O7gTM7nXWB01Ch6XcqQVGIo4o+Y6SSUZdI4fBgG9wb8VHKGBF06pwsP4WrR0cX3Idw92mJChgLIK4vmXN4vmK1a6ro9RB2XXshl1170s3o1jBgBEREyNm6yZ3KKN6+fPU5jJxfqKTKRy+ywU7hWed7pnM1YJTMPhnVjSn4hU08k8GqLuhxLXYRaoaFrcMVqYJPFxE8nfsXT3pNhEf1J6pLPO2tSOZulwyxLZ+mZbTzYsBvN/RpU28YCXSlxinVIlsFE2fW55jVdzYBuKj6Zqaew2Iqbi0heIdwcNSoq8MYbb1BcXMzRo0d56623GD58+O1om3CfmP6Lnin/KSNxhyshgTc+N9btjVTyS6xEzwqu8XMeWxDHutgi0v/THAf11V9bkiTaL95PutbA+ce7XrVguy3ITuNoSSHpdZrS1zuAVS27ofzbNIwkScw8vJglZ7YypGE3Xmw3qnw7S7GhmK/3f0dacRrjWz5J+zptAThQfIH/JvzFKZWSFLUD1n+8rlySsP6jlx2pUNBVSmWg2p5uPuNwUtdsVXVpKYSFQUgIbNwIHh6gNZvpdGATCbpSfgy/SANHDU19X6r0PJ2pmGVn3yXYpTldQp4mT2ck7JedtPFR0MXjT/rXG0XbwIq0isvOrGT1+XW80mEKUT6RZJeYqPP+CZ7p5EWx8mcMZiPzH/wAB1X1w8Evrv+BteePUbDvFXq3cGLRW1dOyXgtuw+b6PpYCctnOomKPsJNc8WfbMuWLSv/p127dhw4cIAWLWz5T5ctW3Y72yjc47YdMBEWJK9VkM3MN7P7tJ7hnWo+N5tTYmLJiQKeaOt1zSALsCw+i0NZRXzcrv41g+wTK74lOi8dY2grQu2dWNisU6Uga5WsfHtwIUvObGV44x681O7R8iCbp8vns91fkVmayYvtnqN1YGt+KDpNvYT5dMjewGpHF5wc/HjPvQ2r/Qbxm70/X5edY7mkoyR0HGmhT7IncDjzPFsxXqnFbC1lltWfwXo3BmYf4oei05gkyzWv18kJNm2CLVtsQRbAUalkZauu2MlkvJLgiVJZr8rzYnM2Y7GaaOprm2LytFfzaotgtqYaKLXUp3VARTrElKJU1l3YQMeg9kT5RALg46xieDN35h/IIqEgh1c6jLlikN0Qd4xV5w8zpf1ARnZ2Yc0hLTrDP39+1Fy7ZkocHWDLvqopIwXhRl1x7Gj16tWV/r9FixaYTCZWr16NTCZj2LDrX9UnCP9ktUrsOGhmRL/a9R5WHtAiSTCis1ONn7PgUC4mi8QzHatmLfonSZL44OAFGrs7MrbRlVMzlhr1jFvxLTHZSQS3GMCe0hJWt+mBq6ri+qySlW/2/87aC3t4JLIPz7QaVj6cnK3N4ct9U9EatbzW4SVS7O0Ynvw7F0yF1DHqGGEy837YY0Q5h2KxmtibsoC8wsO0dW9PhzpjUMhVOABy/SmsJX8QqXTkS7+nyZH7sLD0PAtLzjMhZxtfFR7jZ9/etNdU7f399put3N2bb0Lz5lWvMcTeiXkRATx00sBXqWrm/y2VtM5UzNm8HYS6tcH1b+du73URR6WePbkty7f6WCUrP5/4FQeVI482GVnpNQZFwaJjcnyVvWkbGFnte52jLea9bX/QxCeYZ1v3Y6fawJz1xWw4WsZDHWt+H/ydWi2jaxuVCLTCTXXFQPvTTz/dznYI96kLiVYKiyU6taxdkoAtJ8oI9lYSGVLzgL34RD5tgh2J8L/2CtNd6fmczi/l515RKK4wl6szGXl61fecykri2e6jeS01iQ/rRdHWrWLL0N+D7Oio/jzd4sHyIJtZmsUXe6ditBiZ3GEKU80pzEqPJkSu4bG8ZLqp3Bnd5AUc1c4YzFq2Jcwguyyeln5DaeLT71JyChNx+YvIKN2Dm6Yhjb3Go1a44Aa879GW/3Nvw7qyRJ7L2Unn1CV87NGON9yao7xUSGD+fBg/Hrp3h1dfBeUVPpYQ+QFGeipYkC7n5bACopxtyUGOZSzHKllo5jeo/Nh8XTaH09YyNKQ9v8driM4tIcrLmfVxm7hYmMgzrZ7GSV0RGMtMetYnLcDRrgclJdUvbDJbLby44Qe0Jj1f9R6HSqHggab2ONvL2Hz8xgMtQJfWStbvNFFQZMXdVczTCrV3xbto3rx5XLhwAbD9mn/qqadwdXWladOmHD9+/LY1ULi3HY+1pfRrEXHjw8aSJLErRk/XJvY1TjSQWWzkUJKWIVFuNTr+h9OpuKqVjKznX+3jBrOJCatnciQ9jm/6PsmfJaUE2tnzelhEpXZ+e2BhtUE2vSSD/+35CrPVzBMdJvNI6QFmF0czWunN6NRj9Lbz5YmmL+OodkZrzGd93Jfk6pLoFjKRKN/+yGQy9OZ8jmd+QUbpHoJc+tHU5yXUisrJMGQyGQMcgjjg34Yh9va8m3+ALilfE10yh1mzLDz9NPTpYyvafqUgW6g/T5HhPO+FR+CsVPLWuRMA5GgvElewjwivnrheKiIgSVZWnfsVhUzBJ536oJbL+DE2hdTiNFacXU0r/xa0C2xT6fzTDiwkozSHB5u6syNOi9ZQdZh76v5V7E89xyfdR9PQyzbCoFTI6BRhz87o2m0/bBVpu/DjsdceXheEmrhioP32228JDQ0FYOHChZw8eZKLFy/yzTffMGXKlNvVPuEedzzWgloFEfVuPNCeTzORXWiha1TN906uPV0EwJAm107TWGgwsSQuk9ENA3BQVW2n0WJm8to57E05wxe9nkDr7MPhojw+bdAch0tVcCRJ4tuDC1l1fhePNelXKcimFqfx+d6vAXi0/TOMKtpLsqmEaaog6idtJ8I9gtFRU7BT2lOoT2dd3BeUmQroHTaFULdWABQbEjiW8Rk6UzaR3s8S5v5Qlb2tFmsJ+bo/SSl+BYP+O75xPMw0VwOnzI50+7IekycrGDTIyooVYH+VTn5S0RrUChci3B/gnfBI1uWkszU3g4NpC7FXupbPzQIcy9hDUtF5eoePINTVh6Fhvvx6Np3ZRxZgr7RnbLPHKv042nLxEJsvHmBss0E83S4Mg1li87nKJTl3JMYw88gGRjXpzPCIDpUe69pEQ2yykZyiGw+SLSNtn/Gx0+YbPocg/N0VA61SqUSlsg0nrVmzhrFjx+Lp6UmvXr3QarW3rYHCve14rJkmDRSoVDe+f3ZXjA6Ark1qnmRgVXQBwe5qogKu/Zw/zqWjt1gZH1mnymO2Icwf2ZYYzac9RjOwYVvePn+C5s7uPB5oy24kSRLfH/6Lled28khkH8a3HFoeXFKK0/h87zfIZQpGtn+GkYW7KbAa+FzuRUHieiK8WzEq8llUCjXZ2njWx32JJFnoV+81/Jxsw6rZ2sOczPoahVxNC7838XJoXqmNVslIoX4taSXvUWLcjoOqJd4OzxLs+g0ver/GtsCR6OzkOPQ7z/s/zcDO7spBqlB/gUL9OYJc+qKQq3khpCFBGgdeOr2HnLJkWgcML0/xWGwoYPPFpdR1a0hLP1tpv6cj65BvMLEn08TYZo/hYlfR487RFvDtwYVEeoczJmoAXcKdcLVXsDqmoPyYvLISXt+8gIaeAXzYbVSV9nWLsn2euy/dEzfCy0NOcICcozGiRyvcHFcMtHK5nIyMDPR6PVu3bqVXr17lj+l0N34TC8LfxVyw0LRh7dLdHTxrwNNFToPAmu3DtVgltl0oZkCEW42GmhddyKCppzMtvCvvF7VKVt7a8isb4o7xfteHeSyqK39mJJGk0/J5wxbIL1W/mndsOcvObGNkRK9KC5/SSzL4cu9UVHIlz3d4gfFFBzBKVr7Ag5zkzTT368jwxuNRyJWkl8SyKX4qGoUT/eu9iYd9EJIkkVy0gTO5P+CkDqGF31s4qgMqtVFrOkp6yfsUGVahUTYiwOlDvBzG4aBqjlzmwMWL0E7jx45XGyObvonntVr0lsxq3wdJsnKxYClqhQv+TraVw/YKJW/XrUdMmZFMWQR13dqWH7vi7M9YJSuDGzxefs1B9oU4KHQUS1HlFYfA9oPl413zMFstvN15HAq5HJVCTp+Grmw6W1x+zIsbfqDYUMbUvk9jp6z6ebeur8FOJWP/2doNHzdvrCD6vAi0ws1xxUD78ccf07p1a0JDQxkyZAiRkbaVfzt37iQsLOy2NVC4d+n0EhnZEuHBtQu0sSlGmoSoazw/G5upo9RgpWPday+YKTWa2Z9ZyIDQymXeJEnik12LWXpmPy+1G8STLXoCsCDtIvUcnOntZVtx+3v0ehbGbGRIw24823pEpYVPX+6dikwm4/WOL/ORLpZzpgLewoW0lM208OvEkAaPI5fJSS2OZmvCDFzsfOlX73Wc7byQJCsX8v8goXA5Pg5taOb7EmpFRaIOq1RGTtmP5JbNRS5zwtfxVXwcn0Wl8LvUfnj/fYiMhOhoW7D90s2eQyZHphWnU51s7SFKjAnUdXsIxaXyepIkEWLZhYPMzAlLk/LrO5C6lYTCs/Sr9wju9rb3rsRQyrxjPxDuVEyi1hmLtWIL/5yjS4nJjuf1jo8T6FKxCrxDXSdSC41kFBn5Yu9y9qac5dMeo2nsXXV0AUCtktEoSMXppNpld6oXouBiiqXaMqGCcL2uGGgHDRpEUlISZ86cYd68eeV/3rp1a/7888/b0jjh3paYatvvGBZ04ys7JUnidJKRyOCaV+o5kFgKQPvQawfanWn5mK0SvYI8K/35dwfX8NOJbTzZvAdT2tlW2Kbpy9iRn8WYgFBkMhlLYrfw4/GV9A5rz4vtKqrR5Jbl8uW+qZglC290fJlDsjJ+LTnHWJkrJSlbae7XkcENxiCTyUkuOsH2xFm4aQLoE/4y9ioXrJKZM7k/kFG6iyCXvjTyegq5rKJ3pzefJ73kP5SZjuBqNwR/p7fRKCuyKkkSvP02/Oc/8NhjEBFhex8HqS4wRCPj/fxDHNNnV7pes1XPxcKlOKtD8XVsX/7nFwsOkFN6ioFezqzOyaHIZCSzNIWtCSto5NmcFn6dyj+n+Sd+ocRYyvioVhQYzBzLsc2T70w8ypLYrTzUqDs96lZeGNU2xLYvesb+E8w7tpnHmz7AiIiOV/3MIoPVtQ604cFydHrIyBaBVqi9q37DKZVK3N0rLxZxdHTEyenGl84LwmUXU2xDc2FBN96jTc+zUFxmJSK45ukbDyZq8XBQUM/72sF5S2oeGoWcTv4Vfw/mH9/CtINrGNG4A+91HVkeQBdlJCEBjwaEsvb8HmYcXkzXkJa82WlseTKKfF0BX+ydisFs4PWOL+Hp5MPLubsJRUVw6l6a+3ZgSIPHkcnkJBYeZUfiHDzsg+kb/jIapRMWq4GY7BnklB0lzH0EYe7Dyhc9SZKFAv1ysrTfIJMp8HN8AzfNQGR/K1EnSbZtO59/DpMmwbx5oFCA2ZqJlQK+84jAV2HP6KxNGP+W1CK5aB1GSzH1PEaVv57WVMDBtD/xcazHK+Gd0Vkt/JmewLIz87FXOTC4YcWQ8fbEnZzIPMnIiIcY1dAW9Lek5JFclMnnexcQ4V2XZ1uPqPL+t6jjgEIGsw+eonVAPd7rOrLKMf8UGaImOcdMSdmNJ664/OPv8j0qCLUhNokJd0zCpR5taJ0bvw3PpNh6LhHBNd8/ezi5lLYhTjUaat6emkfnAHc0lzJBLT97gP/sWky/8BZ81uvx8gAKsDgjiVYuHqTnXODr/b/RLrAJ73V5ujx3cYmhlK/2TaPEWMorHV4k2DWIucWnSTAX0zX3PC19OzC44djyILsr6Qe8HerSO+xF1AoHzFYdp7K/pUB/hgaeYwly6V3+2lZJT3bZ9xQbNuCk6oi/03vYKSuXmgNYtAimToUpU2DmTLicrEprOgJAoKYpc316cNZUwILiMwCUGlNILd6Kr2MHXOzqXno9K3uTFyBhoVPQONq5eRPu4MTcxCPklKXzYMNxOKhsP8iTCpNZFLOEKJ9IeoX1wMfBjmZezmxJzuGDHXNQK1R82O0ZVIqq+4nMkgGNpgiz0YeZAyairuaYf4q8dC9cvjduxOUffxdTbjxYC8JlItAKd0x2nhWZDLw9bnzFcUqObQtGiE/NerSSJBGfa6CR77W3AlmsEmfyS2npbVsZuzf5DG9u/oX2dRowrd/TKOUVPUWDxcKx4gKiNGr+u3s+TXzC+eiBiuChM+mZemA6uWV5vNz+ecLcQwGYk38Yf6OOIS4RDGlo6/mmFJ8qD7K9wqagVthjtpZxKmsaJYYEIrwm4O/U6W/tLCZL+zV681k87cfi6TAWuaz663vkEVuwnTYNLv/OMFuLKDZsxl7ZDKXci/4OITRUubGo9AIWq4EzOT+gUjgQ5l6R4/xU1loySs/QNuARXOy8kclkNLOXcbrMRIfA3tTzsK3pKDGUMv3QbJzUToxvOa78h0kLLxcOZ+WSVJjBe12fxtux6jYrq2Tl1U0/I1Pk46oMwNuxavGC6gRfuhfS8m58e46/t62d2Xki0Aq1d9VAazabyxcDpKSksGTJEpGsQrhp8golPNxkKGpQA/ZKLn+ZBnjWbPg5T2tGa7QS6nHtYePEkjKMVolG7k7EZCfzzJpZhLn7MmfQs1VWvJ4sKcAkWTl5cTcBzt582mMydkpbz8pkMfH94dkkFSUzuc0EGnjWB2B95m5irToekNkztNGTyGVyMkrOXBouDqJn2AuoFBpbTzbrO0qNKUR4T8LbsVX565osOWRqv8BkycDbYTJO6k78k8ViS6eYnGzrwT7ySEWQBSjUr0TCjLvGNnQrk8kY6VSfHbo0DuYtosycRSPPp8oXW2WUnOVk1lrC3dtTz8P2elmlqVhKT6BHRZi/radtsVqYfWQeRYYinm87qdJWHrM5ixKzglFRQ2gdUJHU4+9mH9nIlosn6VI3kMxiCau1ZvOl/u62eyEj/8aHfZ0cQa2C3AIxRyvU3lUzQ/n4+BASEsK8efPo2bMnS5YsYdSoUXz++ee3s43CPSq3QMLT7caDLNgCraeLHI26ZoMzifkGgBoF2rP5tv3irioj41Z8h6vGkZ+HTsHFrmp5vM1ZiQAEyq182ftFnO1si3iskpV5x34iNucMTzYfS3O/ZgBcyIvmm/SNAHxc9zEUcgXZ2ji2Jc7E1c730nCxPRarnujs6ZQak4jwnoiXQ7Py1zRYksnUfo5VKsPX8RUcVFFV2mU2w+OPwxdfwKpVVa/RYE5Aa9qHi7oHKkXFat+RTvWwIrGk5AxBLn1xt28MgM5UxK7kH3G186NdoC3ZhMGs46/YOdRV2QLbseJCAJaeWUFs7lmeaDa6vAcPcDo7nlMZ+wBoGlCxsOrv9iaf4ev9KxnSoA2DGtXHaJHIKK5Z/mFvVwVyOWTk33iPViaT4eUhE4FWuCmuOOExbdo04uPjKSkpoXHjxiQlJeHl5UVZWRlt2rThzTffvJ3tFO5BeYVWvNxrN3uRlmcm0LPmeZIT82zzdqGeNQi0BbZA++XuBVglK78MfRE/p6pDnHllRfx4/gBquRPf93y2fBhUkiR+P7WIw+lHeThyOJ2DbVmMkovi+Ct2Dmd96tHezod6Gk/yypLZcnE6Dip3eoe9hJ3SEYvVSHT2DIovDRf/PRGFwZxAlnYacpkDvo4vlm/b+TuTCR59FJYuhf/9D55/vvLjkmQhX/c7CpkLrpqBlR6rJ7MShJG9+PGV2xAArJKFXck/YrLo6BP+MiqFHZIksercLxTocpkc9RKzDh/jcFEe4VI+6+M20T20K52DK1YJ5+uK+HDnXIIcnDmlhfMFOtr/o+lpxfm8uOFHwt39+G/PMeyOs+2JTcgzEOh27bl4hUKGr5uiVj1aAE83OTn5YuhYqL0rfsup1Wrc3d0JDg6mXr16eHnZEqM7ODigVos6jULtlZRKOF29dvo1FZZa8XCu+arlXK2tl+PjdO3gnFaqQ4GVQl0e8x98gXCPqsFMZzLw7rYZFElymrh4EOJWkQt5Q9wmtiXupF+93vSvZytInqPNYGHMDJzsPEhXKOntEEKJIZctCdNRK+zpE/YS9ioXJMnCmdwfKDJcoJHXk3g7ViR3MFpSyS77DoXcCT+n16sNsgaDrWD70qXwzTe2oeN/KtQvx2hNwcN+FHJZRYYsi1VPbO5sWsj1JOBQXm3nSPoSMkvP0b7OaNw1tsQYu5LWEpt7jF5hw6jv0ZBQeyfOFOcw99h8wtzr8miThyvaZDby7raZlBrL+LT7GACydIZKbSox6Hh61XSMFjOzBk3CUa3B19k2TJ+nrXkP1cNZQaG2doHWxUlGaZno0Qq1d8VvG51Ox/Hjx7FarRiNRo4fP44kSUiShF5fu6wrggBgNIGdunZDxzqjhPd1VFgpM9q+fB2uMdQsSRJbEmORJAXf9HmK5n5VV/BarFY+2zOf83nJeAU3JMC+Yg7ycNpR/opdRpuAVoyMsJWULDEU8Xv0dBQyJb0ixmPNXImvXMWWhO+wSmb6hr+Mo9oDSZI4n/cbebqT1PN4FF/HtuXnNVkyydJOQ4Ydvo4vo5R7VP++6Gyl7mbMgMmTq3kfTNEUGzfjpO6Gg6oiiEuSlbN5C9Ca0olwHMSqkgSMkoWk/P2cyd1GhFdP6nnYeuanc46yI2k1zXw70KGOLXOcs0JOTF4CDdWOTGn7LCqFqvz9/Gr/r5zLTeLj7pOI8glBxhlKjRXB0CpZeXnjfOLyM/l56BTC3W0/IOwvfVZlppr3Lu1UMvTG2gVJtcp2jwpCbV0x0Pr7+/PKK68A4OfnV/7fl/9fEGrLaLJ9mdWG3ihhfx3B+vKX9bUC7Vf7V3KxMB8PTRD967es8rgkScw8spjdySd4rs3DvJlditul3OAX8uOZe2w+9TzCmdDStsjJYNbzR8x0ykyljGv+KimXFkrl5G7HxZhHn7CXcLvUS0wsWk2mdh8hrgMJdH6g/DXN1lyytNMA8HV8CaXci38qK7MteHJzg/37QVXN+2u2FpCn+wmVvA4emsr7UpOK1pJbdoww9xGESwFQkkB0cSyxaX8Q4BRBqwDbyuOMkmRWnP2JOi5hDGowGplMhtFipLA0A50k48V2z+GqqVgl/OfpTWy5eIinWzxI5+DmADiqFJSaKnqp0w6sYWvCKT7o9gidgxuX/7mD6lKgNdY80GpUMgym2gZaGdpa7MUVhMuuGGi3b99+O9sh3IdMZgl1LYoJAOhNEprrCbRGK0q5DJXiyoH2j+hdzDy8ngDXAdirnas9ZnHsFpad2caIiJ6MiOjJM+mLcVOpydbm8N3BmXjYezCl7WRUChUWq4XFsXPIKk3j0SbPEeAcwr4SWwlKuT6VLsFP4etkW4mcUbKb5KK1+Dl1IsR1cPnrWaxFZGmnImHA1/HVaoeLS0th8GBwcrItfKouyEqShdyyH5AkM96OE5D9LaNUTtkxkorW4OvYgTrOvQgoSwJgfdpCIlWedA0Zj1ymoNRYxKLTM3FQOfFI5LMo5SokSeLH4wuwmLTYOwQS7BpUft6DqTHMPbqcbiGtGB3Vv/zPnVRKSky2Hu2GuGNMP7SWkREdeaJZ90ptvvyjqMxY86FgjVqGvtaBVvRohZtD7KMV7hiz2ZaVqDZMZgnldWwPMlokVFc5fl/KWd7fvpAeoVGEufujriYg7085xewjS+kW0rI8m1GZxYICK1MPTEeSJF5u/zzOdraEDRvj/yK+IJZBDUZT37MJANEFBwFo492nvNRdge4s5/P/wEPThPoeo8sTakiShZyyuVisxfg4TEGtqJrnt7gY+vWD3bttaRWry8UhSVbydL9isMThYT+6UrAuNlzkbO58nNV1aeBpe217bL25UkmiR93nsFM6YrTo+SP6e8pMpYyKnIyT2jZcvvzsKg6lHSHMrQ5WWcXv97j8FD7eNY9wjzq82emJSklC1AoZBouVE5kJvLxxPs396vKf7o9VSSRy+fMyWmoeOJUK271RGwoFmEViKOEmEIFWuGPs1LXvMdjbXd9cnKNajs5krXZPZkpRLs+vm0uYuy/f9h+Pi1pFibHyApykwgw+2f0j9TyCeKvzk+UJGDxUavanR5OjzeWFtpPwc7IVPj+SvovD6TvoUKc3Lf1tpeIuFhxCV3QMAI2LbUuOzpRDbO5cHFS+NPYeX74ACaDIsKY8OFaX7amgAHr3hoMH4c8/bSuN/0mSJPL1i9Ca9uNqNwQndbvyx8pMWcRkz0CtcKOJz2TkMhUWq4lNGSsB6BcwHFeNH1bJwpLYeWSWpjCi8QT8nYMB2JW0l9Xn19EluBOO9l64q2zD4lml+by95XscVfb8t8dz2Ksqr/QuMVpAMjJ+1Qy8HVyZO2hytRV5Lg8ZO6pr/qtMZ5Cwt6vd15vRaLtHBaG2rnonSpJESkrK7WqLcJ+xU8vQG2rX63Cwk6PV13wezdnO9mWt/cd8X5nJwMQ1s7BIEnMHT8ZJrcFVraTob4G2xKDlve0zsVOo+E/3Z9EoK76FFRYdGQYtY5uNpqGXLZdvQsE51sctpL5HE3qF2RZE5ZYlsi/lFxrZX5qPNZdgtuqJyZkJSDTxfg6lvGIFsM58hiLDehxVHXFSV7/ndNQoOHHCtsJ4+PCqj0uSRKFhOaXGnbio++BqN6D8MYO5iOjs7wAZTX2moFa4IElW9qQsIM6YC0Br16ZIksTaC39wIT+GAfUfo6GXbT/v6ewz/HLyNyK9GzO22WhyjQa81HZojTre3jodnVnP/3q9UCXzkyRJFBtN7Ew4jkWy8tPQF/B2dKE6JQbLpc+u5oFTZ5RwsKvltIRRQlPLcwgCXCPQymQyBgwYcLVDBOGGaezAULsiKzjYySi7jmDtdCnQlhoqr3Z9ZeN8zuel8V3/8YS62RI3uNqpKLrU5TZbLXy8cx6ZpXl89MAkfJ0qVvtuvbgdk7EQB3tvuobYMiXl67L5K3Y2nva+DG88HrlMTpmpiG0Js7BXuTAyZAJyZMSbijib+xNlpkwivCZir6oox2exFpFbNh+V3A8P+6pFzi/7/HNYuRKGDKn+8WLDeooNG3FSd8NNU1EP12wtIzr7O4yWEpr4PIe9ynbdRzOWkVh4GJljA7wV9jjJ1exOXsexjD10Du5P6wBbLdrU4jRmHJ6Nv7M/k9s8g1KuIM9kxFOl5sOdc0kuyuSjByYR5h5YpU2FBiMWCUqNxcwZ9Gz5CuPqlBqslT67migzXN8iueoYjLZ7VBBq65o/EVu2bMnhw4dvR1uE+4zGToZOX7seraNGTul19GidLvWKivUVgfbr/avYGH+C97qMpFtIZPmfu9kp0ZmtGCwWZh5ezJGMM7zSfjRRvvXKjzmbe44/Yv7Cz84Bi8KWDcpo0bMoZiYyZDza5DnslPZYJQs7EudgsuroHjoZZ5UrwUpnjmvPkqc7Qbj7iPLsS2Dr8eXpfkGSdHg5TEQuq/yNn5EB339v++/mzW3zs9UpMmyk0LASR1V7PDQVpfpsGae+p8yUQaT3pPJiATHZGzmds5mGng+Qo3AmVOnMsYw9bE9cRVPf9vQIfRCAPF0+Uw9Mx06p4aX2z+OgskeSJLIMOlLzkziSHsvLHUbTKqBxlTZJksRbW22lNkc0akXbwPpX/cwuf1ZO19GjLTNYcajl0LHeIGFXy8V6ggA1CLQHDx6kQ4cOhIeH07RpU6KiomjatOntaJtwj3N3lVFQXLtAe70ZgOpcyiyUUmjrSm+KP8HMw+t5OLIT45r3qHRsuKstm8aCmAMsP7udERE96V+/Ipdwga6AWUd+wMfRm8FBzYkvK6XQaGDN+d/JKctkRMSE8qLnxzKWk1MWT8c6j+Nhb1vM1M3OlW3GYhzsWxLoXPm1debj6MwxuGmGolYEVHosLQ0eeADeeguSkqq/TkmyUqBbQqF+GQ6qNnjajy0vb2exGojO/p5iQwKNvZ7Gw96Wa/hs7g6OZiwj1K01ob6D2a1Ppxkq1pz/jXD3iEvl+2SUGkv5et+36Ew6Xm7/PJ72tt59kk5LodlEbl48jzcdwMD6natt2xd7l7My7hwAIxs1ucInVSG5wPZZ1alBVijbtUtkFVrwcavdSrvLubgFobaumR5n48aNt6Mdwn3Iy13OgRM3no8WIMhLSXq+GbOlZquPw71sPcP4XAP1fLN5bdPPNPEJ5uMHHq2y2jXC3bZqeObRnXT1r8czrSomQG2FAuZgNBt4o+PLnDHKkC7G8lvCTvKyD/FA6BDC3G29uZSik5d6id2o624rbG62ltHRdJwFeBFj14E2f3ttq2QkX7cYlbwOzurKW12SkqBHD8jJgY0bISSk6jVKkpk83QK0pkM4qx/AXfPI34KskZicmRQZ4mjk9VR5gYK4/P0cTFtIHZemdAl+ihlFMViQ0KTsoo5LGI9EPotCrkRv1jN1/3RyynJ59VKpv8umxti2BA7yr8+Tzasfx/7x2BZmH91Is4DebMqECI9r17a+mKtHJqtZfmqwZQvTGaTrSs1ZnZx8Kz6eYr2oUHvXvItCQkJISUlh27ZthISE4ODggNUqNnELted9KWn75QpRNyLIW4nVWvME8gGuatQKGeeyynh27RzkMhkzBzxT7WrXOo5yZEgYcOODbhMrlcX7PfpPLhYk8HTLcQS6BNDW1QsZsDzlKOHuEXQNtu0XLTXmsyflZzw0QbQJsCWHsGV++p0G1mzqKh34rTS+0uuWGLZgkfLxsH+4UtH2ixeha1fIz4ctW6BT1UI9l+rSzkBrOoSb3YO4a0b9I8jOoFB/joaeT5RnnEosPMq+lAX4OzXmgZCJyGUK5heexM+kp4mdF49FPY9KocZsNfP9oTkkFCbxbOsJNLq06Atgc/wBlqbEokTisw6PVFvrd/W5w3yyezH96rWkrmcj3O1U+DlcO3jG5xoIclNjp6pZ0Ltc0SmwhhWdqlOmk9CW1a6EoyBcds0796OPPuLzzz/ns88+A8BkMjFmzJhb3jDh3uftIcdshsJaDB8Hedt6LZfr0l6LQi4j1NOONWfjOJebxrR+TxPkWjXDkiRJfHvwNzRyLXXcm+DpUJHlaGfSHnYm7WZA/X60DrBljVJiwFeuJx13hjV+GplMjlWysDNpLpJkpVvoBBRyWzDP0u4np+wIYe4PMs4liu26VBJNxYCttmyRYQP2yuZolA0rtenoUVtqxa1boW1bqjBbCyrVpXXVDPjbwicd0dnTy4Osn9PlAgcnLtW+DaN76LMo5Cr2FMRywlxEO5OZMVFT0CgdyqsQnc6J5cnmj9PSv3n56x5MjeHzvQuwOPjSwd0HO2XVnuSB1HO8tvln2gTUY1rfp4gtKCXCw6nagPxP8bmG8pGImqgonXjjPdrLxQS8PUSPVqi9a95Fy5cvZ9WqVTg62hZ6BAQEUFJScssbJtz7AnxsX7KpmTc+QlLX1xa84jNqviHX2b6UhFyY0m4gD4RWP0e4OHYLu5OP08LLmeh8E9ZLve604nT+iF5EhHdjhje2LQySJIk1538jVJ5PgtkFA7Y2RWdvILcsgY5Bj+NiZ9tXa7JoiS9YgqtdPYJc+vCkc2PsZArezNsLQJnpuK0PrakYer2cWnzkSIiLg5ZVM0KiNR0lo/RjTJYsvB2erVSX1mgp4WTWNxQZ4mjs9VR5kE0sPMqOxDl4OoRcqn1rR2pxEuPS16CWrHwePhZHtQtWycpPJ37lUNoRHo4YRpeQinOfyDzP+ztm4+MeTBYqenhWXT18MjOR8atmEOLqzdzBk7Ei50h2Ea18qt/O83cWq0RMRhmNfe2veexlF9Jt98Lle+NGJKfb7slAX9GjFWrvmoFWrVYjk8nKf3lqtdpb3ijh/hAebBvai0u68UBbL0CFWgkxSTXbJ3Q4LY5E7XHMZhdGRfSp9phTWReYc3QZXYJbMCGqCVllRk7llmCymJhz9EfsFBomtqxIVnEicx9nco8zPiQCgySxOCOZfF0Kp7LWEurWhlC31uXnTixahdlaRj2PR5HJ5ASpnHnHvTV/lcaxvDQenTkWhcwDldy2AOrUKahfHzZtsj3f5R+xySrpyC37mdyyuSjlPvg7vYuDqmKxot6cz8nMrygzZdDE+1l8Lg0XXyw4xK6keXg7hpXXvs0sTWF8/M/E29nzlXt7GjoGIkkSv51axJ7kfQxpOJD+9fuWn/tMTgLvbP0efycvQuv1RgLGBlZOqHE+L51xK7/Dw96ZXx96CTeNI7vT89GZrfQL9uZazmTqKDFYaR967bncy6ITjXg4ywmoxdDx5XuyfkgtU5cJAjUItA8//DDPPPMMhYWFzJs3j169ejFhwoTb0TbhHhcebLv94pNvPM+dSimjUZCa6MRrB9rM0gImr5tDsKetNNvBxLIqx+Trivh45zwCnL14o9MT9A2xDStvSMrhr9NLSSlO5ekWT5QnzM/X5bA+7k9C3RryZL1+RDi58nNaPHuSf0atcKRdYMX+11JjGuklOwlw6oqTuiKN4hvurWht58O47C2c0cdjr4xAJpNx7Bh07w6SBKGhVa9Hb44jo+QTtKYDuNoNxM/xDVQK3/LHtcY0TmR+gcFSSJTPFDwdbAE4Ln8/u5Pn4+vUgF51XygPsh/HzmSzkzvD7YN53rMtkiSxMOYvtifuZEC9vgxtWJF7OT4/lTe3fIe7xpnPe7/I75kp9PL0I8yhIjd0clEOjy+fhlqh5LdhL+Hr5HbpvczFTiGnW2D1lYf+7kBiKcB1B9qoUHWNhqWvJC7ZglIJIYFi6FiovWveRa+99hojRoxg+PDhnDt3jo8//pgXXnjhdrRNuMe5u8rxcJMRn1y7xXVRoepr9mgNZhOT186hzGRgwYhHUCtk7EsorXSMxWrhP7t+oNRYxkcPTMJJbY+/o4bmXs4svpDAloTt9AnvSTO/qPLjl5/5EYVcwdCG45DLFTwZGMb+wjxiSvLpUGcMGqUtQEiSRHz+nyjlDoS6VV6RaydTsMSvP0okJhX7YlU04tAh6NnTViBg505oULHuCLM1n9yyH8nSfgmAr+NruGmGVFo4VaA7w/HML5CQaO73Gm4a2wnO5e5kb8oC/J0a0bPu86gUGrJKU5l96lsWufoQrHRivr9tIdeS2OVsvriN3mE9GBHxUHngSi7K5PXN07BTqvm678ucKNORrC9jQlDF/uIcbRGPL5+G0WLm14deIti1ove6ISmHboEeOKiu3Vs8kKjFw0FBPe+azdFKkkRMooGo0NplmohLshIaKEepFEPHQu1dc7XA9OnTGTNmDL17974d7RHuM/VD5Jy9WLvM7U1D7fh9eyk5RRa8Xav/8v5q/0qOZyYwY8BEonwDaRlUyI644krH/B69gROZ53m785OVshl1D3Rm2skiekbUL68tC7AvZSOpJQkMbzweV42tdzbMy4l3zlnYbmzBO67Nyo/N18dQaDhHPY9RqBRVe2chKhfme4bzUM4Z+hy8SPyg1nh7y9i2rWILj0XSUqzfQIlxOxISLnb9cbXrh1ymqXSu9JJdxOUvxEHlRxOfF9AobTVuT2Wt5UTWauq4RPFAyDMo5CrSSxKZG/098939KVWo2eg/EGeZimVnVrIubiMPhHbl0SYPlwfZ1OIsXt04FQn4us/L+Dp68vnprXir7XjQx9ZLz9eVMmb5NHLLSvh92Ms08KzYB3w2v5QzBVomNgniWiRJYkdcMR3q1mzRFEBcuokSnUSzurVLUnwm3kL9UDFsLNwc1+zRZmVl0aZNGx5++GE2bNhQq60YgvBPzRsrOR5rqdV91aWJLdDsitZV+/ie5DP8cGwzY5p2Y0B9277RQZHuHErSkl5k6wmfy0vil5Nr6Fm3LX3CK3IKS5KE2rIXCTlKTW+Ucttv0xxtBjuT1hLh3YomPm3Kj43PXc4A50y2FCnYX5BT/udJhWuwU3ji79TlitcxxKUHc93VxPhnonn6KIu3lhEYlE+pcS85ZT+QVvwuxcbNOKhaEej8Ee6aoZWCrCRZicv/iwv5v+OuiaC53xtolB5YJSsH0v7gRNZqwt07lK8uTio8z5cx3zPXI4AslYal/gNobefDktjlrLmwnm4hXXi8acX+4rTiHF7e+A0mq5mv+7xMsKsfq7JT2Z6fxQf1orBTKCjSa3l8+TSSCnP4YfBzNPerPGc773QKKrmMxxpUTsJRndMZOuJzDQxu4n7NYy/bfsp2D3RtUvPFU/9UppOIjbPQKlIEWuHmuGag/eSTT7hw4QJPP/00P//8M/Xr1+edd94hPj7+Wk8VhGtq1URBUYnExVoMH7eur8HBTsaOagJtZmkBL234kfoe/rzTeUT5nw9t6gbAquhCykx6/rPzB9ztXXixXeWcwruS9pBVfJLmnnIWxhVgsUpYJSurzv+CWmFH/3oVx6cUnyS9JJZ367XA386eF88cxSpJ5OtPU2JMJNi1H3LZlQeRduxQ8EDBRBZ6OqB9bg/9rXP5Mfcz8nS/oDefw0HVFH+nd/FyeLJK0XejpYRT2d+RVrKVQOceNPGZjFJuj8VqYmfSXM7n7aKJTz86BT2BXKbgfG40z8X/wgyvYIxqJ9YEDGaQQyiLTi9mXdxGuod2ZWyzx8oXfKWX5PDKpq8xWkx81eclwtwDMVotvHb2OI0dXXgmqD4lBh1PrPiOuPwM5gyaRIegytuTDBYLC86mMTTMF58a7J9dEV2ATAYPRrld89jLtp3UEeCpoH7gja84PnnWjMUCraNql/BCEC6r0Z0kk8nw8/PDz88PpVJJQUEBI0aMoHfv3nzxxRe3uo3CPaxlpO0WPHraTPgNrvBUKWV0jtSw41TlQGuyWHh+3Tz0ZiOzBk7CXlUxnBjhZ089bztWnMon17qajNIcpvZ9FWc7x/JjcstyWRSzmEZeDenbOIpHN55kU3IuHspoUosvMrTRk+X1WM1WI4fS/sJNE0Ar3x78z5LEE6f282vaRaIUa7BTeODn1PGK17BhAwwdCr17y1m16ml8lUuZnJ/JpOJghjoEMMO7L16q6hcEFRsSiM2Zg9FSQgPPsfg72bbf6M2lbE+cRbY2jjYBI4nw7gXA9qz9TMjZQbyrL300gSzw64uPwp7fohexLWEHvcJ68NjfhoszS3N5ZeNUdCYD3/R9hXoetmHfmUkXiCsrYW2rBzBaTDy16ntO5yQzc+AkulWzbWrxhUzy9CYmRl572Bhg+ckC2oc44edS89SLO6J19GpuX6uFUEeibVMZrZuIQCvcHNfs0X777be0atWKN954g06dOhEdHc2sWbM4evQoS5cuvR1tFO5hTeorUKng8KnazdM+EGVPTJKRrIKKxBVf71/B0Yx4/tdrLOEelfd3ymQyhka5s/V8ERsunOCJZoNp6luR3F6SJH4+8RsAT7cYy7BwP3zs1Uw7EcfWhBXU82hCU5+Kmq6xOVvQmvJoGzgKuUzBmIC6tHX15M1zR0kpSyHYtf8Ve7OrV8ODD0JEBPz8M8hkcrq4jORYyGQ+8+zAel0WjVN+58O8g8QZCyu1Ma1kOycyv0SGnBZ+b5YH2SJ9JusvfE5uWSJdg8fT2Ksnh/VZjElcxICig6TYOfKtR0c2BD6Ej8KeBSd/Z1vCDvrX61MpyKaX5PDShm8oM+n4qs/L5UE2TV/GR3HR9PHy5wE3LyasmsGxjHim9n2a3mHN/nmJSJLEtJOJNHBzpEeQ5zU/z4Q8A8dSyxjatObDxqeTjGQVWOje1KHGz6nOoVNmfL1kBIg9tMJNcs2fbPn5+SxbtoyQfyRVlcvlrFmz5pY1TLg/2NnJaNtUyY5DtasAP7CtI+8syGfFfi3PDHDlWEY8c49uZlSTzgxq0Lra5wxpquGrbTIkfQdGR/Wv9Ni+lAOczjnDmKhReDnYhmlfbBbKuwfOE6R2ZXKbirlLo0XH6ZzN1HFpir+TbbhULpMxp0lb2u1bz2fpjdgd2qbaNixbBo88Ai1a2HIXu/8trqhkCt5yb80wx3DezNvHRwWH+KjgEI1U7gxwqEMz81n8DCfwd2hCI88nUV2qHpRecobtSXMpkakJDHqCeVYTfyb9wkVzMQrJSgtJwfygh4my98VstfDDsZ84mHaYwQ0G8FCjIeXXlVKUxSubvrk0XPwyDTxthd71Fgsjju/GJFn5sn4zJqyewf7U83zVZ9wV3+slcZkczS5mfs8o5DXobc7ek41CDo+2uvYWoPLX2FOKTAb9W994oJUkia37TXRrq6pVr1gQ/u6agfajjz4CIDs7G/3lFDVAcHAwjRtXLYElCNerV0clH3+vp6DIirvrje1bjApV07COir92l/JEH3te27SAAGcP3u0y8orP2ZayAjcnf9JyGiGj4ku1SF/MwpjF1PcIp3vdbuV//nC4jP8d0bE3rz2udhW9sjO52zBaymjuO7jS+Zu7ePBqYCGfpXrwn/jzfNygck/PaoVp06BNG1i/HlxdqVYDtTvL/Qdy0VTEGm0iy0pi+K7oFGZkQCROJUp8ypbgrbBHbtGSYMwjz64uJpkM8g6iQEYzScGDhamMdIlgVP0xKOQKDGYjMw7PITo7hhERDzGwfkWtvcTCdF7dNBWrJPFNn1cI97CtKJYkiaei93OgMJc/mnbgi22/lAfZYY2rL0xvtFh5e/95ojydGduoam3af9IZrfywP5uhUe4Eudd8W8+fu0vp2kRTq9SLsXEWMrIl+nS+8TleQfina36rrV69mvr161O3bl26detGaGgo/fv3v9bTBKHGenVUIUmw/cCNV/KRyWSM7OzEjmgdH25eQ0JhFp/3ehwntaba4/ckn2BH4lEea2NPUr6ZjWeLyh/7PXoRBouBJ5uPLV8MJElWdiT+Rf/ARM4WylkclwnYerOxOVuo49IUT4fgSq9hlUz0dY5lhLec/8THMD+lYgGh1QpyOaxaZevJXinI/l2IQkN/aywfWXexyb6AXz3b8F+PDox3iaSdxgerKY9sQzb15XY879aUGd7dWOHbl+91EkPST/CidyceazAWhVyB1qjlq/3TiMk+zbhmYyoF2fj8VF7e+A2SBFP7VgRZgE/iY1iYkcTH9aJYe3AV+1LO8WWfJ64YZAHmxCQTX1TG5x0bopBfu5e46Fge+WUWnu/qe81jL4tONHI2xcQjXZ2vffBVbNpjuwd7dxLzs8LNc8276b333uPAgQP06tWL48ePs337dn777bfb0TbhPtGumRInR9iyz8Swvje+//HhLk58sqiAeVuymDyoG52Cqx9xKdKXMu3AH4S51+HLft1YeiSG73dl0T/CjROZJzmcfpSHGg3B37liXvdE5n7SShJ4s804zpZaeGvfOYbU9eF83vZLvdlBVV6nxJAEMjPfNWpEsVTAxNMH8bXTkLk6kEWLYOVKcHOr2bXl62KJy1+EzpxFoHNP6roNRSG3vVelxnx2Js0htyyRJt59aOH/EHKZnBJDIQtjZpBdmsKgBmNo5W/bWlSgK+SbA9+RWZrF5DYTywsjAJzNTeSNzd/aklFc2sJz2R/pCbx/4RSj/UM4F7ONfSln+bL3E/x/e/cdXvP9/nH8ec7JOdk7QSQSxN57773VpqpVVVptqe6FtroX+qPVoqWlZu1atfdOKLHJkCWRnZyTsz6/P84XTQlB4gT347pckpPPOeedI84r73n3q9o033an5Zr4+OB52gX50iXk5uIN/6UoCtN3JlI9wJnWFQoemot3ZqFRQ7/mrne++DY27TZRpbya4NKytUcUnjv2aLVaLb6+vlitVqxWK23btuXw4cMPom3iMaHVqmjfVMuarSas1vuo5FPKhLNHCqaE+rzXol++1/14eBlphkzeaf4MLjotL7UswbqIdPZHprPwxFJKuwfQ7V9n+pqtJrZHrSHIvRx1SzVhSsuqXMrQ887eM5xL2U2AW1V8XW4uDGtWbKugnR3cWFqnJbXdven1cRwjR4KDAxRkCjDLeJnjidP458o0FCzUKvkaFXwGXg/ZuMxTrD37CemGBNqEjKZ+6X6oVWriMqOYdfRzruoTGVxjzPWQTchK5NNdX5Gcncz4Ji/nCdmw+DO8tvE73HQufN/lzTwhOz/2EsOO7aOllx+mCwfZG/2/kK2Wf8gCjNt5itRcM9+0qFygOc/1EekcvZzDuNYlCzxHarYozNucQce6LpTwuveeaGaWwrb9Jrq2lmFjUbju+FPp5eVFVlYWrVq1YujQoZQoUeJ6JR8hCsuALjpWbc5mf7iZZvXu7Y3uo51LcA0ykhzRgfDzVpreokN7JO4UGy/sY2jNrlT83+Keca1LMW1HIi8tO0mtikm81uSV6wdTgK1oQEZuKr0qPY1KpaJdGV9erhXCtGNRONZUMapW45ufCHDT2h4/yxhNkEdFBhzoyNEZDtD4Mt2/N+DsXOGW9wPINacSmbaGhOy9OKidCfUeQGn31qhVttfGqlj558p6jiWswdMpgDZlX8DzfxWCIpKOsOL0r7hq3RlR5y1KutmGfs9ePcf3B35ErVLzVvPXKOdd9vrz7Y05xofbfybQowRfdxyHn4sXABbFyofn/uGTCydo7e2Pd8xxDsefZ0rnEfSucotaff+y8kIiv52OZULDUOr633ls3GpVeHdNDKF+jgxvfOfe7zVrD2QTe9XCjDF3rgZ0Oxt3mcg1whMd7u9UKSH+64492lWrVuHs7MyUKVPo0qULoaGhrFmz5kG0TTxGerbT4aiDJesKVoXnvzZdCGfl6QO83jMQDxc109ek33SNwWzku33zCfIowdO1u1+/3cNZw/i2vhyNdsBJaULNkjf2gFqsZnZHbyDIvRzlvW8k95fNKhPiZmHWmfq4O9661J6jgyc6jQdZxmhmzIB3X3fgib5WOk85zyvnDzDi+D5yLHnnpXNMiZy9+jsHYj8gMfsAQR4daFT6E4I8OlwP2SxjChsvfEt4wmrKejWkW4V38HQsiaIo7Ixax9KInynlVoaR9d69HrIHYg/x9d6puOvc+KDV23lCdvPFg0zYNpNQ7yCmdn79esimGHPpcXg7n1w4wVMBIXhEHeVEwgW+7/r8HUM2OlPPc1v/oZ6/Bx80zP8Xin9bdPQqx+P0TO4ehFZT8EVxP65LJ8jPge6N7q8DsHqrEV9vFc3qyfysKFx3/In6d+/1mWeeKdLGiMeXh7uKrq21LNtgZMr7Lne1tSJFn8V7W+ZTzb8Mr7XoStypVH5al86UUeY8Q4lzw9cQl5XMlM6vo9Pk7TWX8tuHq2MJ9p6pg6Io158/PGEv6bkp9Kg0NE+bnBxgVJXDTDzSiOe3nWVF93q33Lbipgsh0xhNmzYwZgxMm6ZGpWnFR//rJR5Kv8riOi0oo8sgJmMDSTlHUaEhwK05QR6dcNbm7dldSj3EvssLAIUWZZ6lvHdjVCoVuWYDq8/MIyL5KLVKNKZn5WE4qLUoisK68xtZFrGCij4VGNv4Rdx0Nw6+WBaxhRmHllCnVCU+bfcSLlrb4rFjGan0PbqTGEMO31WqzdaDqziTHMuMbqPpFFrntv8eJouVQRvCMVmsLO5SB10BQtNotjLhr1hqB7owqG7Bt/RciDex6aiej57ywUFz79txzGaFv7ab6NFWK4UERKHL93+Au7s7Hh4euLu7X//42uce/y2KKUQh6NNRR2yiwv7wu1t9/PmuZWTk5vB1x2fQaRx4sZsnRjPMWHujVxudnsDSiM10r9iCOqUq5bl/fGYCe2K282TjHI7Hmpiz78YZxXsv/01p97KEelfPc5+k7IsEusTzfgMPVl+6wlt7ztx0XrOiwNFdjcg2xmHw+ZSxH/9Oon4bWbkXeT3Ejd+reRJrSKXunjW8eWIeidkRlPHoRJOgz6jo+2SekDVa9OyOnsvO6Nl4OZWiZ6UPCPVpgkqlIjkngdlhn3MqOYyO5fvxRJVncVBrMVstzDu2gGURK2gc2JA3m716PWQVReHnI8uZcWgJLYPr8mWHsbhonUg3GfngbDiN9m7AYLWwsnZTNuz7k7NX45jZ48U7hqyiKDy/9QT7E9KY074mFbwK1sv8blsCF6/m8nnPINQFWJl8zdSVaWjU8Fyn+3tP2rrPTEqaQu/2MmwsCl++PdrMzMwH2Q4h6NNRx4vO2cxbbqRp3YLN0x6OO8+yU/t4oX5nqvnbTi2qGqyjTzNXpq5M59XeXni7a/j5yHKcHHSMrPfETY+x6sxadBodX3Rqxbm4WF5fGUOXql6YVZdI0V/hiSrP3tTDTs9NBOD1OpVJyU3i27BL+DppebdBKGAL2bffhq+/bsSPv0PTjntIzgkjIWv39ccIAn6vGMDU+FB+ulKe9RnVeT+0JsM98x61GJ1+jAOxf6A3pVOrZHdql+yO+n8l8U4lh7Hy9Fwc1FqG1RpPOW/bgRmZuVn8cPgnTiefpVvFLvSr2vv6ViWz1cLXe39j04X99KrUirGNh2BUrHxzMYLPL54kxWRkSEAIbwWV49W1P5KUk8Hc3mNvOrv4Vt7bd5Z5p2P5qHEFBlQMKMC/oK24+4frY+lX25uu1bwKdB+AmCQTP69P59mOHgT63d9w75xlufh4qejeRhZCicKX70+nwWBg5syZnD9/nlq1ajFixAgcHGTuQhQddzcV/bvoWPSXbfjY2en2PRu9ycibf88j0N2Xlxt1y/O1D4f6sGJvDFNXpdGnw1X2xBzjubq98XLKu2XkckYsB2MP061iZ7ycPZjzpI6aX5xg1OJLPNdqN04OLlTzq8d/ZeZeQa3S4Obow7RWfqQYjLy37yw+TlpGVQ9m/HiYNg1efBFGPdkItdpWSN1oSSPTGA0oeDiWQ6fxpFuIwsbkeD48d5zRJw/y6YUTvB9ag0El/QiLX0JU+lG8nQJpU/YF/F1s1XAsVgvbIlexJ2Yjge5lGVj9BTwcva9/T98f+IFUQxrP13uWZmVu7HHVm3L5aMfPHIg9wbN1etG7WkdmXT7PpxdOctmQQ2e/AD6rVAdPq5Fhy6eSbcplfp9XqRtQ/o7/ft8fi+SLIxd5oUYZJhRwXtZiVRjxx0VcdWpmDChboPtc8+miVBTgg8EFP6bxVq6mWln5t5EXhjji6CjDxqLw5ZuczzzzDFqtlpYtW7Ju3TpOnjzJtGnTHmTbxGNoeF9HflthZNVmI4N73P5UoG/3rSQy7QoL+o7H9T8HU9Qq50i/5q5MXZnGOd2flHT1pX+1Djc9xqoza3F0cKRLBVu95fJ+TnzRM4ixf0bj5JLOyKaN0GpuHk7MNCbhpvO73rOc26EWablmXthykj8/9+XvP1x59VX47rsb23hUKhWODt44OuQNBpVKRRf/0nT2C8gTuG+cMtHQOYunSnejW/nu11dCp+iTWH5qNrGZkdQPaEWXCgNxUNt6Ykfjw5l15BecHJx4t8UblPe+Uabuak46722dzrmUGNrV7scmXHlh63L0VguNPX35rVZT2vqWIiIphkErbP/XF/V7nar+QdzJTyeiGbfzFH1DSzK9dfUCz7FP257A/shs5g8rT0mPgvcmIxNNzNmUwagunoSUvL9e6ILVRowmGNH//orFC5EflZJPIdCaNWvyzz//AGA2m2nUqBFHjx59oI0Tjx+rVaF8u3QqhKjZPC//ebewhEv0W/wlQ2u1YnLbJ295zfFLudR+KYbgqvv5Y1xNmgfnPQLxckYsE7Z9TK/K3elTpVeeNtT7Zh+nEy3sGR9C/aDg/z40a85+gpODOx3Lj7t+W47JQrNvIzj2fnW6DM9i3WyPAu2VvcZWJOAkh2KXsTfDwEFjBQ7luKK3WglwdKZXiUAC1ZkkJG0lQGOgb+WhVPO31de1KlbWnl3PytNrCPEKZmyjF/F2tgW6wWJhXexZPjm6lkR0mFxLkWQ24+mgZXBACM8ElqeJlx8qlYr9l88yas0M3HXO/N53POW9b386k6IofH74Iu/vP0uPsv4s7VoXJ4eCHfYQFpNN0ykRdKriyarnK97VArjh3yWyaEcWF+aE3NewsaIo1OqRgaMODq8owPFcQtyDfH9CtdobvyXKkLF4UNRqFS8MceTdb/SEnTRTt/rNP3uKojB5x2L8XT14u3nffB+rQpBCmfJnuHymEf7qsjd9ffPFbeg0WjqWb39TG4Y2PcaklbV4bkEGu1+14OaYNzzcdH4k50TmWaHsotWw67WqdHGOYIMqhrE7Q/iuRZUCbVVJ1cdyOG4ZcVkRuOtK8HKVQQR71CHbYmbNlViWxEfy2+Vz6BXb+cZq4I9TcQRHpuOqVhObdokM/RWCvZqi9qnEyFP/kGzMJclo4FxOJmZFAcfS+Gu1tPQpxcCAYHqXKIOT5sb3telCOK+sn0Wwpz/znhhLaffbr/7NtVgYtfUkv52O5clKAfzaoVaBVhgDJGaY6D37HP5uWmYPKXdXIbvvlJ55mzN5q7/Xfc/Nbthp4sRZC798LmcDiKKT70/psWPHrq8uVhQFvV6Ph4fH9TeWjIyMB9ZI8Xh58UlHPp9p4MtZBhZNvbkG69qzhwlLuMRXHZ7O9yxjsG1dKVNzM6nxlXn5xyQ2flL6+ht6tjGbfZcP0DiwEW66vG+yZqsJIyd5r2sgk9ZoeWb+RZY+WyHPatgg95pEp4eRariMu0MZnnsO+vWD3r0d2PlKdd7e68C3YZc4mZLJ0i518XW+9WrWqznRnLiygaj0o2g1zjQsPZDKvq3R/G+Y2M1BSzMXE0nmzdRySiK0VCecPerzT1Y6xzLTiM5JJyYrGb0CaMtwXq/C50ocfjpHfLWOeGMmMDuaUJ2Wb5sPprZ36VuG2tKTe3hny+/UKlmWX3q9jLfzrWvfXpOkz6XvX2Hsjk/lo8YVmNCwQoHD0mi20u+XcyRnmdn9alVKuBd86NdsURgzI4lAXw0ThhR8G1B+Pp9pIKiUmqG9ZLWxKDr5Bq3Fcn/1QYW4V57ual4Y4sg3cwx8Ot6SpyC8wWzkiz3LqeZfhr63OWM3IzebJSc30a5iFQYH+DF2ZjJLd2Ux8H+Hzu+O3ovRYqR9uTY33fdyxiXMVhOD6gTjpinF+BXRfLg+lo+735irDPKwHVJxKfkEn71ahuXLofb/RqY1ahXftKhCLV93nt/6Dw2X7GVp17rUL2EbmlQUhcTsc5y4soHYzJNo1U5UL9GZGv6dcHS4Efomi5Etl1ZyIHYr3k6+PFvndcp62bYmDQCOxIUx++iftNToGNNoFFX8bmxbslgtzDzyJ8subWFAQFUmtRmNm875pu9VURR+OrKJL/csp2VwNX7sPvqm+e7/2hiVxLNb/iHVYGJR5zoMqlSw1cXXnm/Mkij2XMxi8fBQ6pW5u57kD2vTCb9oZOl7pXBzvrdKT9fsOWJi12EzU993QaeTRVCi6MiYsCiWXh3uxNS5Br6ebWDm5Btvxr+EbSEuM4VvOw1Ho87/jXbRiY3kmHIZUbcXwR6ezN2cybifkulUzwUPVxVbLm2nok8oIV43z79Gpp1BhYqyXpUY18aZE/F6Jm+Mo0pJJ55sYNvb6qz1xENTnjHPhHJwm63c3bhxeR/n6aqBVPZ2pd+6ozReso/X6pSkf/k4EjKPkmq4jJODO3VL9aaKXxt0mrw1VKPTz7PqzDxS9FdoWLoNHcr3RaexLdYxWUwsOrmMrZe2U86rLC81Go2v843eXWZuNh/vmMXh+FP0rdqOMQ36o1HfPG9qsVr5aMdifj++nZ6VGvJNp+HoNPm/JWQZzby37yz/dzyKaj5urOvZgDr+d7d/9fsdiczZn8T7nUozsN6dC8D/W9xVMxN+T6FTPef7Lh4A8PVsAz5eKkYOlEVQomhJ0IpiKaCEmhH9HZmzLJe3nneifLCGK9np/HBoPR3L16ZJUP57OrONelad2UGbsvUp522rf/rTy/40ee0yL0xPYtJzGSTlJNOnau9b3v9qTiJeTn44OdjC74eBIZxPNvDM/Et4OGnoUcMboxG+G/s8B7f58NyEP6nXJ4OLqdUo7V4NJwd3jBY9WcZkSjklsbCjnkkHU/k6TOG30zm8Ut2HfhVbUsGnGQ7qvEOWelM2f19cTljCbrycfHm61mvX98YCXMlO4odDPxOVHk2n0Pb0r9oH7b9Oubqckch7W2YQn5XMG82G0b1ii1t+jwazkXEb5rDpQjgj63Xk3RZ9r++zvZX1kUm8uP0kUZl6xtYO4YtmlXEu4KKna2btvcL4FdE8Ucubj7vduS7tv1mtCsO/S8RkUZj+ov99F2UPO2lm1WYTE15ywtVFerOiaEnQimJrwkvOzF2ey0fT9cz7yo0v9yzHZLXctpg7wPrze8kxGRjwr+08DSo5MXmYD+/NS8HNPwptCS11S9W65f1NViOODjeGT3UOalY9X5H200/Tb855Fj9bgd41vWlQ25uefSNp0jON2IyTXEzdD6hw1LiQa8nO85hv1CrHkEol+PKoHx8cdiM8zZNJjXKp4WsLWkVROJ64n00Xl6E35dA0qCNtyvZAp7nRjsNxR/klbB4qlZqxjcZQNyDvKupDsRFM3jkLtUrNd51eo2bJW+9lTdVn8fyaHzgaf5GJrQfxbJ12+b6Wu+NSmLD/HNtjU6ji7cqufo1pUfru50b/b0cCY/+MpktVT/54OvSuTn8C+G5FGn+H6fnpFX8qBt7/fOoHU/R4e6p4bcTth8mFKAwStKLYKl1SzUtPOfHdLwZ69Ylk+an9jGnQhRAv/3zvY7ZaWH5qK9X9y1PVv1yer73V35vN4TnMWxXEW6Mb4eRw6zdZk8WI9j89TU9nBzaNqULnqefo9100816yMGWKH1AWeA6rYiVFH01s5klyTGm46Xxx1/nb/jj6o9PY5keHVbXw5ZGLfBN2iWXnE+hTviSjq7sSn7aWqPSzBHmUp0etodeLAQDoTQYWn1zGjqhdlPMqy5iGz+PncuN4Rqti5ffj65gXvpayXgF80m4Mpd1v/Rpdzkhm+Mr/IyYjmendnqdbxfq3vO5gQhoTD5xjY3QyJV10TGtVldE1yuCoufs6rV9tjuft1TE8UcubRc+E4qi9u7nVI+cMvDfvKn2bufJ8l/s//nX3YRPrdpj44g1nvDzub55XiILIdx+tEMVBcoqVcu3ScA+5SHDPpWx5+qPbLtbZcH4fX+6Zyydtx9y0bxZg9/nzdHgrh2A/HcenV8JJd/Mb7S9hX6FV6xhW+9U8t6enQ6fOCsfOmskdEs4Pg4N5seXt95nm56reyJdHTjHjn8vkmNVU8UhiVPUgXqrTCt2/ttOdST7LnLB5JOdcpUuFjvSt2jtPCb90Qxaf7f6Fg7En6Vi+CeObPImz9tZzjofjzjN67Y+YrVZ+7vkijQPznvmsN1tYcSGRWSdj2B6bgq+Tlnfql2dMzRBctHcfsIqiMHlDHJPWxzK4ng+/DSt/V1V5ADJyrNQfG4PBqHBsRhl83O+vILuiKLQZmsnZSAsXtnjh4izDxqLoSY9WFGt+Pmp69Eph0cLyvPT0k7cNWUVRWHRiI6HeQTQrc+th4XjjP7Rue55N6/vwwvQkfh1f4qb5PgWFXIs+z22pqdC5M4SHq/htvoY/0jwZszSKy+lGJne7u4PwDWY9R+PX4WHdymtVtcQZ27MmqjSv7cvl07DtDKwYwKCKJUlM28WG8xvxd/Xj3RZvUNE371DwhZTLfLDtB67mpDO+yVB6VmqZ79zlqtMHeWvzPEq7+zCn18vXD6IwWazsT0hjwdk4Fp2NJ91oppyHM180q8SYmiG46+7tLcJgsjLuzyh+3pvEM438mPNkOTR3OVxstig8+WUClxJMbPsi8L5DFmDVZhM7D5mZPslFQlY8MBK0olizKlaSyi7ByfNJFswK4Y0eSr7n0UYkXSQqPZ43mg7LN3Ci0qJpUjOXZj4+fLgghQoBWj74z37MKn512HxxOVeyYynhGkhyMnTsCBERsHw59Oihpp+lAi8vjeKzTfGEX85h7tDy+N9hP2i2MYP9sVs5FLudXIue2iWb0q5cbzwcvTFZrGyITuKPM/H8GhHDj/9E46SGGj6deTK4JgalJFZFQa1SoSgKa8/tYvrBJXjoXJna5Q2q/WeY/BpFUZh+aB3f7VtNo8CK/NDtBeL1CtPCI9kck8yO2BQyTRacHdT0Dy3FM1UDaRvke8uSfwV16WouA345x5GYHN7pEMCnPe7uF5Fr7R43M5m/DuXw40v+tKxx89aku5WZpfDKxznUqqJh1CBZaSweHAlaUaxtufQPFzKjeG1cJp997MFXswxMePnWb7p/nduDk4Mjbcs1uOXXFUUhOj2G2qVqMqK1NxfiTUz4PYVypbQMbXuj2EDdUs3Zdmk1h+N20q3iEN5/H06fhtWrbb1aAK1GzcxBZakd6MJrK6Kp89UJFjwdSpuKN88hphmS2RvzN2EJezBbzVTzq0uL4K4EuN/YWqTVqOkc7I1BvxetYQuJxrJoHOtzIgVe230OOIeXowMVPJ3JzU0gQx9DNZ96DKrTnhSTO0evpOPioEGrUZFptJBuNJGck8uc8J3si4ujhGdnThn9CZq7B4PFCkAFTxeGVi5NhzJ+dAz2xUN3/5Vr1vyTytPzL6IAq56vSK+a93bg/5QVafzwVzpv9vPihe6FczTipO9ziE20svR7D7Ra6c2KB0eCVhRbiqIw4+A6gjx8+WhoNc4f1vPpj3oGdddRqVzeYcQck4FtkYdpV67B9eLl/5Wem0GmMZNgjzKoVCpmjytBTLKZEVMSKePnQKuatgB30bpRvUQDjiXup0P5PnzzjRPPPgtNmuR9PJVKxZiWJWlWzo3Bcy/QbvppJnQuzYTOgSiYOHP1GOEJe7mYegqVSk3tkk1oXqYzvi43z+ueTj7Dr+HzuZJ9hTYhzRlYvd/1E6siM3LYGZvKushotkdHkm7SkatUISoB1m+IuMOr6IlK7YG3yoUKbs50Cvanuo8bbYN8KOvhcof7FpzRbGXiuli+3BxPvSAXlo6oQHm/e1vR++fuLN6Yc5X+LVz54tm722ubn7CTZqbNy2X0YEea1JW3PfFgyU+cKLZ2R5/iWGIkk9s+iYNaw9T3Xdi4y8SoD7LZ+rt7nuHI7ZFHMJhz8903ChCTHgNAsKdtRa9Oq2L5+6Vo9sZlnpgcz44vA6lZzjakGGhty0efVKHEh7/SrnI7GjeuCNx6IU+dIFcOv1mdl5Ze4uMNcSwJv0inWlvxcY/H09GHFsFdaVC61fUydv+Wbshg8cll7Lt8AH8XP95s9irV/KvmuSbY3Qmd5QTJSStp4+vNhFbPUcG3LJEZepL1JnLMlut/jBYrSdlXmXX4L8yWHN5v0Ysh1evf9Z7Xu7HnYiYvLI7kRLyeUc38mdYvBKe7XFl8zbZjOTz1TSKNKzvy2+sl73rI+VZMJoXRE7Px81bx+Rv3PwQtxN2SoBXF1v8d/IsAN28GVGsG2A6x+PZdF0a+l820ebmMf/ZGj2lPdDil3Hyp6nfruUqAXIsRABftjZ6ct7uGdR+VpsWbl+nwfhx/f1oaD5Ujg3uEkJgUyPHTu7mc+x3eTv7ULdWMSr61UbBishgxWY0YLbnEZkYSnXaOisGR9FWC2XCsKdP/7spTDXVM7VMdb9eb931aFSvbI3eyLGIlJquJHpW60qNiNxwd8l6bos/gi92/cigugpbBdXmz2TDcHW093creblT+T3avOn2Qz/bPo5SbF7N6vkQl39J396LfheQsE2+vjuGX/ckEe+tYM6oiPWrce23YDYez6fNJAqEBWlZPKo2zY+FsvZk8Q8+h4xaWfO8m23mEXUjQimLpYOw5DsWdZ2LrQTg63Jg7HNFfx+otRt79JoeOzR2oUckBo8XE0YTTdAltdtsTg65tizFbzXluL1dKy9bPA2n/biwtXkrENbwMBr2K7Vu11Kk3jlPJYYTF72Zr5Cq2Rq666XFVqCntHkKjwLYMqFaR6b3L89mmq/yw6wrrI07wRc8yPNPY7/qq24upl5h/fBGX0iKp5leFp2oNIcC91E2PeyTuFJ/u+oVsk57xTZ6kZ6VW+X5/JouFb/at5Ocjm2gcWIkfuo/G5w6FAe6VwWRl1t4rfLQhjnS9hbfaBzCxS2lcHe+917xqXxYDP0+gWrCOvz8NxM+zcHrguw6Z+PRHA8P76hjQVQoHCPuQoBXF0oxD6/B1dmdw9bxDwSqVilmfulKzezpDX8/m4DIPjiWfxWA20jioxm0fM7+gBagcpOO3F4Po1FFFptnKz78ZadjQGdBRq2RjapVszNWcROIyo3BQO6DV6NCqdWg1OvxcSuU5wQng//q781wTf15eFsVzCy/x9dZ4XmjhgspxC2GJR/Fw9GBU/edoEtjwpvDMNRv5NXwNS07+TbBnKb7p9CrlvfM/sjAxK41X1s/iUNx5nqrVmgmtBt72zOJ7pTda+XnvFb7cHE98honWFdyZ3j+EGqXvb6536a4snvwqgXqhjmyYXBrvQtjGA5CWYeWpN7IpF6Tm+wlSBk/YjwStKHaOJ0ayMyqCt5v3wVl7cy+khK+aOZ+50nN0FhOm6inT9gSOGi11S+V//jH8O2hvXZmqjL+WyuUVDFUSeOWPHEqVLUXPxjfeoH1dSt5yIVN+6gS5smtcVeYevMyk9Zd49U8Dbk4VGdIwlIkdmuHrenNAnbhyga/2zCMmI5EelVryUsOBODnk3xPbf/ksr6yfRbbRwNTOz9G7SqMCt6+gUrLN/HogiW+2JpDwv4C1rbB2v+8zh3/dlMHI76/QrKoTf31UGg+XwhnaVRSFMZNsq4z3LPLA3U1WGQv7kaAVxc5vx7bjpnNiaM3W+V7To52OF4Y48vVsAx0tZmo3qHDT/OZ/+Tjb5g/PpZynqv+NUI6JgaAgqFgR/jmmIiWzBF0nxvHE5Hi+HenHuN6e9xQo6YZ0Nlz4mwNJO+lUz4KPQxd2nirLrF16lhw+xeB6Pgxv5E/jsq5YFCu/HVvLgn/WU8LVh286vkr90lXzfWxFUZh7bBuf7lxKiJc/f/QdT8VCnI9VFIWd5zOZtS+JZeEp5JoV2lZ0Z9EzobS+xRamu2W2KLw1J5kpK9PpUMeZlRMDcHUqvPnTGfNzWbjWyCfjnWlcR97mhH3JEYyiWMnM1dN49ls8UaUxn7V/6rbXGnIVWg7JIOxMDu9/GsZHT3S74+NP2f9/XEqN4ptOn6HT6Dh61HYYxauvwoQJN67L0lsZ9k0iK/dlM7ClG7PHlcC9gL2tqzkprDu/kZ1Ru7FYLTQOakifKr0o4Wo7f3j3hUx+2nOFP4+lojdZKe+nwc/7NIr2OH1rVOOVRgNxvUXt2GvSDdm8vfk3Nl4Ip325WkzpPAJ3x/tfTWu1KhyJyWbtyTQWHU3h7BUDns4anmrgy/PNSlA7sHC2A13NsDDoiwS2hOt5pZcn3470Q+tQeD3O7QdMdHgmk26ttaz80a1QVi4LcT8kaEWx8sc/O3l/6wJWDHqHOqXyX0F8zYGzCbQcmIufhyP/rCqBr/ftw/B08lm+3PMtT9ceiuuVVnTuDJ6esHUrlC+f91qrVeHrP9N4b95VKgdq+fP9AKoG37rXrCgKZ6+eY3vULg7FHgZUNA9uSrcKnSnpVuKW90nIzOaNNTtZe8JEepZtMVQZbx2dq3jSuYonbSq64+eW9xCJI3EXGLthNknZ6bzVvA8j6ra/bXm721EUhZhUIweistl4Kp2/ItJIyDChVkGL8u4819Sf/nW8cdEV3tag45dyeWJyPLHJZma+XIJnO91/7/jfIi9baNg3A38fFfuXeuLhLiEr7E+CVhQrTyz6HIPZyPqhEws0XLs98givLdjAiQUv0LKBlg1z3G976o+iKEze+QVnwvxYM3Ek/v4qtm6FkJD8n2NreA6Dv0wkJ9fKnHElGNT6xilSWcZs9sbsY0fkbuKy4nF2cKJ5cDO6hHbE1+XW5eQURWFXdBjTDy4hKSeVHpVa0rlcd/ZeMLHxdDqbz2SQYbDNIwd56agT6EKdIGcS9WdZf3EbQd5afuzxNHUC7vyLyLXnS8w0celqLpEpRs4k6jkUnc3hmGyuZNoWhnk6a+hS1ZMe1b3oUtXzpoC/X4qiMGdjBuN+SsbTVc3yDwJoUqVwS9Rl5yg0H5RBZKyVg3963HSoiRD2IkErio0LqQl0+G0SH7QcwHP1Otz5DsCv4av5/dg6hrp+x8h3DYzor2P2Z663Deltp8Po0rASnj5Glq1NpWWNcncM9dhkMwM+T2DfKQP9WjgyrFcUF7PCiEg6jdlqJtS7HK1DWtIosAGODvmfo5uQdZUZB5ewOyacUO8gXms6lGr+ebvSJouVA5HZ7I/MIuxyDkdiMjl7JReFG2100qoI8tLh6+KAk1aNk4MaJ60KB7WKHJOVrFwrmQYLmbkW4tJN6E3W6/dVqaBaKWcaBrte/1MnyOWuK+sUVNxVM6O+v8Jfh3JoV9uZ+W+WJMCncOdNzWaFfi9nsWariXWz3ejSSrbyiOJDVgmIYmPzxWMAdKlQr8D3MVnMOKg1PNffhajLMHmGgRK+aj5/I//5xDaV6/Dud4eJcl7LrxcT2HK1DB3Lt6NxYEO0mrw9ObPVQkJWAjGGWF555jLOfzmwYk9l/jrsTsd2Tgxu3ZoWwU0J9ixzx3Yuifib34/9hUqlYlT9vgys1gGN+uZel1ajpkWoOy1C3TkUe56xGxYS6qFneI0BVPOtzuU0IzFpRqJTjaTlWDCYraTqzRgyrJgsCq6OGtx0asp463DVqQnw0FLez4lyvo6U83GkrK+uUIeD86MoCgu2ZfHKzCRyTQpTRvkxtpdnoc+ZKorCCxNzWL3FxP9NdJGQFcWOBK0oNjaeD6OafxkCPW495HorVkW53hv9aJwzSSkKX/xkwNdLxRsj8y4QWrcOMjNh0CAVHz7fkFxzbfZd3s/fF7cyJ2we844twFGjQ6N2QKt2QK1Sk6JPxaLYhnE1Kg2tmgXRu4kzc/4sz5p1bdGmudL6hfwL0QMciT/FtP0LiclIpGVwHV5qOIiSbrf/Hq2KlZ+P/M03e1dSxsOPVUNeppr/7cO8ODkVbeT12cmsP5xD06pOzB1fgkpBhR+AiqIw/tMc5izNZcJLTrw8rHCHo4UoDBK0oliITLtCWMIl3mnR9y7vqVwv6aZSqZg+yYXUDIU3v9Tj5Ki6/sa7ahUMGAB160L//qDRgKODjjZlW9E6pCURSac5kXQSs8WMyWrGYjVjViw0dPImyDOIMh6BlHIreX0v7phWCt8tT2Pi/BTWH4nitSe8eGuAd559oGeuRvFL2CoOxp6ktLs/X7R/5Y6HagDEZ6by7pbf2RF1km4V6/NF+2GFsqr4QUhOt/DhghRmrkvH1UnNd8/berEaTdEsSvpgip5p83J5dbgjH417OF4j8fiRoBXFwuozB1GholeluztwwfqfJQYajYrfv3Yl12irPapWQwlHJ4YMgXr1YONGW8j+m0qlonqJqlQvkf++1f9y0Kh4a4A3A1q68f68q3y6OJWfN2Qw8UlverU0M/fYCrZFHsbD0ZXR9fvSt2o7dJo7LzBafeYgH2z9A7PVwsdthvBUrdb3fSjEg5BjsPLDX+l8ujiVzBwro7t68uFTPvgX0lGK/6UoCpOnG/jsRwPPD3Lku/dcHorXSTyeZDGUKBb6LfkSRVFYPuidu7rfn6e2Mv3gYhb2+4xSbjdKquXmKgwYm8WaVSrUSa40bapi3TrwKNzdJNcdOmtg/KxE9pw04eSaTtkqRxnboxRP1+1w2z2x12QbDXy0YzFLI/ZSPyCUbzs9S4jX7Yeki4P0bAsz1qYzZUUayRlWujZw4ZuRflTLZxtUYVAUhfe/0/P5TANP99Hxy+euRdZjFqIwSI9W2F220cDxxEhG1et01/dtWLoaALuiwhhQ/cZKZUdHFX9Od6N2mIlT6WZa9DTh7u4MFP4bcqo+gyMZf+NWewe1fAJJvdCR00fa8sFZNQk9c3i5p+62PbsjcRd4a/M8LqVe4ZVG3RnbuDsOt1gkVZwkpJj5vzXpTF+TTkaOLWDfH+RN8+pFO3xrsSi8/FEOMxfmMmqQIz9+7CIHUohiT4JW2N3h+AuYrVYaB93+rOJbCfYsRUWfYLZeOpQnaNPTwdNTxfG9Wka+m82Xs42kZCr88KELDoV0ClFcZhIrTm9jzZmdmKxm2pVryLCe3SnjUZI9EQa+/jONj/9I5atlafRt5srT7d3pUMfleu8rM1fPV3tXsOD4TgLcvFjQdzxNy9z9a/CgGE0Kfx3K5pdNGaw/nINVgX7NXXlvkA91Q/Pf0lRYcvQKQ8ZnsXqLibdHOfH5G84yXCweChK0wu72x5xBq9bQoHToPd2/fbmGzDzyJ9HpCQR7lmLGDJg8GfbsgdBQFb9+5UpQgJpPfzQQE29l8VS3ez4xSFEUDsVFsPzUVg7GnkSlUtG+XCOG1epGGc8bBQdaVHemRXVnTkUb+X51Got2ZvHH9iwCfDQMbetOxYoJ/HL2d65kpzO8Tlteb9obV13xWzFrsSjsO21g2e4sFmzLJDnDSoCPhjf7eTGikwcVAx/MVpqkq1Z6vZDJgWMW/m+ii6wuFg8VmaMVdvfU8ilkGg2sGvzuPd0/OSeNYSsm4u/iRcWz7zDxHRd694bFi8HxXx2tWYsNvDgphyrlNaye6Ub54IIPz2Yb9WyPOsLK09s5nxKDr7MnPSu1pFvFFvi73rnYea5JYe2BbH7ZnMqGw3qsVjVOLtn0burGc20DaF3TGd1tTrR6kAxGKztPGFi+J4uV+7NJTLWgc4CejV0Z0cmDTvVccHiAc6IR5yz0GJVJfJKVBd+60bez7JMVDxcJWmF3LX99j/oBoUzt8tw9P8Y/iefpPzaCs0t60eMJI8uX6NDeYpHvlr0mBozNQq2Gpd+70bZJ/iuBLVYrR+JPsenCfnZHh5FrMRHiGcDgGp1oX64R2ruo+aooCuvPH2XS9kUkp1uo79wTY3IlNocb0OcquDuraFbNmaZVnGhW1YnGVZwKrWTcnWTkWNl3Ss+uEwZ2ntBz4IwBoxlcnVR0b+hK32audGvoWuCiCoVpwapcRk/Mxt1Vxaof3WlUWwbhxMNHfmqFXRktZuIyU+hTpcl9Pc6xvytwdkkFSjc7jMuQlVzOepFytyiW3r6ZlgPLPOj9Qibtn85kwktOTHzZ+fq8aao+g8PxpzgUG8HhuAhSDRm461zoUqEZnUKbUtWv7F3PC8ZnpjJx+0I2XzxGjRLBzO09jOolggHQ51rZEq7nr0PZ7D1l4KM/UlAU2zGJlQK1VA7SUSXI9nelQC0BPg6U9NLg5nx3oZeZYyUuxUzcVTNRV8ycjDZyMsr2JzrJdt6xRg31KzjySi8v2tR0pkNdZ5x0Dz5cAfQGhXGf5DBrcS4tGziwcIobgaXs0xYh7pf0aIVdXUpNpN1vE/mm43D6VWt6z4+TkwM//ADdno7inS1TyTTmUMGnDK1D6tEqpB5lPErmCcisbIXnJ6axaLVC1eqZ9H/+IAnWM5xLiQHA09GN+qWr0iqkHk2DahZoD+x/5ZpN/Bq+hRmH1mO2WhjfpBcj6ra/7YrijBwrB04b2HvKwPFLuZyJNXEu1ojRnPc6F0cVJbw0eLqq0Tmo0DmocNSq0KjBYFTIyVXQGxVycq0kZ1jI0uf9b+6oVVGljJbqwTqqh+hoVMmJJlWc7jrAi8LZSxYGjM3i+GkL74x2YvKrzoW2gE0Ie5CgFXa1O/oUw1ZMZWG/12hyl6uOFQWmT4enn7aVurvmak46Wy8dYkfUEU4mXQTA2cERjVqDolhRsB1xaDAbSThel7Pre6PRWujy1D4GdnalYelqVPQNvufycwD7L5/h3S3ziUy7QvtytZjQauA974u1WBQir5g5H2ckIdVCYqqFK+m2vzP1VoxmBaNZIdekYLYoOOvUODuqcHFU4axT4+ehprSvAwE+DpT20RDk50C5UtoHOs9aEIqiMGtxLq9/kYOjznbwSNfWMh8rHn4ydCzs6trveXe7b1RRbMXav/8eLBbbx9f4ungyoHoHBlTvwJXsFPZfPkFUejxg20WrQgUqKOnqS7lOpTE/58yL76pY83N73ON1dH7f5Z5DNs2Qzee7/2TJyT0Ee/rx2xPjaBlS7Z4e6xqNRkVogJbQgMItXVecRMVaGPleNpv3mmnX1IG5X7pSJqB47yUWoqAkaIVdadS2QDNbrXe48garFcaMgZ9+gvHjYdy4/K8t4epDr8qtbv+AAbBvicIXPxv49Ec9G3ebmPKeC0/11hV4PlZvMjLv2FZ+PLyRbKOB0fU7Ma5xT5y10iO7nWu92De+sO3L/eFDF0YPcZRDKMQjRYJW2NW1oLUqBQtaiwWefx5+/RXeeQc++8y2cOh+OTqqmPSKMwO66Bj5fjZPv5nN7ytz+eEjVyqE5N+zMlstLI3Yy7T9a0nMTqNd2Zq82bwPVfxuXogl8jp2ysyrn+aw/YCtFzvnM1fKBkkvVjx6JGiFXTmobG+sJov5DlfaJCXB5s0waZLtT2EfDFStoobdi9yZuTCXt7/OoVrXdF4Z5sQHY5zw9rwxnKwoCpsuhPPV3hVcTE2kXkB5vu86kkaBFQu3QY+gpKtWPpiiZ9aSXHy8VMz82IXnB0kvVjy6ZDGUsKvErDSazHmb91r25/l6HfO9zmwGtdr2JzUVvO98RsR9i79iZcJUPb8sswXCR2OdGT3YkRPJkXy6axmH485TwSeAN5s9QcfyteU4wDsw5Cr8sMDAx9MNZOsVXhrqyKRXnPP8AiPEo0iCVthd+98mEuLpzy+9X7nl141GGDwYSpWCGTMKvxd7J+ERZl77PIdt+814lcjEoeYGgmtf4PUWPRhYvXmxLwBgb3qDws+Lcvlylp74KwqdW2qZ8p4LVSvI6yYeDzJ0LOyuWVAVVpzej8liQfufYrEGg61Q+19/2VYY26PTaPGKouLATZz0MZJ+sCO5WwbgHKHiqqszxgpqHKTe+C1l5yj8tMjAV7MMJCYrtG7kwPxvnGnbxEF6/+KxImM2wu6alqlMtimX44mReW7PyYHevW0hO3MmvHLrDm+RsCpWNl0Ip9+SL+m/9CsOxJ7lzUEhRP9dmr9muRESqGHs5BzKtkljwpQcLscXfNX0o+5ClIXXPssmsEUar3+up0YlDdvnu7N9gQftmmolZMVjR4aOhd2l6rNoMudtOpavzfRuowDbPtkePWD9epgzB5599sG0JddsYuXpA8w6+jcXUhMo4+HHiLrtGVi9OS7avKXgdh828dUsA2u3mVCroW8nHa8Mc6RFg8evx2a1Kuw4aGbaPAOrt5jQaKB/Zx1jn3Gkad1Hd/+vEAUhQSuKhe8P/MWU/auZ98Q4Wv3vgIf16+HqVXjqqaJ//qs5mSw+uZu54VtJysmgmn8ZRtXrRPdK9e84Bxt52cIPC3KZtSSXtAyFmpU1PNlTx+Duukd+u8rZSxZ+X5nL/NVGIi9b8fVW8cJgR8YMdaJ0SRkwEwIkaEUxkWs20XXBZNLSFEb7j2f0kz4P5Dk3XzrOilP72RF1ArPVSquQaoyq14lmZarcda80R6+wYHUuv/5pZF+YbbtSs3oODOmho2c7LSGBD3/oKorC6QtW1u0wsnS9kQPHLKjV0L6pA8OecKR/Fx3OTo9Xb16IO5GgFcXGwfPxtO1gRh9Xiu1Hk2lVI6DQnyPLaGB3dATbLp1g/fmjZBr1lHT14okqjehbtSmVfEsXyvNcirGw6C8jf6wxcuKsBYDK5dV0bqGlUwstbRprcXV5OAIpLcPK7sNm1u80sW6HicjLtvnoWlU0PNVLx5M9HaWyjhC3IUErioWkJOjYESJOKZQbNRdt1TBebtSdZ+u0w9Hh/ub40g3Z7Io+xdqzh9gWeQKjxYy7zon25WvTr2pTmgZVvn5CVVE4dd7Cxl0mNu42seOgCb0BHBygQQ0NrRtpadPYgeb1tLi7FY/gTU23sj/czLb9ZrbuN3H0pAVFARdnaN9US7fWWrq10RJc+uHvoQvxIEjQCrtLSIAOHeDCBVi5Eqo3vcqH2xex5dJxQjz96VKhLo0DK1G/dAU8HG+/l8ZksRCXmcLxxEgOxp3jUOx5zl6NQ0HB38WD7pUa0Dm0DvUDKty0lehBMOQq7DpkC7AdB80c+sd8/TCOSmXV1KriQO0qGmpV1lA1VEOZADU6XdEEsN6gcCnGyvloC8dPWwiLMHM0wnK9x6rTQtO6DrRtoqVVQwea1nXAybF4/DIgxMNEglbY3Q8/wJtvwpo10K7djdt3RJ5gxqH1hCdcwmS1oFapqOZfhrJeJdCo1GjUahxUGiyKlbjMFKLTk0nISsXyv3OTXbWO1AsIpWFgBVtQB4QWac/1XmTnKOwPN7P7iJnwU2aOn7ZwMebGViGVCgJLqikbpCY4QI2/jwofTzU+Xip8vVS4uqjQOoDWwfa3RgO5RlugG3Ih16iQmqGQlGIlKUUhOVUh/oqVCzEW4hLz/tevWFZNveoO1KumoUFNB5rUccDFWYJViPslQSvsRlFsQaIoEBUFZcve+jq9yUh4wiUOxJ7lYOw5ErLSsCpWzFYrVsWKCghw9yHIw5cynn6U8fCjil8g1fzLPJSnNmVkKvxz1sy5SCuRsbYeZmSsleg4K1fTFDKy7u2/rLenCn8fFSV91ZQvoyY0WENosO3vqqEaPNwlVIUoChK0wi4uXYIBA2x7ZGvXtndrHi4mk0JahsLVNIUcg4LJBEaTgslsq27kqAMnRxWOOnDUqfDysPV+tVoJUiHsQY5gFA/c+fO2IeKsLDCZ7N2ah49Wq8LfV4W/r71bIoQoCAla8UCdPg3t29sKBWzdCnXq2LtFQghRtGToWDwwFy5A8+a2OdktW6BGDXu3SAghil7xWoIpHmmBgdClC+zYISErhHh8SI9WFLnwcAgOBp+iP1VRCCGKHenRiiK1fz+0bg2jRtm7JUIIYR/SoxVFZvdu6NoVSpa0LXwKDrZ3i4QQ4sGTHq0oEtu2QefOtnnZnTslZIUQjy/p0YpCZ7HcOIRiyxZbj1YIIR5XErSiSERFgYsL+PvbuyVCCGFfMnQsCs3KlTB6NFitEBIiISuEECBBKwrJ0qW2s4uPHYOcHHu3Rgghig8JWnHfFiyAwYOhSRPYtAnc3OzdIiGEKD4kaMV9+e03GDbMtld2/Xrw8LB3i4QQoniRoBX3JTAQevaEtWulJyuEELciq47FPTl5EqpXt3crhBCi+JMerbhr330HNWvC33/buyVCCFH8SdCKu/L55/D669C/P7RpY+/WCCFE8SdBKwpEUeCjj+C992DoUPjjD9Bq7d0qIYQo/mSOVhTIrl3QqhUMHw6zZ4NGY+8WCSHEw0GCVhTY+vW2QgFqGQcRQogCk7dMkS9FgXfegUOHbJ937SohK4QQd8vB3g0QxZPVCi++CD//DI6O0LChvVskhBAPJxk6FjexWGDkSJg717b46ZNPQKWyd6uEEOLhJD1akYfZDM88Y1tV/NFHMGGChKwQQtwPCVqRh6JAdrZtv+w779i7NUII8fCToWMBQG4uZGWBr69tflYWPQkhROGQt1OBwQB9+0K7dmA0SsgKIURhkqHjx1xODvTuDVu2wMyZoNPZu0VCCPFokaB9jGVl2Urc7dgBv/xiO/VJCCFE4ZKgfYy9/DLs3Anz58OTT9q7NUII8WiSxVCPsdhYOHIEevWyd0uEEOLRJcteHjNXr8LEibb9soGBErJCCFHUpEf7GElKgg4d4MwZ2LsX6tWzd4uEEOLRJ3O0j4mEBGjfHi5dgjVrJGSFEOJBkaB9DMTG2vbIxsbCunXQpo29WySEEI8PCdrHQHQ0ZGbCxo3QvLm9WyOEEI8XmaN9hGVmgru77WO9Hpyd7dseIYR4HMmq40fUuXNQvTrMmmX7XEJWCCHsQ4L2EXTqFLRubevFNmpk79YIIcTjTeZoHzEnTthWF6tUsH27rVcrhBDCfmSO9hGSkgKVK9sKA2zdavtYCCGEfUnQPmJ+/tm2ladCBXu3RAghBEjQPhL27weLRbbuCCFEcSRztA+5XbugWzeoVAkOHZKi7UIIUdzI2/JDbOtW6NIFgoJsxypKyAohRPEjb80PqY0boXt3KF/etrq4dGl7t0gIIcStSNA+pP74A6pUgW3boGRJe7dGCCFEfmQx1EPGbAYHBzCZIDsbvLzs3SIhhBC3Iz3ah8iSJVC3LiQmglYrISuEEA8DCdqHxPz5MGQIeHuDi4u9WyOEEKKgJGgfAr/8Ak8/basju379jYo8Qgghij+Zoy3mFi2y9WQ7d4YVK6QKjxBCPGykR1vMtWsHY8fCypUSskII8TCSHm0xtWIF9OhhW/QkhBDi4SU92mLo00+hb1+YOdPeLRFCCHG/JGiLEUWBSZPggw9g2DB48UV7t0gIIcT9kqICxYSiwLvvwpdfwogRtnJ3Go29WyWEEOJ+yRxtMREVBTVrwlNPwfTpUiBACCEeFRK0dqYooFLZPr5wwVYk4NrnQgghHn7Sb7IjqxVGjYJvv7V9HhoqISuEEI8aCVo7sVhsc7GzZ0Nqqr1bI4QQoqjIYig7MJttRyouXAgffwwTJti7RUIIIYqKzNE+YIoCgwfbKvF88QW8/ba9WySEEKIoSdDawY8/gsEA48fbuyVCCCGKmgTtA6LXQ0QE1K9v75YIIYR4kGQx1AOQkwM9e9rK3CUl2bs1QgghHiRZDFXEsrJsxQF27YJffwV/f3u3SAghxIMkQVuEMjKga1c4cADmz7fVlRVCCPF4kaAtQtOnw8GDtuLt/fvbuzVCCCHsQRZDFSGLBY4cgUaN7N0SIYQQ9iKLoQrZlSvQpw9cvmyrviMhK4QQjzcZOi5E8fHQvj1ERtoKBAQF2btFQggh7E2CtpDExkK7dra/16+H1q3t3SIhhBDFgQRtIYiOhrZtbXtkN26E5s3t3SIhhBDFhczRFgJXVyhTBjZvlpAVQgiRl6w6vg9RUVCqFDg65i3gLoQQQlwjPdp7dOoUNGkCL75o+1xCVgghxK1I0N6Df/65sdjpjTfs2xYhhBDFmwTtXQoLsy180ulgxw6oVs3eLRJCCFGcyRztXTCZoEoVMJth61YIDbV3i4QQQhR3ErR36cgR8PODkBB7t0QIIcTDQIK2AHbuhP374a237N0SIYQQDxsJ2jvYssVWtL1sWTh0yLZnVgghhCgoWQx1Gxs22Iq2V6gA27dLyAohhLh7ErT5WLMGeveGqlVh2zYoUcLeLRJCCPEwkqDNx9WrULeubejY19ferRFCCPGwkjna/7hy5Ubv1WwGBym7IIQQ4j5Ij/ZffvsNypWzrTAGCVkhhBD3T4L2f+bMgeHDoWlTqFnT3q0RQgjxqJCgBX74AUaOhM6dbYugZHWxEEKIwvLYz9Fu2QIdOtj2yi5dait5J4QQQhSWxz5orVb4+WcYMcJWKEAIIYQoTI9t0H7/PfTqZTvxSQghhCgqj90craLAhAkwbhzMnGnv1gghhHjUPVY9WkWBd96Br76yLX766SdQP3a/agghhHiQHpudoooC48fDtGnw4oswfbqErBBCiKL32PRos7OhTRto3hymTAGVyt4tEkII8Th45IPWYgGTCZycbGHr4iIhK4QQ4sF5pAdPzWZ49llbFR6z2XYQhYSsEEKIB+mRDVqTCYYNg99/h5Yt5dxiIYQQ9vFIxo/RCEOGwPLlthXGb75p7xYJIYR4XD2SQfvCC7aQnTrVtl9WCCGEsJdHcjHUsWNw6JBtr6wQQghhT49M0GZnw+LFtsVPsuBJCCFEcfFILIbKzISuXeH55+H4cXu3RgghhLjhoZ+jTU+3hezBg/DHH1C7tr1bJIQQQtzwUAdtaqqtWHt4OCxZAn372rtFQgghRF4PddDu3QsnTsCff9oKtwshhBDFzUO5GMpiAY3G9nFCApQqZd/2CCGEEPl56BZDxcdD/frw11+2zyVkhRBCFGcP1dDx5cvQrp0tbN3d7d0aIYQQ4s4emqCNjLSF7NWrsGkTNG1q7xYJIYQQd/ZQzNFeuQING0JGhi1kGza0d4uEEEKIgnko5mj9/eHJJ2HrVglZIYQQD5di3aONiACtFipWtHdLhBBCiHtTbHu0x49Dmzbw1FNQfH8VEEIIIW6vWAbt0aPQti04OsL8+VIkQAghxMOr2AXtgQO21cXu7rBjhwwbCyGEeLgVuznabt3gzBnbwqeQEHu3RgghhLg/xSZoFcU2RJyRYSt7Fxho7xYJIYQQ969YDB1v3gw9ekBODnh4SMgKIYR4dNg9aNevt4Xs5cu2oBVCCCEeJXYN2tWr4YknoHp125ysn589WyOEEEIUPrsF7apV0K8f1KkDW7aAr6+9WiKEEEIUHbsFbeXK0KsX/P03eHnZqxVCCCFE0Xrgq44PHrSdVyyHUAghhHgcPNAe7axZ0KQJzJnzIJ9VCCGEsJ8HFrQzZsCoUdCli+38YiGEEOJx8ECCdsoUePll25zsihXg5PQgnlUIIYSwvyKfoz13DqpVg9694Y8/QKcrymcTQgghipcHshhq715o1AgcHIr6mYQQQojipUiCVlFg0iSoXdu2V1YIIYR4XBXJHO3bb8PkybbTnoQQQojHWZH0aP38YPBg+P57UNv9NGUhhBDCfopNmTwhhBDiUST9TSGEEKIISdAKIYQQRUiCVgghhChCErRCFDKNRkOdOnWoUaMGAwYMICcnBwA3N7cH3pbk5GS0Wi0zZ87M95q1a9dSt25dateuTbVq1fjpp58AGD58OMuWLbvp+pEjRxIREQFA2bJlSU5OBuzz/QnxMJCgFaKQOTs7Ex4ezokTJ9DpdLcNucKiKApWq/Wm25cuXUqTJk1YuHDhLe9nMpkYNWoUa9as4dixY4SFhdGmTZvbPtfs2bOpVq1aYTRbiMeCBK0QRahly5acP38+z21ZWVm0b9+eevXqUbNmTVatWgXAxIkTmTp16vXr3n//faZNmwbA119/TcOGDalVqxaTJk0CIDIyksqVK/P0009To0YNYmJibnr+hQsX8u233xIbG8vly5dv+npmZiZmsxlfX18AHB0dqVy58k3XTZgwgeHDh2OxWGjTpg2HDx++txdEiMeQBK0QRcRsNrN+/Xpq1qyZ53YnJydWrFjB0aNH2bZtG6+//jqKojBixAh+++03AKxWK4sWLeKpp55i06ZNnDt3joMHDxIeHs6RI0fYuXMnAOfOnWPMmDGcPHmSkJCQPM8TExNDfHw8jRo1YuDAgSxevPimNvr4+NCrVy9CQkIYMmQICxYsuKln/Oabb5KUlMSvv/6KRqMpzJdIiMeCBK0QhUyv11OnTh0aNGhAcHAwzz33XJ6vK4rCe++9R61atejQoQOxsbEkJiZStmxZfH19CQsLY9OmTdStWxdfX182bdp0/fN69epx+vRpzp07B0BISAhNmjS5ZTsWL17MwIEDARg8eHC+w8ezZ89my5YtNGrUiG+++YYRI0Zc/9rkyZNJT09n5syZqFSqwnh5hHjsyDH/QhSya3O0+VmwYAFJSUkcOXIErVZL2bJlMRgMgG2h0dy5c0lISLgeeIqi8O677zJ69Og8jxMZGYmrq2u+z7Nw4UISEhJYsGABAHFxcZw7d46KFSvedG3NmjWpWbMmw4YNo1y5csydOxeAhg0bcuTIEVJSUvDx8bmbl0EI8T/SoxXiAUtPT6dEiRJotVq2bdtGVFTU9a/16dOHDRs2cOjQITp37gxA586d+eWXX8jKygIgNjaWK1eu3PY5zp49S1ZWFrGxsURGRhIZGcm77757U682KyuL7du3X/88PDw8zxB0ly5deOedd+jevTuZmZn3+60L8ViSHq0QD9jQoUPp2bMnNWvWpEGDBlSpUuX613Q6HW3btsXLy+v6fGinTp04deoUTZs2BWzbaObPn3/b+dKFCxfSp0+fPLf169ePQYMGMXHixOu3KYrCV199xejRo3F2dsbV1fV6b/aaAQMGkJmZSa9evVi3bt39fvtCPHbkrGMhihGr1Uq9evVYunTpLYd4hRAPHxk6FqKYiIiIoEKFCrRv315CVohHiPRohRBCiCIkPVohhBCiCEnQCiGEEEVIglYIIYQoQhK0QgghRBGSoBVCCCGKkAStEEIIUYT+H/AwgHwiuA1fAAAAAElFTkSuQmCC\n"
          },
          "metadata": {}
        },
        {
          "output_type": "display_data",
          "data": {
            "text/plain": [
              "<Figure size 432x288 with 0 Axes>"
            ]
          },
          "metadata": {}
        }
      ],
      "source": [
        "# Main loop.\n",
        "# Reinitialize\n",
        "init_mean = torch.zeros(D, requires_grad=True)\n",
        "init_log_std = torch.zeros(D, requires_grad=True)\n",
        "\n",
        "params = (init_mean, init_log_std)\n",
        "optimizer = torch.optim.SGD(params, lr=stepsize, momentum=0.9)\n",
        "print(\"Optimizing variational parameters...\")\n",
        "for t in trange(0, n_iters):\n",
        "    update()\n",
        "    callback(params, t)\n",
        "\n",
        "plot_2d_fun(posterior_beat_each_other_10_times, \"Player A Skill\", \"Player B Skill\",\n",
        "            f2=approx_posterior_2d)"
      ]
    },
    {
      "cell_type": "markdown",
      "source": [
        "The final loss is around 17.83.\n",
        "\n",
        "The joint settings of skills that A and B have the same skills will be\n",
        "plausible under the true posterior, but are not plausible under the approximate posterior since the approximate posterior shows a little more tendency towards the Player A skill.\n",
        "\n",
        "Changing the variational approximate posterior from a fully-factorized Gaussian to a non-factorized Gaussian will make a better approximation, since we can see from the plot that the true posterior has an oval shape which indicates the existence of covariance, but the fully-factorized assumes no covariance so the non-factorized Gaussian will make a better approximation."
      ],
      "metadata": {
        "id": "qLvP9J3levFr"
      }
    },
    {
      "cell_type": "markdown",
      "metadata": {
        "id": "rrCmtd_b51Jf"
      },
      "source": [
        "## 1.2 [30 pts] Approximate inference conditioned on real data \n",
        "\n",
        "The dataset contains data on 2546 chess games amongst 1434 players:\n",
        " - names is a 1434 by 1 matrix, whose $i$’th entry is the name of player $i$.\n",
        " - games is a 2546 by 2 matrix of game outcomes (actually chess matches), one row per game.\n",
        "\n",
        "The first column contains the indices of the players who won.\n",
        "The second column contains the indices of the player who lost.\n",
        "\n",
        "It is based on the kaggle chess dataset: https://www.kaggle.com/datasets/datasnaek/chess\n",
        "\n",
        "\n"
      ]
    },
    {
      "cell_type": "code",
      "execution_count": 10,
      "metadata": {
        "id": "9Dbf_GOZ7ejb"
      },
      "outputs": [],
      "source": [
        "wget.download(\"https://michalmalyska.github.io/csc412/chess_games.csv\")\n",
        "games = pd.read_csv(\"chess_games.csv\")[[\"winner_index\", \"loser_index\"]].to_numpy()\n",
        "wget.download(\"https://michalmalyska.github.io/csc412/chess_players.csv\")\n",
        "names = pd.read_csv(\"chess_players.csv\")[[\"index\", \"player_name\"]].to_numpy()\n",
        "\n",
        "games = torch.LongTensor(games)"
      ]
    },
    {
      "cell_type": "markdown",
      "metadata": {
        "id": "dkYB8hS07fOW"
      },
      "source": [
        "\n",
        "\n",
        "**a) [0pt]** Assuming all game outcomes are i.i.d. conditioned on all players' skills, the function $\\texttt{log_games_likelihood}$ takes a batch of player skills $\\texttt{zs}$ and a collection of observed games $\\texttt{games}$ and gives the total log-likelihood for all those observations given all the skills.\n"
      ]
    },
    {
      "cell_type": "code",
      "execution_count": 11,
      "metadata": {
        "id": "pkW93RBf7pru"
      },
      "outputs": [],
      "source": [
        "def log_games_likelihood(zs, games):\n",
        "    winning_player_ixs = games[:,0]\n",
        "    losing_player_ixs = games[:,1]\n",
        "\n",
        "    winning_player_skills = zs[:, winning_player_ixs] \n",
        "    losing_player_skills = zs[:, losing_player_ixs]\n",
        "\n",
        "    log_likelihoods = logp_a_beats_b(winning_player_skills, losing_player_skills)\n",
        "    return torch.sum(log_likelihoods, dim=1)"
      ]
    },
    {
      "cell_type": "code",
      "execution_count": 12,
      "metadata": {
        "id": "uaPEulQoAndL"
      },
      "outputs": [],
      "source": [
        "def log_joint_probability(zs):\n",
        "    return log_joint_prior(zs) + log_games_likelihood(zs, games)"
      ]
    },
    {
      "cell_type": "markdown",
      "metadata": {
        "id": "aUWILTA18BRn"
      },
      "source": [
        "**b) [4pt]** Write a new objective function like the one from the previous question. \n",
        "\n",
        "Below, we initialize a variational distribution and fit it to the joint distribution with all the observed tennis games from the dataset."
      ]
    },
    {
      "cell_type": "code",
      "source": [
        "# Hyperparameters\n",
        "num_players = 1434\n",
        "n_iters = 500\n",
        "stepsize = 0.0001\n",
        "num_samples_per_iter = 150\n",
        "\n",
        "def objective(params):\n",
        "  mean, log_std = params\n",
        "  zs = diag_gaussian_samples(mean, log_std, num_samples_per_iter)\n",
        "  elbo = batch_elbo(log_joint_probability, mean, log_std, num_samples_per_iter)\n",
        "  return -elbo"
      ],
      "metadata": {
        "id": "qsCQUJCFd2Eb"
      },
      "execution_count": 13,
      "outputs": []
    },
    {
      "cell_type": "markdown",
      "source": [
        "**c) [3pts]** Optimize, and report the final loss. "
      ],
      "metadata": {
        "id": "O3ep43C5d_CT"
      }
    },
    {
      "cell_type": "code",
      "source": [
        "# Set up optimizer.\n",
        "init_mean = torch.zeros(num_players, requires_grad=True)\n",
        "init_log_std  = torch.zeros(num_players, requires_grad=True)\n",
        "params = (init_mean, init_log_std)\n",
        "optimizer = torch.optim.SGD(params, lr=stepsize, momentum=0.9)\n",
        "\n",
        "def update():\n",
        "    optimizer.zero_grad()\n",
        "    loss = objective(params)\n",
        "    loss.backward()\n",
        "    optimizer.step()\n",
        "\n",
        "print(\"Optimizing variational parameters...\")\n",
        "for t in trange(0, n_iters):\n",
        "    update()\n",
        "    callback(params, t)"
      ],
      "metadata": {
        "colab": {
          "base_uri": "https://localhost:8080/",
          "height": 0
        },
        "id": "cHqVSzTSkfma",
        "outputId": "67fb901a-fea3-406d-dae8-65fdea85645a"
      },
      "execution_count": 14,
      "outputs": [
        {
          "output_type": "stream",
          "name": "stdout",
          "text": [
            "Optimizing variational parameters...\n"
          ]
        },
        {
          "output_type": "stream",
          "name": "stderr",
          "text": [
            "  1%|          | 3/500 [00:00<00:39, 12.50it/s]"
          ]
        },
        {
          "output_type": "stream",
          "name": "stdout",
          "text": [
            "Iteration 0 lower bound 2304.22900390625\n"
          ]
        },
        {
          "output_type": "stream",
          "name": "stderr",
          "text": [
            "  6%|▌         | 29/500 [00:01<00:21, 21.85it/s]"
          ]
        },
        {
          "output_type": "stream",
          "name": "stdout",
          "text": [
            "Iteration 25 lower bound 2193.2353515625\n"
          ]
        },
        {
          "output_type": "stream",
          "name": "stderr",
          "text": [
            " 11%|█         | 53/500 [00:02<00:18, 23.98it/s]"
          ]
        },
        {
          "output_type": "stream",
          "name": "stdout",
          "text": [
            "Iteration 50 lower bound 2074.745849609375\n"
          ]
        },
        {
          "output_type": "stream",
          "name": "stderr",
          "text": [
            " 16%|█▌        | 79/500 [00:03<00:23, 17.56it/s]"
          ]
        },
        {
          "output_type": "stream",
          "name": "stdout",
          "text": [
            "Iteration 75 lower bound 1986.6395263671875\n"
          ]
        },
        {
          "output_type": "stream",
          "name": "stderr",
          "text": [
            " 21%|██        | 103/500 [00:05<00:30, 13.10it/s]"
          ]
        },
        {
          "output_type": "stream",
          "name": "stdout",
          "text": [
            "Iteration 100 lower bound 1911.4920654296875\n"
          ]
        },
        {
          "output_type": "stream",
          "name": "stderr",
          "text": [
            " 25%|██▌       | 127/500 [00:07<00:29, 12.71it/s]"
          ]
        },
        {
          "output_type": "stream",
          "name": "stdout",
          "text": [
            "Iteration 125 lower bound 1854.9012451171875\n"
          ]
        },
        {
          "output_type": "stream",
          "name": "stderr",
          "text": [
            " 31%|███       | 153/500 [00:09<00:26, 13.04it/s]"
          ]
        },
        {
          "output_type": "stream",
          "name": "stdout",
          "text": [
            "Iteration 150 lower bound 1811.55859375\n"
          ]
        },
        {
          "output_type": "stream",
          "name": "stderr",
          "text": [
            " 35%|███▌      | 177/500 [00:12<00:45,  7.03it/s]"
          ]
        },
        {
          "output_type": "stream",
          "name": "stdout",
          "text": [
            "Iteration 175 lower bound 1784.0789794921875\n"
          ]
        },
        {
          "output_type": "stream",
          "name": "stderr",
          "text": [
            " 40%|████      | 202/500 [00:14<00:26, 11.43it/s]"
          ]
        },
        {
          "output_type": "stream",
          "name": "stdout",
          "text": [
            "Iteration 200 lower bound 1748.94580078125\n"
          ]
        },
        {
          "output_type": "stream",
          "name": "stderr",
          "text": [
            " 46%|████▌     | 228/500 [00:16<00:22, 12.34it/s]"
          ]
        },
        {
          "output_type": "stream",
          "name": "stdout",
          "text": [
            "Iteration 225 lower bound 1725.6424560546875\n"
          ]
        },
        {
          "output_type": "stream",
          "name": "stderr",
          "text": [
            " 50%|█████     | 252/500 [00:18<00:19, 12.84it/s]"
          ]
        },
        {
          "output_type": "stream",
          "name": "stdout",
          "text": [
            "Iteration 250 lower bound 1699.335693359375\n"
          ]
        },
        {
          "output_type": "stream",
          "name": "stderr",
          "text": [
            " 56%|█████▌    | 278/500 [00:20<00:16, 13.84it/s]"
          ]
        },
        {
          "output_type": "stream",
          "name": "stdout",
          "text": [
            "Iteration 275 lower bound 1683.968017578125\n"
          ]
        },
        {
          "output_type": "stream",
          "name": "stderr",
          "text": [
            " 60%|██████    | 302/500 [00:22<00:20,  9.84it/s]"
          ]
        },
        {
          "output_type": "stream",
          "name": "stdout",
          "text": [
            "Iteration 300 lower bound 1668.4580078125\n"
          ]
        },
        {
          "output_type": "stream",
          "name": "stderr",
          "text": [
            " 66%|██████▌   | 328/500 [00:25<00:15, 11.24it/s]"
          ]
        },
        {
          "output_type": "stream",
          "name": "stdout",
          "text": [
            "Iteration 325 lower bound 1652.7113037109375\n"
          ]
        },
        {
          "output_type": "stream",
          "name": "stderr",
          "text": [
            " 71%|███████   | 354/500 [00:27<00:09, 15.08it/s]"
          ]
        },
        {
          "output_type": "stream",
          "name": "stdout",
          "text": [
            "Iteration 350 lower bound 1641.19287109375\n"
          ]
        },
        {
          "output_type": "stream",
          "name": "stderr",
          "text": [
            " 76%|███████▌  | 378/500 [00:29<00:13,  9.25it/s]"
          ]
        },
        {
          "output_type": "stream",
          "name": "stdout",
          "text": [
            "Iteration 375 lower bound 1631.1082763671875\n"
          ]
        },
        {
          "output_type": "stream",
          "name": "stderr",
          "text": [
            " 80%|████████  | 402/500 [00:31<00:08, 11.32it/s]"
          ]
        },
        {
          "output_type": "stream",
          "name": "stdout",
          "text": [
            "Iteration 400 lower bound 1620.3876953125\n"
          ]
        },
        {
          "output_type": "stream",
          "name": "stderr",
          "text": [
            " 86%|████████▌ | 428/500 [00:33<00:04, 16.31it/s]"
          ]
        },
        {
          "output_type": "stream",
          "name": "stdout",
          "text": [
            "Iteration 425 lower bound 1615.08837890625\n"
          ]
        },
        {
          "output_type": "stream",
          "name": "stderr",
          "text": [
            " 90%|█████████ | 452/500 [00:35<00:03, 15.30it/s]"
          ]
        },
        {
          "output_type": "stream",
          "name": "stdout",
          "text": [
            "Iteration 450 lower bound 1605.2095947265625\n"
          ]
        },
        {
          "output_type": "stream",
          "name": "stderr",
          "text": [
            " 95%|█████████▌| 477/500 [00:37<00:02,  8.95it/s]"
          ]
        },
        {
          "output_type": "stream",
          "name": "stdout",
          "text": [
            "Iteration 475 lower bound 1598.6939697265625\n"
          ]
        },
        {
          "output_type": "stream",
          "name": "stderr",
          "text": [
            "100%|██████████| 500/500 [00:39<00:00, 12.74it/s]\n"
          ]
        }
      ]
    },
    {
      "cell_type": "markdown",
      "source": [
        "The final loss is around 1598.69"
      ],
      "metadata": {
        "id": "c3m6DNsLlxw5"
      }
    },
    {
      "cell_type": "markdown",
      "metadata": {
        "id": "y6YluZ2B8Qmr"
      },
      "source": [
        "**d) [1pt]** Plot the approximate mean and variance of all players, sorted by skill."
      ]
    },
    {
      "cell_type": "code",
      "source": [
        "mean_skills, logstd_skills = params[0].detach(), params[1].detach()\n",
        "\n",
        "order = torch.argsort(mean_skills)\n",
        "\n",
        "plt.xlabel(\"Player Rank\")\n",
        "plt.ylabel(\"Player Skill\")\n",
        "plt.errorbar(range(num_players), mean_skills[order], torch.exp(logstd_skills)[order])"
      ],
      "metadata": {
        "colab": {
          "base_uri": "https://localhost:8080/",
          "height": 297
        },
        "id": "LTX3E9au_iwB",
        "outputId": "30a0839e-0be3-42c4-ea97-12c26baaa0b3"
      },
      "execution_count": 15,
      "outputs": [
        {
          "output_type": "execute_result",
          "data": {
            "text/plain": [
              "<ErrorbarContainer object of 3 artists>"
            ]
          },
          "metadata": {},
          "execution_count": 15
        },
        {
          "output_type": "display_data",
          "data": {
            "text/plain": [
              "<Figure size 432x288 with 1 Axes>"
            ],
            "image/png": "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\n"
          },
          "metadata": {
            "needs_background": "light"
          }
        }
      ]
    },
    {
      "cell_type": "markdown",
      "metadata": {
        "id": "EjWom7_Z8VCY"
      },
      "source": [
        "**e) [1pts]** List the names of the 10 players with the highest mean skill under the variational model."
      ]
    },
    {
      "cell_type": "code",
      "execution_count": 16,
      "metadata": {
        "id": "4LCPM5Bp8YiK",
        "colab": {
          "base_uri": "https://localhost:8080/",
          "height": 0
        },
        "outputId": "1e87d92b-feb9-423a-9623-f6aa146f0da1"
      },
      "outputs": [
        {
          "output_type": "stream",
          "name": "stdout",
          "text": [
            "[1032 'doraemon61']\n",
            "[311 'laode_syahril']\n",
            "[640 'projetoxadrez']\n",
            "[303 'mrzoom47']\n",
            "[1431 'chesswithmom']\n",
            "[841 'cdvh']\n",
            "[820 'smartduckduckcow']\n",
            "[1121 'hick4u1219']\n",
            "[415 'sneaky_bugger']\n",
            "[185 'lzchips']\n"
          ]
        }
      ],
      "source": [
        "for i in range(1,11):\n",
        "    print(names[order[-i]])"
      ]
    },
    {
      "cell_type": "markdown",
      "metadata": {
        "id": "sEj6LkYA8ncH"
      },
      "source": [
        "**f) [3pt]** Plot samples from the joint posterior over the skills of lelik3310 and thebestofthebad. Based on your samples, describe in a sentence the relationship between the skills of the players. (Is one better than the other? Are they approximately even?)"
      ]
    },
    {
      "cell_type": "code",
      "execution_count": 17,
      "metadata": {
        "id": "U6zI2sCB8qFO",
        "colab": {
          "base_uri": "https://localhost:8080/",
          "height": 551
        },
        "outputId": "59dec4c1-c484-41a7-f130-68affe40fcba"
      },
      "outputs": [
        {
          "output_type": "stream",
          "name": "stdout",
          "text": [
            "[496 'lelik3310']\n",
            "[512 'thebestofthebad']\n"
          ]
        },
        {
          "output_type": "execute_result",
          "data": {
            "text/plain": [
              "<matplotlib.collections.PathCollection at 0x7f5b0b4a1af0>"
            ]
          },
          "metadata": {},
          "execution_count": 17
        },
        {
          "output_type": "display_data",
          "data": {
            "text/plain": [
              "<Figure size 576x576 with 1 Axes>"
            ],
            "image/png": "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\n"
          },
          "metadata": {}
        }
      ],
      "source": [
        "lelik3310_ix = 496\n",
        "thebestofthebad_ix = 512\n",
        "print(names[lelik3310_ix])\n",
        "print(names[thebestofthebad_ix])\n",
        "fig = plt.figure(figsize=(8,8), facecolor='white')\n",
        "# Label each with \"<player> Skill\"\n",
        "plt.xlabel(\"lelik3310 Skill\") \n",
        "plt.ylabel(\"thebestofthebad Skill\") \n",
        "plt.plot([3, -3], [3, -3], 'b--') # Line of equal skill\n",
        "samples = diag_gaussian_samples(mean_skills, logstd_skills, 100)\n",
        "\n",
        "# TODO:  Hint:  Use plt.scatter()\n",
        "plt.scatter(samples[:, lelik3310_ix], samples[:, thebestofthebad_ix])"
      ]
    },
    {
      "cell_type": "markdown",
      "source": [
        "From the plot, it seems like the skill of lelik3310 is better than the skill of thebestofthebad."
      ],
      "metadata": {
        "id": "oGE6_DKIl8L5"
      }
    },
    {
      "cell_type": "markdown",
      "metadata": {
        "id": "rUXcsAYdDnor"
      },
      "source": [
        "**g) [6pts]** Derive the exact probability under a factorized Gaussian over two players’ skills that one has higher skill than the other, as a function of the two means and variances over their skills. Express your answer in terms of the cumulative distribution function of a one-dimensional Gaussian random variable.\n",
        "\n",
        "- Hint 1: Use a linear change of variables $y_A, y_B = z_A − z_B , z_B$. What does the line of equal skill look like after this transformation?\n",
        "- Hint 2: If $X \\sim N (\\mu, \\Sigma)$, then $AX \\sim  N (A\\mu, A\\Sigma A^T)$ where $A$ is a linear transformation.\n",
        "- Hint 3: Marginalization in Gaussians is easy: if $X \\sim N (\\mu, \\Sigma)$, then the $i$th element of $X$ has a\n",
        "marginal distribution $X_i \\sim N (\\mu_i , \\Sigma_{ii})$."
      ]
    },
    {
      "cell_type": "markdown",
      "metadata": {
        "id": "OxazFdqcFhF_"
      },
      "source": [
        "Your answer here.\n",
        "\n",
        "\\begin{align}\n",
        "\\text{To compute } p(z_A > z_B) \\text{ We can compute } p(z_A - z_B >0) \\\\\n",
        "\\text{Since } \\begin{bmatrix}\n",
        "y_A\\\\\n",
        "y_B\n",
        "\\end{bmatrix}\n",
        "= \\begin{bmatrix}\n",
        "1 & -1\\\\\n",
        "0 & 1\n",
        "\\end{bmatrix}\n",
        "\\begin{bmatrix}\n",
        "z_A\\\\\n",
        "z_B\n",
        "\\end{bmatrix} \\\\\n",
        "\\text{Therefore, let } Z = \\begin{bmatrix}\n",
        "z_A\\\\\n",
        "z_B\n",
        "\\end{bmatrix}, \n",
        "Z \\sim N (\\mu, \\Sigma), AZ \\sim  N (A\\mu, A\\Sigma A^T), \\text{where } \\mu = \\begin{bmatrix}\n",
        "\\mu_A\\\\\n",
        "\\mu_B\n",
        "\\end{bmatrix}, \\Sigma = \\begin{bmatrix}\n",
        "\\sigma_A ^2\\\\\n",
        "\\sigma_B ^2\n",
        "\\end{bmatrix}, A= \\begin{bmatrix}\n",
        "1 & -1\\\\\n",
        "0 & 1\n",
        "\\end{bmatrix} \\\\\n",
        "\\implies AZ \\sim  N (\\begin{bmatrix}\n",
        "\\mu_A -\\mu_B\\\\\n",
        "\\mu_B\n",
        "\\end{bmatrix}, \\begin{bmatrix}\n",
        "1 & -1\\\\\n",
        "0 & 1\n",
        "\\end{bmatrix}\\begin{bmatrix}\n",
        "\\sigma_A ^2 & 0\\\\\n",
        "0 & \\sigma_B ^2 \n",
        "\\end{bmatrix} \\begin{bmatrix}\n",
        "1 & 0\\\\\n",
        "-1 & 1\n",
        "\\end{bmatrix})\\\\\n",
        "\\implies AZ \\sim  N (\\begin{bmatrix}\n",
        "\\mu_A -\\mu_B\\\\\n",
        "\\mu_B\n",
        "\\end{bmatrix}, \\begin{bmatrix}\n",
        "\\sigma_A ^2 + \\sigma_B ^2 & -\\sigma_B ^2 \\\\\n",
        "-\\sigma_B ^2  & \\sigma_B ^2 \n",
        "\\end{bmatrix}), \\text{ Therefore } z_A - z_B \\sim  N(\\mu_A -\\mu_B, \\sigma_A ^2 + \\sigma_B ^2).\\\\\n",
        "p(z_A - z_B > 0) = 1- p(z_A - z_B \\le 0) = 1-\\Phi(\\frac{\\mu_B -\\mu_A}{\\sqrt{\\sigma_A ^2 + \\sigma_B ^2}}).\n",
        "\\end{align}"
      ]
    },
    {
      "cell_type": "markdown",
      "metadata": {
        "id": "GO3k7rfI8sWg"
      },
      "source": [
        "**h) [4pts]** Compute the probability under your approximate posterior that lelik3310 has higher skill than thebestofthebad. Compute this quantity exactly using the formula you just derived above, and also estimate it using simple Monte Carlo with 10000 examples.\n",
        "\n",
        "Hint:  You might want to use `Normal(0,1).cdf()` for the exact formula."
      ]
    },
    {
      "cell_type": "code",
      "source": [
        "# TODO\n",
        "def prob_A_superior_B(N, A_ix, B_ix):\n",
        "    mu_A = mean_skills[A_ix]\n",
        "    mu_B = mean_skills[B_ix]\n",
        "    var_A = torch.exp(2*logstd_skills[A_ix])\n",
        "    var_B = torch.exp(2*logstd_skills[B_ix])\n",
        "    formula_est = 1- Normal(0, 1).cdf((mu_B - mu_A) / torch.sqrt(var_A + var_B))\n",
        "    # Simple Monte Carlo estimate\n",
        "    samples = diag_gaussian_samples(mean_skills, logstd_skills, N)\n",
        "    mc_est = (samples[:, A_ix] > samples[:, B_ix]).float().mean()\n",
        "\n",
        "    return formula_est, mc_est\n",
        "\n",
        "formula_est, mc_est = prob_A_superior_B(10000, lelik3310_ix, thebestofthebad_ix)\n",
        "print(f\"Exact CDF Estimate: {formula_est}\")\n",
        "print(f\"Simple MC Estimate: {mc_est}\")\n"
      ],
      "metadata": {
        "colab": {
          "base_uri": "https://localhost:8080/",
          "height": 0
        },
        "id": "xJLVm6Hpisbo",
        "outputId": "2f1845a0-43c9-4725-b297-1f5bafe39ba0"
      },
      "execution_count": 18,
      "outputs": [
        {
          "output_type": "stream",
          "name": "stdout",
          "text": [
            "Exact CDF Estimate: 0.9865280389785767\n",
            "Simple MC Estimate: 0.9842000007629395\n"
          ]
        }
      ]
    },
    {
      "cell_type": "markdown",
      "metadata": {
        "id": "olpPTnm3-YdN"
      },
      "source": [
        "**i) [2pts]** Compute the probability that lelik3310 is better than the player with the 5th lowest mean skill. Compute this quantity exactly, and then estimate it using simple Monte Carlo with 10000 examples.\n"
      ]
    },
    {
      "cell_type": "code",
      "source": [
        "# TODO\n",
        "fifth_worst_ix = order[4]\n",
        "\n",
        "exact_probability, mc_probability = prob_A_superior_B(10000, lelik3310_ix, fifth_worst_ix)\n",
        "\n",
        "print(f\"Exact probability: {exact_probability}\")\n",
        "print(f\"MC estimate: {mc_probability}\")"
      ],
      "metadata": {
        "id": "PNLfQCDdbZ7d",
        "colab": {
          "base_uri": "https://localhost:8080/",
          "height": 0
        },
        "outputId": "d7d1f99c-b5d6-4b43-f9d9-010d9bbd313d"
      },
      "execution_count": 19,
      "outputs": [
        {
          "output_type": "stream",
          "name": "stdout",
          "text": [
            "Exact probability: 0.9622957706451416\n",
            "MC estimate: 0.9616000056266785\n"
          ]
        }
      ]
    },
    {
      "cell_type": "markdown",
      "source": [
        "**j) [3 pts]** Imagine that we knew ahead of time that we were examining the skills of top chess players, and so changed our prior on all players to Normal(10, 1) and re-ran our approximate inference from scratch. Would that change the answer of either of the previous 2 questions, in expectation?\n"
      ],
      "metadata": {
        "id": "kjslZo7WUH2-"
      }
    },
    {
      "cell_type": "markdown",
      "source": [
        "Your answer here.\\\n",
        "No.\n"
      ],
      "metadata": {
        "id": "W37pO-PDNjKc"
      }
    },
    {
      "cell_type": "markdown",
      "source": [
        "**k) [3 pts]** Based on all the plots and results in this assignment and HW2, which approximate inference method do you suspect is producing a better overall approximation to the true posterior over all skills conditioned on all games?  Give a short explanation."
      ],
      "metadata": {
        "id": "cNJ5WuyQKPPM"
      }
    },
    {
      "cell_type": "markdown",
      "source": [
        "Your answer here."
      ],
      "metadata": {
        "id": "mtmXbA3OKSoM"
      }
    },
    {
      "cell_type": "markdown",
      "source": [
        "I think HMC from HW2 can produce a better overall approximation to the true posterior over all skills conditioned on all games. A simple approximate posterior (like a Gaussian) may not suit for the true posterior distribution, but HMC can produce a more similar distribution to the true posterior."
      ],
      "metadata": {
        "id": "YIWDBx63PYmX"
      }
    },
    {
      "cell_type": "markdown",
      "source": [
        "\\\n",
        "\\\n",
        "\\\n",
        "\\\n",
        "\\\n",
        "\\\n",
        "\\\n",
        "\\\n",
        "\\\n",
        "\\\n",
        "\\\n",
        "\\\n",
        "\\\n",
        "\\\n",
        "\\\n",
        "\\\n",
        "\\\n",
        "\\\n",
        "\\\n",
        "\\\n",
        "\\\n",
        "\\\n",
        "\\\n",
        "\\\n",
        "\\\n",
        "\\\n",
        "\\\n",
        "\\\n",
        "\\\n",
        "\\\n",
        "\\\n",
        "\\\n",
        "\\\n",
        "\\\n",
        "\\\n",
        "\\\n",
        "\\\n",
        
      ],
      "metadata": {
        "id": "WdceotIeSSZD"
      }
    },
    {
      "cell_type": "markdown",
      "source": [
        "# 2. [50pts] Expectation-Maximization (EM) algorithm\n",
        "\n"
      ],
      "metadata": {
        "id": "Ru-EwGWu5T4X"
      }
    },
    {
      "cell_type": "code",
      "source": [
        "%matplotlib inline\n",
        "import scipy\n",
        "import numpy as np\n",
        "import itertools\n",
        "import matplotlib.pyplot as plt"
      ],
      "metadata": {
        "id": "ttc_nnUN5Wnv"
      },
      "execution_count": 20,
      "outputs": []
    },
    {
      "cell_type": "markdown",
      "source": [
        "## 2.1 [7pts] Generating the Data\n",
        "\n",
        "**a) [5pts]** First, we will generate some data for this problem. Set the number of points $N=400$, their dimension $D=2$, and the number of clusters $K=2$, and generate data from the distribution $p(x|z=k) = N(\\mu_k, \\Sigma_k)$.\n",
        "  Sample $200$ data points for $k=1$ and 200 for $k=2$, with\n",
        "\n",
        "  $$\n",
        "    \\mu_1=\n",
        "    \\begin{bmatrix}\n",
        "      0.1 \\\\\n",
        "      0.1\n",
        "    \\end{bmatrix}\n",
        "    \\ \\text{,}\\\n",
        "    \\mu_2=\n",
        "    \\begin{bmatrix}\n",
        "      6.0 \\\\\n",
        "      0.1\n",
        "    \\end{bmatrix}\n",
        "    \\ \\text{ and }\\\n",
        "    \\Sigma_1=\\Sigma_2=\n",
        "    \\begin{bmatrix}\n",
        "      10       & 7 \\\\\n",
        "      7 & 10\n",
        "    \\end{bmatrix}\n",
        "  $$\n",
        "  Here, $N=400$. If you generate the data, you already know which sample comes from which class. Complete the following statements and run to generate.\n",
        "\n",
        "  Hint: you can use `np.random.multivariate_normal`."
      ],
      "metadata": {
        "id": "g-aZi8IN5Via"
      }
    },
    {
      "cell_type": "code",
      "source": [
        "num_samples = 400\n",
        "cov = np.array([[10, 7], [7, 10]])\n",
        "mean_1 = [0.1, 0.1]\n",
        "mean_2 = [6.0, 0.1]\n",
        "\n",
        "x_class1 = np.random.multivariate_normal(mean_1, cov, num_samples // 2)\n",
        "x_class2 = np.random.multivariate_normal(mean_2, cov, num_samples // 2)\n",
        "xy_class1 = np.column_stack((x_class1, np.zeros(num_samples // 2)))\n",
        "xy_class2 = np.column_stack((x_class2, np.ones(num_samples // 2)))\n",
        "\n",
        "data_full = np.row_stack([xy_class1, xy_class2])\n",
        "np.random.shuffle(data_full)\n",
        "data = data_full[:, :2]\n",
        "labels = data_full[:, 2]"
      ],
      "metadata": {
        "id": "dj9YFnUJPTb7"
      },
      "execution_count": 21,
      "outputs": []
    },
    {
      "cell_type": "markdown",
      "source": [
        "**b) [2pts]** Make a scatter plot of the data points showing the true cluster assignment of each point using different color codes and shape (x for first class and circles for second class):"
      ],
      "metadata": {
        "id": "MH5WNKYh5kwW"
      }
    },
    {
      "cell_type": "code",
      "source": [
        "plt.plot(xy_class1[:,0], xy_class1[:,1], 'x') # first class, x shape\n",
        "plt.plot(xy_class2[:,0], xy_class2[:,1], 'o') # second class, circle shape"
      ],
      "metadata": {
        "colab": {
          "base_uri": "https://localhost:8080/",
          "height": 283
        },
        "id": "BMlJimtqQWt2",
        "outputId": "e92f4c21-29f2-4855-b41f-c61a36c54ec9"
      },
      "execution_count": 22,
      "outputs": [
        {
          "output_type": "execute_result",
          "data": {
            "text/plain": [
              "[<matplotlib.lines.Line2D at 0x7f5b0b3be040>]"
            ]
          },
          "metadata": {},
          "execution_count": 22
        },
        {
          "output_type": "display_data",
          "data": {
            "text/plain": [
              "<Figure size 432x288 with 1 Axes>"
            ],
            "image/png": "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\n"
          },
          "metadata": {
            "needs_background": "light"
          }
        }
      ]
    },
    {
      "cell_type": "markdown",
      "source": [
        "## 2.2 [14pts] Implement and Run K-Means algorithm\n",
        "\n",
        "Now, we assume that the true class labels are not known. Implement the k-means algorithm for this problem.\n",
        "  Write two functions: `km_assignment_step`, and `km_refitting_step` as given in the lecture (Here, `km_` means k-means).\n",
        "  Identify the correct arguments, and the order to run them. Initialize the algorithm with\n",
        "  $$\n",
        "    \\hat{\\mu}_1=\n",
        "    \\begin{bmatrix}\n",
        "      0.0 \\\\\n",
        "      0.0\n",
        "    \\end{bmatrix}\n",
        "    \\ \\text{,}\\\n",
        "    \\hat{\\mu}_2=\n",
        "    \\begin{bmatrix}\n",
        "      1.0 \\\\\n",
        "      1.0\n",
        "    \\end{bmatrix}\n",
        "  $$\n",
        "  and run it until convergence.\n",
        "  Show the resulting cluster assignments on a scatter plot either using different color codes or shape or both.\n",
        "  Also plot the cost (distortion in lecture slides) vs. the number of iterations. Report your misclassification error. "
      ],
      "metadata": {
        "id": "uk3xc1iS5r9I"
      }
    },
    {
      "cell_type": "markdown",
      "source": [
        "**a) [2pts]** Complete the `cost` function."
      ],
      "metadata": {
        "id": "U2yxjnx36Fdk"
      }
    },
    {
      "cell_type": "code",
      "source": [
        "def cost(data, R, Mu):\n",
        "    N, D = data.shape\n",
        "    K = Mu.shape[1]\n",
        "    J = 0\n",
        "    for k in range(K):\n",
        "      J += np.dot(np.linalg.norm(data - np.array([Mu[:, k], ] * N), axis=1)**2, R[:, k])\n",
        "    return J"
      ],
      "metadata": {
        "id": "p2UH2YXDQ43r"
      },
      "execution_count": 23,
      "outputs": []
    },
    {
      "cell_type": "markdown",
      "source": [
        "**b) [4pts]** K-Means assignment step."
      ],
      "metadata": {
        "id": "zRoP_2Sxx_KB"
      }
    },
    {
      "cell_type": "code",
      "source": [
        "def km_assignment_step(data, Mu):\n",
        "    \"\"\" Compute K-Means assignment step\n",
        "    \n",
        "    Args:\n",
        "        data: a NxD matrix for the data points\n",
        "        Mu: a DxK matrix for the cluster means locations\n",
        "    \n",
        "    Returns:\n",
        "        R_new: a NxK matrix of responsibilities\n",
        "    \"\"\"\n",
        "    N, D = data.shape # Number of datapoints and dimension of datapoint\n",
        "    K = Mu.shape[1] # number of clusters\n",
        "    r = np.zeros((N,K))\n",
        "    # TODO assign all r[:, k]\n",
        "    for k in range(K):\n",
        "        r[:, k] = np.linalg.norm(Mu[:, k] - data, axis = 1)\n",
        "    arg_min = np.argmin(r, axis = 1) # argmax/argmin along dimension 1\n",
        "    R_new = np.zeros((N, K)) # Set to zeros/ones with shape (N, K)\n",
        "    R_new[range(N), arg_min] = 1 # Assign to 1\n",
        "    return R_new"
      ],
      "metadata": {
        "id": "T21q42uwRYkv"
      },
      "execution_count": 24,
      "outputs": []
    },
    {
      "cell_type": "markdown",
      "source": [
        "**c) [2pts]** K-Means refitting step."
      ],
      "metadata": {
        "id": "v3DnutNm6n33"
      }
    },
    {
      "cell_type": "code",
      "source": [
        "def km_refitting_step(data, R, Mu):\n",
        "    \"\"\" Compute K-Means refitting step.\n",
        "    \n",
        "    Args:\n",
        "        data: a NxD matrix for the data points\n",
        "        R: a NxK matrix of responsibilities\n",
        "        Mu: a DxK matrix for the cluster means locations\n",
        "    \n",
        "    Returns:\n",
        "        Mu_new: a DxK matrix for the new cluster means locations\n",
        "    \"\"\"\n",
        "    N, D = data.shape # number of datapoints and dimension of datapoint\n",
        "    K = Mu.shape[1]  # number of clusters\n",
        "    Mu_new = (data.T @ R)/ np.sum(R, axis = 0)\n",
        "    return Mu_new"
      ],
      "metadata": {
        "id": "2NoXe614R0T7"
      },
      "execution_count": 25,
      "outputs": []
    },
    {
      "cell_type": "markdown",
      "source": [
        "**d) [4pts]** Run this cell to call the K-Means algorithm."
      ],
      "metadata": {
        "id": "dXJinSwV6xsj"
      }
    },
    {
      "cell_type": "code",
      "source": [
        "from matplotlib.layout_engine import get_subplotspec_list\n",
        "N, D = data.shape\n",
        "K = 2\n",
        "max_iter = 100\n",
        "class_init = np.random.binomial(1., .5, size=N)\n",
        "R = np.vstack([class_init, 1 - class_init]).T\n",
        "\n",
        "Mu = np.zeros([D, K])\n",
        "Mu[:, 1] = 1.\n",
        "R.T.dot(data), np.sum(R, axis=0)\n",
        "cost_kmeans = []\n",
        "for it in range(max_iter):\n",
        "    R = km_assignment_step(data, Mu)\n",
        "    Mu = km_refitting_step(data, R, Mu)\n",
        "    #print(it, cost(data, R, Mu))\n",
        "    cost_kmeans.append(cost(data, R, Mu))\n",
        "    \n",
        "class_1 = np.where(R[:, 0])\n",
        "class_2 = np.where(R[:, 1])\n",
        "\n",
        "print('The misclassification error rate of K-means is', np.sum(R[:, 0]==labels)/N)\n",
        "\n",
        "plt.figure()\n",
        "plt.title('Cost K-means vs. Number of Iterations')\n",
        "plt.ylabel('Cost')\n",
        "plt.xlabel('Iterations')\n",
        "plt.plot(np.arange(max_iter), cost_kmeans, 'b-')\n",
        "plt.show()"
      ],
      "metadata": {
        "colab": {
          "base_uri": "https://localhost:8080/",
          "height": 313
        },
        "id": "mM78Lct8SBaV",
        "outputId": "7d811011-30d7-4071-b6f6-685994f87abc"
      },
      "execution_count": 26,
      "outputs": [
        {
          "output_type": "stream",
          "name": "stdout",
          "text": [
            "The misclassification error rate of K-means is 0.2175\n"
          ]
        },
        {
          "output_type": "display_data",
          "data": {
            "text/plain": [
              "<Figure size 432x288 with 1 Axes>"
            ],
            "image/png": "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\n"
          },
          "metadata": {
            "needs_background": "light"
          }
        }
      ]
    },
    {
      "cell_type": "markdown",
      "source": [
        "**e) [2pts]** Make a scatterplot for the data points showing the K-Means cluster assignments of each point.\n"
      ],
      "metadata": {
        "id": "MgB7VKUp_gqO"
      }
    },
    {
      "cell_type": "code",
      "source": [
        "plt.plot(data[class_1, 0], data[class_1,1], 'x', color = \"blue\") # TODO first class, x shape\n",
        "plt.plot(data[class_2,0], data[class_2,1], 'o', color = \"orange\") # TODO second class, circle shape\n",
        "plt.show()"
      ],
      "metadata": {
        "colab": {
          "base_uri": "https://localhost:8080/",
          "height": 265
        },
        "id": "p7Xw7JWZSWH6",
        "outputId": "49250bb4-72d5-4855-a7b7-d4e0c67bb1a8"
      },
      "execution_count": 27,
      "outputs": [
        {
          "output_type": "display_data",
          "data": {
            "text/plain": [
              "<Figure size 432x288 with 1 Axes>"
            ],
            "image/png": "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\n"
          },
          "metadata": {
            "needs_background": "light"
          }
        }
      ]
    },
    {
      "cell_type": "markdown",
      "source": [
        "## 2.3 [21pts] Implement EM algorithm for Gaussian mixtures\n",
        "\n",
        "Next, implement the EM algorithm for Gaussian mixtures. Write three functions: `log_likelihood`, `gm_e_step`, and `gm_m_step` as given in the lecture.\n",
        "  - Identify the correct arguments, and the order to run them.\n",
        "  - Initialize the algorithm with the same initialization as in Q2.1 for the means, and with $\\hat\\Sigma_1=\\hat\\Sigma_2=I$, and $\\hat\\pi_1=\\hat\\pi_2$ for the covariances.\n",
        "    \n",
        "Run the algorithm until convergence and show the resulting cluster assignments on a scatter plot either using different color codes or shape or both. Also plot the log-likelihood vs. the number of iterations. Report your misclassification error."
      ],
      "metadata": {
        "id": "aHONjfYq7t-d"
      }
    },
    {
      "cell_type": "code",
      "source": [
        "def normal_density(x, mu, Sigma):\n",
        "    return np.exp(-.5 * np.dot(x - mu, np.linalg.solve(Sigma, x - mu))) \\\n",
        "        / np.sqrt(np.linalg.det(2 * np.pi * Sigma))"
      ],
      "metadata": {
        "id": "Ciq6jLpQ8BWm"
      },
      "execution_count": 28,
      "outputs": []
    },
    {
      "cell_type": "markdown",
      "source": [
        "**a) [5pts]** Log-Likelihood."
      ],
      "metadata": {
        "id": "mcVJXu8-8C8K"
      }
    },
    {
      "cell_type": "code",
      "source": [
        "def log_likelihood(data, Mu, Sigma, Pi):\n",
        "    \"\"\" Compute log likelihood on the data given the Gaussian Mixture Parameters.\n",
        "    \n",
        "    Args:\n",
        "        data: a NxD matrix for the data points\n",
        "        Mu: a DxK matrix for the means of the K Gaussian Mixtures\n",
        "        Sigma: a list of size K with each element being DxD covariance matrix\n",
        "        Pi: a vector of size K for the mixing coefficients\n",
        "    \n",
        "    Returns:\n",
        "        L: a scalar denoting the log likelihood of the data given the Gaussian Mixture\n",
        "    \"\"\"\n",
        "    N, D = data.shape \n",
        "    K = Mu.shape[1] \n",
        "    L, T = 0., 0.\n",
        "    for n in range(N):\n",
        "        for k in range(K):\n",
        "            T += Pi[k] * normal_density(data[n], Mu[:, k], Sigma[k]) \n",
        "        L += np.log(T)\n",
        "    return L"
      ],
      "metadata": {
        "id": "uL6dbqx6TcTB"
      },
      "execution_count": 29,
      "outputs": []
    },
    {
      "cell_type": "markdown",
      "source": [
        "**b) [5pts]** Gaussian Mixture Expectation Step."
      ],
      "metadata": {
        "id": "E6Km8Q-P8Jr-"
      }
    },
    {
      "cell_type": "code",
      "source": [
        "def gm_e_step(data, Mu, Sigma, Pi):\n",
        "    \"\"\" Gaussian Mixture Expectation Step.\n",
        "\n",
        "    Args:\n",
        "        data: a NxD matrix for the data points\n",
        "        Mu: a DxK matrix for the means of the K Gaussian Mixtures\n",
        "        Sigma: a list of size K with each element being DxD covariance matrix\n",
        "        Pi: a vector of size K for the mixing coefficients\n",
        "    \n",
        "    Returns:\n",
        "        Gamma: a NxK matrix of responsibilities \n",
        "    \"\"\"\n",
        "    N, D = data.shape \n",
        "    K = Mu.shape[1] \n",
        "    Gamma = np.zeros((N, K)) \n",
        "    for n in range(N):\n",
        "        for k in range(K):\n",
        "            Gamma[n, k] = Pi[k] * normal_density(data[n], Mu[:, k], Sigma[k]) \n",
        "        Gamma[n, :] /=  np.sum(Gamma[n, :]) \n",
        "    return Gamma"
      ],
      "metadata": {
        "id": "J95DwYd8UAyw"
      },
      "execution_count": 30,
      "outputs": []
    },
    {
      "cell_type": "markdown",
      "source": [
        "**c) [5pts]** Gaussian Mixture Maximization Step."
      ],
      "metadata": {
        "id": "bHuKzKLD8yjK"
      }
    },
    {
      "cell_type": "code",
      "source": [
        "def gm_m_step(data, Gamma):\n",
        "    \"\"\" Gaussian Mixture Maximization Step.\n",
        "\n",
        "    Args:\n",
        "        data: a NxD matrix for the data points\n",
        "        Gamma: a NxK matrix of responsibilities \n",
        "    \n",
        "    Returns:\n",
        "        Mu: a DxK matrix for the means of the K Gaussian Mixtures\n",
        "        Sigma: a list of size K with each element being DxD covariance matrix\n",
        "        Pi: a vector of size K for the mixing coefficients\n",
        "    \"\"\"\n",
        "    N, D = data.shape # Number of datapoints and dimension of datapoint\n",
        "    K = Gamma.shape[1] # number of mixtures\n",
        "    Nk = np.sum(Gamma, axis=0)\n",
        "    Mu = np.dot(data.T, Gamma) / Nk\n",
        "    Sigma = []\n",
        "    for k in range(K):\n",
        "        Xm = data - Mu[:,k]\n",
        "        Sigma.append(np.dot(Gamma[:,k] * Xm.T, Xm) / Nk[k])\n",
        "    Pi = Nk / N\n",
        "    return Mu, Sigma, Pi\n"
      ],
      "metadata": {
        "id": "zOwM3BLvitaM"
      },
      "execution_count": 31,
      "outputs": []
    },
    {
      "cell_type": "markdown",
      "source": [
        "**d) [4pts]** Run this cell to call the Gaussian Mixture EM algorithm."
      ],
      "metadata": {
        "id": "Y2uTCffj9LX6"
      }
    },
    {
      "cell_type": "code",
      "source": [
        "N, D = data.shape\n",
        "K = 2\n",
        "Mu = np.zeros([D, K])\n",
        "Mu[:, 1] = 1.\n",
        "Sigma = [np.eye(2), np.eye(2)]\n",
        "Pi = np.ones(K) / K\n",
        "Gamma = np.zeros([N, K]) # Gamma is the matrix of responsibilities \n",
        "max_iter  = 200\n",
        "gau_loglike = []\n",
        "\n",
        "for it in range(max_iter):\n",
        "    Gamma = gm_e_step(data, Mu, Sigma, Pi)\n",
        "    Mu, Sigma, Pi = gm_m_step(data, Gamma)\n",
        "    gau_loglike.append(log_likelihood(data, Mu, Sigma, Pi))\n",
        "\n",
        "class_1 = np.where(Gamma[:, 0] >= 0.5)\n",
        "class_2 = np.where(Gamma[:, 1] >= 0.5)\n",
        "\n",
        "print('The missclassification error rate of Gaussian Mixture EM algorithm is: ',  np.sum(np.float32(Gamma[:, 0] >= 0.5)==labels)/N)\n",
        "\n",
        "plt.figure()\n",
        "plt.title('Loglikelihood vs. Number of Iterations')\n",
        "plt.ylabel('Loglikelihood')\n",
        "plt.xlabel('Iterations')\n",
        "plt.plot(np.arange(max_iter), gau_loglike, 'b-')\n",
        "plt.show()"
      ],
      "metadata": {
        "id": "khqOZ9b0UmMg",
        "colab": {
          "base_uri": "https://localhost:8080/",
          "height": 313
        },
        "outputId": "6a200e97-dd2d-4537-876d-378caeed775f"
      },
      "execution_count": 32,
      "outputs": [
        {
          "output_type": "stream",
          "name": "stdout",
          "text": [
            "The missclassification error rate of Gaussian Mixture EM algorithm is:  0.1025\n"
          ]
        },
        {
          "output_type": "display_data",
          "data": {
            "text/plain": [
              "<Figure size 432x288 with 1 Axes>"
            ],
            "image/png": "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\n"
          },
          "metadata": {
            "needs_background": "light"
          }
        }
      ]
    },
    {
      "cell_type": "markdown",
      "source": [
        "**e) [2pts]** Make a scatterplot for the data points showing the Gaussian Mixture cluster assignments of each point"
      ],
      "metadata": {
        "id": "DDGgFxSt9sp5"
      }
    },
    {
      "cell_type": "code",
      "source": [
        "plt.plot(data[class_1, 0], data[class_1, 1], 'x', color = \"blue\") # TODO first class, x shape\n",
        "plt.plot(data[class_2, 0], data[class_2, 1], 'o', color = \"orange\") # TODO second class, circle shape\n",
        "plt.show()"
      ],
      "metadata": {
        "colab": {
          "base_uri": "https://localhost:8080/",
          "height": 265
        },
        "id": "71J_HnZjkWks",
        "outputId": "d59e7cb7-856d-4b67-abe9-0235e5199349"
      },
      "execution_count": 33,
      "outputs": [
        {
          "output_type": "display_data",
          "data": {
            "text/plain": [
              "<Figure size 432x288 with 1 Axes>"
            ],
            "image/png": "iVBORw0KGgoAAAANSUhEUgAAAYIAAAD4CAYAAADhNOGaAAAAOXRFWHRTb2Z0d2FyZQBNYXRwbG90bGliIHZlcnNpb24zLjcuMSwgaHR0cHM6Ly9tYXRwbG90bGliLm9yZy/bCgiHAAAACXBIWXMAAAsTAAALEwEAmpwYAAA/wklEQVR4nO2de5RcVZX/v7tfMQ2IkkQkapJegcEHGAJpMEvxR8tjSEwkQQnR0OBjpkNwfvJb4TH0yurGCSsroSWZCc4YiIoDSUMATSJgopOQdomjkG6EaJRhTNKEhwohiIqN9CP798euk3vq1n1W3VuPrv1Zq1ZV3bp176mGnH3Ofnw3MTMURVGU6qWm1ANQFEVRSosaAkVRlCpHDYGiKEqVo4ZAURSlylFDoCiKUuXUlXoA+TB+/HieMmVKqYehKIpSUTz55JOvMvME9/GKNARTpkxBX19fqYehKIpSURDRQa/j6hpSFEWpctQQKIqiVDlqCBRFUaocNQSKoihVjhoCRVGUKkcNgaIoSrnT3w1snQLcWyPP/d2JXr4i00cVRVGqhv5uYHcbMDIg7wcOynsAaFqUyC10R6AoilLO7FnmGAHDyIAcTwg1BIqiKOXMwPPxjueBGgJFUZRypnFSvON5oIZAURSlnJm2AqhtzD5W2yjHE0INgaIoSjnTtAg4ez3QOBkAyfPZ6xMLFAOaNaQoilL+NC1KdOJ3ozsCRVGUKkcNgaIoSpWjhkBRFKXKUUOgKIpS5SRiCIjoLiJ6hYj2WsdOIKIdRPTbzPM7fb57Veac3xLRVUmMR1EURYlOUjuC/wRwsevYTQAeZeZTADyaeZ8FEZ0A4GYA5wA4G8DNfgZDURRFSYdEDAEz/wTAa67DlwC4O/P6bgDzPL769wB2MPNrzPxHADuQa1AURVGUFEkzRnAiM/8+8/oPAE70OOc9AF6w3r+YOZYDEbURUR8R9R06dCjZkSqKolQxRQkWMzMD4AKvsZ6ZZzDzjAkTJiQ0MkVRFCVNQ/AyEZ0EAJnnVzzOeQnA+6z3780cUxRFUYpEmobgIQAmC+gqAN/3OOdHAC4iondmgsQXZY4piqIoRSKp9NH7APwcwKlE9CIRfQnAKgAXEtFvAVyQeQ8imkFE3wIAZn4NwC0AejOP5ZljiqKUEV1dQE9P9rGeHjmuVD6JiM4x82d9Pjrf49w+AP9gvb8LwF1JjENRlHRobgYWLAAeeABoaREjYN4rlY+qjyqKEkpLi0z6CxYAS5YA69Y5RkGpfFRiQlGUSLS0iBG45RZ5ViMwelBDoChKJHp6ZCfQ0SHP7piBUrmoIVAUJRQ7JrB8ueMmUmMwOlBDoChKKL292TEBEzPo7S3tuJRkICn6rSxmzJjBfX19pR6GoihKRUFETzLzDPdx3REoiqJUOWoIFEVRqhw1BIqiKFWOGgJFUZQqRw2BoihKEP3dwNYpwL018tzfXeoRJY5KTCiKovjR3w3sbgNGBuT9wEF5DwBNi0o3roTRHYGiKIofe5Y5RsAwMiDHRxFqCBRFUfwYeD7e8QpFDYGiKJVL2v77xknxjlcoqRoCIjqViJ62Hn8mov/nOuc8IvqTdU5nmmNSFGWUYPz3AwcBsOO/T9IYTFsB1DZmH6ttlOOjiFQNATM/y8xnMPMZAM4CMABgi8epj5nzmHl5mmNSFKXMibrKL4b/vmkRcPZ6oHEyAJLns9fLZ6Mok6iYWUPnA9jPzAeLeE9FUSqJOFk6xfLfNy3Kvnc+mUT93WKgBp4Xt9K0FWWVdVTMGMFCAPf5fDaTiPYQ0XYi+pDXCUTURkR9RNR36NCh9EapKErpiLPKL5X/Pu5OpBgurAIpiiEgogYAnwLwoMfHvwAwmZmnAfg6gK1e12Dm9cw8g5lnTJgwIbWxKoqSJ0kEbuOs8kvlv4+7E6mAFNRi7QhmAfgFM7/s/oCZ/8zMb2RebwNQT0TjizQuRVGSIKlVb5xVvp//Pm2XS9ydSAWkoBbLEHwWPm4hIno3EVHm9dmZMR0u0rgURUmCpFa9cVf5TYuAec8Bnzsiz8Xwu8cdYwWkoKZuCIjoGAAXAthsHbuaiK7OvP0MgL1EtAfA7QAWciV2y1GUFOnqym0L2dMjx8uCpFa9pVrlxyHuGCsgBVU7lClKBWD3DG5pyX1fcrZOybiFXDROlpV6tVMmWUN+HcpUdE5RKgDTI3jBAmDJEmDdujIyAoBMbHZKJVB2q96S4k5BLTNUYkJRKoSWFjECt9wiz2VjBIDKcOkovuiOQFEqhJ4e2Ql0dMhzS0sZGgOd+CsS3REoSgVgxwSWL3fcRO4AsuKiCprKJIEaAkWpAHp7s2MCJmbQ2xv/WmWfgZQUFVDRWy6oIVCUCuDGG3PdQC0tcjwuzc3Zuwmz22huLnycZUUFVPSWC2oIFKXKsDOQOjsTSkMtRxdMBVT0lgtqCBSlCkk0A8nPBbP7mtIahwqo6C0X1BAoZU81+LSL/RvdGUgFBZ39XDD77iitf74CKnrLBTUEStlTDT7tYv7GxDOQfF0tLtWCUvjna8c6r+vHaW2DD2oIlLInFZ92mVHM35hkBhKAeK6WYvnnjbtq0NKvPPJmce5dgaghUCqCQnzaleJa8vqNaYw9yQwkAN4uGJD3ucXyz/u5q568tvyC2mWAGgKlIijEpx3X7VIqw+H1G+2xd3UBa9Zkj70sDJqXvMTJV5fWP++38xg8XH5B7TJADYFS9hTq047rdilFTMLvNwLO6717geuvB9rbsxVIyyJWYvoCzNwg7/fdIf75+nHw1B5KO9006s6jHILaZYAaAqXsScKnHce15GU4Lr0097wkV+NBv9GMfcMG4IorgJUryzRW4k4jHTwsfvmZG7KbxhSj4tfTXeVHGQS1S4z2I1CqArN6jiPh3NkphqOjQ84tVT8A99hnzRKj0NEhu4eyIWpPgmL1LnD3ABh6AxiK2vyQpOvZKMOvH0ExOpQ9R0S/IqKniShn9ibhdiLaR0S/JKIz0x6TUl3k41py++uB0mQuucfe3g5s3Ai0tmbHSsoiIB61krdYFb/uNpYz1pZfULtMKJZrqIWZz/CyRJDG9qdkHm0A1hVpTEqVENe1FOSvL3Y/AHvsPT3iFrrtNuC007INWlnUWkSt5C1VxW85BrXLBWZO9QHgOQDjAz6/E8BnrffPAjgp6JpnnXUWK0pa3Hor865d2cd27WJua2MeP565o0Oe3eeUaly33uq8jj2+AxuZt0xm7iZ5PrAx/wEe2Mi8qZG5G85jU2PuNaOeVyyS/BuUOQD62Gse9jqY5ANAP4BfAHgSQJvH548A+Jj1/lEAMzzOawPQB6Bv0qRJKf6plNFK2EQahJlkzffd79O6b1w6OuRfdUdHhJPTmJCjTqqVPPlW8NhLaQjek3l+F4A9AD7u+jySIbAfuiNQ8qFUk3kh941D7B3BlsnZRsA8tkxOZkCVNmFGGW+57WZi4mcIipo1RERfBfAGM99mHbsTwI+Z+b7M+2cBnMfMv/e7jmYNKfmST/ZQJdzXncUUKavp3hrkpE4CKDhjpr8b6Ls2N0OntrF8tX5MSqtdjew13mJlPKVESbKGiOgYIjrOvAZwEYC9rtMeAnBlJnvoIwD+FGQEFKUQStUAPu375lVrkUbQ1kyoXmma5ZyfH7WJzSjtcZB21tCJAH5KRHsA7AbwA2b+IRFdTURXZ87ZBuAAgH0AvgngmpTHpFQxicovl9F989IPSkOm2WtCtYkyYZaiyU3UCX6U9jioS/PizHwAwDSP43dYrxnAl9Mch6IAue4Sd5FYOd+3q0tSQe3ze3pkxZ+3WJxxedhFV9NWFOa6CZvowyZMt4vGVB3b402Dxkk+Lh/XeKet8HYhVXi6qUpMKFVD4vLLRbxvanUC7qKrQifboInePWF6rfxL1Wc46u7IqxahXOMeMVCJCUUpgFRW6j4kFnB2Sy8UugtwX9u9YgaAhnHApAXA77bJfRtOAIb+DPCQc05tY4BbqQiSD2n+XcoEv2Bxqq4hRRntmJW6V7ZO0tgBZ6N/FJu0XC/2JNpwAlAzFhh6zZlQgez7DvoEk6kW4JHcz4rhg29aNOom/qioa0hRCqCYncUSCTgHNWzJlyiqo2FBZAOPVJbkQykC2ymghkBRCqQYKamhwnlRJ6Sghi35TmJR/PpR0yuNz70SfPDFkNMuEmoIFKVAipGS+rWvOQ1pAHlub5fjsSakIBdLlICsl8GJknoZxbVjVv5JB7DTolSB7RRQQ6AoBeC3Ul+8OFwWOo509A03iPKonTW0cqUcjzUhBblYwlbtfgan4QTv86nGMUZeWTk1Df4dzOx7Bu10SumaGUXFZWoIlFFPIVr9Yd/1Sw0FwtM946SEBsYi4kxITYuAmmO8z7dX7XFSOxne3cB4xNmZeKVdnnMXcNmr/iv/sJ1OlJ1QmoZiFBWXqSFQypokGq4UkoMf9l2/it477wwPIrsn9zlzst0/7t/qG4uIMyH1dwMYyj1O9c5uwW+C9Sq4AiQ76Oz1kvHjxt6ZxHX5hO10wj5P24efRmV2iVBDoJQ1SRRSFZLZU+h3w4LI9jmf/nSu+8f+rb6xCM/+vARMnJ27Iu67FjgymDuQ+rdnVxp7TbBeEz0gBqdpkXfaJ+BvQMII2+mEfZ6vDz/qLmIUFZepIVAiU4p2iC0t0jh+/vzsidiMJ8518s3syfe7UYLI9jnbt8uOwMvoBGYNNS0Cmq5CdttFBvZ/C3jii9krYr+evYOvOa/9Jtiw1E4/Q+F3PIywnU7Y5/n48OPuIiolsB2CGgIlMmm3Q/QzNAAwOOhMxED8+5oJ9/zzgbVrs+8TZszyyQqK0ifZ65yVK6U5vdvoHI1FTJHVasvva/D816fgjb2ZCep325AjKc1D3qt/L6jGWQHX+wR/w1I7/XYEfsfDCHO9hH2ejw9/FGUCxUENgRKZJIunvCb9ujrxk7sNzamnAg0NwNixwOrVwLx58e5rT7jLlgFEco2ennBjlk/jeyCavpDXOe3twObNuUbnxhszRsBarY49chBzx10BPDg+f/eLgUcQuGswMYSgFXDjZO9rU21+fvkw10vY5/n48EdRJlAcVGtIiU1npyNzsHx5ftfwa6TS3i6rYqOn85GPAI89BmzZIufccgswZgxw1VUSkI2CWw+op0dcTTNmAHv2BBuVUmgJ+TaX8WuKAkDcQhH/LTeMA+qOlcmNaqKt2GsaJMsnyPXhpzMElK4pTVz9oApvPBNGSRrTKKOPpIqn/HYXS5dm++MnTgSYgaeekvu1tgJvvQW89FLuNb12GYsXA/v35070M2YAjz4a7vPPS+c/ZEx+rqjQXUTgqpSRHSOArOJrGrKP1TYCZ611VvUcUcjtyGC2e8QroGpW6GHZQzZp1wHE9eGPokygOKRmCIjofUTUQ0S/IaJfE1GOmAkRnUdEfyKipzOPzrTGoxROvm4SP7yCsG5Ds3AhcPPNwPXXi+98+3ZxDz3xRO59vWIY998PbNqUfWz+fJlcCzFmUSf4OHGVG2+UcdnXbWmRc7u6ECE/nbPdJB/5jqzi68c5p9SOzf5KnJx3Y4iCAqpNi/yNi3ulXY4SDaMoEygWXo2Mk3gAOAnAmZnXxwH4XwAfdJ1zHoBH4l5bm9eXhkIauHvhbra+erV3k/e2NubWVmZAzg26r1cDd/vY8cczv/3thTewN99bvdo57nedOE3lAxvdezVOD2s6H9ZsPeyaXtcPa3rv93k3ZTd5D7uOkjjwaV6f2o6AmX/PzL/IvP4LgGcAvCet+ynpU6ibxMZrd9HZmaunY1JFt2/PXsH73ddrl2EfmzED2Lo1WpMY96q/uVmCzIsXO4Hd668H9u6V33Lppd6/s7c3evppYEDerFYbxuV+0c99EZYFk7UCBnLcS17XDwuoTpzt8+s4mhBdubazHMUUJUZARFMATAfwhMfHM4loDxFtJ6IPBVyjjYj6iKjv0KFDaQ1ViUm+tQVe/vCHHwaGh3PP3bw5ujvKK4ZhH9uzJ/c7fkbFdut0dUmcgkhcTZ2dwL/8CzB9OrBhg0zwCxd6u4Hq6pzU1dtvD09dDaxbaFoEfOZVYObGaO6LKJPtUT86i3S0MQrG1+++vp87qeEE4LvjgX3rvD933zdfiYZydCnlQzkZM69tQpIPAMcCeBLApR6fvR3AsZnXswH8Nso11TWUDvm4fgJdGQmMw7xua5OHPSb32LzGUogryD6/tZWZSFxBHR3iphozRq7t54Zyu7t27ZLzjz8++1yvv3lUV1IoD47zdr88OC7/a3q5k+5rYL63Prp7ye86ttvKj9HgUsr3txcIiu0aAgAiqgfwPQDdzLzZwwj9mZnfyLzeBqCeiManOSbFn3wKxkzl77x52a6MTZvEhWITtQrZHodZqdtBXxNAdY/Na5dx+eWyUs+3X7BZnW/YAFxxhexKbrtNUljfeksC2fZOBchezQ8PZzet37pVsqBWrPCuw4gVkI+yovTLKHUfj7M69Qqo1h6X3XbSC7f7ylREm50H1cr7sMDsaMj1L7PCtdRaVRIRAfg2gGeYeY3POe8G8DIzMxGdDXFV+dTAK2lj+6fj9MVduBDYuFEmv9ZWObZpk7hRTj1VJkO7pWM+49iyRT6bM0c0eb73PbmfyTTq7ZV79PZmj9er1sBMylGw3Uq33w68+aZUOZ9/PjB7ttQ8TJ/uGMQ1a4DHH3dcU+3t2WNqaQGuvda/3WRQCmnWuVFbTg5Z0hE29vF82le62zreG2FN6Z7k+7uB/rudOgYekfcTPhpsDBon+eT6V5DqZ5kZszR3BB8F0ArgE1Z66GwiupqIrs6c8xkAe4loD4DbASzMbF+UEpGvrk5dnaySN2wA5s6VlW9nZ3YwNU41sF/Q99Oflnt89KMyCa9Z4/jhk5S7AHJX5+eeCwwNibHbs0cMgL27OPVU4Ac/kMl/+XInmFxXl33NoDqMyAF5vxXl41dlr+qj+OGTWJ1GmYT7787eaeR739GQ619mEtZpZg39lJmJmT/MzGdkHtuY+Q5mviNzzr8z84eYeRozf4SZf5bWeJRoxC0YM5Pl1q3OZPXXvwLf+Y5M1Fdc4QRT40hR+AV9t2+XiXjnTpmITX3BypXRDE2+BV49PbLSv+024LTTsl1B5ncPD8vnK1eKEVy5Ut6bAHiidRhBwnB2AHXi7PBJM2x1GsVt5KmA6iKnfaVPlXSYXEY55PoXGugtM2OWmmtIqTzckgYtLeEreTNZAs7E3dUlk39ra3baZ1SXjNc45s8X37qd+rlhA3D66fLs5WbxwnZRuWUc3NircLfLBsh12ZjzX3/dcf0sXepxjSndwNZlaBl4Hs9/fRJ27l0BtMScxPzcIzYjAyJGd/b6YJmFIFdLVLeRLWE98Dx8gxO2cfGVxSCnOM0Pt2uqmOTjSnPj/ntFkb9IEdUaUo6Sr67O4sUSzDV+/HnzxJc+NCRVwEuXZk+4xp/vdx+vcSxeDDz9NLBqlbxfsEB2BDt2yPMLL0R3PZmxTJsm97SNS1QdIb+/1aZNku7qG2Px0uPx0uEJ08gJ0vXJgkReIYigMe1Z5m0kqFYqiP0msDDNnkDdJOu8cqSC9YhUa0gJpZCCMaMHtGCBZNLU1ADnnOM0WrGDns3NEkdYk0khsPPtu7q8x3HnnWIE5s2T3UF7u8hMHHMMcOCAo+Mfxc1i4g+PPipuG5ONZGdJhWU4eWVYzZsnBjHQ9RPFLx4lT97tHglqGhNGkKslqgvK7RoJcn30d4fvZso5A6jMAr1JoDsCJRF6emRyv/RScQfZrhevFfaaNeLfv+IKpyFLFD//4sUycTc3A319zi7Ezhqy7+W1cl+zRtw2110nvQlGRoAjR0Tq2lzPyyXmpWI6bx7wrncBr7wi2VMmVdWdyXR0TPfWwD+nk2TiHn4DGPRIngtacUbdacQlbOUeNDavXQ0QbSdTzqvrUbgjUEOgRMLPXQM4KZpGnvr88yWYG8aVV4p//9xzgWeeie7aiSOD7Y43GAN0222Oy+qTnxRX1tix8plf2qyXTPScOcDAANDYCDzyiI98tE3UidWTEDdPXMnlKCTpggKi/f5SSVZHJS2jWwTUNaQUhJcrZNMmcYUYt8ratTIhuhU0vTAZQOeeK/0GZs2K7t9fvVoC0XZWk58rx63d09npGAFDQ4MYLyLvtFmTaWRf68orpY6grk4MUl1dbjtNz98zbYXIQ+dDmJsnqbaJdkbMnmWS/5+ECwoId59UgtpnOWQtJY1XuXG5P1RiInmiyEv4KXsefzzz2LHh0gnu68yZI9+x5RuCJC1sxU+v57Y2/99gZCGMeql9PVv+obGR+W1vk2va5x1/vCNxYZRQGxqypSvGjs29Rw4HNjLfWxdN7dOt3PnEEu/rPWDJSDw4rjCZgnzUSuNII4wGeYgKBqWQmFAqhyjyEn5FXjNmiGvlK19xjgXJOPT2SkzgscckyPyFL8gqfdky8bn7FYX19koMwhRymf6+//zP0snMFn3r6RHXlS365q6NsFNfTS3EI4/I7uD6651gNiDjvP9+2Qls3Aiceaa4kmzMziKw/mLPMoA9lPXc1ByDnGb07oKs/m7g8S9kt5YcPCwN66Pmtbvz4fuujaZW6u5xcOi/o+XVR8mfLycxtipBYwTKUczk75f66PU5EF+SAnBiDvb3166VyXzqVO/UzK99TbKRHntMJm3TupJIqpq3bZNz584VGYjGRqewy7f9I8IDyuZ3fec7Tn3EPffkttcMusdR7iWEUtsok2tYwDjI3x4WWD6aFuqXy+/GigFEiRtQvTTG8XKX2LGM+hNkCIOviXtp4mwxeO5rN4yTzmqV7H4pAzRYrBwlqF7gjTe8A7FegdJ582QS3rIlwgQYgDv4G9TP+F/+RbJ8mOX5rbfkGp/6FPCzn8kOYcMGOdbRARx7rL9RueGG4JoJe1wtLY7O0fbtsjNZuFDOM9cCnO97Zkv1dwM/b0XgxNs4WVbHvudZE3JYBpJX8DZy8Nd9uVpgapsUqEUNdtePAy571f9zz7EEGKYKCciWMxosVo7i5wbyc6EA3mJoCxeKume+yp7m3u57ugO8dj9jo945MCBGYMwY2U08/DBw0kliBMaMca7nNgJmnDfc4O8K6+qSHYEZ19q1ssu44grZCTzwgLiJ5s2T75qdiO1K89UH8pvkqF56DJggbxQtmqAArf2Z7Wp5/Kr4RgCQuoF96+JlPA0dDnbteNVUBBnJkQHg51eqqygF1BBUIV4Tre3e8CqG8ivycqt7Ri1AA4K1d/zE71pagPe/37lGTQ1w2WXABRcAv/qVI35n/0Yvf72fsWlpkWtcf70jHnfuuaKfdOqpzne3bBFDOGeOxA3cOxjPYrSgjJmp/5C90o3iS/fLQKppcM5zF6cZpc9iYQrOdl+T6/fPqwDrSLwYiBIJNQRVinuitXXzzedxV/dRMemYblE3896kn3rtTtasAX7xC5nsx44VQzB7ttQtnHmmxAVuvtkRhHP/Blt0zv4bTJvm/Ha3eNwTT0jKqt09raVFjKBRQzXpr4E9HIJW8Ae+DTw43pkogfAUxaZF4oe3A7cN46Rhva1lk88OIElGBoB9d+RWSjeckN/1jgyWTLd/tKIxgiolLDCcL1H0ivxiAGHv29vlGvX1jjvGFHRNmgQcPJh97vBw7u7ELTI3f74Elk1VsT3usMI1c61ZsySTyFRJ+/4t4/jnaxqyJ/R8CYwjGKIGjH1oGCfB3rjXqB8HHHkzT0MVsYBNyUJjBMpREpVDdhE1DdW3QTu84xGXXip++VmzZDdgmDRJJvGLL86+tpcRsD+fN0+MCLP0ENiyJXfcQXLc9t/wnnscue3AwjiTehmFI4PAk9dGOzcIv10I1eLoTmPmhvyvP3Oj9FDOZ3U/9Jq164mJOwby3fGSkXUvyc5KXUexSH1HQEQXA1gLoBbAt5h5levzMQDuAXAWpDvZ5cz8XNA1dUdQGEGrdsD5zE7xDMyGcV0XyE0JdccSurqkYY2RkDbZQn7Xdq/k582Tyb6uLls9NCoXXCCic/Zq39YHCtqhAOKOuuCCbGXV6dOBH/8Y+NGPQsYTR2bicwX++9x9jbhlslbrmR2AyVBqWhQtrdWL0Cwn635e3zUprl67pZoG4MgwAI+Vf/04YMZaef3EF8VwZt0yIH21iinJjoCIagH8B4BZAD4I4LNE9EHXaV8C8EdmPhnAvwK4Nc0xKcEqo/aKvrnZUfs0ipxBXcD273cyaYzv3aR3uqmrE3eKkYowncb8rm1W8nPnSj7/m2+KS+jazKLZ+P6j9ETu6ZEOY+7VvvkbBLWLNNxwQ3aHtPZ2UV9dtSrC7ipKE5d8sTOEvjse2P8t5E7CmfcDB6Ugrb9b3Dv5EObvp1rg5KvDA99esg3n3AXMvCc7BmIYOiz3ffLaXCMASP9kjSNEJm3X0NkA9jHzAWYeBLAJwCWucy4BcHfm9XcBnJ/pd6yUAHe2DZG4T6LUCCxcKOfPnes0eB8cdLJtDD09Tveu7dvFnWKydIJW0sZFZOoE6uslh3/2bOC557KlrG2jYAeI7RhCX1+ufLVtFNz3tncq5u/U0ZHdIW3p0ghBdvek5/fP0GsCDMKdITR4OLyhPA9JNfFZa2UF7kXjZODkJf7GYmRAbIvXZP+Ru4GzvxFNm8dLK6lpkdQieLmPRga8i+4MFSwLXWzSNgTvAfCC9f7FzDHPc5h5GMCfAOT8H0dEbUTUR0R9hw4dSmm4CpCdTfOVrzjN1sPaTba0iM//r3+VFXttrZN941WTsHSpZOts2CA+drulY1dXblvJnh5p+lJbK+d++MPA3/4mDXDuuEPSSFeuFGMwZ47TK9jsctasEcNhUmUvuECeTYP5sB2P1++97rrcVpyRUmjNpDdzA9DwztzPqR6YvCCe1EK+GUJDh2U859yVPVnP3CiuqXnPyWRed2zANV4LnuwLFcTLZ1KvpGb2JaZiWlUy83oA6wGJEZR4OGVBvh3FwrADpbffLjsCu91kUIex/ftlJ/DWW/I9u8G7Od/OHurrkzTQhx4SzSF3LMCd4TM8LL/76adlAm5qAvr7gXe/W4zBFVfI5H7LLfI8fbrc1zSSN5+bnc306U48I25VtDugbHSWItHfLSvxIZ8Vbe0YceuYFX2UdoiFroCD2j/uviako9ikdNtH+rXTrB8HjPzFO0ZQSc3sS0zaO4KXALzPev/ezDHPc4ioDsDxkKCxEkKUDB0gXsN2twuIWdw9tsuori77vosXyyRdVyfS1G97m/j+mZ2YgV8a55YtkrXDLKv4efOyexWbe65YIeds3y6T9/btwIUXihE4/XTgD3+QpvJmdW5cNCYzaeVKJ7NnyRJnB2DvfmbNil43ETnzqr87Ux+QyWj57niZVHe3+RsBQJrTuN06IwNiPPzIdwUcFh/YfY1UFftC8SfduMJyfgV2M9bKTsb+DfXjNFAck7QNQS+AU4ioiYgaACwE8JDrnIcAXJV5/RkAu7gSixsKIM5EbROWhmmIajCA7ECp6ee7ZYuzojepmfZ9779fJulvflP0fzo7ge99T1b4IyPATTfl/ib7Pi0t4n4aGMjdaZiJ+tFHncCwHZxdskSyj846SyqLL7wwW6rCnuS3b3dW78aYGSmJ1lYJXtdF3CNHCSj7qoPuW5d/kdfQYe8q3f5u4G8euj5+fn/787PWBp+zPyTlNW7gO0orTjdBPQCaFkkK6+dYHpe9qkYgJsVIH50N4N8g6aN3MfMKIloO0cV+iIjeBmADgOkAXgOwkJkPBF1ztKWPhhVUhRGlY1ehBWRebijTYcyIss2aJcfHjJHqXiMQt2iRIxEd1PnLa2zuz4zYW2+vTNorV0ps4O67gauukmfjFjKxAFPwZXclW7BAvmfcSXHaZUamoG5kQbjSMYPSLN91PnDox97SElQrwVy/STNLpTRsSDHSNSu41WOlU7KCMmbexsx/x8xTmXlF5lgnMz+Uef03Zr6MmU9m5rPDjMBoJOrK3ouwwif7Hl7aPVFx7yrWrMlO/wTE/fPWW7JjeP11yRhiBk48MdvXbweC3Ubv0kuzewq43S+bNzv3MjuTKVOkj8A3viHPw8MyqXd2yuennZYdtDZ/7+eey3YXRcr4iUNqWSuuxduRQXgaAQB4ZZe3ETAZPUFG4OiqPcqQhoLdVjZxmr9rb4KioBITZUScXrxAvJ1EEpIS5hqTJolb5pOfdFo+zp0rE/CCBcB998nr1lZxEQ0MOLuGuXPlt5kg7aWXSnrps8/KJG+Mhbu4DRDjUVeXXTXsFxyPI3WRtMzGUQJ3BD5FVsUgbCcA5L+biVIAF3VHUMG9gcsV7UdQ5uQzKUXNGirU9WRjjFVDg6ywjWtm3TrgAx8AXnpJ3EFHjjg9A+rr5XVDQ3ajGCBY68fvb2TGvXixxCfs73n9fr/GM52dIl9d6N/EFxMj8Mvlp1pZrTdOluBwUE584lBwg/tIGkUeRDEEUSd4dSEljmoNlTH5av8EVQjbmNx5O7DZ3i7H445z3Tppx1hfLzGAWbPk2N/9HfDMMzLxP/ww8PnPS45/Q4ModL75pkz4998vhsP8vsFB+Wz8+PAJ2O1CM0Fqe3xeQXCvYLnZdfkGe6O6JILO81IHteERp8J28LXgH58FxTjXj5AgbT4ZSFGrk6M2f4/jQlIKQncEZUBa9QD2tQrdEXhp/bz1ljxOP10ydk45BXj5ZcnuWb1adg6ATNpLl0pNwvvfD+zeLcVcO3aIQRkaAo45xlmdh+HuHBZlJxVrxxV1xRrXdRG0wgUKCyzXNHhLLUTBa4Udt5NZUmqpNrojSBzdEZQxUVf2NnFSTgsJRhvc6Z433yxG4N3vdtI2//hH4JJLZJK+7jqJA6xcKRP88uXiwtm/X4zBjh3SS2BoSCbn5cslfhC2C3IHx4HsFFG3MTV/j1jBcq8KXbuBe9zzDH4T/cDBwvWHjgxmFEW9CNlBeK2ws1btIVBt8kYAiNacR0mEiqksVrIJUsj0wp4IzUo6Du6Yw8qVMvnv2CHPTz3lxApMLv/LL2dnCt14o9NTgEjiCKefDnR3i0vJ1C74jc29k3n5ZTEetbVOHcCxx0oWkf33Md+NXAXs65I4GPE8n+MmJuB13Eyij1+Vfxcx42qyjRPVZ64XsPP3cwOZHP2weAEfSSd4azfXGXg+OKahFITuCCqUuKv8qGmmUejtlQn9Zz+TCdgYgbvvFmPz4x/L+82b5TNbDG54WLKNmGUC/9WvJJYwMiLuI79dUFeXVC3bv7G2VnSNzj1XegJcfbX8tp07/Y1kpBiMr3+csv3pUfoK2/hN8DwiFcc/by2slaTxtRvfe+0xmUB1QAOXKFIMYfGCNDV9CtUoUiKhhqCCieruSLoRzf79cp2HH3aauX/nO8AnPiG5/KtWSaHW9OlieEyhVnOzGISHH5bxNmSKXgcHpQo5aJfS3OzUEJjfdM89cp0nnhBj+OCDEqfYsSP777Fpk6SpBlYB20yc7fMBZ7t94rougtwsg4dRUDqpua8tZhfFv1//9vDJNchtpa6aUYEaggom6io/khxCTEyOQVeXrPobGoCJE+XY9Ony2LFDpB/sat2dO6W467LLxD0ESMD4ySeD7+e1A3r4YTE8dozglVdExO72252itM2bpRrZfT3P3Ud/N9B/t/9AbLdP1OwXQ1p9CBrG5d53zzJEMixRspXc8QITiwj7vUrFoFlDFUqStQGF3N9LvmH2bHH1vP/94vppbZUV/6ZNwNSpsrqfP1+MybXXShczovA6AiC36M5rHNOnR+hgdlQ+4XlpqsIQKWWqCXbP5JuxEkeuISpUC0xtE4lo971+fkW0a2gGTlWhWUMVRlhWUBqr/DgYt5TpJbBypUzSs2dn+/8vvFDOuegiMQTNzfLMLBP08uXyzCzHg363ewdkuoO5ZSQAfxE7AN4NXIYyrpkgI1DTIKv6uLIHceUaosIj0oZy9zW594qCunWUDLojKFNKveKPOj6Tlz9rlkz4Z54pchGG4WGnXeXq1bJrcNdN2NIRJtunvd15P2eOCMo9+KDz+9esEVXTVascmQszrk2bxB1k1wxk9VDIVz6B6oGp/wAc+HZ2zn5YDn1q4nNHByYxgaZF4feqOxYY/qtm4FQpuiMoIvnKStvfMyv8efOk+KocjYAJPre3OwJ0zz8vY6ytFaNgjEBrq9OBzF030dzsBJPtJjJ798p9brlFMpJMdbRJX121yrmm/bczmkW2iF1WD4V8K1N5CNh3Z27h1pFB6Z3rR+T7UZ69g60gdtC9Zm4EFvxFM3CUHNQQpEAc/f+g7wEy0T36aH6KoWlhu6Xs/sOnnSbHH38cOOcc4LHHZAJubAS+//3wxvR+TWSWLhVVUeN+MkbITjc1fzuTIWTSVhculHOffdYxCq8PFZLu6JOKGaQTFCW90gRgh173OyHYSBgD4JvSOlknfsUXNQQpkG8lr/t7putXErn/SWBW3faK3ky8ZlJuaZGMoB07pC9BY6Os6IlkdxNFJtt0ILNjAb29wamy5m+3ebNoF11/fba+kskcWrIEuGb9CgweSSF7x48o2UKm6Ms3RsHApAX+3zcGQKtxlTzQyuKUyLeS1/7e2LHSxtFUwZbaPWRW3aY5DOC4YYw2UnOzuHHmzHF898awPfusf+WwCQSbamUjO/GOd8ikfvXVEiMIqgy2/3atrbKDeP11J07wroFu/OO7luG91zyP1/56Ao47biwa+LXsrCEAvmmXVO+vJOonLAfkVsjGyVIyNE4GfrfN50NyJnqtxlXyIJVgMRF9DcBcAIMA9gP4AjO/7nHecwD+AmAEwLBXEMOLSggWRxE585NH7ugAZs6Uxu5hEsvFxqSHMsuKf+tWOT5/PnD55U56aBwBPTvm0NsrDWPszmGXXSbFY2GS0X4B7I4O4B+nX4P3DNyBGnL+fx8YbET/hPX40CetSfLeAF2ehnH+LqCZG/ObbKPIPRshu5+3+p8bRf5ZqXqKHSzeAeA0Zv4wgP8F0B5wbgsznxHVCFQCUSt5vbp+XX+9rGh37hQjYH8eJkQXRr5BbBvj+jHKoz09Tk3AwoX5CejZMYcbb5QiMTtGMGVKtjKpV6psUAD75d3deK/LCABAY8MA3nvYRyDOi6DiqyhG4GjaKQH31ckzhfwTtIu2gvz/cdHOX4pFKoaAmf+LmTP5HHgcwHvTuE+5EjXH3x0T6Ox0CrOCvpcv+QaxbXp6ZJXe2iqG4JZbRCLCs2grIm7jYe5h3EBetQBu4xIUwP63zy8DkfeK+fg6V5aNX0C2YVy0idhvgnXXEhh3UJBbyJaNADLSF+R9ThzyaR6vjGqK0bz+YQD3M/NGj8/6AfwRst+9k5nXB1ynDUAbAEyaNOmsgwfTzMsuLnFbVBZCVF3+ILfVI4/I+1mzxBiMGSMTdxKxiyTqJ3LGHuR+aZwsE6nxqdefAAz/CTi6joFTJwAE9x8I6k+Qb1Wxqfz17A9AwMlXe1cWB8UIVOe/akncNUREO4lor8fjEuucZQCGAfgtNT7GzGcCmAXgy0T0cb/7MfN6Zp7BzDMmTJiQ77DLjiRVQW383EBh2TcGr92DMViAuIPGjJGdgXmfxNiTqJjOcU8FqYlOnJ29Oh46DCdVM6MfZIrFwrSF/PoT/PyK/AvKTFqo17XBuQHkKKt97fyluMjbEDDzBcx8msfj+wBARJ8HMAfAIvbZdjDzS5nnVwBsAXB2vuOpRMxq1yhj2rGEuL57N35uoLq6aIbHT+Rt6dJsiYh77pHdgJGIKJR8YgyheKZvZlbTv9uWO8HykFTgfu6Is1swrh7AXxa5kInUr6mMMWJRJ+8ozXLiymcro55UYgREdDGAGwF8ipk9tXCJ6BgiOs68BnARgL1pjKdcMavfhQtlogXk/aZN8X33brwmciMHHVWO2k/meurU7JhAS4u8f+GF4GB0EsHqvPBayc/cIC6VoAk2ri8934mU6kU8Lij/P+rkHcVgaK2B4iKtrKF/B3AcgB1E9DQR3QEARDSRiMxe9kQAPyWiPQB2A/gBM/8wpfGUJWb1694N2BIJheCeyIeHneuaydd2u7gnZS+3VVB/5RtuCA5GJxGsztuY+DU4CZpgg1bXXkHhfGWm698uRinI7TRthcQqbIwInnvcfr/HEFc+Wxn1pJU1dDIzvy+TFnoGM1+dOf47Zp6deX2AmadlHh9i5qpejkRtMhMH90RuT+BmUgbEILknZb8U2CzNHmR/L6yiOt+Ka5ssY9LfjTc3TcH/+V0N/u+kKfllvQStjoNaVj7xxeydwhNflM+i9vm1idITAHCaQPi9B6Kv9rXzl2KhEhNlQtJB47BaBjMpz5kj4nDz52dn6tx0k3dXL7OrCJrsvQyaWcnbn8+aFT811oxj063dGPzvNow9chA1xBh7JM8USK/VcdNVIY1davyF5452CNsYfXfQOCncDbVnWW5VMw9l+/79fo+u9pUQVIa6DEhDcjrIhWMHXq+8Ugq3GhqAH2Ycc6ZALKg2wC/l1S891Rw3cQp3Q5u4vH73FLyjPoUUSM80TQt3c3g3n+PsJjSmYX3jZOkh/Jff5F4vKL3U/B7fFFiSVb2iREBlqMsYO2Uyiu8+ClGyb+zisKEh4OKLZYcQZgR6eqS3QGtr9u5lzRpg7lzvXYiRl77uOkdUzjSSWbMm3u/r6QHe7i4EM8TJ3Nl9jVPhe1+dvPdM08xgVtdBeBWOGdfM3F/LTsGs1uvHAbVjRTrCL700VFVUM32UwlFDUAbYk3aY7z4p7F3HPfeIpMPgoHT1uvZa/yIz0xXslltkMp86VVb3ptjsvPNEArqry3Hj3HQTsHixuJWMqNz06fK+vV0+r6vLHZ+XcTDjfqu2wIlx9zXAvnXZFb771gXk+5PjS/cTmKsfF56+aTeXP/JmeNN6VRVVioAagjIjiYBqFNySDA89JO6h+nrpIewVo2huljG1t4s7p70d2L0bOHIEWLZMKo4/8QnRS7In9meflZTYujoxEsYY7NzpNJhZuTJaNpEZ99hzIkyMQXo6+0NW9m5sAzNjraR82lC9HA9LRzXjefyqYBcTkP171PevpIjGCMqUYslO2KJxtpKon3vIT+GzsVHcPuvWOXEAO07w1FNiIIyi6PTpYgxaW2VHElX6IosgKYUguYemRcEqo27s74Xd20++oWEcMPJm+ORvMNIXOtErCaIxggoiLdkJN11dslK//PLsSf/yy6XIzSujx531Y8ThmJ1MoaVLczOHhocdRdFZs8QwtLZKzYQ7myhy+mxQCmSYi8avkteN38rb795+LhxGdCPgFptTlJRRQ1BmRJWwToLmZqdzl53Zs3AhcOed3rIOxki1tkrWj+kC1tAgjXRuv13iBW5D1tzsBKbN90yPgQULvL9TEGEVtlPbIlyE4ufY+7lwhiLWCgC5khCKkjLqGiozoqZ9JkUcl8zixbKD2LpVxlNXJy6s4WGZ5AHgmmuA//kfySpaulSuP3euc475npG6aGnJVjVNKn02ksLm7mskVuAnBZ2kGqffeHzRtFAledQ1VGb4SSUA4WmfSWr2uF09bgNkX/Ppp4GRzJx5443i5x8aApqaHKmMj38cOOYYCRAbRkbkHPO9pUsdTaWuLjESxgiYMRXch8HPRTNxttMcxhiBhnG5wd+kM3L8xuPX/0DTQpUiooagRBSiu5OEZo/BdvVs2CArevuadXWOMVi1CqitlWByZ6c8v+1t0lHMcOed4u7ZvNnJetq2Tc5xu7g2bpTr2+mzxvgUpDhqArkjA04swFQM99+d2xxm8DBAmbz+tDJy/FxGkxYgkWYzilIIzFxxj7POOotHA7t2MY8fz9zRIc+7dhXnu+5rmO8uWcIMMF94oRxfvTr32rt2MY8dK+eNHet/344OOaejw3/M7uu7x5MXBzYyb2pk7obz2NQox7dMzj7ufmyZXMCNM/d+YJxzvQfHybE4Y+0m5ieWFDYORfEBQB97zKm6IwggbdnkQoTmkhCpczeB+cY3nBz/D3wg249vQ5T97MYv68k9ZuMiSrRmIihbKKzquJB+Av3dwONfyDS2yTB4WMTo/PSPojabUZSUUUMQQJIuGC8KSRNNIsXUq1fwU08B554LPPaYd8xg/nxx53R0yLO7M5kd6D32WMkOspvtrF0LnH++M+bEVVeDsoXC/O5+n0dp9O4lCgeIGJ1fBlBYZpM2mFeKhBqCANKs8i0kTTSNFFNbFO6ZZ5w0zzVrnHPszmTLl8uzuzOZvctobpZdRXu7nDNvnuwili1zxpx42miQJk9QvwA/v3zU5jRBuwm/z4LGqg3mlSKSmiEgoq8S0UuZxjRPE9Fsn/MuJqJniWgfEd2U1njyJY0+AUC03rx+rqmvfa3wvr5e47E7mN1zj4jCdXY6Y/DrTDZ1qnMde5dhxrVyJbB/vxiBLVucDKP2drl+ojUTfpP90BvybPcLsAPJfsHhKK0fgeDdht9nQfpBUe+rKAmQWh0BEX0VwBvMfFvAObUA/hfAhQBeBNAL4LPM/Bu/7wDFrSPIS/og4XsXIk8dpy4hiRoGr2sYqWu3XEZqNRP93dIbYPBw9nEvqYgwoso/mxiB2z1U0wCcc5f/Pf2kKlR2WkkBvzqC1DJ7AHwVwPUh58wE8CPrfTuA9rBrFytryJ3FEpTVcuutucd37ZLjSYwh3+wg8/22Nnlt/4Ykxud3PzPO1auZiZhbWxPICIqDX4ZQ3MygONeJmzVUjPErigVKlDX0T0T0SyK6i4je6fH5ewC8YL1/MXMsByJqI6I+Iuo7dOhQGmPNIYr7xpBWYLlQ15QZ8/33A5/8pNOJDEhH3tqOq1x5pQjN3XabuJrSlMvIIUoT9yjEkX9uWgRc9qo0p/kcA595Nf9aBJWdVoqJl3WI+gCwE8Bej8clkOb0tZA4xAoAd3l8/zMAvmW9bwXw72H3Ldc6giRy+21uvdXJtbdz7/NZxZu8/rFjkxtflPu1tmYfT2MX4kmSK+qjNQgkz/mu8ivlvsqoBT47gtRcQ1k3AaYA2OtxvKxdQ/ngVUiVL8atsnq19/uo2AaqsTG58UW5X1HdQTZBhWWKUqX4GYI0s4ZOst7Oz+wU3PQCOIWImoioAcBCAA+lNaa0SVo+enjYaefY2SnPt90mx+OMyQ4w19VJ7wC/5jOFUkz11EC0kYuiRMfLOiTxALABwK8A/BIyuZ+UOT4RwDbrvNmQzKH9AJZFuXY57gjiBJbjUsguwwSx3UHitrZ0VutpBc0VRSkc+OwIVIY6IdJKhUwqfTXf8RVbFltRlPTwSx9VQ1DGJFFHMBrGoChKMmg/ggokTvpqWqQps6EoSnmgOwIlEp2dUsvgrg5WFKVy0B2BkjdJZ0MpilJeqCFQAimbdNBKQyWklQpCDYESSDnEKSoOlZBWKgyNEShK0myd4vRFtmmcDMx7rtijUZSjaIxgFJB260wlIZISvFOUIqGGoECKOTmn3TpTSYigzmOKUoaoISiQYk7OmtNfIaiEtFJhqCEokGJPzmm1zlQSRAXvlAqjrtQDGA3Yk3NHR7qTszun3/T/VSLi1xoyaZoW6cSvVAy6I0iAYhVcaU5/gWhap6J4ooagQIo5OWtOf4HsWQaMDGQfGxmQ44pSxahrqECCJuekXTZess/qGoqBpnUqiiepGAIiuh/AqZm37wDwOjOf4XHecwD+AmAEwLBXoUO5o5NzBdE4yafQS9M6leomFUPAzJeb10S0GsCfAk5vYeZX0xiHomQxbYXEBGz3kKZ1Kkq6MQIiIgALANyX5n0UJRKa1qkonqQdIzgXwMvM/FufzxnAfxERA7iTmdf7XYiI2gC0AcCkSbqVV/JE0zoVJYe8dwREtJOI9no8LrFO+yyCdwMfY+YzAcwC8GUi+rjficy8nplnMPOMCRMm5DtsxUK1ixRFAQrYETDzBUGfE1EdgEsBnBVwjZcyz68Q0RYAZwP4Sb5jUuJh5DG8+hErilI9pBkjuADA/zDzi14fEtExRHSceQ3gIgB7UxyP4kK1ixRFAdI1BAvhcgsR0UQi2pZ5eyKAnxLRHgC7AfyAmX+Y4ngUD1S7SFGU1ILFzPx5j2O/AzA78/oAgGlp3V+Jhi2P8fLubry5aRnGHklZh0dRlLKiKiqLu7rEH26vdnt6pPrXqyCsWrBjAi1TujHy/jbUHsnk2BsdHkCNgaKMcqpCa0gbuniTJY+xZxlqoTo8ilKNVMWOwA6KLlkirhANirp2Q6rDoyhVS1XsCAANioZSLu0V+7ul+fu9NfKsEtGKkjpVYwiK1TOgYimH9oraL0BRSkJVGAJt6BKBctDh0X4BilISqiJGUMyeARVNqXV4NE6hKCWhKgyB9gwoY+wewlQD8EjuOdovQFFSpSoMgVKmmJiAcQd5GQHtF6AoqVMVMQKlTPGKCQAA1UL7BShK8dAdgVI6/Hz/fAT43JHijkVRqhjdESilo1xqFxSlylFDoJSOcqhdUBRFDYFSQsqhdkFRFI0RKCWm1LULiqIUtiMgosuI6NdEdISIZrg+ayeifUT0LBH9vc/3m4joicx59xNRQyHjURRFUeJTqGtoL6QvcVafYSL6IKRD2YcAXAzgG0RU6/H9WwH8KzOfDOCPAL5U4HgURVGUmBRkCJj5GWZ+1uOjSwBsYua3mLkfwD5IY/qjEBEB+ASA72YO3Q1gXiHjURRFUeKTVrD4PQBesN6/mDlmMw7A68w8HHCOoiiKkjKhwWIi2gng3R4fLWPm7yc/JN9xtAFoA4BJkzTPXFEUJSlCDQEzX5DHdV8C8D7r/Xszx2wOA3gHEdVldgVe59jjWA9gPQAQ0SEiOmh9PB7Aq3mMs9LR311dVOvvBqr3tyf9uyd7HUwrffQhAPcS0RoAEwGcAmC3fQIzMxH1APgMgE0ArgIQaYfBzBPs90TUx8wz/M4frejvri6q9XcD1fvbi/W7C00fnU9ELwKYCeAHRPQjAGDmXwN4AMBvAPwQwJeZRVqSiLYR0cTMJf4ZwFIi2geJGXy7kPEoiqIo8SloR8DMWwBs8flsBYAcrQBmnm29PgBXNpGiKIpSXEaLxMT6Ug+gROjvri6q9XcD1fvbi/K7iZmLcR9FURSlTBktOwJFURQlT9QQKIqiVDkVbQgKFb0bDRDRV4noJSJ6OvOYHf6tyoWILs78N91HRDeVejzFgoieI6JfZf4b95V6PGlBRHcR0StEtNc6dgIR7SCi32ae31nKMaaBz+8u2r/tijYEKFz0brTwr8x8RuaxrdSDSYvMf8P/ADALwAcBfDbz37paaMn8Nx7N+fT/Cfk3a3MTgEeZ+RQAj2bejzb+E7m/GyjSv+2KNgSFiN4pFcnZAPYx8wFmHoQUIl5S4jEpCcLMPwHwmuvwJRBRSmCUilP6/O6iUdGGIIAoonejiX8iol9mtpejbttsUW3/XW0YwH8R0ZMZ3a1q4kRm/n3m9R8AnFjKwRSZovzbLntDQEQ7iWivx6NqVoIhf4N1AKYCOAPA7wGsLuVYldT4GDOfCXGLfZmIPl7qAZUClnz3asl5L9q/7bJvVZmi6F3FEPVvQETfBPBIysMpJaPqv2scmPmlzPMrRLQF4ib7SfC3Rg0vE9FJzPx7IjoJwCulHlAxYOaXzeu0/22X/Y4gTx4CsJCIxhBREzxE70YLmX8YhvmQAPpopRfAKZkWpw2QhICHSjym1CGiY4joOPMawEUY3f+d3TwEEaUEYohTVjrF/Ldd9juCIIhoPoCvA5gAEb17mpn/npl/TURG9G4YlujdKKSLiM6AbJefA7C4pKNJEWYeJqJ/AvAjALUA7soIHI52TgSwRZr6oQ7Avcz8w9IOKR2I6D4A5wEYnxG0vBnAKgAPENGXABwEsKB0I0wHn999XrH+bavEhKIoSpUzWl1DiqIoSkTUECiKolQ5aggURVGqHDUEiqIoVY4aAkVRlCpHDYGiKEqVo4ZAURSlyvn/Luh+bq5USooAAAAASUVORK5CYII=\n"
          },
          "metadata": {
            "needs_background": "light"
          }
        }
      ]
    },
    {
      "cell_type": "markdown",
      "source": [
        "## 2.4 [8pts] Comment on findings + additional experiments\n",
        "\n",
        "Comment on the results:\n",
        "\n",
        "* Compare the performance of k-Means and EM based on the resulting cluster assignments. [2pts]\n",
        "* Compare the performance of k-Means and EM based on their convergence rate. What is the bottleneck for which method? [2pts]\n",
        "* Experiment with 5 different data realizations (generate new data), run your algorithms, and summarize your findings. Does the algorithm performance depend on different realizations of data? [3pts]\n",
        "* Comment on what might happen as you increase the number $K$ of clusters. [1pts]\n",
        " \n"
      ],
      "metadata": {
        "id": "QFy3oFR57Nqv"
      }
    },
    {
      "cell_type": "markdown",
      "source": [
        "*Your* answer here.\n",
        "\n",
        "1. The EM algorithm achieves better classification with a lower misclassification error. And the resulting scatterplot using EM algorithm is more similar to the true scatterplot.\n",
        "\n",
        "2. In comparison, k-means algorithm converges faster than EM algorithm. \n",
        "The bottleneck for k-means is around 5 and the bottleneck for EM algorithm is around 25.\n",
        "\n",
        "3. After experimenting with 5 different data realizations, the misclassfication error rate of k-means is still higher than EM. Therefore, the algorithm performance doesn't depend on different realizations of data.\n",
        "\n",
        "4. Increase the number K of clusters may result in a smaller misclassification error rate."
      ],
      "metadata": {
        "id": "wSsvAFJq7WSn"
      }
    }
  ]
}
