{
  "nbformat": 4,
  "nbformat_minor": 0,
  "metadata": {
    "colab": {
      "provenance": [],
      "collapsed_sections": [
        "-bf1iLXTkXd5"
      ]
    },
    "kernelspec": {
      "name": "python3",
      "display_name": "Python 3"
    },
    "language_info": {
      "name": "python"
    },
    "gpuClass": "standard"
  },
  "cells": [
    {
      "cell_type": "markdown",
      "source": [
        "Changelog:  (Last Updated 2023-03-09)"
      ],
      "metadata": {
        "id": "gMAXaY8USfWb"
      }
    },
    {
      "cell_type": "markdown",
      "source": [
        "# Probabilistic ML: Assignment 3\n",
        "- **Deadline**: 2023-03-27 (March 27th 2023)\n",
        "- **Submission**: You need to submit your solutions through Crowdmark, including all your derivations, plots, and your code. You can produce the files however you like (e.g. $\\LaTeX$, Microsoft Word, etc), as long as it is readable. Points will be deducted if we have a hard time reading your solutions or understanding the structure of your code.\n",
        "- **Collaboration policy**: After attempting the problems on an individual basis, you may discuss and work together on the assignment with up to two classmates. However, **you must write your own code and write up your own solutions individually and explicitly name any collaborators** at the top of the homework."
      ],
      "metadata": {
        "id": "248_qtulv8jx"
      }
    },
    {
      "cell_type": "markdown",
      "metadata": {
        "id": "t1RKToQQcX2Q"
      },
      "source": [
        "# 1. [50pts] Stochastic Variational Inference in the TrueSkill Model\n",
        "\n",
        "## Background\n",
        "\n",
        "We'll continue working with [TrueSkill](http://papers.nips.cc/paper/3079-trueskilltm-a-bayesian-skill-rating-system.pdf) model, a player ranking system for competitive games originally developed for Halo 2. Recall the model:\n",
        "\n",
        "\n",
        "## Model definition\n",
        "\n",
        "We assume that each player has a true, but unknown skill $z_i \\in \\mathbb{R}$.\n",
        "We use $N$ to denote the number of players.\n",
        "\n",
        "### The prior:\n",
        "The prior over each player's skill is a standard normal distribution, and all player's skills are *a priori* independent.\n",
        "\n",
        "### The likelihood:\n",
        "For each observed game, the probability that player $i$ beats player $j$, given the player's skills $z_A$ and $z_B$, is:\n",
        "$$p(A \\,\\, \\text{beat} \\,\\, B | z_A, z_B) = \\sigma(z_i - z_j)$$\n",
        "where\n",
        "$$\\sigma(y) = \\frac{1}{1 + \\exp(-y)}$$\n",
        "We chose this function simply because it's close to zero or one when the player's skills are very different, and equals one-half when the player skills are the same.  This likelihood function is the only thing that gives meaning to the latent skill variables $z_1 \\dots z_N$.\n",
        "\n",
        "There can be more than one game played between a pair of players. The outcome of each game is independent given the players' skills.\n",
        "We use $M$ to denote the number of games.\n"
      ]
    },
    {
      "cell_type": "code",
      "execution_count": null,
      "metadata": {
        "id": "n6euHm_h4Voi",
        "colab": {
          "base_uri": "https://localhost:8080/"
        },
        "outputId": "c9644a60-945c-4d46-f0d4-edc20a97be30"
      },
      "outputs": [
        {
          "output_type": "stream",
          "name": "stdout",
          "text": [
            "Looking in indexes: https://pypi.org/simple, https://us-python.pkg.dev/colab-wheels/public/simple/\n",
            "Requirement already satisfied: wget in /usr/local/lib/python3.9/dist-packages (3.2)\n"
          ]
        }
      ],
      "source": [
        "!pip install wget\n",
        "import os\n",
        "import os.path\n",
        "\n",
        "import matplotlib.pyplot as plt\n",
        "import wget\n",
        "\n",
        "import pandas as pd\n",
        "\n",
        "\n",
        "import numpy as np\n",
        "from scipy.stats import norm\n",
        "import scipy.io\n",
        "import scipy.stats\n",
        "import torch \n",
        "import random\n",
        "from torch import nn\n",
        "from torch.distributions.normal import Normal\n",
        "\n",
        "from functools import partial\n",
        "from tqdm import trange, tqdm_notebook\n",
        "\n",
        "import matplotlib.pyplot as plt\n",
        "\n",
        "# Helper function\n",
        "def diag_gaussian_log_density(x, mu, std):\n",
        "    # axis=-1 means sum over the last dimension.\n",
        "    m = Normal(mu, std)\n",
        "    return torch.sum(m.log_prob(x), axis=-1)"
      ]
    },
    {
      "cell_type": "markdown",
      "metadata": {
        "id": "-bf1iLXTkXd5"
      },
      "source": [
        "## Implementing the TrueSkill Model\n",
        "\n"
      ]
    },
    {
      "cell_type": "markdown",
      "metadata": {
        "id": "A62Y2IWg39ix"
      },
      "source": [
        "This part was mostly done in Assignment 2. We will recall some useful functions.\n",
        "\n",
        "**a)** The function $\\texttt{log_joint_prior}$ computes the log of the prior, jointly evaluated over all player's skills."
      ]
    },
    {
      "cell_type": "code",
      "execution_count": null,
      "metadata": {
        "id": "PDmHDiac4Rpr"
      },
      "outputs": [],
      "source": [
        "def log_joint_prior(zs_array):\n",
        "    return diag_gaussian_log_density(zs_array, torch.tensor([0.0]), torch.tensor([1.0]))"
      ]
    },
    {
      "cell_type": "markdown",
      "metadata": {
        "id": "AAbAgxMl4X2q"
      },
      "source": [
        "**b)** The function `logp_a_beats_b` that, given a pair of skills $z_a$ and $z_b$, evaluates the log-likelihood that player with skill $z_a$ beat player with skill $z_b$ under the model detailed above.\n",
        "\n",
        "To ensure numerical stability, we use the function `np.log1p` that computes $\\log(1 + x)$ in a numerically stable way.  Or even better, use `np.logaddexp`."
      ]
    },
    {
      "cell_type": "code",
      "execution_count": null,
      "metadata": {
        "id": "V7nUXkYl_f4T"
      },
      "outputs": [],
      "source": [
        "def logp_a_beats_b(z_a, z_b):\n",
        "    return -torch.logaddexp(torch.tensor([0.0]), z_b - z_a)\n",
        "\n",
        "def log_prior_over_2_players(z1, z2):\n",
        "    m = Normal(torch.tensor([0.0]), torch.tensor([[1.0]]))\n",
        "    return m.log_prob(z1) + m.log_prob(z2)\n",
        "\n",
        "def prior_over_2_players(z1, z2):\n",
        "    return torch.exp(log_prior_over_2_players(z1, z2))\n",
        "\n",
        "def log_posterior_A_beat_B(z1, z2):\n",
        "    return log_prior_over_2_players(z1, z2) + logp_a_beats_b(z1, z2)\n",
        "\n",
        "def posterior_A_beat_B(z1, z2):\n",
        "    return torch.exp(log_posterior_A_beat_B(z1, z2))\n",
        "\n",
        "def log_posterior_A_beat_B_10_times(z1, z2):\n",
        "    return log_prior_over_2_players(z1, z2) + 10.0 * logp_a_beats_b(z1, z2)\n",
        "\n",
        "def posterior_A_beat_B_10_times(z1, z2):\n",
        "    return torch.exp(log_posterior_A_beat_B_10_times(z1, z2))\n",
        "\n",
        "def log_posterior_beat_each_other_10_times(z1, z2):\n",
        "    return log_prior_over_2_players(z1, z2) \\\n",
        "        + 10.* logp_a_beats_b(z1, z2) \\\n",
        "        + 10.* logp_a_beats_b(z2, z1)\n",
        "\n",
        "def posterior_beat_each_other_10_times(z1, z2):\n",
        "    return torch.exp(log_posterior_beat_each_other_10_times(z1, z2))"
      ]
    },
    {
      "cell_type": "markdown",
      "source": [
        "The following functions will be used for plotting.  Note that `plot_2d_fun` can now take an optional second function, so you can compare two functions."
      ],
      "metadata": {
        "id": "hA77ZVR5SgGs"
      }
    },
    {
      "cell_type": "code",
      "execution_count": null,
      "metadata": {
        "id": "at7JEyWs_QRK"
      },
      "outputs": [],
      "source": [
        "# Plotting helper functions for free\n",
        "def plot_isocontours(ax, func, xlimits=[-4, 4], ylimits=[-4, 4], steps=101, cmap=\"summer\"):\n",
        "    x = torch.linspace(*xlimits, steps=steps)\n",
        "    y = torch.linspace(*ylimits, steps=steps)\n",
        "    X, Y = torch.meshgrid(x, y)\n",
        "    Z = func(X, Y)\n",
        "    plt.contour(X, Y, Z, cmap=cmap)\n",
        "    ax.set_yticks([])\n",
        "    ax.set_xticks([])\n",
        "\n",
        "def plot_2d_fun(f, x_axis_label=\"\", y_axis_label=\"\", f2=None, scatter_pts=None):\n",
        "    # This is the function your code should call.\n",
        "    # f() should take two arguments.\n",
        "    fig = plt.figure(figsize=(8,8), facecolor='white')\n",
        "    ax = fig.add_subplot(111, frameon=False)\n",
        "    ax.set_xlabel(x_axis_label)\n",
        "    ax.set_ylabel(y_axis_label)\n",
        "    plot_isocontours(ax, f)\n",
        "    if f2 is not None:\n",
        "      plot_isocontours(ax, f2, cmap='winter')\n",
        "    \n",
        "    if scatter_pts is not None:\n",
        "      plt.scatter(scatter_pts[:,0], scatter_pts[:, 1])\n",
        "    plt.plot([4, -4], [4, -4], 'b--')   # Line of equal skill\n",
        "    plt.show(block=True)\n",
        "    plt.draw()"
      ]
    },
    {
      "cell_type": "markdown",
      "metadata": {
        "id": "nm-SM6Fc4yz8"
      },
      "source": [
        "## **1.1 [20pts]** Stochastic Variational Inference on Two Players and Toy Data\n",
        "\n",
        "One nice thing about a Bayesian approach is that it separates the model specification from the approximate inference strategy.\n",
        "The original Trueskill paper from 2007 used message passing.\n",
        "\n",
        "In this question we will  approximate posterior distributions with gradient-based stochastic variational inference.\n",
        "\n",
        "The parameters are $\\phi = (\\mu,\\log(\\sigma))$. Notice that instead of $\\sigma$ (which is constrained to be positive), we work with $\\log(\\sigma)$, removing the constraint. This way, we can do unconstrained gradient-based optimization.\n",
        "\n"
      ]
    },
    {
      "cell_type": "markdown",
      "metadata": {
        "id": "K-ri8HRQ461m"
      },
      "source": [
        "**a) [9pts]** Implement the missing lines in the below code, to complete the evidence lower bound function and the reparameterized sampler for the approximate posterior.\n",
        "\n",
        "Hint 1: You must use the reparametrization trick in your sampler if you want your gradients to be unbiased.\n",
        "\n",
        "Hint 2: If you're worried you got these wrong, you can check that the sampler matches the log pdf by plotting a histogram of samples against a plot of the pdf."
      ]
    },
    {
      "cell_type": "code",
      "execution_count": null,
      "metadata": {
        "id": "kZlCOViq5Ahf"
      },
      "outputs": [],
      "source": [
        "def diag_gaussian_samples(mean, log_std, num_samples):\n",
        "    # mean and log_std are (D) dimensional vectors\n",
        "    # Return a (num_samples, D) matrix, where each sample is\n",
        "    # from a diagonal multivariate Gaussian.\n",
        "\n",
        "    # TODO.  You might want to use torch.randn(). Remember\n",
        "    # you must use the reparameterization trick.  Also remember that\n",
        "    # we are parameterizing the _log_ of the standard deviation.\n",
        "    std = torch.exp(log_std)\n",
        "    samples = mean + std * torch.randn(num_samples, mean.shape[0])\n",
        "\n",
        "    return samples\n",
        "\n",
        "\n",
        "def diag_gaussian_logpdf(x, mean, log_std):\n",
        "    # Evaluate the density of a batch of points on a \n",
        "    # diagonal multivariate Gaussian. x is a (num_samples, D) matrix.\n",
        "    # Return a tensor of shape (num_samples)\n",
        "    std = torch.exp(log_std)\n",
        "    return diag_gaussian_log_density(x, mean, std)\n",
        "\n",
        "def batch_elbo(logprob, mean, log_std, num_samples):\n",
        "    # TODO: Use simple Monte Carlo to estimate ELBO\n",
        "    # on a batch of size num_samples\n",
        "    z = diag_gaussian_samples(mean, log_std, num_samples)\n",
        "    log_pxz = logprob(z)\n",
        "    log_qz = diag_gaussian_logpdf(z, mean, log_std)\n",
        "\n",
        "    elbo = torch.mean(log_pxz - log_qz)\n",
        "    return elbo"
      ]
    },
    {
      "cell_type": "markdown",
      "metadata": {
        "id": "lfAD3ffb5CD9"
      },
      "source": [
        "\n",
        "**b) [4pts]** Write a loss function called $\\texttt{objective}$  that takes variational distribution parameters, and returns an unbiased estimate of the negative elbo using $\\texttt{num_samples_per_iter}$ samples, to approximate the joint posterior over skills conditioned on observing player A winning 10 games.\n",
        "\n",
        "Note: We want a _negative_ ELBO estimate, because the convention in optimization is to minimize functions, and we want to maximize the ELBO."
      ]
    },
    {
      "cell_type": "code",
      "source": [
        "# Hyperparameters\n",
        "num_players = 2\n",
        "n_iters = 800\n",
        "stepsize = 0.0001\n",
        "num_samples_per_iter = 50\n",
        "\n",
        "def log_posterior_A_beat_B_10_times_1_arg(z1z2):\n",
        "  return log_posterior_A_beat_B_10_times(z1z2[:,0], z1z2[:,1]).flatten()\n",
        "\n",
        "def objective(params):  # The loss function to be minimized.\n",
        "  # TODO.  Hint:  This can be done in one line.\n",
        "  mean, logstd = params\n",
        "  elbo = batch_elbo(log_posterior_A_beat_B_10_times_1_arg, mean, logstd, num_samples_per_iter)\n",
        "  return -elbo"
      ],
      "metadata": {
        "id": "j-Qt2vqvKgAN"
      },
      "execution_count": null,
      "outputs": []
    },
    {
      "cell_type": "markdown",
      "source": [
        "**c) [1pts]** Initialize a set of variational parameters and optimize them to approximate the joint where we observe player A winning 10 games. Report the final loss. Also plot the optimized variational approximation contours and the target distribution on the same axes.\n",
        "\n",
        "Hint:  Almost initialization should be fine.  How many variational parameters do you need?"
      ],
      "metadata": {
        "id": "ixGDUDjwKnWd"
      }
    },
    {
      "cell_type": "code",
      "execution_count": null,
      "metadata": {
        "id": "biW5JiZq5EXc",
        "colab": {
          "base_uri": "https://localhost:8080/",
          "height": 1088
        },
        "outputId": "294ab8da-b6a1-4aca-9495-5c07a8863b42"
      },
      "outputs": [
        {
          "output_type": "stream",
          "name": "stdout",
          "text": [
            "Optimizing variational parameters...\n"
          ]
        },
        {
          "output_type": "stream",
          "name": "stderr",
          "text": [
            "  9%|▉         | 72/800 [00:00<00:01, 717.81it/s]"
          ]
        },
        {
          "output_type": "stream",
          "name": "stdout",
          "text": [
            "Iteration 0 lower bound 10.281359672546387\n",
            "Iteration 25 lower bound 6.369688510894775\n",
            "Iteration 50 lower bound 6.69489860534668\n",
            "Iteration 75 lower bound 5.77863883972168\n",
            "Iteration 100 lower bound 4.9207611083984375\n",
            "Iteration 125 lower bound 5.456614971160889\n"
          ]
        },
        {
          "output_type": "stream",
          "name": "stderr",
          "text": [
            " 35%|███▌      | 280/800 [00:00<00:00, 657.56it/s]"
          ]
        },
        {
          "output_type": "stream",
          "name": "stdout",
          "text": [
            "Iteration 150 lower bound 4.596118450164795\n",
            "Iteration 175 lower bound 4.393908500671387\n",
            "Iteration 200 lower bound 4.092942714691162\n",
            "Iteration 225 lower bound 3.9666907787323\n",
            "Iteration 250 lower bound 3.695132255554199\n",
            "Iteration 275 lower bound 3.478168249130249\n"
          ]
        },
        {
          "output_type": "stream",
          "name": "stderr",
          "text": [
            " 52%|█████▏    | 412/800 [00:00<00:00, 650.12it/s]"
          ]
        },
        {
          "output_type": "stream",
          "name": "stdout",
          "text": [
            "Iteration 300 lower bound 3.3248131275177\n",
            "Iteration 325 lower bound 3.259014844894409\n",
            "Iteration 350 lower bound 2.984020948410034\n",
            "Iteration 375 lower bound 2.9171876907348633\n",
            "Iteration 400 lower bound 2.969562292098999\n",
            "Iteration 425 lower bound 3.281099557876587\n"
          ]
        },
        {
          "output_type": "stream",
          "name": "stderr",
          "text": [
            " 69%|██████▉   | 550/800 [00:00<00:00, 667.84it/s]"
          ]
        },
        {
          "output_type": "stream",
          "name": "stdout",
          "text": [
            "Iteration 450 lower bound 2.972074270248413\n",
            "Iteration 475 lower bound 2.9940240383148193\n",
            "Iteration 500 lower bound 3.130434989929199\n",
            "Iteration 525 lower bound 3.1351189613342285\n",
            "Iteration 550 lower bound 2.930309534072876\n",
            "Iteration 575 lower bound 2.8779985904693604\n"
          ]
        },
        {
          "output_type": "stream",
          "name": "stderr",
          "text": [
            " 85%|████████▌ | 683/800 [00:01<00:00, 572.67it/s]"
          ]
        },
        {
          "output_type": "stream",
          "name": "stdout",
          "text": [
            "Iteration 600 lower bound 2.868325710296631\n",
            "Iteration 625 lower bound 2.9170420169830322\n",
            "Iteration 650 lower bound 2.903447151184082\n",
            "Iteration 675 lower bound 2.901132106781006\n"
          ]
        },
        {
          "output_type": "stream",
          "name": "stderr",
          "text": [
            "\r 93%|█████████▎| 743/800 [00:01<00:00, 517.58it/s]"
          ]
        },
        {
          "output_type": "stream",
          "name": "stdout",
          "text": [
            "Iteration 700 lower bound 2.826982021331787\n",
            "Iteration 725 lower bound 3.009018898010254\n",
            "Iteration 750 lower bound 2.783996343612671\n",
            "Iteration 775 lower bound 2.8830296993255615\n"
          ]
        },
        {
          "output_type": "stream",
          "name": "stderr",
          "text": [
            "100%|██████████| 800/800 [00:01<00:00, 588.43it/s]\n"
          ]
        },
        {
          "output_type": "display_data",
          "data": {
            "text/plain": [
              "<Figure size 576x576 with 1 Axes>"
            ],
            "image/png": "[encoded data removed]"
          },
          "metadata": {}
        },
        {
          "output_type": "display_data",
          "data": {
            "text/plain": [
              "<Figure size 432x288 with 0 Axes>"
            ]
          },
          "metadata": {}
        }
      ],
      "source": [
        "from pickle import TRUE\n",
        "def callback(params, t):\n",
        "  if t % 25 == 0:\n",
        "    print(\"Iteration {} lower bound {}\".format(t, objective(params)))\n",
        "\n",
        "# Set up optimizer.\n",
        "D = 2\n",
        "\n",
        "init_mean = torch.zeros(D, requires_grad=True)\n",
        "init_log_std = torch.zeros(D, requires_grad=True)\n",
        "\n",
        "params = (init_mean, init_log_std)\n",
        "optimizer = torch.optim.SGD(params, lr=stepsize, momentum=0.9)\n",
        "\n",
        "def update():\n",
        "    optimizer.zero_grad()\n",
        "    loss = objective(params)\n",
        "    loss.backward()\n",
        "    optimizer.step()\n",
        "\n",
        "# Main loop.\n",
        "print(\"Optimizing variational parameters...\")\n",
        "for t in trange(0, n_iters):\n",
        "    update()\n",
        "    callback(params, t)\n",
        "\n",
        "\n",
        "def approx_posterior_2d(z1, z2):\n",
        "    # The approximate posterior\n",
        "    mean, logstd = params[0].detach(), params[1].detach()\n",
        "    return torch.exp(diag_gaussian_logpdf(torch.stack([z1, z2], dim=2), mean, logstd))\n",
        "\n",
        "plot_2d_fun(posterior_A_beat_B_10_times, \"Player A Skill\", \"Player B Skill\",\n",
        "            f2=approx_posterior_2d)"
      ]
    },
    {
      "cell_type": "markdown",
      "source": [
        "The final loss is around 2.88."
      ],
      "metadata": {
        "id": "mSpP_9AmdsmI"
      }
    },
    {
      "cell_type": "markdown",
      "metadata": {
        "id": "sCmqGbeK5iAf"
      },
      "source": [
        "**d) [3pts]** Write a loss function called $\\texttt{objective}$  that takes variational distribution parameters , and returns a negative elbo estimate using simple Monte carlo with $\\texttt{num_samples_per_iter}$ samples, to approximate the joint where we observe player A winning 10 games and player B winning 10 games.\n",
        "\n",
        "Hint:  You can find analogous functions in the code above.\n"
      ]
    },
    {
      "cell_type": "code",
      "source": [
        "# Hyperparameters\n",
        "n_iters = 100\n",
        "stepsize = 0.0001\n",
        "num_samples_per_iter = 50\n",
        "\n",
        "def log_posterior_beat_each_other_10_times_1_arg(z1z2):\n",
        "    # z1z2 is a tensor with shape (num_samples x 2)\n",
        "    # Return a tensor with shape (num_samples)\n",
        "    return log_posterior_beat_each_other_10_times(z1z2[:,0], z1z2[:,1]).flatten()\n",
        "\n",
        "def objective(params):\n",
        "    mean, log_std = params\n",
        "    return -batch_elbo(log_posterior_beat_each_other_10_times_1_arg, mean, log_std,\n",
        "                      num_samples_per_iter)"
      ],
      "metadata": {
        "id": "5Zz6DkOacXDC"
      },
      "execution_count": null,
      "outputs": []
    },
    {
      "cell_type": "markdown",
      "source": [
        "**e) [3pts]** Run the code below to optimize, and report the final loss. Also plot the optimized variational approximation contours and the target distribution on the same axes.\n",
        "\n",
        "---\n",
        "\n",
        "Write one or two sentences describing the joint settings of skills that are plausible under the true posterior, but which are not plausible under the approximate posterior.\n",
        "\n",
        "--- \n",
        "\n",
        "Finally, answer with one or two sentences:  Would changing the variational approximate posterior from a fully-factorized (diagonal covariance) Gaussian to a non-factorized (fully parameterized covariance) Gaussian make a better approximation in this instance?"
      ],
      "metadata": {
        "id": "_V42MMIscvMs"
      }
    },
    {
      "cell_type": "code",
      "execution_count": null,
      "metadata": {
        "id": "ksjggALU5gWx",
        "colab": {
          "base_uri": "https://localhost:8080/",
          "height": 602
        },
        "outputId": "552b1266-6a8e-40e8-a929-375eae194dc4"
      },
      "outputs": [
        {
          "output_type": "stream",
          "name": "stdout",
          "text": [
            "Optimizing variational parameters...\n"
          ]
        },
        {
          "output_type": "stream",
          "name": "stderr",
          "text": [
            "100%|██████████| 100/100 [00:00<00:00, 640.81it/s]"
          ]
        },
        {
          "output_type": "stream",
          "name": "stdout",
          "text": [
            "Iteration 0 lower bound 26.607376098632812\n",
            "Iteration 25 lower bound 25.83322525024414\n",
            "Iteration 50 lower bound 22.150915145874023\n",
            "Iteration 75 lower bound 19.867937088012695\n"
          ]
        },
        {
          "output_type": "stream",
          "name": "stderr",
          "text": [
            "\n"
          ]
        },
        {
          "output_type": "display_data",
          "data": {
            "text/plain": [
              "<Figure size 576x576 with 1 Axes>"
            ],
            "image/png": "[encoded data removed]"
          },
          "metadata": {}
        },
        {
          "output_type": "display_data",
          "data": {
            "text/plain": [
              "<Figure size 432x288 with 0 Axes>"
            ]
          },
          "metadata": {}
        }
      ],
      "source": [
        "# Main loop.\n",
        "print(\"Optimizing variational parameters...\")\n",
        "for t in trange(0, n_iters):\n",
        "    update()\n",
        "    callback(params, t)\n",
        "\n",
        "plot_2d_fun(posterior_beat_each_other_10_times, \"Player A Skill\", \"Player B Skill\",\n",
        "            f2=approx_posterior_2d)"
      ]
    },
    {
      "cell_type": "markdown",
      "source": [
        "The final loss is around 19.86.\n",
        "\n",
        "The joint settings of skills that A and B have the same skills will be\n",
        "plausible under the true posterior, but are not plausible under the approximate posterior since the approximate posterior shows a little more tendency towards the Player A skill.\n",
        "\n",
        "Changing the variational approximate posterior from a fully-factorized Gaussian to a non-factorized Gaussian will make a better approximation, since we can see from the plot that the true posterior has an oval shape which indicates the existence of covariance, but the fully-factorized assumes no covariance so the non-factorized Gaussian will make a better approximation."
      ],
      "metadata": {
        "id": "qLvP9J3levFr"
      }
    },
    {
      "cell_type": "markdown",
      "metadata": {
        "id": "rrCmtd_b51Jf"
      },
      "source": [
        "## 1.2 [30 pts] Approximate inference conditioned on real data \n",
        "\n",
        "The dataset contains data on 2546 chess games amongst 1434 players:\n",
        " - names is a 1434 by 1 matrix, whose $i$’th entry is the name of player $i$.\n",
        " - games is a 2546 by 2 matrix of game outcomes (actually chess matches), one row per game.\n",
        "\n",
        "The first column contains the indices of the players who won.\n",
        "The second column contains the indices of the player who lost.\n",
        "\n",
        "It is based on the kaggle chess dataset: https://www.kaggle.com/datasets/datasnaek/chess\n",
        "\n",
        "\n"
      ]
    },
    {
      "cell_type": "code",
      "execution_count": null,
      "metadata": {
        "id": "9Dbf_GOZ7ejb"
      },
      "outputs": [],
      "source": [
        "wget.download(\"https://michalmalyska.github.io/csc412/chess_games.csv\")\n",
        "games = pd.read_csv(\"chess_games.csv\")[[\"winner_index\", \"loser_index\"]].to_numpy()\n",
        "wget.download(\"https://michalmalyska.github.io/csc412/chess_players.csv\")\n",
        "names = pd.read_csv(\"chess_players.csv\")[[\"index\", \"player_name\"]].to_numpy()\n",
        "\n",
        "games = torch.LongTensor(games)"
      ]
    },
    {
      "cell_type": "markdown",
      "metadata": {
        "id": "dkYB8hS07fOW"
      },
      "source": [
        "\n",
        "\n",
        "**a) [0pt]** Assuming all game outcomes are i.i.d. conditioned on all players' skills, the function $\\texttt{log_games_likelihood}$ takes a batch of player skills $\\texttt{zs}$ and a collection of observed games $\\texttt{games}$ and gives the total log-likelihood for all those observations given all the skills.\n"
      ]
    },
    {
      "cell_type": "code",
      "execution_count": null,
      "metadata": {
        "id": "pkW93RBf7pru"
      },
      "outputs": [],
      "source": [
        "def log_games_likelihood(zs, games):\n",
        "    winning_player_ixs = games[:,0]\n",
        "    losing_player_ixs = games[:,1]\n",
        "\n",
        "    winning_player_skills = zs[:, winning_player_ixs] \n",
        "    losing_player_skills = zs[:, losing_player_ixs]\n",
        "\n",
        "    log_likelihoods = logp_a_beats_b(winning_player_skills, losing_player_skills)\n",
        "    return torch.sum(log_likelihoods, dim=1)"
      ]
    },
    {
      "cell_type": "code",
      "execution_count": null,
      "metadata": {
        "id": "uaPEulQoAndL"
      },
      "outputs": [],
      "source": [
        "def log_joint_probability(zs):\n",
        "    return log_joint_prior(zs) + log_games_likelihood(zs, games)"
      ]
    },
    {
      "cell_type": "markdown",
      "metadata": {
        "id": "aUWILTA18BRn"
      },
      "source": [
        "**b) [4pt]** Write a new objective function like the one from the previous question. \n",
        "\n",
        "Below, we initialize a variational distribution and fit it to the joint distribution with all the observed tennis games from the dataset."
      ]
    },
    {
      "cell_type": "code",
      "source": [
        "# Hyperparameters\n",
        "num_players = 1434\n",
        "n_iters = 500\n",
        "stepsize = 0.0001\n",
        "num_samples_per_iter = 150\n",
        "\n",
        "def objective(params):\n",
        "  mean, log_std = params\n",
        "  zs = diag_gaussian_samples(mean, log_std, num_samples_per_iter)\n",
        "  elbo = batch_elbo(log_joint_probability, mean, log_std, num_samples_per_iter)\n",
        "  return -elbo"
      ],
      "metadata": {
        "id": "qsCQUJCFd2Eb"
      },
      "execution_count": null,
      "outputs": []
    },
    {
      "cell_type": "markdown",
      "source": [
        "**c) [3pts]** Optimize, and report the final loss. "
      ],
      "metadata": {
        "id": "O3ep43C5d_CT"
      }
    },
    {
      "cell_type": "code",
      "source": [
        "# Set up optimizer.\n",
        "init_mean = torch.zeros(num_players, requires_grad=True)\n",
        "init_log_std  = torch.zeros(num_players, requires_grad=True)\n",
        "params = (init_mean, init_log_std)\n",
        "optimizer = torch.optim.SGD(params, lr=stepsize, momentum=0.9)\n",
        "\n",
        "def update():\n",
        "    optimizer.zero_grad()\n",
        "    loss = objective(params)\n",
        "    loss.backward()\n",
        "    optimizer.step()\n",
        "\n",
        "print(\"Optimizing variational parameters...\")\n",
        "for t in trange(0, n_iters):\n",
        "    update()\n",
        "    callback(params, t)"
      ],
      "metadata": {
        "colab": {
          "base_uri": "https://localhost:8080/"
        },
        "id": "cHqVSzTSkfma",
        "outputId": "7b2c33c9-9459-4898-a2e0-fd531e81e84f"
      },
      "execution_count": null,
      "outputs": [
        {
          "output_type": "stream",
          "name": "stdout",
          "text": [
            "Optimizing variational parameters...\n"
          ]
        },
        {
          "output_type": "stream",
          "name": "stderr",
          "text": [
            "  1%|          | 3/500 [00:00<00:20, 24.40it/s]"
          ]
        },
        {
          "output_type": "stream",
          "name": "stdout",
          "text": [
            "Iteration 0 lower bound 2301.15673828125\n"
          ]
        },
        {
          "output_type": "stream",
          "name": "stderr",
          "text": [
            "  6%|▌         | 31/500 [00:01<00:18, 25.23it/s]"
          ]
        },
        {
          "output_type": "stream",
          "name": "stdout",
          "text": [
            "Iteration 25 lower bound 2179.664794921875\n"
          ]
        },
        {
          "output_type": "stream",
          "name": "stderr",
          "text": [
            " 11%|█         | 54/500 [00:02<00:16, 27.02it/s]"
          ]
        },
        {
          "output_type": "stream",
          "name": "stdout",
          "text": [
            "Iteration 50 lower bound 2069.088623046875\n"
          ]
        },
        {
          "output_type": "stream",
          "name": "stderr",
          "text": [
            " 16%|█▌        | 81/500 [00:03<00:14, 28.33it/s]"
          ]
        },
        {
          "output_type": "stream",
          "name": "stdout",
          "text": [
            "Iteration 75 lower bound 1980.27587890625\n"
          ]
        },
        {
          "output_type": "stream",
          "name": "stderr",
          "text": [
            " 21%|██        | 103/500 [00:04<00:20, 19.05it/s]"
          ]
        },
        {
          "output_type": "stream",
          "name": "stdout",
          "text": [
            "Iteration 100 lower bound 1915.7664794921875\n"
          ]
        },
        {
          "output_type": "stream",
          "name": "stderr",
          "text": [
            " 26%|██▌       | 128/500 [00:05<00:26, 14.07it/s]"
          ]
        },
        {
          "output_type": "stream",
          "name": "stdout",
          "text": [
            "Iteration 125 lower bound 1860.1898193359375\n"
          ]
        },
        {
          "output_type": "stream",
          "name": "stderr",
          "text": [
            " 31%|███       | 154/500 [00:07<00:22, 15.44it/s]"
          ]
        },
        {
          "output_type": "stream",
          "name": "stdout",
          "text": [
            "Iteration 150 lower bound 1812.594970703125\n"
          ]
        },
        {
          "output_type": "stream",
          "name": "stderr",
          "text": [
            " 36%|███▌      | 178/500 [00:09<00:25, 12.51it/s]"
          ]
        },
        {
          "output_type": "stream",
          "name": "stdout",
          "text": [
            "Iteration 175 lower bound 1780.6630859375\n"
          ]
        },
        {
          "output_type": "stream",
          "name": "stderr",
          "text": [
            " 40%|████      | 202/500 [00:12<00:41,  7.20it/s]"
          ]
        },
        {
          "output_type": "stream",
          "name": "stdout",
          "text": [
            "Iteration 200 lower bound 1746.807861328125\n"
          ]
        },
        {
          "output_type": "stream",
          "name": "stderr",
          "text": [
            " 46%|████▌     | 231/500 [00:13<00:10, 24.78it/s]"
          ]
        },
        {
          "output_type": "stream",
          "name": "stdout",
          "text": [
            "Iteration 225 lower bound 1722.2474365234375\n"
          ]
        },
        {
          "output_type": "stream",
          "name": "stderr",
          "text": [
            " 51%|█████     | 254/500 [00:15<00:11, 22.02it/s]"
          ]
        },
        {
          "output_type": "stream",
          "name": "stdout",
          "text": [
            "Iteration 250 lower bound 1700.939697265625\n"
          ]
        },
        {
          "output_type": "stream",
          "name": "stderr",
          "text": [
            " 56%|█████▌    | 278/500 [00:16<00:11, 18.99it/s]"
          ]
        },
        {
          "output_type": "stream",
          "name": "stdout",
          "text": [
            "Iteration 275 lower bound 1682.246337890625\n"
          ]
        },
        {
          "output_type": "stream",
          "name": "stderr",
          "text": [
            " 60%|██████    | 302/500 [00:18<00:16, 11.96it/s]"
          ]
        },
        {
          "output_type": "stream",
          "name": "stdout",
          "text": [
            "Iteration 300 lower bound 1668.3570556640625\n"
          ]
        },
        {
          "output_type": "stream",
          "name": "stderr",
          "text": [
            " 65%|██████▌   | 327/500 [00:20<00:15, 10.96it/s]"
          ]
        },
        {
          "output_type": "stream",
          "name": "stdout",
          "text": [
            "Iteration 325 lower bound 1652.7022705078125\n"
          ]
        },
        {
          "output_type": "stream",
          "name": "stderr",
          "text": [
            " 71%|███████   | 354/500 [00:21<00:08, 16.65it/s]"
          ]
        },
        {
          "output_type": "stream",
          "name": "stdout",
          "text": [
            "Iteration 350 lower bound 1642.2169189453125\n"
          ]
        },
        {
          "output_type": "stream",
          "name": "stderr",
          "text": [
            " 75%|███████▌  | 377/500 [00:24<00:19,  6.22it/s]"
          ]
        },
        {
          "output_type": "stream",
          "name": "stdout",
          "text": [
            "Iteration 375 lower bound 1629.90771484375\n"
          ]
        },
        {
          "output_type": "stream",
          "name": "stderr",
          "text": [
            " 81%|████████  | 404/500 [00:27<00:06, 15.60it/s]"
          ]
        },
        {
          "output_type": "stream",
          "name": "stdout",
          "text": [
            "Iteration 400 lower bound 1620.8675537109375\n"
          ]
        },
        {
          "output_type": "stream",
          "name": "stderr",
          "text": [
            " 85%|████████▌ | 427/500 [00:28<00:05, 12.65it/s]"
          ]
        },
        {
          "output_type": "stream",
          "name": "stdout",
          "text": [
            "Iteration 425 lower bound 1611.4200439453125\n"
          ]
        },
        {
          "output_type": "stream",
          "name": "stderr",
          "text": [
            " 91%|█████████ | 454/500 [00:30<00:03, 13.97it/s]"
          ]
        },
        {
          "output_type": "stream",
          "name": "stdout",
          "text": [
            "Iteration 450 lower bound 1606.6129150390625\n"
          ]
        },
        {
          "output_type": "stream",
          "name": "stderr",
          "text": [
            " 96%|█████████▋| 482/500 [00:31<00:00, 26.93it/s]"
          ]
        },
        {
          "output_type": "stream",
          "name": "stdout",
          "text": [
            "Iteration 475 lower bound 1600.504638671875\n"
          ]
        },
        {
          "output_type": "stream",
          "name": "stderr",
          "text": [
            "100%|██████████| 500/500 [00:32<00:00, 15.39it/s]\n"
          ]
        }
      ]
    },
    {
      "cell_type": "markdown",
      "source": [
        "The final loss is around 1600."
      ],
      "metadata": {
        "id": "c3m6DNsLlxw5"
      }
    },
    {
      "cell_type": "markdown",
      "metadata": {
        "id": "y6YluZ2B8Qmr"
      },
      "source": [
        "**d) [1pt]** Plot the approximate mean and variance of all players, sorted by skill."
      ]
    },
    {
      "cell_type": "code",
      "source": [
        "mean_skills, logstd_skills = params[0].detach(), params[1].detach()\n",
        "\n",
        "order = torch.argsort(mean_skills)\n",
        "\n",
        "plt.xlabel(\"Player Rank\")\n",
        "plt.ylabel(\"Player Skill\")\n",
        "plt.errorbar(range(num_players), mean_skills[order], torch.exp(logstd_skills)[order])"
      ],
      "metadata": {
        "colab": {
          "base_uri": "https://localhost:8080/",
          "height": 296
        },
        "id": "LTX3E9au_iwB",
        "outputId": "ffcbbd97-e24f-4d32-dba0-b2e8fb706ca4"
      },
      "execution_count": null,
      "outputs": [
        {
          "output_type": "execute_result",
          "data": {
            "text/plain": [
              "<ErrorbarContainer object of 3 artists>"
            ]
          },
          "metadata": {},
          "execution_count": 55
        },
        {
          "output_type": "display_data",
          "data": {
            "text/plain": [
              "<Figure size 432x288 with 1 Axes>"
            ],
            "image/png": "[encoded data removed]"
          },
          "metadata": {
            "needs_background": "light"
          }
        }
      ]
    },
    {
      "cell_type": "markdown",
      "metadata": {
        "id": "EjWom7_Z8VCY"
      },
      "source": [
        "**e) [1pts]** List the names of the 10 players with the highest mean skill under the variational model."
      ]
    },
    {
      "cell_type": "code",
      "execution_count": null,
      "metadata": {
        "id": "4LCPM5Bp8YiK",
        "colab": {
          "base_uri": "https://localhost:8080/"
        },
        "outputId": "501a349d-1460-46d0-d3c5-a62d1bffab25"
      },
      "outputs": [
        {
          "output_type": "stream",
          "name": "stdout",
          "text": [
            "[1032 'doraemon61']\n",
            "[311 'laode_syahril']\n",
            "[640 'projetoxadrez']\n",
            "[303 'mrzoom47']\n",
            "[1431 'chesswithmom']\n",
            "[841 'cdvh']\n",
            "[1121 'hick4u1219']\n",
            "[820 'smartduckduckcow']\n",
            "[415 'sneaky_bugger']\n",
            "[185 'lzchips']\n"
          ]
        }
      ],
      "source": [
        "for i in range(1,11):\n",
        "    print(names[order[-i]])"
      ]
    },
    {
      "cell_type": "markdown",
      "metadata": {
        "id": "sEj6LkYA8ncH"
      },
      "source": [
        "**f) [3pt]** Plot samples from the joint posterior over the skills of lelik3310 and thebestofthebad. Based on your samples, describe in a sentence the relationship between the skills of the players. (Is one better than the other? Are they approximately even?)"
      ]
    },
    {
      "cell_type": "code",
      "execution_count": null,
      "metadata": {
        "id": "U6zI2sCB8qFO",
        "colab": {
          "base_uri": "https://localhost:8080/",
          "height": 549
        },
        "outputId": "13d5cd01-d4f3-4adc-bfdb-adf78a39b36d"
      },
      "outputs": [
        {
          "output_type": "stream",
          "name": "stdout",
          "text": [
            "[496 'lelik3310']\n",
            "[512 'thebestofthebad']\n"
          ]
        },
        {
          "output_type": "execute_result",
          "data": {
            "text/plain": [
              "<matplotlib.collections.PathCollection at 0x7f95c02c98b0>"
            ]
          },
          "metadata": {},
          "execution_count": 57
        },
        {
          "output_type": "display_data",
          "data": {
            "text/plain": [
              "<Figure size 576x576 with 1 Axes>"
            ],
            "image/png": "[encoded data removed]"
          },
          "metadata": {}
        }
      ],
      "source": [
        "lelik3310_ix = 496\n",
        "thebestofthebad_ix = 512\n",
        "print(names[lelik3310_ix])\n",
        "print(names[thebestofthebad_ix])\n",
        "\n",
        "fig = plt.figure(figsize=(8,8), facecolor='white')\n",
        "\n",
        "# Label each with \"<player> Skill\"\n",
        "plt.xlabel(\"lelik3310 Skill\") \n",
        "plt.ylabel(\"thebestofthebad Skill\") \n",
        "\n",
        "plt.plot([3, -3], [3, -3], 'b--') # Line of equal skill\n",
        "\n",
        "samples = diag_gaussian_samples(mean_skills, logstd_skills, 100)\n",
        "\n",
        "# TODO:  Hint:  Use plt.scatter()\n",
        "plt.scatter(samples[:, lelik3310_ix], samples[:, thebestofthebad_ix])"
      ]
    },
    {
      "cell_type": "markdown",
      "source": [
        "From the plot, it seems like the skill of lelik3310 is better than the skill of thebestofthebad."
      ],
      "metadata": {
        "id": "oGE6_DKIl8L5"
      }
    },
    {
      "cell_type": "markdown",
      "metadata": {
        "id": "rUXcsAYdDnor"
      },
      "source": [
        "**g) [6pts]** Derive the exact probability under a factorized Gaussian over two players’ skills that one has higher skill than the other, as a function of the two means and variances over their skills. Express your answer in terms of the cumulative distribution function of a one-dimensional Gaussian random variable.\n",
        "\n",
        "- Hint 1: Use a linear change of variables $y_A, y_B = z_A − z_B , z_B$. What does the line of equal skill look like after this transformation?\n",
        "- Hint 2: If $X \\sim N (\\mu, \\Sigma)$, then $AX \\sim  N (A\\mu, A\\Sigma A^T)$ where $A$ is a linear transformation.\n",
        "- Hint 3: Marginalization in Gaussians is easy: if $X \\sim N (\\mu, \\Sigma)$, then the $i$th element of $X$ has a\n",
        "marginal distribution $X_i \\sim N (\\mu_i , \\Sigma_{ii})$."
      ]
    },
    {
      "cell_type": "markdown",
      "metadata": {
        "id": "OxazFdqcFhF_"
      },
      "source": [
        "Your answer here.\n",
        "\n",
        "\\begin{align}\n",
        "\\text{To compute } p(z_A > z_B) \\text{ We can compute } p(z_A - z_B >0) \\\\\n",
        "\\text{Since } \\begin{bmatrix}\n",
        "y_A\\\\\n",
        "y_B\n",
        "\\end{bmatrix}\n",
        "= \\begin{bmatrix}\n",
        "1 & -1\\\\\n",
        "0 & 1\n",
        "\\end{bmatrix}\n",
        "\\begin{bmatrix}\n",
        "z_A\\\\\n",
        "z_B\n",
        "\\end{bmatrix} \\\\\n",
        "\\text{Therefore, let } Z = \\begin{bmatrix}\n",
        "z_A\\\\\n",
        "z_B\n",
        "\\end{bmatrix}, \n",
        "Z \\sim N (\\mu, \\Sigma), AZ \\sim  N (A\\mu, A\\Sigma A^T), \\text{where } \\mu = \\begin{bmatrix}\n",
        "\\mu_A\\\\\n",
        "\\mu_B\n",
        "\\end{bmatrix}, \\Sigma = \\begin{bmatrix}\n",
        "\\sigma_A ^2\\\\\n",
        "\\sigma_B ^2\n",
        "\\end{bmatrix}, A= \\begin{bmatrix}\n",
        "1 & -1\\\\\n",
        "0 & 1\n",
        "\\end{bmatrix} \\\\\n",
        "\\implies AZ \\sim  N (\\begin{bmatrix}\n",
        "\\mu_A -\\mu_B\\\\\n",
        "\\mu_B\n",
        "\\end{bmatrix}, \\begin{bmatrix}\n",
        "1 & -1\\\\\n",
        "0 & 1\n",
        "\\end{bmatrix}\\begin{bmatrix}\n",
        "\\sigma_A ^2 & 0\\\\\n",
        "0 & \\sigma_B ^2 \n",
        "\\end{bmatrix} \\begin{bmatrix}\n",
        "1 & 0\\\\\n",
        "-1 & 1\n",
        "\\end{bmatrix})\\\\\n",
        "\\implies AZ \\sim  N (\\begin{bmatrix}\n",
        "\\mu_A -\\mu_B\\\\\n",
        "\\mu_B\n",
        "\\end{bmatrix}, \\begin{bmatrix}\n",
        "\\sigma_A ^2 + \\sigma_B ^2 & -\\sigma_B ^2 \\\\\n",
        "-\\sigma_B ^2  & \\sigma_B ^2 \n",
        "\\end{bmatrix}), \\text{ Therefore } z_A - z_B \\sim  N(\\mu_A -\\mu_B, \\sigma_A ^2 + \\sigma_B ^2).\\\\\n",
        "p(z_A - z_B > 0) = 1- p(z_A - z_B \\le 0) = 1-\\Phi(\\frac{\\mu_B -\\mu_A}{\\sqrt{\\sigma_A ^2 + \\sigma_B ^2}}).\n",
        "\\end{align}"
      ]
    },
    {
      "cell_type": "markdown",
      "metadata": {
        "id": "GO3k7rfI8sWg"
      },
      "source": [
        "**h) [4pts]** Compute the probability under your approximate posterior that lelik3310 has higher skill than thebestofthebad. Compute this quantity exactly using the formula you just derived above, and also estimate it using simple Monte Carlo with 10000 examples.\n",
        "\n",
        "Hint:  You might want to use `Normal(0,1).cdf()` for the exact formula."
      ]
    },
    {
      "cell_type": "code",
      "source": [
        "# TODO\n",
        "def prob_A_superior_B(N, A_ix, B_ix):\n",
        "    mu_A = mean_skills[A_ix]\n",
        "    mu_B = mean_skills[B_ix]\n",
        "    var_A = torch.exp(2*logstd_skills[A_ix])\n",
        "    var_B = torch.exp(2*logstd_skills[B_ix])\n",
        "    formula_est = torch.distributions.Normal(0, 1).cdf((mu_A - mu_B) / torch.sqrt(var_A + var_B))\n",
        "    # Simple Monte Carlo estimate\n",
        "    samples = diag_gaussian_samples(mean_skills, logstd_skills, N)\n",
        "    mc_est = (samples[:, A_ix] > samples[:, B_ix]).float().mean()\n",
        "\n",
        "    return formula_est, mc_est\n",
        "\n",
        "formula_est, mc_est = prob_A_superior_B(10000, lelik3310_ix, thebestofthebad_ix)\n",
        "print(f\"Exact CDF Estimate: {formula_est}\")\n",
        "print(f\"Simple MC Estimate: {mc_est}\")\n"
      ],
      "metadata": {
        "colab": {
          "base_uri": "https://localhost:8080/"
        },
        "id": "xJLVm6Hpisbo",
        "outputId": "5b212070-49d3-42fb-dc84-f069f8626ea5"
      },
      "execution_count": null,
      "outputs": [
        {
          "output_type": "stream",
          "name": "stdout",
          "text": [
            "Exact CDF Estimate: 0.9864164590835571\n",
            "Simple MC Estimate: 0.9857000112533569\n"
          ]
        }
      ]
    },
    {
      "cell_type": "markdown",
      "metadata": {
        "id": "olpPTnm3-YdN"
      },
      "source": [
        "**i) [2pts]** Compute the probability that lelik3310 is better than the player with the 5th lowest mean skill. Compute this quantity exactly, and then estimate it using simple Monte Carlo with 10000 examples.\n"
      ]
    },
    {
      "cell_type": "code",
      "source": [
        "# TODO\n",
        "fifth_worst_ix = order[4]\n",
        "\n",
        "exact_probability, mc_probability = prob_A_superior_B(10000, lelik3310_ix, fifth_worst_ix)\n",
        "print(f\"Exact probability: {exact_probability}\")\n",
        "print(f\"Monte Carlo estimate: {mc_probability}\")"
      ],
      "metadata": {
        "id": "PNLfQCDdbZ7d",
        "colab": {
          "base_uri": "https://localhost:8080/"
        },
        "outputId": "238b8123-0f72-4ebb-85f7-b8f6b994c047"
      },
      "execution_count": null,
      "outputs": [
        {
          "output_type": "stream",
          "name": "stdout",
          "text": [
            "Exact probability: 0.9636213779449463\n",
            "Monte Carlo estimate: 0.9592999815940857\n"
          ]
        }
      ]
    },
    {
      "cell_type": "markdown",
      "source": [
        "**j) [3 pts]** Imagine that we knew ahead of time that we were examining the skills of top chess players, and so changed our prior on all players to Normal(10, 1) and re-ran our approximate inference from scratch. Would that change the answer of either of the previous 2 questions, in expectation?\n"
      ],
      "metadata": {
        "id": "kjslZo7WUH2-"
      }
    },
    {
      "cell_type": "markdown",
      "source": [
        "Your answer here.\\\n",
        "No.\n"
      ],
      "metadata": {
        "id": "W37pO-PDNjKc"
      }
    },
    {
      "cell_type": "markdown",
      "source": [
        "**k) [3 pts]** Based on all the plots and results in this assignment and HW2, which approximate inference method do you suspect is producing a better overall approximation to the true posterior over all skills conditioned on all games?  Give a short explanation."
      ],
      "metadata": {
        "id": "cNJ5WuyQKPPM"
      }
    },
    {
      "cell_type": "markdown",
      "source": [
        "Your answer here."
      ],
      "metadata": {
        "id": "mtmXbA3OKSoM"
      }
    },
    {
      "cell_type": "markdown",
      "source": [
        "I think HMC from HW2 can produce a better overall approximation to the true posterior over all skills conditioned on all games. A simple approximate posterior (like a Gaussian) may not suit for the true posterior distribution, but HMC can produce a more similar distribution to the true posterior."
      ],
      "metadata": {
        "id": "YIWDBx63PYmX"
      }
    }
  ]
}