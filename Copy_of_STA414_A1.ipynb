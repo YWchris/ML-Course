{
  "nbformat": 4,
  "nbformat_minor": 0,
  "metadata": {
    "colab": {
      "provenance": []
    },
    "kernelspec": {
      "name": "python3",
      "display_name": "Python 3"
    },
    "language_info": {
      "name": "python"
    }
  },
  "cells": [
    {
      "cell_type": "markdown",
      "source": [
        "V1: Last Edited: 2024-01-25\n",
        "\n",
        "Changes: v0 -> v1 Q2: Remove the data point that cause log(0) Q1: three -> four\n"
      ],
      "metadata": {
        "id": "fBeKYERsR9b6"
      }
    },
    {
      "cell_type": "markdown",
      "source": [
        "- **Deadline**: Feb 5, at 23:59PM.\n",
        "- **Submission**: You need to submit your solutions through Crowdmark, including all your derivations, plots, and your code. You can produce the files however you like (e.g. LATEX, Microsoft Word, etc), as long as it is readable. Points will be deducted if we have a hard time reading your solutions or understanding the structure of your code.\n",
        "- **Collaboration policy**: After attempting the problems on an individual basis, you may discuss and work together on the assignment with up to two classmates. However, **you must write your own code and write up your own solutions individually and explicitly name any collaborators** at the top of the homework."
      ],
      "metadata": {
        "id": "ZD9tV8zbU2dp"
      }
    },
    {
      "cell_type": "markdown",
      "source": [
        "# Q1 - Decision Theory"
      ],
      "metadata": {
        "id": "QI9CD9BCoh5a"
      }
    },
    {
      "cell_type": "markdown",
      "source": [
        "One successful use of probabilistic models is for building spam filters, which take in an email and take different actions depending on the likelihood that it’s spam.\n",
        "\n",
        "Imagine you are running an email service. You have a well-calibrated spam classifier that tells you the probability that a particular email is spam: $p(spam|email)$. You have four options for what to do with each email: You can list it as important email, show it to the user, put it in the spam folder, or delete it entirely.\n",
        "\n",
        "Depending on whether or not the email really is spam, the user will suffer a different amount  of wasted time for the different actions we can take, $L$(action, spam):\n",
        "\n",
        "Action   | Spam        | Not spam\n",
        "-------- | ----------- | -----------\n",
        "Important| 15         | 0\n",
        "Show     | 5          | 1\n",
        "Folder   | 1           | 40\n",
        "Delete   | 0           | 150"
      ],
      "metadata": {
        "id": "lqGwGkzkokTV"
      }
    },
    {
      "cell_type": "markdown",
      "source": [],
      "metadata": {
        "id": "MrQFeFh6eq1f"
      }
    },
    {
      "cell_type": "markdown",
      "source": [
        "## Q1.1\n",
        "[3pts] Plot the expected wasted user time for each of the three possible actions, as a function of the probability of spam: $p(spam|email)$."
      ],
      "metadata": {
        "id": "2V_k3L8ByUs9"
      }
    },
    {
      "cell_type": "code",
      "source": [
        "import numpy as np\n",
        "import matplotlib.pyplot as plt"
      ],
      "metadata": {
        "id": "rAwFc8cVSXtW"
      },
      "execution_count": null,
      "outputs": []
    },
    {
      "cell_type": "code",
      "source": [
        "losses = [[15, 0],[5, 1], [1, 40],[0, 150]]\n",
        "actions_names = ['Important','Show', 'Folder', 'Delete']\n",
        "num_actions = len(losses)\n",
        "def expected_loss_of_action(prob_spam, action):\n",
        "    #TODO: Return expected loss over a Bernoulli random variable\n",
        "    # with mean prob_spam.\n",
        "    # Losses are given by the table above.\n",
        "    spam = losses[action][0]\n",
        "    ns = losses[action][1]\n",
        "    return spam * prob_spam + ns * (1-prob_spam)\n",
        "    \n",
        "prob_range = np.linspace(0., 1., num=600) \n",
        "\n",
        "# Make plot\n",
        "for action in range(num_actions):\n",
        "    plt.plot(prob_range, expected_loss_of_action(prob_range, action), label=actions_names[action])\n",
        "\n",
        "plt.xlabel('$p(spam|email)$')\n",
        "plt.ylabel('Expected loss of action')\n",
        "plt.legend()\n"
      ],
      "metadata": {
        "id": "CwqF1QStyUI0",
        "colab": {
          "base_uri": "https://localhost:8080/",
          "height": 301
        },
        "outputId": "89ff66fb-5796-4f23-ff03-eb9403d44169"
      },
      "execution_count": null,
      "outputs": [
        {
          "output_type": "execute_result",
          "data": {
            "text/plain": [
              "<matplotlib.legend.Legend at 0x7f83103a6430>"
            ]
          },
          "metadata": {},
          "execution_count": 4
        },
        {
          "output_type": "display_data",
          "data": {
            "text/plain": [
              "<Figure size 432x288 with 1 Axes>"
            ],
            "image/png": "[encoded data removed]"
          },
          "metadata": {
            "needs_background": "light"
          }
        }
      ]
    },
    {
      "cell_type": "markdown",
      "source": [
        "## Q1.2\n",
        "[2pts] Write a function that computes the optimal action given the probability of spam."
      ],
      "metadata": {
        "id": "oqtMD5X4NZ1d"
      }
    },
    {
      "cell_type": "code",
      "source": [
        "def optimal_action(prob_spam):\n",
        "    #TODO: return best action given the probability of spam. \n",
        "    #Hint: np.argmin might be helpful.\n",
        "    best = -1\n",
        "    temp = np.inf\n",
        "    for i in range(num_actions):\n",
        "      loss = expected_loss_of_action(prob_spam, i)\n",
        "      if loss < temp:\n",
        "        temp = loss\n",
        "        best = i\n",
        "    return best\n",
        "\n",
        "    \n",
        "    "
      ],
      "metadata": {
        "id": "7gLS3sO1NiPv"
      },
      "execution_count": null,
      "outputs": []
    },
    {
      "cell_type": "markdown",
      "source": [
        "## Q1.3\n",
        "[4pts] Plot the expected loss of the optimal action as a function of the probability of spam.\n",
        "\n",
        "\n",
        "Color the line according to the optimal action for that probability of spam.\n"
      ],
      "metadata": {
        "id": "TaIhABveNinu"
      }
    },
    {
      "cell_type": "code",
      "source": [
        "prob_range = np.linspace(0., 1., num=600) \n",
        "optimal_losses = []\n",
        "optimal_actions = []\n",
        "for p in prob_range:\n",
        "    # TODO: Compute the optimal action and its expected loss for\n",
        "    # probability of spam given by p.\n",
        "    action = optimal_action(p)\n",
        "    optimal_loss = expected_loss_of_action(p, action)\n",
        "    optimal_actions.append(action)\n",
        "    optimal_losses.append(optimal_loss)\n",
        "\n",
        "plt.xlabel('p(spam|email)')\n",
        "plt.ylabel('Expected loss of optimal action')\n",
        "plt.plot(prob_range, optimal_losses)"
      ],
      "metadata": {
        "id": "Gdk3OQLONo-P",
        "colab": {
          "base_uri": "https://localhost:8080/",
          "height": 298
        },
        "outputId": "b5f305e9-b179-487f-9e19-738f63fa482a"
      },
      "execution_count": null,
      "outputs": [
        {
          "output_type": "execute_result",
          "data": {
            "text/plain": [
              "[<matplotlib.lines.Line2D at 0x7f830f2917f0>]"
            ]
          },
          "metadata": {},
          "execution_count": 15
        },
        {
          "output_type": "display_data",
          "data": {
            "text/plain": [
              "<Figure size 432x288 with 1 Axes>"
            ],
            "image/png": "[encoded data removed]"
          },
          "metadata": {
            "needs_background": "light"
          }
        }
      ]
    },
    {
      "cell_type": "markdown",
      "source": [
        "Since $p(t_c = 1 | \\pi) = p(c|\\pi) = \\pi_c$, we can write the likelihood function as:\n",
        "\n",
        "$l(\\pi) = \\sum_{i=1}^{N}\\log(p(c^{(i)} |\\pi)) = \\sum_{i=1}^{N}\\log \\prod_{j=0}^9 \\pi_j^{t_j^{(i)}} = \\sum_{i=1}^{N}\\sum_{j=0}^9 \\log(\\pi_j^{t_j^{(i)}})$\n",
        "\n",
        "Note that $\\prod_{j=0}^9 \\pi_j^{t_j^{(i)}}$ is a product of $10$ terms, one for each class, where each term is equal to $\\pi_j^{t_j^{(i)}}$. $t_j^{(i)}$ is equal to $1$ if the $i^{th}$ example belongs to class $j$, and $0$ otherwise. Thus, $\\pi_j^{t_j^{(i)}}$ will either be $\\pi_j$ or $1$, depending on whether the $i^{th}$ example belongs to class $j$.\n",
        "\n",
        "Now, we can simplify the expression further:\n",
        "\n",
        "$l(\\pi) = \\sum_{i=1}^{N}\\sum_{j=0}^9 \\log(\\pi_j^{t_j^{(i)}}) = \\sum_{i=1}^{N}\\left(\\left(\\sum_{j=0}^8 t_j^{(i)}\\log(\\pi_j)\\right) + t_9^{(i)}\\log(\\pi_9)\\right) = \\sum_{i=1}^{N}\\left(\\left(\\sum_{j=0}^8 t_j^{(i)}\\log(\\pi_j)\\right) +t_9^{(i)}\\log\\left(1-\\sum_{k=0}^8 \\pi_k\\right)\\right)$\n",
        "\n",
        "Note that in the last equation, we use the fact that $\\sum_{j=0}^9 \\pi_j = 1$.\n",
        "\n",
        "Now, to find the Maximum Likelihood Estimate (MLE) for $\\pi$, we take the derivative of the likelihood function with respect to $\\pi_j$ and set it equal to 0:\n",
        "\n",
        "$\\frac{dl(\\pi)}{d\\pi_j} = \\frac{d}{d\\pi_j}\\sum_{i=1}^{N}\\left(\\left(\\sum_{j=0}^8 t_j^{(i)}\\log(\\pi_j)\\right) +t_9^{(i)}\\log\\left(1-\\sum_{k=0}^8 \\pi_k\\right)\\right) = \\sum_{i=1}^{N}\\left(\\frac{t_j^{(i)}}{\\pi_j} - \\frac{t_9^{(i)}}{1-\\sum_{k=0}^8 \\pi_k}\\right) = 0$\n",
        "\n",
        "Solving for $\\pi_j$, we get:\n",
        "\n",
        "$\\frac{1}{\\pi_j}\\sum_{i=1}^{N}t_j^{(i)} = \\frac{1}{\\pi_\n",
        "\n",
        "\n",
        "\n",
        "Regenerate response\n"
      ],
      "metadata": {
        "id": "E4BbWXPIobgB"
      }
    },
    {
      "cell_type": "markdown",
      "source": [
        "\n",
        "\n",
        "Furthermore, taking the partial derivative w.r.t. $\\pi_{a}$, for $1 \\leq a \\leq K-1$, gives\n",
        "\n",
        "$$\\frac{\\partial \\ell(\\theta)}{\\partial \\pi_{a}}=\\sum_{i=1}^{n} \\frac{1\\left\\{y_{i}=a\\right\\}}{\\pi_{a}}-\\sum_{i=1}^{n} \\frac{1\\left\\{y_{i}=K\\right\\}}{1-\\sum_{k=1}^{K-1} \\pi_{k}}=\\frac{n_{a}}{\\pi_{a}}-\\frac{n_{K}}{1-\\sum_{k=1}^{K-1} \\pi_{k}}$$\n",
        "\n",
        "\n",
        "where $n_{k}=\\sum_{i=1}^{n} 1\\left\\{y_{i}=k\\right\\}$ for each $k \\in[K]$. The MLEs of $\\pi_{1}, \\ldots, \\pi_{K-1}$ satisfy\n",
        "\n",
        "$$\n",
        "n_{a}\\left(1-\\sum_{k=1}^{K-1} \\widehat{\\pi}_{k}\\right)=n_{K} \\widehat{\\pi}_{a}, \\quad \\forall 1 \\leq a \\leq K-1\n",
        "$$\n",
        "\n",
        "Summing over $1 \\leq a \\leq K-1$ yields\n",
        "\n",
        "$$\n",
        "\\sum_{a=1}^{K-1} n_{a}\\left(1-\\sum_{k=1}^{K-1} \\widehat{\\pi}_{k}\\right)=n_{K} \\sum_{a=1}^{K-1} \\widehat{\\pi}_{a} \\Leftrightarrow \\quad\\left(n-n_{K}\\right)\\left(1-\\sum_{k=1}^{K-1} \\widehat{\\pi}_{k}\\right)=n_{K} \\sum_{k=1}^{K-1} \\widehat{\\pi}_{k}\n",
        "$$\n",
        "\n",
        "Hence\n",
        "\n",
        "$$\n",
        "\\sum_{k=1}^{K-1} \\widehat{\\pi}_{k}=\\frac{n-n_{K}}{n} .\n",
        "$$\n",
        "\n",
        "Plugging into (0.2) further gives\n",
        "\n",
        "$$\n",
        "\\widehat{\\pi}_{a}=\\frac{n_{a}}{n}, \\quad \\forall 1 \\leq a \\leq K-1$$"
      ],
      "metadata": {
        "id": "xqC2bqDHpAnV"
      }
    },
    {
      "cell_type": "markdown",
      "source": [
        "## Q1.4\n",
        "[4pts] For exactly which range of the probabilities of an email being spam should we delete an email?\n",
        "\n",
        "Find the exact answer by hand using algebra."
      ],
      "metadata": {
        "id": "M0eRJyGdNpXA"
      }
    },
    {
      "cell_type": "markdown",
      "source": [
        "[Type up your derivation here]\n",
        "\n",
        "Your answer:\n",
        "We should delete an email when the expected loss of deleting an email is less than the expected loss of any other actions.\n",
        "\n",
        "Suppose the probability of a spam email is p.\n",
        "\n",
        "The expected loss of deleting an email is $150(1-p) = 150-150p$.\n",
        "\n",
        "The expected loss of marking as important is $15p$.\n",
        "\n",
        "The expected loss of showing an email is $5p + (1-p)=4p+1.$\n",
        "\n",
        "The expected loss of foldering an email is $p + 40(1-p) = 40 - 39p.$\n",
        "\n",
        "We delete an email when $150-150p = min(150-150p, 15p, 4p+1, 40 - 39p)$\n",
        "\n",
        "So we have linear equations $150-150p < 15p, 150-150p < 4p+1, 150-150p < 40-30p$.\n",
        "\n",
        "Solving each equation we have $p>\\displaystyle\\frac{9}{10}=0.9, p>\\frac{149}{154}\\approx 0.9675, p>\\frac{11}{12}\\approx 0.9167$.\n",
        "\n",
        "In general, we delete an email when $p>0.9675$."
      ],
      "metadata": {
        "id": "fr_ghgvoUz5p"
      }
    },
    {
      "cell_type": "markdown",
      "source": [
        "# Q2 - Naïve Bayes, A Generative Model"
      ],
      "metadata": {
        "id": "H1kRdfM6ol0R"
      }
    },
    {
      "cell_type": "markdown",
      "source": [
        "![](https://github.com/zalandoresearch/fashion-mnist/blob/master/doc/img/fashion-mnist-sprite.png?raw=true)\n",
        "\n",
        "\n",
        "In this question, we'll fit a Naïve Bayes model to the fashion MNIST dataset, and use this model for making predictions and generating new images from the same distribution. MNIST is a dataset of 28x28 black-and-white images of items of clothing. We represent each image by a vector $x^{(i)} \\in \\{0,1\\}^{784}$, where 0 and 1 represent white and black pixels respectively. Each class label $c^{(i)}$ is a different item of clothing, which in the code is represented by a 10-dimensional one-hot vector.\n",
        "\n",
        "The Naïve Bayes model parameterized by $\\theta$ and $\\pi$ defines the following joint probability of $x$ and $c$,\n",
        "$$p(x,c|\\theta,\\pi) = p(c|\\pi)p(x|c,\\theta) = p(c|\\pi)\\prod_{j=1}^{784}p(x_j|c,\\theta),$$\n",
        "where $x_j | c,\\theta \\sim \\operatorname{Bernoulli}(\\theta_{jc})$ or in other words $p(x_j | c,\\theta) = \\theta_{jc}^{x_j}(1-\\theta_{jc})^{1-x_j}$, and $c|\\pi$ follows a simple categorical distribution, i.e. $p(c|\\pi) = \\pi_c$.\n",
        "\n",
        "We begin by learning the parameters $\\theta$ and $\\pi$. The following code will download and prepare the training and test sets."
      ],
      "metadata": {
        "id": "Je6H8FAKpqmF"
      }
    },
    {
      "cell_type": "code",
      "source": [
        "import numpy as np\n",
        "import os\n",
        "import gzip\n",
        "import struct\n",
        "import array\n",
        "import matplotlib.pyplot as plt\n",
        "import matplotlib.image\n",
        "from urllib.request import urlretrieve\n",
        "\n",
        "def download(url, filename):\n",
        "    if not os.path.exists('data'):\n",
        "        os.makedirs('data')\n",
        "    out_file = os.path.join('data', filename)\n",
        "    if not os.path.isfile(out_file):\n",
        "        urlretrieve(url, out_file)\n",
        "\n",
        "\n",
        "def fashion_mnist():\n",
        "    base_url = 'http://fashion-mnist.s3-website.eu-central-1.amazonaws.com/'\n",
        "\n",
        "    def parse_labels(filename):\n",
        "        with gzip.open(filename, 'rb') as fh:\n",
        "            magic, num_data = struct.unpack(\">II\", fh.read(8))\n",
        "            return np.array(array.array(\"B\", fh.read()), dtype=np.uint8)\n",
        "\n",
        "    def parse_images(filename):\n",
        "        with gzip.open(filename, 'rb') as fh:\n",
        "            magic, num_data, rows, cols = struct.unpack(\">IIII\", fh.read(16))\n",
        "            return np.array(array.array(\"B\", fh.read()), dtype=np.uint8).reshape(num_data, rows, cols)\n",
        "\n",
        "    for filename in ['train-images-idx3-ubyte.gz',\n",
        "                     'train-labels-idx1-ubyte.gz',\n",
        "                     't10k-images-idx3-ubyte.gz',\n",
        "                     't10k-labels-idx1-ubyte.gz']:\n",
        "        download(base_url + filename, filename)\n",
        "\n",
        "    train_images = parse_images('data/train-images-idx3-ubyte.gz')\n",
        "    train_labels = parse_labels('data/train-labels-idx1-ubyte.gz')\n",
        "    test_images = parse_images('data/t10k-images-idx3-ubyte.gz')\n",
        "    test_labels = parse_labels('data/t10k-labels-idx1-ubyte.gz')\n",
        "    # Remove the data point that cause log(0)\n",
        "    remove = (14926, 20348, 36487, 45128, 50945, 51163, 55023)\n",
        "    train_images = np.delete(train_images,remove, axis=0)\n",
        "    train_labels = np.delete(train_labels, remove, axis=0)\n",
        "    return train_images, train_labels, test_images[:1000], test_labels[:1000]\n",
        "\n",
        "\n",
        "def load_fashion_mnist():\n",
        "    partial_flatten = lambda x: np.reshape(x, (x.shape[0], np.prod(x.shape[1:])))\n",
        "    one_hot = lambda x, k: np.array(x[:, None] == np.arange(k)[None, :], dtype=int)\n",
        "    train_images, train_labels, test_images, test_labels =  fashion_mnist()\n",
        "    train_images = (partial_flatten(train_images) / 255.0 > .5).astype(float)\n",
        "    test_images = (partial_flatten(test_images) / 255.0 > .5).astype(float)\n",
        "    train_labels = one_hot(train_labels, 10)\n",
        "    test_labels = one_hot(test_labels, 10)\n",
        "    N_data = train_images.shape[0]\n",
        "\n",
        "    return N_data, train_images, train_labels, test_images, test_labels"
      ],
      "metadata": {
        "id": "k587bbiSvhB4"
      },
      "execution_count": null,
      "outputs": []
    },
    {
      "cell_type": "markdown",
      "source": [
        "## Q2.1\n",
        "[2pts] Derive the expression for the Maximum Likelihood Estimator (MLE) of $\\theta$ and $\\pi$."
      ],
      "metadata": {
        "id": "qgGhDuEBvuMI"
      }
    },
    {
      "cell_type": "markdown",
      "source": [
        "[Type up your derivation here]\n",
        "\n",
        "Your answer:\n",
        "\n",
        "The log likelihood function for the parameters can be derived from the joint probability function. Define indicator function $I(c^{(i)}=c)$ to be 1 when the $i^{th}$ observation belongs to class $c$, let $t_j^{(i)}$ be a binary variable indicating if the $i^{th}$ variable belongs to the $j^{th}$ class, let $N$ denote the number of observations. The log likelihood can be written as \n",
        "\\begin{align*}\n",
        "    l(\\theta, \\pi) &= \n",
        "    \\sum_{i=1}^{N} \\log\\left( p(x^{(i)}, c^{(i)} | \\theta, \\pi)\\right)= \n",
        "    \\sum_{i=1}^{N} \\log\\left(p(c^{(i)} |\\pi)\\prod_{j=1}^{784} p(x_j^{(i)} | c^{(i)}, \\theta_{jc})\\right)\\\\\n",
        "    &= \\sum_{i=1}^{N} \\left(\\log(p(c^{(i)} |\\pi)) + \\log\\left(\\prod_{j=1}^{784} p(x_j^{(i)} | c^{(i)}, \\theta_{jc})\\right) \\right)=\n",
        "    \\sum_{i=1}^{N} \\left(\\log(p(c^{(i)} |\\pi)) + \\sum_{j=1}^{784}\\log p(x_j^{(i)} | c^{(i)}, \\theta_{jc})\\right)\\\\\n",
        "    &= \\sum_{i=1}^{N}\\log(p(c^{(i)} |\\pi)) + \\sum_{i=1}^{N}\\sum_{j=1}^{784}\\log p(x_j^{(i)} | c^{(i)}, \\theta_{jc}) = \\sum_{i=1}^{N}\\log(p(c^{(i)} |\\pi)) + \\sum_{i=1}^{N}I(c^{(i)}=c)\\log p(x_j^{(i)} | c^{(i)}, \\theta_{jc})\n",
        "\\end{align*}\n",
        "Notice that each of the two log-likelihood terms above depends on different sets of parameters($\\theta$ and $\\pi$), so they can be optimized independently.\n",
        "\n",
        "**MLE for $\\theta_{jc}$**\n",
        "\n",
        "Notice that by the assumption of Naive Bayes, the features $x^{(i)}$\n",
        "are conditionally independent given the class $c$, hence $\\theta_{jc}$ can be optimized independently, then \n",
        "\\begin{align*}\n",
        "    l(\\theta_{jc}) &= \\sum_{i=1}^{N}I(c^{(i)}=c)\\log p(x_j^{(i)} | c^{(i)}, \\theta_{jc}) =\n",
        "    \\sum_{i=1}^{N}I(c^{(i)}=c)\\log \\left(\\theta_{jc}^{x_j^{(i)}}(1-\\theta_{jc})^{1-x_j^{(i)}}\\right)\\\\\n",
        "    &= \\sum_{i=1}^{N} I(c^{(i)}=c)\\left(\\log \\theta_{jc}^{x_j^{(i)}} + \\log (1-\\theta_{jc})^{1-x_j^{(i)}}\\right)\n",
        "    = \\sum_{i=1}^{N} I(c^{(i)}=c)\\left(x_j^{(i)}\\log \\theta_{jc} + (1-x_j^{(i)})\\log (1-\\theta_{jc})\\right)\n",
        "\\end{align*}\n",
        "Taking the derivative with respect to $\\theta_{jc}$ and setting it to 0, I get\n",
        "\\begin{align*}\n",
        "    \\frac{dl(\\theta_{jc})}{d\\theta_{jc}} &=  \\frac{d}{d\\theta_{jc}} \\sum_{i=1}^{N} I(c^{(i)}=c)\\left(x_j^{(i)}\\log \\theta_{jc} + (1-x_j^{(i)})\\log (1-\\theta_{jc})\\right)\\\\\n",
        "    &= \\sum_{i=1}^{N} I(c^{(i)}=c)\\left(\\frac{x_j^{(i)}}{\\theta_{jc}} - \\frac{1-x_j^{(i)}}{1-\\theta_{jc}}\\right)\n",
        "    = \\sum_{i=1}^{N} I(c^{(i)}=c)\\left(\\frac{x_j^{(i)}(1-\\theta_{jc})-(1-x_j^{(i)})\\theta_{jc} }{\\theta_{jc}(1-\\theta_{jc})} \\right)=0\\\\\n",
        "    &= \\sum_{i=1}^{N} I(c^{(i)}=c)\\left(x_j^{(i)}(1-\\theta_{jc})-(1-x_j^{(i)})\\theta_{jc}\\right) \\text{ as the denominator can't be 0}\\\\\n",
        "    &= \\sum_{i=1}^{N} I(c^{(i)}=c)x_j^{(i)}(1-\\theta_{jc}) - \\sum_{i=1}^{N} I(c^{(i)}=c)(1-x_j^{(i)})\\theta_{jc}\\\\\n",
        "    &= (1-\\theta_{jc})\\sum_{i=1}^{N} I(c^{(i)}=c)x_j^{(i)} - \\theta_{jc}\\sum_{i=1}^{N} I(c^{(i)}=c)(1-x_j^{(i)})\\\\\n",
        "    &= \\sum_{i=1}^{N} I(c^{(i)}=c)x_j^{(i)} - \\theta_{jc}\\left(\\sum_{i=1}^{N} I(c^{(i)}=c)(1-x_j^{(i)}) +\\sum_{i=1}^{N} I(c^{(i)}=c)x_j^{(i)} \\right)\\\\\n",
        "    &= \\sum_{i=1}^{N} I(c^{(i)}=c)x_j^{(i)} - \\theta_{jc}\\left(\\sum_{i=1}^{N} I(c^{(i)}=c)(1-x_j^{(i)} + x_j^{(i)})\\right) = \\sum_{i=1}^{N} I(c^{(i)}=c)x_j^{(i)} - \\theta_{jc}\\left(\\sum_{i=1}^{N} I(c^{(i)}=c)\\right)\\\\\n",
        "    &\\Rightarrow \\sum_{i=1}^{N} I(c^{(i)}=c)x_j^{(i)} = \\theta_{jc}\\left(\\sum_{i=1}^{N} I(c^{(i)}=c)\\right) \\Rightarrow \\hat{\\theta_{jc}} = \\frac{\\sum_{i=1}^{N} I(c^{(i)}=c)x_j^{(i)}}{\\sum_{i=1}^{N} I(c^{(i)}=c)} = \\frac{\\sum_{i=1}^{N} I(c^{(i)}=c \\& x_j^{(i)}=1)}{\\sum_{i=1}^{N} I(c^{(i)}=c)}\n",
        "\\end{align*}\n",
        "\n",
        "**MLE for $\\pi$**\n",
        "\n",
        "Since $p(t_c = 1 | \\pi) = p(c|\\pi) = \\pi_c$\n",
        "\\begin{align*}\n",
        "    l(\\pi) &= \\sum_{i=1}^{N}\\log(p(c^{(i)} |\\pi))\n",
        "    = \\sum_{i=1}^{N}\\log \\prod_{j=0}^9 \\pi_j^{t_j^{(i)}}= \\sum_{i=1}^{N}\\sum_{j=0}^9 \\log(\\pi_j^{t_j^{(i)}})\\\\\n",
        "    &= \\sum_{i=1}^{N}\\sum_{j=0}^9 t_j^{(i)}\\log(\\pi_j)= \\sum_{i=1}^{N}\\left(\\left(\\sum_{j=0}^8 t_j^{(i)}\\log(\\pi_j)\\right) + t_9^{(i)}\\log(\\pi_9)\\right)\\\\\n",
        "    &= \\sum_{i=1}^{N}\\left(\\left(\\sum_{j=0}^8 t_j^{(i)}\\log(\\pi_j)\\right) +t_9^{(i)}\\log\\left(1-\\sum_{k=0}^8 \\pi_k\\right)\\right)\n",
        "\\end{align*}\n",
        "Taking the derivative with respect to $\\pi_j$ and setting to 0, I get\n",
        "\\begin{align*}\n",
        "    \\frac{dl(\\pi)}{d\\pi_j} &= \\frac{d}{d\\pi_j}\\sum_{i=1}^{N}\\sum_{j=0}^8 \\left(t_j^{(i)}\\log(\\pi_j) +t_9^{(i)}\\log\\left(1-\\sum_{k=0}^8 \\pi_k\\right)\\right) \\\\\n",
        "    &= \\sum_{i=1}^{N}\\left(\\frac{t_j^{(i)}}{\\pi_j} - \\frac{t_9^{(i)}}{1-\\sum_{k=0}^8 \\pi_k}\\right) = \\frac{1}{\\pi_j}\\sum_{i=1}^{N}t_j^{(i)} - \\frac{1}{\\pi_9}\\sum_{i=1}^{N}t_9^{(i)} = 0\\\\\n",
        "    &\\Rightarrow \\frac{1}{\\pi_j}\\sum_{i=1}^{N}t_j^{(i)} = \\frac{1}{\\pi_9}\\sum_{i=1}^{N}t_9^{(i)} \\Rightarrow \\frac{\\hat{\\pi_j}}{\\hat{\\pi_9}} = \\frac{\\sum_{i=1}^{N}t_j^{(i)}}{\\sum_{i=1}^{N}t_9^{(i)}}\\\\\n",
        "    &\\Rightarrow \\sum_{k=0}^9 \\frac{\\sum_{i=1}^{N}t_k^{(i)}}{\\sum_{i=1}^{N}t_9^{(i)}} = \\sum_{k=0}^9\\frac{\\hat{\\pi_k}}{\\hat{\\pi_9}} = \\frac{1}{\\hat{\\pi_9}}\\sum_{k=0}^9\\hat{\\pi_k} = \\frac{1}{\\hat{\\pi_9}} \\text{ since the sum of all $\\hat{\\pi_j}$ is 1}\\\\\n",
        "    &\\Rightarrow \\sum_{k=0}^9 \\frac{\\sum_{i=1}^{N}t_k^{(i)}}{\\sum_{i=1}^{N}t_9^{(i)}} = \\frac{1}{\\sum_{i=1}^{N}t_9^{(i)}} \\sum_{k=0}^9\\sum_{i=1}^{N}t_k^{(i)}\n",
        "    = \\frac{N}{\\sum_{i=1}^{N}t_9^{(i)}} \\text{ since $\\sum_{k=0}^9\\sum_{i=1}^{N}t_k^{(i)}$ sums over all classes for all examples}\\\\\n",
        "    &= \\frac{1}{\\hat{\\pi_9}} \\Rightarrow \\hat{\\pi_9} = \\frac{\\sum_{i=1}^{N}t_9^{(i)}}{N} \\text{ which is the proportion of examples of class 9}\n",
        "\\end{align*}\n",
        "Notice that $\\pi_9$ is not special, therefore this result can be generalized to $\\pi_i$ for all $i \\in \\{0, \\dots, 8\\}$. \\\\\n",
        "That is, $\\hat{\\pi_j} = \\displaystyle\\frac{\\sum_{i=1}^{N}t_j^{(i)}}{N}$ for all $i \\in \\{0, \\dots, 9\\}$. \\\\"
      ],
      "metadata": {
        "id": "cISpi3BUOdEp"
      }
    },
    {
      "cell_type": "code",
      "source": [],
      "metadata": {
        "id": "Ex2PT1uXoX9I"
      },
      "execution_count": null,
      "outputs": []
    },
    {
      "cell_type": "markdown",
      "source": [],
      "metadata": {
        "id": "ybSYXKajoYTt"
      }
    },
    {
      "cell_type": "markdown",
      "source": [],
      "metadata": {
        "id": "C71iqSyVoYsO"
      }
    },
    {
      "cell_type": "markdown",
      "source": [
        "## Q2.2\n",
        "[4pts] Using the MLE for this data, many entries of $\\theta$ will be estimated to be 0, which seems extreme. So we look for another estimation method.\n",
        "\n",
        "Assume the prior distribution of $\\theta$ is such that the entries are i.i.d. and drawn from $\\operatorname{Beta}(2,2)$. Derive the Maximum A Posteriori (MAP) estimator for $\\theta$ (it has a simple final form). You can return the MLE for $\\pi$ in your implementation. From now on, we will work with this estimator."
      ],
      "metadata": {
        "id": "gTMSP01Sw-F5"
      }
    },
    {
      "cell_type": "markdown",
      "source": [
        "[Type up your derivation here]\n",
        "\n",
        "Your answer:\n",
        "I have the prior distribution for $\\theta_{jc}$ as \n",
        "$$ p(\\theta_{jc}) = \\frac{\\Gamma(a+b)}{\\Gamma(a)\\Gamma(b)}\\theta_{jc}^{a-1}(1-\\theta_{jc})^{b-1} \\propto \\theta_{jc}^{a-1}(1-\\theta_{jc})^{(b-1)} = \\theta_{jc}(1-\\theta_{jc})\n",
        "$$\n",
        "To find the MAP, I find maximum of $\\ln(p(\\theta|D))=\\ln(p(\\theta)) + \\ln(p(D | \\theta)$\n",
        "\n",
        "\\begin{align*}\n",
        "    \\ln(p(\\theta)) + \\ln(p(D | \\theta)) &= \\ln(\\theta_{jc}(1-\\theta_{jc})) + \\sum_{i=1}^{N}\\log(p(c^{(i)} |\\pi)) + \\sum_{i=1}^{N}\\sum_{j=1}^{784}\\log p(x_j^{(i)} | c^{(i)}, \\theta_{jc})\\\\\n",
        "    &= \\ln(\\theta_{jc}) + \\ln(1-\\theta_{jc})+ \\sum_{i=1}^{N}\\log(p(c^{(i)} |\\pi)) + \\sum_{i=1}^{N}\\sum_{j=1}^{784}\\log p(x_j^{(i)} | c^{(i)}, \\theta_{jc})\n",
        "\\end{align*}\n",
        "Taking derivative with respect to $\\theta_{jc}$, I have \n",
        "\\begin{align*}\n",
        "    \\frac{d\\ln(p(\\theta|D))}{d\\theta_{jc}} &= \\frac{d}{d\\theta_{jc}} \\left( \\ln(\\theta_{jc}) + \\ln(1-\\theta_{jc})+ \\sum_{i=1}^{N}\\log(p(c^{(i)} |\\pi)) + \\sum_{i=1}^{N}\\sum_{j=1}^{784}\\log p(x_j^{(i)} | c^{(i)}, \\theta_{jc}) \\right)\\\\\n",
        "    &= \\frac{1}{\\theta_{jc}} - \\frac{1}{1-\\theta_{jc}} + \\frac{d}{d\\theta_{jc}} \\sum_{i=1}^{N}\\sum_{j=1}^{784}\\log p(x_j^{(i)} | c^{(i)}, \\theta_{jc}) \\text{ as $\\log(p(c^{(i)} |\\pi))$ is independent of $\\theta_{jc}$} \\\\\n",
        "    &= \\frac{1}{\\theta_{jc}} - \\frac{1}{1-\\theta_{jc}} + \\sum_{i=1}^{N} I(c^{(i)}=c)\\left(\\frac{x_j^{(i)}(1-\\theta_{jc})-(1-x_j^{(i)})\\theta_{jc} }{\\theta_{jc}(1-\\theta_{jc})} \\right)\\\\\n",
        "    &\\Rightarrow 1-2\\theta_{jc} + \\sum_{i=1}^{N} I(c^{(i)}=c)\\left(x_j^{(i)}(1-\\theta_{jc})-(1-x_j^{(i)})\\theta_{jc} \\right)=0 \\text{ multiply both sides by $\\theta_{jc}(1-\\theta_{jc})$} \\\\\n",
        "    &= 1 - 2\\theta_{jc} + \\sum_{i=1}^{N} I(c^{(i)}=c)\\left(x_j^{(i)}-x_j^{(i)}\\theta_{jc}-\\theta_{jc} + \\theta_{jc}x_j^{(i)}\\right) = 1 - 2\\theta_{jc} + \\sum_{i=1}^{N} I(c^{(i)}=c)\\left(x_j^{(i)}-\\theta_{jc}\\right)\\\\\n",
        "    &= 1 - 2\\theta_{jc} + \\sum_{i=1}^{N} I(c^{(i)}=c)x_j^{(i)} - \\theta_{jc}\\sum_{i=1}^{N} I(c^{(i)}=c)\n",
        "    \\Rightarrow 1 + \\sum_{i=1}^{N} I(c^{(i)}=c)x_j^{(i)} = \\theta_{jc}\\left(2 +\\sum_{i=1}^{N}I(c^{(i)}=c)\\right)\\\\\n",
        "    &\\Rightarrow \\hat{\\theta_{MAP_{jc}}} = \\frac{1 + \\sum_{i=1}^{N} I(c^{(i)}=c)x_j^{(i)}}{(2 +\\sum_{i=1}^{N} I(c^{(i)}=c))}\n",
        "\\end{align*}\n"
      ],
      "metadata": {
        "id": "uI3hcFf1Of82"
      }
    },
    {
      "cell_type": "code",
      "source": [
        "def train_map_estimator(train_images, train_labels):\n",
        "    \"\"\" Inputs: train_images (N_samples x N_features), train_labels (N_samples x N_classes)\n",
        "        Returns the MAP estimator theta_est (N_features x N_classes) and the MLE\n",
        "        estimator pi_est (N_classes)\"\"\"\n",
        "    xT = np.transpose(train_images)\n",
        "    xTC = np.matmul(xT, train_labels)\n",
        "    sum_c = np.sum(train_labels, axis=0)\n",
        "    theta_map = (xTC + 2) / (sum_c + 4)\n",
        "    N = train_labels.shape[0]\n",
        "    pi_mle = sum_c / N\n",
        "    return theta_map, pi_mle\n"
      ],
      "metadata": {
        "id": "v49Abi0uxeII"
      },
      "execution_count": null,
      "outputs": []
    },
    {
      "cell_type": "markdown",
      "source": [
        "## Q2.3\n",
        "[5pts] Derive an expression for the class log-likelihood $\\log p(c|x,\\theta,\\pi)$ for a single image. Then, complete the implementation of the following functions. Recall that our prediction rule is to choose the class that maximizes the above log-likelihood, and accuracy is defined as the fraction of samples that are correctly predicted.\n",
        "\n",
        "Report the average log-likelihood $\\frac{1}{N}\\sum_{i=1}^{N}\\log p(c^{(i)}|x^{(i)},\\hat{\\theta},\\hat{\\pi})$ (where $N$ is the number of samples) on the training test, as well the training and test errors."
      ],
      "metadata": {
        "id": "7yO5yq0dyus4"
      }
    },
    {
      "cell_type": "markdown",
      "source": [
        "[Type up your derivation here]\n",
        "\n",
        "Your answer:\n"
      ],
      "metadata": {
        "id": "36FW8dZpOhb7"
      }
    },
    {
      "cell_type": "code",
      "source": [
        "from math import e\n",
        "def log_likelihood(images, theta, pi):\n",
        "    \"\"\" Inputs: images (N_samples x N_features), theta, pi\n",
        "        Returns the matrix 'log_like' of loglikehoods over the input images where\n",
        "        log_like[i,c] = log p (c |x^(i), theta, pi) using the estimators theta and pi.\n",
        "        log_like is a matrix of (N_samples x N_classes)\n",
        "    Note that log likelihood is not only for c^(i), it is for all possible c's.\"\"\"\n",
        "    # N_samples = images.shape[0]\n",
        "    # N_classes = pi.shape[0]\n",
        "    # log_like = np.zeros((N_samples, N_classes))\n",
        "    # for i in range(N_samples):\n",
        "    #   for j in range(N_classes):\n",
        "    #     log_like[i, j] = np.log(pi[j]) + np.sum(np.log(theta[:, j]) * images[i,:] + np.log(1-theta[:, j]) * (1-images[i,:])) ## need add\n",
        "    # return log_like\n",
        "   # Compute part by part for numerator\n",
        "    first = np.log(pi)\n",
        "    second = np.matmul(images, np.log(theta))\n",
        "    third = np.matmul((1 - images), np.log(1 - theta))\n",
        "    numerator = first + second + third\n",
        "    # Now for denominator\n",
        "    outer_sum = np.sum(np.array(e) ** numerator, axis=1)\n",
        "    reshaped = outer_sum.reshape(numerator.shape[0], 1)\n",
        "    denominator = np.log(reshaped)\n",
        "    return numerator - denominator\n",
        "\n",
        "\n",
        "def accuracy(log_like, labels):\n",
        "    \"\"\" Inputs: matrix of log likelihoods and 1-of-K labels (N_samples x N_classes)\n",
        "    Returns the accuracy based on predictions from log likelihood values\"\"\"\n",
        "    num_equal = np.sum(np.argmax(log_like, 1) == np.argmax(labels, 1))\n",
        "    N = log_like.shape[0]\n",
        "    accuracy = num_equal / N\n",
        "    return accuracy\n",
        "  \n",
        "\n",
        "N_data, train_images, train_labels, test_images, test_labels = load_fashion_mnist()\n",
        "theta_est, pi_est = train_map_estimator(train_images, train_labels)\n",
        "\n",
        "loglike_train = log_likelihood(train_images, theta_est, pi_est)\n",
        "avg_loglike = np.sum(loglike_train * train_labels) / N_data\n",
        "train_accuracy = accuracy(loglike_train, train_labels)\n",
        "loglike_test = log_likelihood(test_images, theta_est, pi_est)\n",
        "test_accuracy = accuracy(loglike_test, test_labels)\n",
        "\n",
        "print(f\"Average log-likelihood for MAP is {avg_loglike:.3f}\")\n",
        "print(f\"Training accuracy for MAP is {train_accuracy:.3f}\")\n",
        "print(f\"Test accuracy for MAP is {test_accuracy:.3f}\")"
      ],
      "metadata": {
        "id": "6RZwBnVh0Zoo",
        "colab": {
          "base_uri": "https://localhost:8080/"
        },
        "outputId": "25381a5a-ff88-44bc-ea35-5940eea88a70"
      },
      "execution_count": null,
      "outputs": [
        {
          "output_type": "stream",
          "name": "stdout",
          "text": [
            "Average log-likelihood for MAP is -34.350\n",
            "Training accuracy for MAP is 0.651\n",
            "Test accuracy for MAP is 0.637\n"
          ]
        }
      ]
    },
    {
      "cell_type": "markdown",
      "source": [
        "## Q2.4\n",
        "[2pts] Given this model's assumptions, is it always true that any two pixels $x_i$ and $x_j$ with $i \\neq j$ are indenepdent given $c$? How about after marginalizing over $c$? Explain your answer."
      ],
      "metadata": {
        "id": "qFJkXeMK2mwP"
      }
    },
    {
      "cell_type": "markdown",
      "source": [
        "[Type up your answer here]\n",
        "\n",
        "Your answer: by the assumption of the Naive Bayes model, any two different pixels $x_i, x_j$ are independent given $c$. After marginalizing over $c$, we have\n",
        "\n",
        "\\begin{align*}\n",
        "  &p(x_i, x_j) = \\sum_{k=0}^9 p(x_i, x_j, c_k) = \\sum_{k=0}^9 p(x_i, x_j | c_k)p(c_k) \\\\\n",
        "  &=\\sum_{k=0}^9 p(x_i | c_k)p(x_j | c_k)p(c_k)\\\\\n",
        "  &\\ne \\sum_{k=0}^9 p(x_i | c_k)p(c_k)\\sum_{k=0}^9p(x_j | c_k)p(c_k)\\\\\n",
        "  &= \\sum_{k=0}^9 p(x_i, c_k)\\sum_{k=0}^9 p(x_j, c_k) = p(x_i)p(x_j)\n",
        "\\end{align*}\n",
        "Therefore after marginalization, the two pixels are no longer independent."
      ],
      "metadata": {
        "id": "ImntAmpWOjYe"
      }
    },
    {
      "cell_type": "markdown",
      "source": [
        "## Q2.5 \n",
        "[4pts] Since we have a generative model for our data, we can do more than just prediction. Randomly sample and plot 10 images from the learned distribution using the MAP estimates. (Hint: You first need to sample the class $c$, and then sample pixels conditioned on $c$.)"
      ],
      "metadata": {
        "id": "_P4Y1x_G28QD"
      }
    },
    {
      "cell_type": "code",
      "source": [
        "def image_sampler(theta, pi, num_images):\n",
        "    \"\"\" Inputs: parameters theta and pi, and number of images to sample\n",
        "    Returns the sampled images (N_images x N_features)\"\"\"\n",
        "    D = theta.shape[0]\n",
        "    result = np.zeros([num_images, D])\n",
        "    for i in range(num_images):\n",
        "      sampled_class = np.random.choice(pi.shape[0], p = pi)\n",
        "      result[i, :] = np.random.binomial(1, theta[:, sampled_class])\n",
        "    return result\n",
        "\n",
        "\n",
        "\n",
        "def plot_images(images, ims_per_row=5, padding=5, image_dimensions=(28, 28),\n",
        "                cmap=matplotlib.cm.binary, vmin=0., vmax=1.):\n",
        "    \"\"\"Images should be a (N_images x pixels) matrix.\"\"\"\n",
        "    fig = plt.figure(1)\n",
        "    fig.clf()\n",
        "    ax = fig.add_subplot(111)\n",
        "\n",
        "    N_images = images.shape[0]\n",
        "    N_rows = np.int32(np.ceil(float(N_images) / ims_per_row))\n",
        "    pad_value = vmin\n",
        "    concat_images = np.full(((image_dimensions[0] + padding) * N_rows + padding,\n",
        "                             (image_dimensions[1] + padding) * ims_per_row + padding), pad_value)\n",
        "    for i in range(N_images):\n",
        "        cur_image = np.reshape(images[i, :], image_dimensions)\n",
        "        row_ix = i // ims_per_row\n",
        "        col_ix = i % ims_per_row\n",
        "        row_start = padding + (padding + image_dimensions[0]) * row_ix\n",
        "        col_start = padding + (padding + image_dimensions[1]) * col_ix\n",
        "        concat_images[row_start: row_start + image_dimensions[0],\n",
        "                      col_start: col_start + image_dimensions[1]] = cur_image\n",
        "        cax = ax.matshow(concat_images, cmap=cmap, vmin=vmin, vmax=vmax)\n",
        "        plt.xticks(np.array([]))\n",
        "        plt.yticks(np.array([]))\n",
        "    \n",
        "    plt.plot()\n",
        "\n",
        "\n",
        "sampled_images = image_sampler(theta_est, pi_est, 10)\n",
        "plot_images(sampled_images)"
      ],
      "metadata": {
        "id": "amV0qFMC3myy",
        "colab": {
          "base_uri": "https://localhost:8080/",
          "height": 178
        },
        "outputId": "3b5bf4b7-fbab-4069-8867-c0bee09a5b89"
      },
      "execution_count": null,
      "outputs": [
        {
          "output_type": "display_data",
          "data": {
            "text/plain": [
              "<Figure size 432x288 with 1 Axes>"
            ],
            "image/png": "[encoded data removed]"
          },
          "metadata": {}
        }
      ]
    },
    {
      "cell_type": "markdown",
      "source": [
        "## Q2.6\n",
        "[4pts] One of the advantages of generative models is that they can handle missing data, or be used to answer different sorts of questions about the model. Assume we have only observed some pixels of the image. Let $x_E = \\{x_p : \\text{pixel $p$ is observed}\\}$. Derive an expression for $p(x_j|x_E,\\theta,\\pi)$, the conditional probability of an unobserved pixel $j$ given the observed pixels and distribution parameters. (Hint: You have to marginalize over $c$.)"
      ],
      "metadata": {
        "id": "qCYQ6VVx5YI5"
      }
    },
    {
      "cell_type": "markdown",
      "source": [
        "[Type up your derivation here]\n",
        "\n",
        "Your answer: first notice that $$p(x_j, x_E | \\theta, \\pi) = \\sum_{k=0}^9p(x_j, x_E, c_k | \\theta, \\pi); p(x_E | \\theta, \\pi) = \\sum_{k=0}^9p(x_E, c_k | \\theta, \\pi)$$\n",
        "and by bayes rule $p(x,y)=p(x|y)p(y)$ so \n",
        "$$\\sum_{k=0}^9p(x_j, x_E, c_k | \\theta, \\pi) = \\sum_{k=0}^9 p(x_j, x_E | c_k, \\theta, \\pi)p(c_k | \\theta, \\pi)$$\n",
        "and \n",
        "$$\\sum_{k=0}^9p(x_E, c_k | \\theta, \\pi) = \\sum_{k=0}^9 p(x_E | c_k, \\theta, \\pi)p(c_k | \\theta, \\pi)$$\n",
        "therefore\n",
        "\\begin{align*}\n",
        "&p(x_j|x_E,\\theta,\\pi) = \\frac{\\sum_{k=0}^9p(x_j, x_E, c_k | \\theta, \\pi)}{\\sum_{k=0}^9p(x_E, c_k | \\theta, \\pi)}\\\\\n",
        "&= \\frac{\\sum_{k=0}^9p(x_j, x_E, c_k | \\theta, \\pi)}{\\sum_{k=0}^9p(x_E, c_k | \\theta, \\pi)} = \n",
        "\\frac{\\sum_{k=0}^9 p(x_j, x_E | c_k, \\theta, \\pi)p(c_k | \\theta, \\pi)}{\\sum_{k=0}^9 p(x_E | c_k, \\theta, \\pi)p(c_k | \\theta, \\pi)}\\\\\n",
        "&=\\frac{\\sum_{k=0}^9 p(x_j | c_k, \\theta, \\pi)p(x_E | c_k, \\theta, \\pi)p(c_k | \\theta, \\pi)}{\\sum_{k=0}^9 p(x_E | c_k, \\theta, \\pi)p(c_k | \\theta, \\pi)}\n",
        "\\end{align*}\n"
      ],
      "metadata": {
        "id": "GGT2yAtLOmJW"
      }
    },
    {
      "cell_type": "markdown",
      "source": [
        "## Q2.7\n",
        "[4pts] We assume that only 30% of the pixels are observed. For the first 20 images in the training set, plot the images when the unobserved pixels are left as white, as well as the same images when the unobserved pixels are filled with the marginal probability of the pixel being 1 given the observed pixels, i.e. the value of the unobserved pixel $j$ is $p(x_j = 1|x_E,\\theta,\\pi)$."
      ],
      "metadata": {
        "id": "5qGf4Rwx6ZPy"
      }
    },
    {
      "cell_type": "code",
      "source": [
        "def probabilistic_imputer(theta, pi, original_images, is_observed):\n",
        "    \"\"\"Inputs: parameters theta and pi, original_images (N_images x N_features), \n",
        "        and is_observed which has the same shape as original_images, with a value\n",
        "        1. in every observed entry and 0. in every unobserved entry.\n",
        "    Returns the new images where unobserved pixels are replaced by their \n",
        "    conditional probability\"\"\"\n",
        "    N = original_images.shape[0]\n",
        "    imputed_images = original_images.copy()\n",
        "    \n",
        "    for i in range(N):\n",
        "      image_observed = original_images[i][is_observed[i] == 1] \n",
        "      log_p_observed = (np.log(theta[is_observed[i] == 1].T)) @ (image_observed) + (np.log(1 - theta[is_observed[i] == 1].T)) @ (1 - image_observed)\n",
        "      denominator = np.sum(np.exp(log_p_observed) * pi)\n",
        "\n",
        "      numerator = np.sum(theta[is_observed[i] == 0] * (np.exp(log_p_observed) * pi).reshape(1, -1), axis = 1)\n",
        "      p_unobserved = numerator/denominator\n",
        "      imputed_images[i, is_observed[i] == 0] = p_unobserved\n",
        "\n",
        "    return imputed_images\n",
        "    \n",
        "num_features = train_images.shape[1]\n",
        "is_observed = np.random.binomial(1, p=0.3, size=(20, num_features))\n",
        "plot_images(train_images[:20] * is_observed)"
      ],
      "metadata": {
        "id": "k8g40hvw6pE_",
        "outputId": "96bbe2b5-4c2f-43d0-e520-1cb15b5150e7",
        "colab": {
          "base_uri": "https://localhost:8080/",
          "height": 255
        }
      },
      "execution_count": 24,
      "outputs": [
        {
          "output_type": "display_data",
          "data": {
            "text/plain": [
              "<Figure size 432x288 with 1 Axes>"
            ],
            "image/png": "[encoded data removed]"
          },
          "metadata": {}
        }
      ]
    },
    {
      "cell_type": "code",
      "source": [
        "imputed_images = probabilistic_imputer(theta_est, pi_est, train_images[:20], is_observed)\n",
        "plot_images(imputed_images)"
      ],
      "metadata": {
        "id": "RtOM8Ba4uVQj",
        "colab": {
          "base_uri": "https://localhost:8080/",
          "height": 255
        },
        "outputId": "d2a36748-6329-4868-c16f-7fcaed38a172"
      },
      "execution_count": 25,
      "outputs": [
        {
          "output_type": "display_data",
          "data": {
            "text/plain": [
              "<Figure size 432x288 with 1 Axes>"
            ],
            "image/png": "[encoded data removed]"
          },
          "metadata": {}
        }
      ]
    }
  ]
}