{
  "nbformat": 4,
  "nbformat_minor": 0,
  "metadata": {
    "colab": {
      "provenance": [],
      "collapsed_sections": [
        "-bf1iLXTkXd5"
      ]
    },
    "kernelspec": {
      "name": "python3",
      "display_name": "Python 3"
    },
    "language_info": {
      "name": "python"
    },
    "gpuClass": "standard"
  },
  "cells": [
    {
      "cell_type": "markdown",
      "source": [
        "# 2. [50pts] Expectation-Maximization (EM) algorithm\n",
        "\n"
      ],
      "metadata": {
        "id": "Ru-EwGWu5T4X"
      }
    },
    {
      "cell_type": "code",
      "source": [
        "%matplotlib inline\n",
        "import scipy\n",
        "import numpy as np\n",
        "import itertools\n",
        "import matplotlib.pyplot as plt"
      ],
      "metadata": {
        "id": "ttc_nnUN5Wnv"
      },
      "execution_count": null,
      "outputs": []
    },
    {
      "cell_type": "markdown",
      "source": [
        "## 2.1 [7pts] Generating the Data\n",
        "\n",
        "**a) [5pts]** First, we will generate some data for this problem. Set the number of points $N=400$, their dimension $D=2$, and the number of clusters $K=2$, and generate data from the distribution $p(x|z=k) = N(\\mu_k, \\Sigma_k)$.\n",
        "  Sample $200$ data points for $k=1$ and 200 for $k=2$, with\n",
        "\n",
        "  $$\n",
        "    \\mu_1=\n",
        "    \\begin{bmatrix}\n",
        "      0.1 \\\\\n",
        "      0.1\n",
        "    \\end{bmatrix}\n",
        "    \\ \\text{,}\\\n",
        "    \\mu_2=\n",
        "    \\begin{bmatrix}\n",
        "      6.0 \\\\\n",
        "      0.1\n",
        "    \\end{bmatrix}\n",
        "    \\ \\text{ and }\\\n",
        "    \\Sigma_1=\\Sigma_2=\n",
        "    \\begin{bmatrix}\n",
        "      10       & 7 \\\\\n",
        "      7 & 10\n",
        "    \\end{bmatrix}\n",
        "  $$\n",
        "  Here, $N=400$. If you generate the data, you already know which sample comes from which class. Complete the following statements and run to generate.\n",
        "\n",
        "  Hint: you can use `np.random.multivariate_normal`."
      ],
      "metadata": {
        "id": "g-aZi8IN5Via"
      }
    },
    {
      "cell_type": "code",
      "source": [
        "num_samples = 400\n",
        "cov = np.array([[10, 7], [7, 10]])\n",
        "mean_1 = [0.1, 0.1]\n",
        "mean_2 = [6.0, 0.1]\n",
        "\n",
        "x_class1 = np.random.multivariate_normal(mean_1, cov, num_samples // 2)\n",
        "x_class2 = np.random.multivariate_normal(mean_2, cov, num_samples // 2)\n",
        "xy_class1 = np.column_stack((x_class1, np.zeros(num_samples // 2)))\n",
        "xy_class2 = np.column_stack((x_class2, np.ones(num_samples // 2)))\n",
        "\n",
        "data_full = np.row_stack([xy_class1, xy_class2])\n",
        "np.random.shuffle(data_full)\n",
        "data = data_full[:, :2]\n",
        "labels = data_full[:, 2]"
      ],
      "metadata": {
        "id": "dj9YFnUJPTb7"
      },
      "execution_count": null,
      "outputs": []
    },
    {
      "cell_type": "markdown",
      "source": [
        "**b) [2pts]** Make a scatter plot of the data points showing the true cluster assignment of each point using different color codes and shape (x for first class and circles for second class):"
      ],
      "metadata": {
        "id": "MH5WNKYh5kwW"
      }
    },
    {
      "cell_type": "code",
      "source": [
        "plt.plot(xy_class1[:,0], xy_class1[:,1], 'x') # first class, x shape\n",
        "plt.plot(xy_class2[:,0], xy_class2[:,1], 'o') # second class, circle shape"
      ],
      "metadata": {
        "colab": {
          "base_uri": "https://localhost:8080/",
          "height": 282
        },
        "id": "BMlJimtqQWt2",
        "outputId": "73c5183c-33df-4e84-80af-a87bf09424ba"
      },
      "execution_count": null,
      "outputs": [
        {
          "output_type": "execute_result",
          "data": {
            "text/plain": [
              "[<matplotlib.lines.Line2D at 0x7f95c072f700>]"
            ]
          },
          "metadata": {},
          "execution_count": 75
        },
        {
          "output_type": "display_data",
          "data": {
            "text/plain": [
              "<Figure size 432x288 with 1 Axes>"
            ],
            "image/png": "[encoded data removed]"
          },
          "metadata": {
            "needs_background": "light"
          }
        }
      ]
    },
    {
      "cell_type": "markdown",
      "source": [
        "## 2.2 [14pts] Implement and Run K-Means algorithm\n",
        "\n",
        "Now, we assume that the true class labels are not known. Implement the k-means algorithm for this problem.\n",
        "  Write two functions: `km_assignment_step`, and `km_refitting_step` as given in the lecture (Here, `km_` means k-means).\n",
        "  Identify the correct arguments, and the order to run them. Initialize the algorithm with\n",
        "  $$\n",
        "    \\hat{\\mu}_1=\n",
        "    \\begin{bmatrix}\n",
        "      0.0 \\\\\n",
        "      0.0\n",
        "    \\end{bmatrix}\n",
        "    \\ \\text{,}\\\n",
        "    \\hat{\\mu}_2=\n",
        "    \\begin{bmatrix}\n",
        "      1.0 \\\\\n",
        "      1.0\n",
        "    \\end{bmatrix}\n",
        "  $$\n",
        "  and run it until convergence.\n",
        "  Show the resulting cluster assignments on a scatter plot either using different color codes or shape or both.\n",
        "  Also plot the cost (distortion in lecture slides) vs. the number of iterations. Report your misclassification error. "
      ],
      "metadata": {
        "id": "uk3xc1iS5r9I"
      }
    },
    {
      "cell_type": "markdown",
      "source": [
        "**a) [2pts]** Complete the `cost` function."
      ],
      "metadata": {
        "id": "U2yxjnx36Fdk"
      }
    },
    {
      "cell_type": "code",
      "source": [
        "def cost(data, R, Mu):\n",
        "    N, D = data.shape\n",
        "    K = Mu.shape[1]\n",
        "    J = 0\n",
        "    for k in range(K):\n",
        "      J += np.dot(np.linalg.norm(data - np.array([Mu[:, k], ] * N), axis=1)**2, R[:, k])\n",
        "    return J"
      ],
      "metadata": {
        "id": "p2UH2YXDQ43r"
      },
      "execution_count": null,
      "outputs": []
    },
    {
      "cell_type": "markdown",
      "source": [
        "**b) [4pts]** K-Means assignment step."
      ],
      "metadata": {
        "id": "zRoP_2Sxx_KB"
      }
    },
    {
      "cell_type": "code",
      "source": [
        "def km_assignment_step(data, Mu):\n",
        "    \"\"\" Compute K-Means assignment step\n",
        "    \n",
        "    Args:\n",
        "        data: a NxD matrix for the data points\n",
        "        Mu: a DxK matrix for the cluster means locations\n",
        "    \n",
        "    Returns:\n",
        "        R_new: a NxK matrix of responsibilities\n",
        "    \"\"\"\n",
        "    N, D = data.shape # Number of datapoints and dimension of datapoint\n",
        "    K = Mu.shape[1] # number of clusters\n",
        "    r = np.zeros((N,K))\n",
        "    # TODO assign all r[:, k]\n",
        "    for k in range(K):\n",
        "        r[:, k] = np.linalg.norm(Mu[:, k] - data, axis = 1)\n",
        "    arg_min = np.argmin(r, axis = 1) # argmax/argmin along dimension 1\n",
        "    R_new = np.zeros((N, K)) # Set to zeros/ones with shape (N, K)\n",
        "    R_new[range(N), arg_min] = 1 # Assign to 1\n",
        "    return R_new"
      ],
      "metadata": {
        "id": "T21q42uwRYkv"
      },
      "execution_count": null,
      "outputs": []
    },
    {
      "cell_type": "markdown",
      "source": [
        "**c) [2pts]** K-Means refitting step."
      ],
      "metadata": {
        "id": "v3DnutNm6n33"
      }
    },
    {
      "cell_type": "code",
      "source": [
        "def km_refitting_step(data, R, Mu):\n",
        "    \"\"\" Compute K-Means refitting step.\n",
        "    \n",
        "    Args:\n",
        "        data: a NxD matrix for the data points\n",
        "        R: a NxK matrix of responsibilities\n",
        "        Mu: a DxK matrix for the cluster means locations\n",
        "    \n",
        "    Returns:\n",
        "        Mu_new: a DxK matrix for the new cluster means locations\n",
        "    \"\"\"\n",
        "    N, D = data.shape # number of datapoints and dimension of datapoint\n",
        "    K = Mu.shape[1]  # number of clusters\n",
        "    Mu_new = (data.T @ R)/ np.sum(R, axis = 0)\n",
        "    return Mu_new"
      ],
      "metadata": {
        "id": "2NoXe614R0T7"
      },
      "execution_count": null,
      "outputs": []
    },
    {
      "cell_type": "markdown",
      "source": [
        "**d) [4pts]** Run this cell to call the K-Means algorithm."
      ],
      "metadata": {
        "id": "dXJinSwV6xsj"
      }
    },
    {
      "cell_type": "code",
      "source": [
        "from matplotlib.layout_engine import get_subplotspec_list\n",
        "N, D = data.shape\n",
        "K = 2\n",
        "max_iter = 100\n",
        "class_init = np.random.binomial(1., .5, size=N)\n",
        "R = np.vstack([class_init, 1 - class_init]).T\n",
        "\n",
        "Mu = np.zeros([D, K])\n",
        "Mu[:, 1] = 1.\n",
        "R.T.dot(data), np.sum(R, axis=0)\n",
        "cost_kmeans = []\n",
        "for it in range(max_iter):\n",
        "    R = km_assignment_step(data, Mu)\n",
        "    Mu = km_refitting_step(data, R, Mu)\n",
        "    #print(it, cost(data, R, Mu))\n",
        "    cost_kmeans.append(cost(data, R, Mu))\n",
        "    \n",
        "class_1 = np.where(R[:, 0])\n",
        "class_2 = np.where(R[:, 1])\n",
        "\n",
        "print('The misclassification error rate of K-means is', np.sum(R[:, 0]==labels)/N)\n",
        "\n",
        "plt.figure()\n",
        "plt.title('Cost K-means vs. Number of Iterations')\n",
        "plt.ylabel('Cost')\n",
        "plt.xlabel('Iterations')\n",
        "plt.plot(np.arange(max_iter), cost_kmeans, 'b-')\n",
        "plt.show()"
      ],
      "metadata": {
        "colab": {
          "base_uri": "https://localhost:8080/",
          "height": 312
        },
        "id": "mM78Lct8SBaV",
        "outputId": "431964cb-62b3-4085-e16a-603f1ef732d6"
      },
      "execution_count": null,
      "outputs": [
        {
          "output_type": "stream",
          "name": "stdout",
          "text": [
            "The misclassification error rate of K-means is 0.2625\n"
          ]
        },
        {
          "output_type": "display_data",
          "data": {
            "text/plain": [
              "<Figure size 432x288 with 1 Axes>"
            ],
            "image/png": "[encoded data removed]"
          },
          "metadata": {
            "needs_background": "light"
          }
        }
      ]
    },
    {
      "cell_type": "markdown",
      "source": [
        "**e) [2pts]** Make a scatterplot for the data points showing the K-Means cluster assignments of each point.\n"
      ],
      "metadata": {
        "id": "MgB7VKUp_gqO"
      }
    },
    {
      "cell_type": "code",
      "source": [
        "plt.plot(data[class_1, 0], data[class_1,1], 'x', color = \"blue\") # TODO first class, x shape\n",
        "plt.plot(data[class_2,0], data[class_2,1], 'o', color = \"orange\") # TODO second class, circle shape\n",
        "plt.show()"
      ],
      "metadata": {
        "colab": {
          "base_uri": "https://localhost:8080/",
          "height": 265
        },
        "id": "p7Xw7JWZSWH6",
        "outputId": "5a464ee9-6186-4f4f-e0ee-2412a7d5e11c"
      },
      "execution_count": null,
      "outputs": [
        {
          "output_type": "display_data",
          "data": {
            "text/plain": [
              "<Figure size 432x288 with 1 Axes>"
            ],
            "image/png": "[encoded data removed]"
          },
          "metadata": {
            "needs_background": "light"
          }
        }
      ]
    },
    {
      "cell_type": "markdown",
      "source": [
        "## 2.3 [21pts] Implement EM algorithm for Gaussian mixtures\n",
        "\n",
        "Next, implement the EM algorithm for Gaussian mixtures. Write three functions: `log_likelihood`, `gm_e_step`, and `gm_m_step` as given in the lecture.\n",
        "  - Identify the correct arguments, and the order to run them.\n",
        "  - Initialize the algorithm with the same initialization as in Q2.1 for the means, and with $\\hat\\Sigma_1=\\hat\\Sigma_2=I$, and $\\hat\\pi_1=\\hat\\pi_2$ for the covariances.\n",
        "    \n",
        "Run the algorithm until convergence and show the resulting cluster assignments on a scatter plot either using different color codes or shape or both. Also plot the log-likelihood vs. the number of iterations. Report your misclassification error."
      ],
      "metadata": {
        "id": "aHONjfYq7t-d"
      }
    },
    {
      "cell_type": "code",
      "source": [
        "def normal_density(x, mu, Sigma):\n",
        "    return np.exp(-.5 * np.dot(x - mu, np.linalg.solve(Sigma, x - mu))) \\\n",
        "        / np.sqrt(np.linalg.det(2 * np.pi * Sigma))"
      ],
      "metadata": {
        "id": "Ciq6jLpQ8BWm"
      },
      "execution_count": null,
      "outputs": []
    },
    {
      "cell_type": "markdown",
      "source": [
        "**a) [5pts]** Log-Likelihood."
      ],
      "metadata": {
        "id": "mcVJXu8-8C8K"
      }
    },
    {
      "cell_type": "code",
      "source": [
        "def log_likelihood(data, Mu, Sigma, Pi):\n",
        "    \"\"\" Compute log likelihood on the data given the Gaussian Mixture Parameters.\n",
        "    \n",
        "    Args:\n",
        "        data: a NxD matrix for the data points\n",
        "        Mu: a DxK matrix for the means of the K Gaussian Mixtures\n",
        "        Sigma: a list of size K with each element being DxD covariance matrix\n",
        "        Pi: a vector of size K for the mixing coefficients\n",
        "    \n",
        "    Returns:\n",
        "        L: a scalar denoting the log likelihood of the data given the Gaussian Mixture\n",
        "    \"\"\"\n",
        "    N, D = data.shape \n",
        "    K = Mu.shape[1] \n",
        "    L, T = 0., 0.\n",
        "    for n in range(N):\n",
        "        for k in range(K):\n",
        "            T += Pi[k] * normal_density(data[n], Mu[:, k], Sigma[k]) \n",
        "        L += np.log(T)\n",
        "    return L"
      ],
      "metadata": {
        "id": "uL6dbqx6TcTB"
      },
      "execution_count": null,
      "outputs": []
    },
    {
      "cell_type": "markdown",
      "source": [
        "**b) [5pts]** Gaussian Mixture Expectation Step."
      ],
      "metadata": {
        "id": "E6Km8Q-P8Jr-"
      }
    },
    {
      "cell_type": "code",
      "source": [
        "def gm_e_step(data, Mu, Sigma, Pi):\n",
        "    \"\"\" Gaussian Mixture Expectation Step.\n",
        "\n",
        "    Args:\n",
        "        data: a NxD matrix for the data points\n",
        "        Mu: a DxK matrix for the means of the K Gaussian Mixtures\n",
        "        Sigma: a list of size K with each element being DxD covariance matrix\n",
        "        Pi: a vector of size K for the mixing coefficients\n",
        "    \n",
        "    Returns:\n",
        "        Gamma: a NxK matrix of responsibilities \n",
        "    \"\"\"\n",
        "    N, D = data.shape \n",
        "    K = Mu.shape[1] \n",
        "    Gamma = np.zeros((N, K)) \n",
        "    for n in range(N):\n",
        "        for k in range(K):\n",
        "            Gamma[n, k] = Pi[k] * normal_density(data[n], Mu[:, k], Sigma[k]) \n",
        "        Gamma[n, :] /=  np.sum(Gamma[n, :]) \n",
        "    return Gamma"
      ],
      "metadata": {
        "id": "J95DwYd8UAyw"
      },
      "execution_count": null,
      "outputs": []
    },
    {
      "cell_type": "markdown",
      "source": [
        "**c) [5pts]** Gaussian Mixture Maximization Step."
      ],
      "metadata": {
        "id": "bHuKzKLD8yjK"
      }
    },
    {
      "cell_type": "code",
      "source": [
        "def gm_m_step(data, Gamma):\n",
        "    \"\"\" Gaussian Mixture Maximization Step.\n",
        "\n",
        "    Args:\n",
        "        data: a NxD matrix for the data points\n",
        "        Gamma: a NxK matrix of responsibilities \n",
        "    \n",
        "    Returns:\n",
        "        Mu: a DxK matrix for the means of the K Gaussian Mixtures\n",
        "        Sigma: a list of size K with each element being DxD covariance matrix\n",
        "        Pi: a vector of size K for the mixing coefficients\n",
        "    \"\"\"\n",
        "    N, D = data.shape # Number of datapoints and dimension of datapoint\n",
        "    K = Gamma.shape[1] # number of mixtures\n",
        "    Nk = np.sum(Gamma, axis=0)\n",
        "    Mu = np.dot(data.T, Gamma) / Nk\n",
        "    Sigma = []\n",
        "    for k in range(K):\n",
        "        Xm = data - Mu[:,k]\n",
        "        Sigma.append(np.dot(Gamma[:,k] * Xm.T, Xm) / Nk[k])\n",
        "    Pi = Nk / N\n",
        "    return Mu, Sigma, Pi\n"
      ],
      "metadata": {
        "id": "zOwM3BLvitaM"
      },
      "execution_count": null,
      "outputs": []
    },
    {
      "cell_type": "markdown",
      "source": [
        "**d) [4pts]** Run this cell to call the Gaussian Mixture EM algorithm."
      ],
      "metadata": {
        "id": "Y2uTCffj9LX6"
      }
    },
    {
      "cell_type": "code",
      "source": [
        "N, D = data.shape\n",
        "K = 2\n",
        "Mu = np.zeros([D, K])\n",
        "Mu[:, 1] = 1.\n",
        "Sigma = [np.eye(2), np.eye(2)]\n",
        "Pi = np.ones(K) / K\n",
        "Gamma = np.zeros([N, K]) # Gamma is the matrix of responsibilities \n",
        "max_iter  = 200\n",
        "gau_loglike = []\n",
        "\n",
        "for it in range(max_iter):\n",
        "    Gamma = gm_e_step(data, Mu, Sigma, Pi)\n",
        "    Mu, Sigma, Pi = gm_m_step(data, Gamma)\n",
        "    gau_loglike.append(log_likelihood(data, Mu, Sigma, Pi))\n",
        "\n",
        "class_1 = np.where(Gamma[:, 0] >= 0.5)\n",
        "class_2 = np.where(Gamma[:, 1] >= 0.5)\n",
        "\n",
        "print('The missclassification error rate of Gaussian Mixture EM algorithm is: ',  np.sum(np.float32(Gamma[:, 0] >= 0.5)==labels)/N)\n",
        "\n",
        "plt.figure()\n",
        "plt.title('Loglikelihood vs. Number of Iterations')\n",
        "plt.ylabel('Loglikelihood')\n",
        "plt.xlabel('Iterations')\n",
        "plt.plot(np.arange(max_iter), gau_loglike, 'b-')\n",
        "plt.show()"
      ],
      "metadata": {
        "id": "khqOZ9b0UmMg",
        "colab": {
          "base_uri": "https://localhost:8080/",
          "height": 312
        },
        "outputId": "0b0a6a4c-3623-49c7-de0f-89a6c77b2a09"
      },
      "execution_count": null,
      "outputs": [
        {
          "output_type": "stream",
          "name": "stdout",
          "text": [
            "The missclassification error rate of Gaussian Mixture EM algorithm is:  0.1075\n"
          ]
        },
        {
          "output_type": "display_data",
          "data": {
            "text/plain": [
              "<Figure size 432x288 with 1 Axes>"
            ],
            "image/png": "[encoded data removed]"
          },
          "metadata": {
            "needs_background": "light"
          }
        }
      ]
    },
    {
      "cell_type": "markdown",
      "source": [
        "**e) [2pts]** Make a scatterplot for the data points showing the Gaussian Mixture cluster assignments of each point"
      ],
      "metadata": {
        "id": "DDGgFxSt9sp5"
      }
    },
    {
      "cell_type": "code",
      "source": [
        "plt.plot(data[class_1, 0], data[class_1, 1], 'x', color = \"blue\") # TODO first class, x shape\n",
        "plt.plot(data[class_2, 0], data[class_2, 1], 'o', color = \"orange\") # TODO second class, circle shape\n",
        "plt.show()"
      ],
      "metadata": {
        "colab": {
          "base_uri": "https://localhost:8080/",
          "height": 265
        },
        "id": "71J_HnZjkWks",
        "outputId": "4103c034-928c-4dea-a767-d9cf5585fb3c"
      },
      "execution_count": null,
      "outputs": [
        {
          "output_type": "display_data",
          "data": {
            "text/plain": [
              "<Figure size 432x288 with 1 Axes>"
            ],
            "image/png": "[encoded data removed]"
          },
          "metadata": {
            "needs_background": "light"
          }
        }
      ]
    },
    {
      "cell_type": "markdown",
      "source": [
        "## 2.4 [8pts] Comment on findings + additional experiments\n",
        "\n",
        "Comment on the results:\n",
        "\n",
        "* Compare the performance of k-Means and EM based on the resulting cluster assignments. [2pts]\n",
        "* Compare the performance of k-Means and EM based on their convergence rate. What is the bottleneck for which method? [2pts]\n",
        "* Experiment with 5 different data realizations (generate new data), run your algorithms, and summarize your findings. Does the algorithm performance depend on different realizations of data? [3pts]\n",
        "* Comment on what might happen as you increase the number $K$ of clusters. [1pts]\n",
        " \n"
      ],
      "metadata": {
        "id": "QFy3oFR57Nqv"
      }
    },
    {
      "cell_type": "markdown",
      "source": [
        "*Your* answer here.\n",
        "\n",
        "1. The EM algorithm achieves better classification with a lower misclassification error. And the resulting scatterplot using EM algorithm is more similar to the true scatterplot.\n",
        "\n",
        "2. In comparison, k-means algorithm converges faster than EM algorithm. \n",
        "The bottleneck for k-means is around 5 and the bottleneck for EM algorithm is around 25.\n",
        "\n",
        "3. After experimenting with 5 different data realizations, the misclassfication error rate of k-means is still higher than EM. Therefore, the algorithm performance doesn't depend on different realizations of data.\n",
        "\n",
        "4. Increase the number K of clusters may result in a smaller misclassification error rate."
      ],
      "metadata": {
        "id": "wSsvAFJq7WSn"
      }
    }
  ]
}